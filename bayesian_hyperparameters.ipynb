{
 "cells": [
  {
   "cell_type": "code",
   "execution_count": 1,
   "id": "d92e933d",
   "metadata": {},
   "outputs": [],
   "source": [
    "import os, gc\n",
    "import polars as pl"
   ]
  },
  {
   "cell_type": "code",
   "execution_count": 2,
   "id": "6a8469b6",
   "metadata": {},
   "outputs": [
    {
     "data": {
      "text/html": [
       "<div><style>\n",
       ".dataframe > thead > tr,\n",
       ".dataframe > tbody > tr {\n",
       "  text-align: right;\n",
       "  white-space: pre-wrap;\n",
       "}\n",
       "</style>\n",
       "<small>shape: (5, 29)</small><table border=\"1\" class=\"dataframe\"><thead><tr><th>target</th><th>lepton pT</th><th>lepton eta</th><th>lepton phi</th><th>missing energy magnitude</th><th>missing energy phi</th><th>jet 1 pt</th><th>jet 1 eta</th><th>jet 1 phi</th><th>jet 1 b-tag</th><th>jet 2 pt</th><th>jet 2 eta</th><th>jet 2 phi</th><th>jet 2 b-tag</th><th>jet 3 pt</th><th>jet 3 eta</th><th>jet 3 phi</th><th>jet 3 b-tag</th><th>jet 4 pt</th><th>jet 4 eta</th><th>jet 4 phi</th><th>jet 4 b-tag</th><th>m_jj</th><th>m_jjj</th><th>m_lv</th><th>m_jlv</th><th>m_bb</th><th>m_wbb</th><th>m_wwbb</th></tr><tr><td>f64</td><td>f64</td><td>f64</td><td>f64</td><td>f64</td><td>f64</td><td>f64</td><td>f64</td><td>f64</td><td>f64</td><td>f64</td><td>f64</td><td>f64</td><td>f64</td><td>f64</td><td>f64</td><td>f64</td><td>f64</td><td>f64</td><td>f64</td><td>f64</td><td>f64</td><td>f64</td><td>f64</td><td>f64</td><td>f64</td><td>f64</td><td>f64</td><td>f64</td></tr></thead><tbody><tr><td>1.0</td><td>0.869293</td><td>-0.635082</td><td>0.22569</td><td>0.32747</td><td>-0.689993</td><td>0.754202</td><td>-0.248573</td><td>-1.092064</td><td>0.0</td><td>1.374992</td><td>-0.653674</td><td>0.930349</td><td>1.107436</td><td>1.138904</td><td>-1.578198</td><td>-1.046985</td><td>0.0</td><td>0.65793</td><td>-0.010455</td><td>-0.045767</td><td>3.101961</td><td>1.35376</td><td>0.979563</td><td>0.978076</td><td>0.920005</td><td>0.721657</td><td>0.988751</td><td>0.876678</td></tr><tr><td>1.0</td><td>0.907542</td><td>0.329147</td><td>0.359412</td><td>1.49797</td><td>-0.31301</td><td>1.095531</td><td>-0.557525</td><td>-1.58823</td><td>2.173076</td><td>0.812581</td><td>-0.213642</td><td>1.271015</td><td>2.214872</td><td>0.499994</td><td>-1.261432</td><td>0.732156</td><td>0.0</td><td>0.398701</td><td>-1.13893</td><td>-0.000819</td><td>0.0</td><td>0.30222</td><td>0.833048</td><td>0.9857</td><td>0.978098</td><td>0.779732</td><td>0.992356</td><td>0.798343</td></tr><tr><td>1.0</td><td>0.798835</td><td>1.470639</td><td>-1.635975</td><td>0.453773</td><td>0.425629</td><td>1.104875</td><td>1.282322</td><td>1.381664</td><td>0.0</td><td>0.851737</td><td>1.540659</td><td>-0.81969</td><td>2.214872</td><td>0.99349</td><td>0.35608</td><td>-0.208778</td><td>2.548224</td><td>1.256955</td><td>1.128848</td><td>0.900461</td><td>0.0</td><td>0.909753</td><td>1.10833</td><td>0.985692</td><td>0.951331</td><td>0.803252</td><td>0.865924</td><td>0.780118</td></tr><tr><td>0.0</td><td>1.344385</td><td>-0.876626</td><td>0.935913</td><td>1.99205</td><td>0.882454</td><td>1.786066</td><td>-1.646778</td><td>-0.942383</td><td>0.0</td><td>2.423265</td><td>-0.676016</td><td>0.736159</td><td>2.214872</td><td>1.29872</td><td>-1.430738</td><td>-0.364658</td><td>0.0</td><td>0.745313</td><td>-0.678379</td><td>-1.360356</td><td>0.0</td><td>0.946652</td><td>1.028704</td><td>0.998656</td><td>0.728281</td><td>0.8692</td><td>1.026736</td><td>0.957904</td></tr><tr><td>1.0</td><td>1.105009</td><td>0.321356</td><td>1.522401</td><td>0.882808</td><td>-1.205349</td><td>0.681466</td><td>-1.070464</td><td>-0.921871</td><td>0.0</td><td>0.800872</td><td>1.020974</td><td>0.971407</td><td>2.214872</td><td>0.596761</td><td>-0.350273</td><td>0.631194</td><td>0.0</td><td>0.479999</td><td>-0.373566</td><td>0.113041</td><td>0.0</td><td>0.755856</td><td>1.361057</td><td>0.98661</td><td>0.838085</td><td>1.133295</td><td>0.872245</td><td>0.808487</td></tr></tbody></table></div>"
      ],
      "text/plain": [
       "shape: (5, 29)\n",
       "┌────────┬───────────┬────────────┬────────────┬───┬──────────┬──────────┬──────────┬──────────┐\n",
       "│ target ┆ lepton pT ┆ lepton eta ┆ lepton phi ┆ … ┆ m_jlv    ┆ m_bb     ┆ m_wbb    ┆ m_wwbb   │\n",
       "│ ---    ┆ ---       ┆ ---        ┆ ---        ┆   ┆ ---      ┆ ---      ┆ ---      ┆ ---      │\n",
       "│ f64    ┆ f64       ┆ f64        ┆ f64        ┆   ┆ f64      ┆ f64      ┆ f64      ┆ f64      │\n",
       "╞════════╪═══════════╪════════════╪════════════╪═══╪══════════╪══════════╪══════════╪══════════╡\n",
       "│ 1.0    ┆ 0.869293  ┆ -0.635082  ┆ 0.22569    ┆ … ┆ 0.920005 ┆ 0.721657 ┆ 0.988751 ┆ 0.876678 │\n",
       "│ 1.0    ┆ 0.907542  ┆ 0.329147   ┆ 0.359412   ┆ … ┆ 0.978098 ┆ 0.779732 ┆ 0.992356 ┆ 0.798343 │\n",
       "│ 1.0    ┆ 0.798835  ┆ 1.470639   ┆ -1.635975  ┆ … ┆ 0.951331 ┆ 0.803252 ┆ 0.865924 ┆ 0.780118 │\n",
       "│ 0.0    ┆ 1.344385  ┆ -0.876626  ┆ 0.935913   ┆ … ┆ 0.728281 ┆ 0.8692   ┆ 1.026736 ┆ 0.957904 │\n",
       "│ 1.0    ┆ 1.105009  ┆ 0.321356   ┆ 1.522401   ┆ … ┆ 0.838085 ┆ 1.133295 ┆ 0.872245 ┆ 0.808487 │\n",
       "└────────┴───────────┴────────────┴────────────┴───┴──────────┴──────────┴──────────┴──────────┘"
      ]
     },
     "execution_count": 2,
     "metadata": {},
     "output_type": "execute_result"
    }
   ],
   "source": [
    "if not os.path.exists('./higgs_data/HIGGS.parquet'):\n",
    "    from download_data import main as download_data\n",
    "    download_data()\n",
    "    \n",
    "df = pl.scan_parquet('./higgs_data/HIGGS.parquet')\n",
    "df.head().collect()"
   ]
  },
  {
   "cell_type": "code",
   "execution_count": 3,
   "id": "57cfccbc",
   "metadata": {},
   "outputs": [
    {
     "data": {
      "text/html": [
       "<div><style>\n",
       ".dataframe > thead > tr,\n",
       ".dataframe > tbody > tr {\n",
       "  text-align: right;\n",
       "  white-space: pre-wrap;\n",
       "}\n",
       "</style>\n",
       "<small>shape: (2, 2)</small><table border=\"1\" class=\"dataframe\"><thead><tr><th>target</th><th>len</th></tr><tr><td>f64</td><td>u32</td></tr></thead><tbody><tr><td>0.0</td><td>5170877</td></tr><tr><td>1.0</td><td>5829123</td></tr></tbody></table></div>"
      ],
      "text/plain": [
       "shape: (2, 2)\n",
       "┌────────┬─────────┐\n",
       "│ target ┆ len     │\n",
       "│ ---    ┆ ---     │\n",
       "│ f64    ┆ u32     │\n",
       "╞════════╪═════════╡\n",
       "│ 0.0    ┆ 5170877 │\n",
       "│ 1.0    ┆ 5829123 │\n",
       "└────────┴─────────┘"
      ]
     },
     "execution_count": 3,
     "metadata": {},
     "output_type": "execute_result"
    }
   ],
   "source": [
    "df.group_by('target').len().collect()"
   ]
  },
  {
   "cell_type": "code",
   "execution_count": 2,
   "id": "3aa6250d",
   "metadata": {},
   "outputs": [],
   "source": [
    "import lightgbm as lgb\n",
    "import xgboost as xgb\n",
    "import catboost as cat\n",
    "import optuna\n",
    "from manual_splits import polars_train_test_split\n",
    "from sklearn.metrics import roc_auc_score\n"
   ]
  },
  {
   "cell_type": "code",
   "execution_count": 4,
   "id": "5e7be9d4",
   "metadata": {},
   "outputs": [],
   "source": [
    "df = df.with_columns(\n",
    "    pl.col(\"target\").cast(pl.Int32)\n",
    ").collect()\n",
    "\n",
    "train_df, test_df = polars_train_test_split(df, random_state=42)\n",
    "\n",
    "train_df.write_parquet('./higgs_data/train.parquet')\n",
    "test_df.write_parquet('./higgs_data/test.parquet')\n",
    "\n",
    "with open('./higgs_data/train.cd', 'w') as f:\n",
    "    type_selector = {\n",
    "        pl.Int32: \"Num\",\n",
    "        pl.Int64: \"Num\",\n",
    "        pl.Float32: \"Num\",\n",
    "        pl.Float64: \"Num\",\n",
    "        pl.Boolean: \"Categ\",\n",
    "        pl.Categorical: \"Categ\"\n",
    "    }\n",
    "    \n",
    "    lines = [f'{i}\\t{type_selector[type_]}\\n' for i, type_ in enumerate(df.dtypes)]\n",
    "    lines[0] = '0\\tLabel\\n'\n",
    "\n",
    "    f.writelines(lines)\n",
    "    "
   ]
  },
  {
   "cell_type": "code",
   "execution_count": 3,
   "id": "52b2ada2",
   "metadata": {},
   "outputs": [
    {
     "data": {
      "text/plain": [
       "153"
      ]
     },
     "execution_count": 3,
     "metadata": {},
     "output_type": "execute_result"
    }
   ],
   "source": [
    "gc.collect()"
   ]
  },
  {
   "cell_type": "code",
   "execution_count": 3,
   "id": "0f905d91",
   "metadata": {},
   "outputs": [],
   "source": [
    "import numpy as np, pandas as pd \n",
    "from contextlib import redirect_stdout, redirect_stderr\n",
    "from manual_splits import file_train_test_split, file_subsample, csv_no_headers\n",
    "from optuna.integration import LightGBMPruningCallback\n",
    "\n",
    "def lgb_objective_step1(trial):\n",
    "    params = {\n",
    "        \"device\": \"gpu\",\n",
    "        \"gpu_platform_id\": 1,   # My GPU is on platform 1\n",
    "        \"gpu_device_id\": 0, \n",
    "        \"objective\": \"binary\",\n",
    "        \"metric\": \"auc\",\n",
    "        \"boosting_type\": \"gbdt\",\n",
    "        \"verbosity\": -1,\n",
    "        \"tree_learner\": \"serial\",\n",
    "        \"max_depth\": trial.suggest_int(\"max_depth\", 3, 12),\n",
    "        \"num_leaves\": trial.suggest_int(\"num_leaves\", 8, 512),\n",
    "        \"learning_rate\": trial.suggest_float(\"learning_rate\", 1e-3, 0.3, log=True),\n",
    "        \"feature_fraction\": trial.suggest_float(\"feature_fraction\", 0.5, 1.0),\n",
    "        \"bagging_fraction\": trial.suggest_float(\"bagging_fraction\", 0.5, 1.0),\n",
    "        \"bagging_freq\": trial.suggest_int(\"bagging_freq\", 1, 10),\n",
    "        \"lambda_l1\": trial.suggest_float(\"lambda_l1\", 0, 5.0),\n",
    "        \"lambda_l2\": trial.suggest_float(\"lambda_l2\", 0, 5.0),\n",
    "        \"min_child_samples\": trial.suggest_int(\"min_child_samples\", 10, 100),\n",
    "    }\n",
    "\n",
    "    split_folder = 'train/lightgbm/step1/data'\n",
    "    nested_folder = 'train/lightgbm/step1/data/training'\n",
    "    \n",
    "    # train (70) / valid (15) / test (15) split from 10% subsample\n",
    "    subsample = file_subsample(f'higgs_data/train.parquet', split_folder, sample_fraction=0.1)\n",
    "    train_valid_pool, holdout_set = file_train_test_split(subsample, split_folder, test_size=0.15)\n",
    "    \n",
    "    # .15 / .85 = 0.1739\n",
    "    train_set, valid_set = file_train_test_split(train_valid_pool, nested_folder, test_size=0.1739)\n",
    "\n",
    "        \n",
    "    dtrain = lgb.Dataset(train_set, params={\"label_column\": \"name:target\", \"header\": True})\n",
    "    dvalid = lgb.Dataset(valid_set, params={\"label_column\": \"name:target\", \"header\": True}, reference=train_set)\n",
    "\n",
    "    # Absolutely no logging\n",
    "    with open(os.devnull, 'w') as fnull:\n",
    "        with redirect_stdout(fnull), redirect_stderr(fnull):\n",
    "            model = lgb.train(\n",
    "                params,\n",
    "                dtrain,\n",
    "                valid_sets=[dvalid],\n",
    "                num_boost_round=100,\n",
    "                callbacks=[\n",
    "                    lgb.early_stopping(15),\n",
    "                    LightGBMPruningCallback(trial, metric=\"auc\", valid_name=\"valid_0\")\n",
    "                ],\n",
    "            )\n",
    "\n",
    "    # Calculate \"test\" AUC\n",
    "    dtest = pd.read_csv(holdout_set, header=0)\n",
    "    X_test = dtest.drop(columns=[\"target\"])\n",
    "    y_test = dtest[\"target\"]\n",
    "\n",
    "    preds = model.predict(X_test)\n",
    "    auc = roc_auc_score(y_test, preds)\n",
    "        \n",
    "    \n",
    "    # Free up memory\n",
    "    del model, dtrain, dvalid, X_test, y_test, preds\n",
    "    gc.collect()\n",
    "\n",
    "    return auc"
   ]
  },
  {
   "cell_type": "code",
   "execution_count": null,
   "id": "e065ec8b",
   "metadata": {},
   "outputs": [
    {
     "name": "stderr",
     "output_type": "stream",
     "text": [
      "[I 2025-06-16 13:22:37,159] A new study created in memory with name: no-name-89af15cc-67f8-4e9a-95e5-0b5018bfaeb3\n",
      "[I 2025-06-16 13:22:58,011] Trial 0 finished with value: 0.8018642343959161 and parameters: {'max_depth': 9, 'num_leaves': 57, 'learning_rate': 0.03284725385436387, 'feature_fraction': 0.7171158687431036, 'bagging_fraction': 0.722740507356639, 'bagging_freq': 8, 'lambda_l1': 0.9156408214917106, 'lambda_l2': 4.638581227911881, 'min_child_samples': 70}. Best is trial 0 with value: 0.8018642343959161.\n",
      "[I 2025-06-16 13:23:12,397] Trial 1 finished with value: 0.7376884759879201 and parameters: {'max_depth': 4, 'num_leaves': 305, 'learning_rate': 0.0017415100428982012, 'feature_fraction': 0.7907036249278032, 'bagging_fraction': 0.5967220188305489, 'bagging_freq': 10, 'lambda_l1': 0.4976103752527822, 'lambda_l2': 3.9413223720409176, 'min_child_samples': 70}. Best is trial 0 with value: 0.8018642343959161.\n",
      "[I 2025-06-16 13:23:30,544] Trial 2 finished with value: 0.7713472196949543 and parameters: {'max_depth': 5, 'num_leaves': 185, 'learning_rate': 0.007303000480474297, 'feature_fraction': 0.5244439966067582, 'bagging_fraction': 0.5675619252289632, 'bagging_freq': 5, 'lambda_l1': 2.4588633132747955, 'lambda_l2': 0.6525161570215443, 'min_child_samples': 87}. Best is trial 0 with value: 0.8018642343959161.\n",
      "[I 2025-06-16 13:24:02,461] Trial 3 finished with value: 0.8224776708815748 and parameters: {'max_depth': 9, 'num_leaves': 409, 'learning_rate': 0.25001203675720823, 'feature_fraction': 0.9977589157840601, 'bagging_fraction': 0.6926651097919353, 'bagging_freq': 7, 'lambda_l1': 0.9868323000151735, 'lambda_l2': 0.3998992472177726, 'min_child_samples': 70}. Best is trial 3 with value: 0.8224776708815748.\n",
      "[I 2025-06-16 13:24:18,675] Trial 4 finished with value: 0.7601609426788541 and parameters: {'max_depth': 5, 'num_leaves': 125, 'learning_rate': 0.0027304839086477292, 'feature_fraction': 0.6781539885779899, 'bagging_fraction': 0.6686654715940804, 'bagging_freq': 3, 'lambda_l1': 0.8618657051442952, 'lambda_l2': 3.5163053593098277, 'min_child_samples': 54}. Best is trial 3 with value: 0.8224776708815748.\n",
      "[I 2025-06-16 13:24:51,887] Trial 5 finished with value: 0.7967178836538705 and parameters: {'max_depth': 12, 'num_leaves': 488, 'learning_rate': 0.0011003530582253088, 'feature_fraction': 0.8323100697954675, 'bagging_fraction': 0.941226409799711, 'bagging_freq': 7, 'lambda_l1': 1.4809078223081422, 'lambda_l2': 4.751975155428786, 'min_child_samples': 62}. Best is trial 3 with value: 0.8224776708815748.\n",
      "[I 2025-06-16 13:25:27,876] Trial 6 finished with value: 0.8212333711943784 and parameters: {'max_depth': 10, 'num_leaves': 480, 'learning_rate': 0.2631726749605084, 'feature_fraction': 0.8775503021412197, 'bagging_fraction': 0.5869524000412927, 'bagging_freq': 8, 'lambda_l1': 2.400341368366934, 'lambda_l2': 2.2159251650817433, 'min_child_samples': 33}. Best is trial 3 with value: 0.8224776708815748.\n",
      "[I 2025-06-16 13:26:16,169] Trial 7 finished with value: 0.805716062668048 and parameters: {'max_depth': 10, 'num_leaves': 446, 'learning_rate': 0.017670264559819213, 'feature_fraction': 0.649665173383476, 'bagging_fraction': 0.9070639394935136, 'bagging_freq': 5, 'lambda_l1': 3.7118781549770175, 'lambda_l2': 3.2648848824149796, 'min_child_samples': 83}. Best is trial 3 with value: 0.8224776708815748.\n",
      "[I 2025-06-16 13:26:32,828] Trial 8 finished with value: 0.7625020605146534 and parameters: {'max_depth': 5, 'num_leaves': 414, 'learning_rate': 0.0019218856161532319, 'feature_fraction': 0.6322618230777949, 'bagging_fraction': 0.5723795454050886, 'bagging_freq': 5, 'lambda_l1': 0.13803113604805906, 'lambda_l2': 4.171635720211493, 'min_child_samples': 90}. Best is trial 3 with value: 0.8224776708815748.\n",
      "[I 2025-06-16 13:27:15,903] Trial 9 finished with value: 0.8274990720971251 and parameters: {'max_depth': 11, 'num_leaves': 392, 'learning_rate': 0.1176606754299122, 'feature_fraction': 0.8886037198039887, 'bagging_fraction': 0.87219962631373, 'bagging_freq': 10, 'lambda_l1': 2.5462178918357177, 'lambda_l2': 3.946937101052331, 'min_child_samples': 63}. Best is trial 9 with value: 0.8274990720971251.\n",
      "[I 2025-06-16 13:27:54,878] Trial 10 finished with value: 0.8242103680094091 and parameters: {'max_depth': 12, 'num_leaves': 282, 'learning_rate': 0.0701388153250325, 'feature_fraction': 0.9665241360234967, 'bagging_fraction': 0.8401156350385072, 'bagging_freq': 2, 'lambda_l1': 4.634213219255898, 'lambda_l2': 2.1497729246245876, 'min_child_samples': 16}. Best is trial 9 with value: 0.8274990720971251.\n",
      "[I 2025-06-16 13:28:32,001] Trial 11 finished with value: 0.8214508050314477 and parameters: {'max_depth': 12, 'num_leaves': 296, 'learning_rate': 0.05675500939203559, 'feature_fraction': 0.9762381373539742, 'bagging_fraction': 0.8355921432277571, 'bagging_freq': 1, 'lambda_l1': 4.834110551962705, 'lambda_l2': 2.267613578821334, 'min_child_samples': 10}. Best is trial 9 with value: 0.8274990720971251.\n",
      "[I 2025-06-16 13:29:09,310] Trial 12 finished with value: 0.8243252172109061 and parameters: {'max_depth': 12, 'num_leaves': 328, 'learning_rate': 0.07640767300175245, 'feature_fraction': 0.9066595683383052, 'bagging_fraction': 0.8130052099044359, 'bagging_freq': 1, 'lambda_l1': 3.7384720957085205, 'lambda_l2': 2.7908352877343825, 'min_child_samples': 40}. Best is trial 9 with value: 0.8274990720971251.\n",
      "[I 2025-06-16 13:29:31,082] Trial 13 finished with value: 0.8157859357443562 and parameters: {'max_depth': 7, 'num_leaves': 360, 'learning_rate': 0.0992777908085298, 'feature_fraction': 0.8837764937752236, 'bagging_fraction': 0.8093598320494089, 'bagging_freq': 10, 'lambda_l1': 3.528958489491575, 'lambda_l2': 2.813144923318431, 'min_child_samples': 42}. Best is trial 9 with value: 0.8274990720971251.\n",
      "[I 2025-06-16 13:30:03,725] Trial 14 finished with value: 0.8275288004570662 and parameters: {'max_depth': 11, 'num_leaves': 201, 'learning_rate': 0.14093674913635923, 'feature_fraction': 0.8985822755064995, 'bagging_fraction': 0.9997109256025056, 'bagging_freq': 3, 'lambda_l1': 3.544436792500242, 'lambda_l2': 1.204632071665642, 'min_child_samples': 42}. Best is trial 14 with value: 0.8275288004570662.\n",
      "[I 2025-06-16 13:30:27,783] Trial 15 finished with value: 0.819781065666175 and parameters: {'max_depth': 7, 'num_leaves': 176, 'learning_rate': 0.17803369116449116, 'feature_fraction': 0.785687238161649, 'bagging_fraction': 0.9978189147880587, 'bagging_freq': 3, 'lambda_l1': 3.243722931839052, 'lambda_l2': 1.3778970275155291, 'min_child_samples': 25}. Best is trial 14 with value: 0.8275288004570662.\n",
      "[I 2025-06-16 13:31:01,058] Trial 16 finished with value: 0.805993139599277 and parameters: {'max_depth': 10, 'num_leaves': 216, 'learning_rate': 0.021681439940099967, 'feature_fraction': 0.9183665044923639, 'bagging_fraction': 0.9864488862579188, 'bagging_freq': 3, 'lambda_l1': 2.919753287572605, 'lambda_l2': 1.3513020382600902, 'min_child_samples': 49}. Best is trial 14 with value: 0.8275288004570662.\n",
      "[I 2025-06-16 13:31:24,554] Trial 17 finished with value: 0.7890678114749554 and parameters: {'max_depth': 8, 'num_leaves': 92, 'learning_rate': 0.009535875517982498, 'feature_fraction': 0.8243926886038389, 'bagging_fraction': 0.8971822729557782, 'bagging_freq': 4, 'lambda_l1': 1.8823837313992584, 'lambda_l2': 1.432267593877779, 'min_child_samples': 98}. Best is trial 14 with value: 0.8275288004570662.\n",
      "[I 2025-06-16 13:31:55,777] Trial 18 finished with value: 0.8258943423092315 and parameters: {'max_depth': 11, 'num_leaves': 235, 'learning_rate': 0.12602187197667253, 'feature_fraction': 0.7405030364031555, 'bagging_fraction': 0.932905712132815, 'bagging_freq': 9, 'lambda_l1': 4.106336788163365, 'lambda_l2': 1.6665632025296064, 'min_child_samples': 61}. Best is trial 14 with value: 0.8275288004570662.\n",
      "[I 2025-06-16 13:32:25,733] Trial 19 finished with value: 0.8077839930359899 and parameters: {'max_depth': 8, 'num_leaves': 357, 'learning_rate': 0.03362065869585777, 'feature_fraction': 0.9424745912343186, 'bagging_fraction': 0.8741554134888847, 'bagging_freq': 6, 'lambda_l1': 1.97773884832207, 'lambda_l2': 0.7922499055447684, 'min_child_samples': 29}. Best is trial 14 with value: 0.8275288004570662.\n",
      "[I 2025-06-16 13:32:54,282] Trial 20 finished with value: 0.8152061919322595 and parameters: {'max_depth': 11, 'num_leaves': 154, 'learning_rate': 0.04306823792247229, 'feature_fraction': 0.8549603217333909, 'bagging_fraction': 0.7522818983071681, 'bagging_freq': 4, 'lambda_l1': 2.7499335480733365, 'lambda_l2': 3.3345102372375495, 'min_child_samples': 45}. Best is trial 14 with value: 0.8275288004570662.\n",
      "[I 2025-06-16 13:33:28,858] Trial 21 finished with value: 0.8258383720095692 and parameters: {'max_depth': 11, 'num_leaves': 245, 'learning_rate': 0.13245032000919407, 'feature_fraction': 0.7241546763513926, 'bagging_fraction': 0.9457823493229282, 'bagging_freq': 9, 'lambda_l1': 4.077439803053776, 'lambda_l2': 1.7350451216255314, 'min_child_samples': 60}. Best is trial 14 with value: 0.8275288004570662.\n",
      "[I 2025-06-16 13:34:01,412] Trial 22 finished with value: 0.8273200278673878 and parameters: {'max_depth': 11, 'num_leaves': 238, 'learning_rate': 0.14083599175249586, 'feature_fraction': 0.7753713011635759, 'bagging_fraction': 0.9473897547348319, 'bagging_freq': 9, 'lambda_l1': 4.1493867168924154, 'lambda_l2': 0.03753097961271479, 'min_child_samples': 77}. Best is trial 14 with value: 0.8275288004570662.\n",
      "[I 2025-06-16 13:34:20,426] Trial 23 finished with value: 0.8144871491134101 and parameters: {'max_depth': 9, 'num_leaves': 28, 'learning_rate': 0.17125461663877664, 'feature_fraction': 0.8006962448410018, 'bagging_fraction': 0.9757314966133963, 'bagging_freq': 9, 'lambda_l1': 4.312730544491101, 'lambda_l2': 0.13351619280176852, 'min_child_samples': 79}. Best is trial 14 with value: 0.8275288004570662.\n",
      "[I 2025-06-16 13:34:48,710] Trial 24 finished with value: 0.8230092884704333 and parameters: {'max_depth': 11, 'num_leaves': 195, 'learning_rate': 0.29270940118211813, 'feature_fraction': 0.9293315687129554, 'bagging_fraction': 0.8681040749532896, 'bagging_freq': 10, 'lambda_l1': 3.364028833366511, 'lambda_l2': 0.9064831085980993, 'min_child_samples': 76}. Best is trial 14 with value: 0.8275288004570662.\n",
      "[I 2025-06-16 13:35:24,131] Trial 25 finished with value: 0.8231449516911142 and parameters: {'max_depth': 10, 'num_leaves': 248, 'learning_rate': 0.09481183225331666, 'feature_fraction': 0.5555507532574764, 'bagging_fraction': 0.9554548773146853, 'bagging_freq': 8, 'lambda_l1': 3.0077142830428962, 'lambda_l2': 0.07924357536850202, 'min_child_samples': 52}. Best is trial 14 with value: 0.8275288004570662.\n",
      "[I 2025-06-16 13:36:07,355] Trial 26 finished with value: 0.8031902586288006 and parameters: {'max_depth': 11, 'num_leaves': 365, 'learning_rate': 0.010270953731178088, 'feature_fraction': 0.768942689567137, 'bagging_fraction': 0.7711399604359276, 'bagging_freq': 7, 'lambda_l1': 4.464945136332945, 'lambda_l2': 0.966346443044845, 'min_child_samples': 37}. Best is trial 14 with value: 0.8275288004570662.\n",
      "[I 2025-06-16 13:36:34,255] Trial 27 finished with value: 0.8238220256791933 and parameters: {'max_depth': 9, 'num_leaves': 117, 'learning_rate': 0.1753393218257384, 'feature_fraction': 0.8443981793594512, 'bagging_fraction': 0.8943494984031441, 'bagging_freq': 6, 'lambda_l1': 4.929079119885801, 'lambda_l2': 4.275943274650812, 'min_child_samples': 65}. Best is trial 14 with value: 0.8275288004570662.\n",
      "[I 2025-06-16 13:36:55,374] Trial 28 finished with value: 0.8037870247170933 and parameters: {'max_depth': 6, 'num_leaves': 268, 'learning_rate': 0.051836296130509565, 'feature_fraction': 0.8632196387750277, 'bagging_fraction': 0.915850282888198, 'bagging_freq': 9, 'lambda_l1': 3.9393562551318144, 'lambda_l2': 2.7191353518516386, 'min_child_samples': 95}. Best is trial 14 with value: 0.8275288004570662.\n",
      "[I 2025-06-16 13:37:15,102] Trial 29 finished with value: 0.7624195392492018 and parameters: {'max_depth': 3, 'num_leaves': 67, 'learning_rate': 0.027717991536476763, 'feature_fraction': 0.6984276654975056, 'bagging_fraction': 0.9968853311203205, 'bagging_freq': 10, 'lambda_l1': 2.1317120870843174, 'lambda_l2': 4.96284797802609, 'min_child_samples': 75}. Best is trial 14 with value: 0.8275288004570662.\n",
      "[I 2025-06-16 13:38:00,263] Trial 30 finished with value: 0.8259285178166786 and parameters: {'max_depth': 10, 'num_leaves': 324, 'learning_rate': 0.11905440987307293, 'feature_fraction': 0.893757008964561, 'bagging_fraction': 0.8617055766274055, 'bagging_freq': 2, 'lambda_l1': 3.1237639065263725, 'lambda_l2': 0.009224833374356207, 'min_child_samples': 48}. Best is trial 14 with value: 0.8275288004570662.\n",
      "[I 2025-06-16 13:38:43,363] Trial 31 finished with value: 0.8254033229060356 and parameters: {'max_depth': 10, 'num_leaves': 329, 'learning_rate': 0.13258670109619236, 'feature_fraction': 0.8992786605294403, 'bagging_fraction': 0.8654266482277664, 'bagging_freq': 2, 'lambda_l1': 3.2088595075975386, 'lambda_l2': 0.38200476741417433, 'min_child_samples': 49}. Best is trial 14 with value: 0.8275288004570662.\n",
      "[I 2025-06-16 13:39:32,441] Trial 32 finished with value: 0.8254577292194677 and parameters: {'max_depth': 11, 'num_leaves': 426, 'learning_rate': 0.08647174036667817, 'feature_fraction': 0.9474532646717934, 'bagging_fraction': 0.960263816418326, 'bagging_freq': 2, 'lambda_l1': 2.724017937592609, 'lambda_l2': 0.4989456710481591, 'min_child_samples': 58}. Best is trial 14 with value: 0.8275288004570662.\n",
      "[I 2025-06-16 13:40:09,016] Trial 33 finished with value: 0.8249945425426954 and parameters: {'max_depth': 9, 'num_leaves': 326, 'learning_rate': 0.1997387897071782, 'feature_fraction': 0.8202767645723542, 'bagging_fraction': 0.7860130150819681, 'bagging_freq': 4, 'lambda_l1': 3.547262145694317, 'lambda_l2': 0.024546360188128613, 'min_child_samples': 68}. Best is trial 14 with value: 0.8275288004570662.\n",
      "[I 2025-06-16 13:40:55,568] Trial 34 finished with value: 0.8205049752488711 and parameters: {'max_depth': 12, 'num_leaves': 387, 'learning_rate': 0.037968761943010916, 'feature_fraction': 0.7550151612369608, 'bagging_fraction': 0.7125166697248801, 'bagging_freq': 1, 'lambda_l1': 2.5042784904462283, 'lambda_l2': 0.960820149927007, 'min_child_samples': 23}. Best is trial 14 with value: 0.8275288004570662.\n",
      "[I 2025-06-16 13:41:37,773] Trial 35 finished with value: 0.8226658347887883 and parameters: {'max_depth': 10, 'num_leaves': 213, 'learning_rate': 0.11557215860569225, 'feature_fraction': 0.999219129132696, 'bagging_fraction': 0.5285127845989976, 'bagging_freq': 2, 'lambda_l1': 3.1354420060795234, 'lambda_l2': 0.4927985132681826, 'min_child_samples': 56}. Best is trial 14 with value: 0.8275288004570662.\n",
      "[I 2025-06-16 13:42:11,003] Trial 36 finished with value: 0.7926057567933977 and parameters: {'max_depth': 11, 'num_leaves': 149, 'learning_rate': 0.004740966086451501, 'feature_fraction': 0.8042657662921102, 'bagging_fraction': 0.9270903214587864, 'bagging_freq': 3, 'lambda_l1': 3.8974829510392546, 'lambda_l2': 3.7641478804578554, 'min_child_samples': 72}. Best is trial 14 with value: 0.8275288004570662.\n",
      "[I 2025-06-16 13:42:44,013] Trial 37 finished with value: 0.8143263131416874 and parameters: {'max_depth': 8, 'num_leaves': 304, 'learning_rate': 0.0592485995088022, 'feature_fraction': 0.5947536624872454, 'bagging_fraction': 0.6592043546782719, 'bagging_freq': 8, 'lambda_l1': 2.39947243142163, 'lambda_l2': 1.153583508336408, 'min_child_samples': 46}. Best is trial 14 with value: 0.8275288004570662.\n",
      "[I 2025-06-16 13:43:23,294] Trial 38 finished with value: 0.8260521213610248 and parameters: {'max_depth': 12, 'num_leaves': 447, 'learning_rate': 0.24178455348313152, 'feature_fraction': 0.8842771400916047, 'bagging_fraction': 0.9682703463218865, 'bagging_freq': 10, 'lambda_l1': 1.2443925075996045, 'lambda_l2': 1.9084345077576397, 'min_child_samples': 35}. Best is trial 14 with value: 0.8275288004570662.\n",
      "[I 2025-06-16 13:44:10,110] Trial 39 finished with value: 0.8263434139544952 and parameters: {'max_depth': 12, 'num_leaves': 472, 'learning_rate': 0.23400865540443835, 'feature_fraction': 0.8753996872716284, 'bagging_fraction': 0.9678749346275507, 'bagging_freq': 10, 'lambda_l1': 1.5424889815619087, 'lambda_l2': 1.9014350006964538, 'min_child_samples': 33}. Best is trial 14 with value: 0.8275288004570662.\n",
      "[I 2025-06-16 13:45:00,497] Trial 40 finished with value: 0.8228377210202096 and parameters: {'max_depth': 12, 'num_leaves': 495, 'learning_rate': 0.21425407653261358, 'feature_fraction': 0.8600323092940915, 'bagging_fraction': 0.634142902021177, 'bagging_freq': 8, 'lambda_l1': 1.6670938258393422, 'lambda_l2': 3.1077535114909134, 'min_child_samples': 30}. Best is trial 14 with value: 0.8275288004570662.\n",
      "[I 2025-06-16 13:45:33,619] Trial 41 finished with value: 0.8237758661829018 and parameters: {'max_depth': 12, 'num_leaves': 453, 'learning_rate': 0.2792997253716126, 'feature_fraction': 0.8751512249279776, 'bagging_fraction': 0.9642104116334715, 'bagging_freq': 10, 'lambda_l1': 0.9739665543227513, 'lambda_l2': 2.4512636081432673, 'min_child_samples': 37}. Best is trial 14 with value: 0.8275288004570662.\n",
      "[I 2025-06-16 13:46:16,725] Trial 42 finished with value: 0.8249643343471686 and parameters: {'max_depth': 12, 'num_leaves': 463, 'learning_rate': 0.22548197819498877, 'feature_fraction': 0.9583518826693906, 'bagging_fraction': 0.9716534440577466, 'bagging_freq': 9, 'lambda_l1': 1.2507081437724774, 'lambda_l2': 1.938535748488402, 'min_child_samples': 34}. Best is trial 14 with value: 0.8275288004570662.\n",
      "[I 2025-06-16 13:47:07,283] Trial 43 finished with value: 0.8280034146391664 and parameters: {'max_depth': 11, 'num_leaves': 511, 'learning_rate': 0.163907066556159, 'feature_fraction': 0.9118092870747424, 'bagging_fraction': 0.9325266034267488, 'bagging_freq': 10, 'lambda_l1': 1.3500356271731953, 'lambda_l2': 1.950760146590989, 'min_child_samples': 20}. Best is trial 43 with value: 0.8280034146391664.\n",
      "[I 2025-06-16 13:47:57,863] Trial 44 finished with value: 0.8291622356943564 and parameters: {'max_depth': 11, 'num_leaves': 506, 'learning_rate': 0.1615324857070666, 'feature_fraction': 0.8339881896395828, 'bagging_fraction': 0.9194648444223078, 'bagging_freq': 10, 'lambda_l1': 0.429499937432849, 'lambda_l2': 2.4918575652994654, 'min_child_samples': 17}. Best is trial 44 with value: 0.8291622356943564.\n",
      "[I 2025-06-16 13:48:48,621] Trial 45 finished with value: 0.8250079496033561 and parameters: {'max_depth': 11, 'num_leaves': 510, 'learning_rate': 0.1474843169310224, 'feature_fraction': 0.7843267339961828, 'bagging_fraction': 0.896634827555835, 'bagging_freq': 9, 'lambda_l1': 0.44358067971549797, 'lambda_l2': 2.542732387248439, 'min_child_samples': 11}. Best is trial 44 with value: 0.8291622356943564.\n",
      "[I 2025-06-16 13:49:36,034] Trial 46 finished with value: 0.8228253190078977 and parameters: {'max_depth': 10, 'num_leaves': 421, 'learning_rate': 0.08845833196095662, 'feature_fraction': 0.8350062027716645, 'bagging_fraction': 0.9369749247481177, 'bagging_freq': 10, 'lambda_l1': 0.011335537719813493, 'lambda_l2': 3.7050373542882893, 'min_child_samples': 17}. Best is trial 44 with value: 0.8291622356943564.\n",
      "[I 2025-06-16 13:50:15,988] Trial 47 finished with value: 0.817941716757628 and parameters: {'max_depth': 9, 'num_leaves': 512, 'learning_rate': 0.061429875419640824, 'feature_fraction': 0.9240428234631646, 'bagging_fraction': 0.8364348638739084, 'bagging_freq': 7, 'lambda_l1': 0.7068158228168349, 'lambda_l2': 3.079359280456369, 'min_child_samples': 21}. Best is trial 44 with value: 0.8291622356943564.\n",
      "[I 2025-06-16 13:51:05,975] Trial 48 finished with value: 0.8284558167540939 and parameters: {'max_depth': 11, 'num_leaves': 486, 'learning_rate': 0.15991101521797357, 'feature_fraction': 0.9713605135547596, 'bagging_fraction': 0.9268215785291845, 'bagging_freq': 9, 'lambda_l1': 0.4141362413871906, 'lambda_l2': 2.233463723670528, 'min_child_samples': 27}. Best is trial 44 with value: 0.8291622356943564.\n",
      "[I 2025-06-16 13:51:52,796] Trial 49 finished with value: 0.8218580171088629 and parameters: {'max_depth': 10, 'num_leaves': 486, 'learning_rate': 0.07713422420505767, 'feature_fraction': 0.9785822619813552, 'bagging_fraction': 0.9162474455854819, 'bagging_freq': 10, 'lambda_l1': 0.35276190175828087, 'lambda_l2': 2.227764943270339, 'min_child_samples': 17}. Best is trial 44 with value: 0.8291622356943564.\n",
      "[I 2025-06-16 13:52:35,690] Trial 50 finished with value: 0.8268074370166948 and parameters: {'max_depth': 11, 'num_leaves': 390, 'learning_rate': 0.1646764312191722, 'feature_fraction': 0.9797796664910082, 'bagging_fraction': 0.8823114334532687, 'bagging_freq': 8, 'lambda_l1': 0.5981280742987909, 'lambda_l2': 2.4777570913177396, 'min_child_samples': 27}. Best is trial 44 with value: 0.8291622356943564.\n",
      "[I 2025-06-16 13:53:20,837] Trial 51 finished with value: 0.8272472365818523 and parameters: {'max_depth': 11, 'num_leaves': 432, 'learning_rate': 0.11024405422754073, 'feature_fraction': 0.9158967837020342, 'bagging_fraction': 0.9399415591069912, 'bagging_freq': 9, 'lambda_l1': 0.3456081257885564, 'lambda_l2': 2.0828566580010217, 'min_child_samples': 20}. Best is trial 44 with value: 0.8291622356943564.\n",
      "[I 2025-06-16 13:54:14,032] Trial 52 finished with value: 0.8283456715410807 and parameters: {'max_depth': 11, 'num_leaves': 491, 'learning_rate': 0.14200654762890294, 'feature_fraction': 0.9375385483605655, 'bagging_fraction': 0.9092081593834865, 'bagging_freq': 9, 'lambda_l1': 1.1834941520716336, 'lambda_l2': 1.5730457800677278, 'min_child_samples': 13}. Best is trial 44 with value: 0.8291622356943564.\n",
      "[I 2025-06-16 13:55:01,043] Trial 53 finished with value: 0.8254846674659903 and parameters: {'max_depth': 10, 'num_leaves': 483, 'learning_rate': 0.19195296373909707, 'feature_fraction': 0.9414182943428392, 'bagging_fraction': 0.8121388417052319, 'bagging_freq': 10, 'lambda_l1': 1.1972351963967474, 'lambda_l2': 1.5693815409220087, 'min_child_samples': 14}. Best is trial 44 with value: 0.8291622356943564.\n",
      "[I 2025-06-16 13:55:27,571] Trial 54 finished with value: 0.7953030551883296 and parameters: {'max_depth': 11, 'num_leaves': 494, 'learning_rate': 0.0010256683654379323, 'feature_fraction': 0.9032196279305904, 'bagging_fraction': 0.8475520901256224, 'bagging_freq': 9, 'lambda_l1': 0.8323228410124678, 'lambda_l2': 1.525810112582983, 'min_child_samples': 13}. Best is trial 44 with value: 0.8291622356943564.\n",
      "[I 2025-06-16 13:56:19,638] Trial 55 finished with value: 0.8256080513299305 and parameters: {'max_depth': 12, 'num_leaves': 463, 'learning_rate': 0.07257614083012391, 'feature_fraction': 0.9539532011721418, 'bagging_fraction': 0.9160553743630672, 'bagging_freq': 10, 'lambda_l1': 0.19518955742726035, 'lambda_l2': 1.7358433770391506, 'min_child_samples': 20}. Best is trial 44 with value: 0.8291622356943564.\n",
      "[I 2025-06-16 13:57:01,561] Trial 56 finished with value: 0.8236073555967621 and parameters: {'max_depth': 10, 'num_leaves': 436, 'learning_rate': 0.10052173695436623, 'feature_fraction': 0.927669709970779, 'bagging_fraction': 0.8918664228775592, 'bagging_freq': 8, 'lambda_l1': 1.103753428244179, 'lambda_l2': 2.9071141500500652, 'min_child_samples': 25}. Best is trial 44 with value: 0.8291622356943564.\n",
      "[I 2025-06-16 13:57:47,899] Trial 57 finished with value: 0.8258189322089728 and parameters: {'max_depth': 11, 'num_leaves': 497, 'learning_rate': 0.15057861460776617, 'feature_fraction': 0.9082299815376091, 'bagging_fraction': 0.9223863210144367, 'bagging_freq': 5, 'lambda_l1': 1.4206249352819291, 'lambda_l2': 4.4624672595313335, 'min_child_samples': 42}. Best is trial 44 with value: 0.8291622356943564.\n",
      "[I 2025-06-16 13:58:32,658] Trial 58 finished with value: 0.8173264408861209 and parameters: {'max_depth': 10, 'num_leaves': 400, 'learning_rate': 0.04646652378694891, 'feature_fraction': 0.9690773332591169, 'bagging_fraction': 0.9997649238155727, 'bagging_freq': 9, 'lambda_l1': 0.7259655855493304, 'lambda_l2': 1.223827249008657, 'min_child_samples': 30}. Best is trial 44 with value: 0.8291622356943564.\n",
      "[I 2025-06-16 13:59:16,040] Trial 59 finished with value: 0.7838062757718841 and parameters: {'max_depth': 9, 'num_leaves': 470, 'learning_rate': 0.002918571962850225, 'feature_fraction': 0.9867652554179202, 'bagging_fraction': 0.9829656885203438, 'bagging_freq': 7, 'lambda_l1': 1.7795835804497055, 'lambda_l2': 2.063322544643003, 'min_child_samples': 10}. Best is trial 44 with value: 0.8291622356943564.\n",
      "[I 2025-06-16 13:59:37,859] Trial 60 finished with value: 0.8197341086441091 and parameters: {'max_depth': 6, 'num_leaves': 506, 'learning_rate': 0.1795175550383393, 'feature_fraction': 0.8502721811640868, 'bagging_fraction': 0.9039646361723959, 'bagging_freq': 10, 'lambda_l1': 2.0650103808609424, 'lambda_l2': 2.3016480650277518, 'min_child_samples': 15}. Best is trial 44 with value: 0.8291622356943564.\n",
      "[I 2025-06-16 14:00:18,457] Trial 61 finished with value: 0.8263050120315618 and parameters: {'max_depth': 11, 'num_leaves': 228, 'learning_rate': 0.1467902619617624, 'feature_fraction': 0.8131196251948384, 'bagging_fraction': 0.9527367716326604, 'bagging_freq': 9, 'lambda_l1': 4.598257858355824, 'lambda_l2': 2.600815366207617, 'min_child_samples': 64}. Best is trial 44 with value: 0.8291622356943564.\n",
      "[I 2025-06-16 14:01:00,194] Trial 62 finished with value: 0.8277842258612587 and parameters: {'max_depth': 11, 'num_leaves': 266, 'learning_rate': 0.12184811985054131, 'feature_fraction': 0.9353027536013804, 'bagging_fraction': 0.9441890576671536, 'bagging_freq': 9, 'lambda_l1': 2.2424913341690544, 'lambda_l2': 0.7282338723704338, 'min_child_samples': 23}. Best is trial 44 with value: 0.8291622356943564.\n",
      "[I 2025-06-16 14:01:31,849] Trial 63 finished with value: 0.8254869264874151 and parameters: {'max_depth': 12, 'num_leaves': 174, 'learning_rate': 0.10731270561436558, 'feature_fraction': 0.9470167074584659, 'bagging_fraction': 0.9327306183168679, 'bagging_freq': 8, 'lambda_l1': 2.3246410756117726, 'lambda_l2': 1.173877818413649, 'min_child_samples': 23}. Best is trial 44 with value: 0.8291622356943564.\n",
      "[I 2025-06-16 14:02:17,444] Trial 64 finished with value: 0.8260442384291058 and parameters: {'max_depth': 11, 'num_leaves': 456, 'learning_rate': 0.0854828190777261, 'feature_fraction': 0.9356485047044698, 'bagging_fraction': 0.8844364546723275, 'bagging_freq': 10, 'lambda_l1': 2.6865372193380557, 'lambda_l2': 0.6975615993715367, 'min_child_samples': 18}. Best is trial 44 with value: 0.8291622356943564.\n",
      "[I 2025-06-16 14:02:58,802] Trial 65 finished with value: 0.8046835798660437 and parameters: {'max_depth': 11, 'num_leaves': 274, 'learning_rate': 0.015826691744095355, 'feature_fraction': 0.8911386957494707, 'bagging_fraction': 0.9876853679077093, 'bagging_freq': 9, 'lambda_l1': 0.5616248941723466, 'lambda_l2': 1.3183220311267205, 'min_child_samples': 26}. Best is trial 44 with value: 0.8291622356943564.\n",
      "[I 2025-06-16 14:03:38,480] Trial 66 finished with value: 0.8224544140836703 and parameters: {'max_depth': 10, 'num_leaves': 370, 'learning_rate': 0.06658230423504835, 'feature_fraction': 0.9650441034835273, 'bagging_fraction': 0.9082149448431538, 'bagging_freq': 6, 'lambda_l1': 2.1957602851664917, 'lambda_l2': 1.7337042689822342, 'min_child_samples': 13}. Best is trial 44 with value: 0.8291622356943564.\n",
      "[I 2025-06-16 14:04:18,357] Trial 67 finished with value: 0.8251125928892136 and parameters: {'max_depth': 12, 'num_leaves': 480, 'learning_rate': 0.2842127660136646, 'feature_fraction': 0.9159583818183505, 'bagging_fraction': 0.8578889705694204, 'bagging_freq': 9, 'lambda_l1': 1.3972010925502487, 'lambda_l2': 2.3557106354000483, 'min_child_samples': 52}. Best is trial 44 with value: 0.8291622356943564.\n",
      "[I 2025-06-16 14:04:52,656] Trial 68 finished with value: 0.8270956970072216 and parameters: {'max_depth': 11, 'num_leaves': 199, 'learning_rate': 0.1330768649797665, 'feature_fraction': 0.8686841935322906, 'bagging_fraction': 0.9458695650197364, 'bagging_freq': 4, 'lambda_l1': 0.9401721388996453, 'lambda_l2': 3.367024121752568, 'min_child_samples': 23}. Best is trial 44 with value: 0.8291622356943564.\n",
      "[I 2025-06-16 14:05:10,193] Trial 69 finished with value: 0.8066625866928872 and parameters: {'max_depth': 4, 'num_leaves': 406, 'learning_rate': 0.20190549043380077, 'feature_fraction': 0.9306902248703867, 'bagging_fraction': 0.8284272166099748, 'bagging_freq': 10, 'lambda_l1': 1.81327170420289, 'lambda_l2': 1.544438990779034, 'min_child_samples': 30}. Best is trial 44 with value: 0.8291622356943564.\n",
      "[I 2025-06-16 14:05:55,683] Trial 70 finished with value: 0.8246949843051574 and parameters: {'max_depth': 10, 'num_leaves': 442, 'learning_rate': 0.15966086224326792, 'feature_fraction': 0.8349933362743178, 'bagging_fraction': 0.98408473124724, 'bagging_freq': 10, 'lambda_l1': 2.8627264850743654, 'lambda_l2': 1.0383361464754182, 'min_child_samples': 19}. Best is trial 44 with value: 0.8291622356943564.\n",
      "[I 2025-06-16 14:06:26,514] Trial 71 finished with value: 0.8253657953910517 and parameters: {'max_depth': 11, 'num_leaves': 162, 'learning_rate': 0.12029718433031734, 'feature_fraction': 0.7759633401082375, 'bagging_fraction': 0.949343040113811, 'bagging_freq': 9, 'lambda_l1': 4.4053366293979215, 'lambda_l2': 0.3035858235913741, 'min_child_samples': 82}. Best is trial 44 with value: 0.8291622356943564.\n",
      "[I 2025-06-16 14:07:03,518] Trial 72 finished with value: 0.8239473894380798 and parameters: {'max_depth': 11, 'num_leaves': 287, 'learning_rate': 0.09870269014242644, 'feature_fraction': 0.6753585794166153, 'bagging_fraction': 0.9267939944529268, 'bagging_freq': 9, 'lambda_l1': 4.187939930146351, 'lambda_l2': 0.8359576340768315, 'min_child_samples': 89}. Best is trial 44 with value: 0.8291622356943564.\n",
      "[I 2025-06-16 14:07:35,048] Trial 73 finished with value: 0.826848468709869 and parameters: {'max_depth': 12, 'num_leaves': 208, 'learning_rate': 0.13656141326723387, 'feature_fraction': 0.8932499858326789, 'bagging_fraction': 0.8797974067228225, 'bagging_freq': 9, 'lambda_l1': 3.4133883455874034, 'lambda_l2': 0.22465787641590795, 'min_child_samples': 40}. Best is trial 44 with value: 0.8291622356943564.\n",
      "[I 2025-06-16 14:08:06,989] Trial 74 finished with value: 0.8258181122646329 and parameters: {'max_depth': 11, 'num_leaves': 256, 'learning_rate': 0.17425284111378248, 'feature_fraction': 0.7404541351445277, 'bagging_fraction': 0.9563398108541159, 'bagging_freq': 10, 'lambda_l1': 3.787553061129338, 'lambda_l2': 0.5086907058385839, 'min_child_samples': 70}. Best is trial 44 with value: 0.8291622356943564.\n",
      "[I 2025-06-16 14:08:33,126] Trial 75 finished with value: 0.8250531433588311 and parameters: {'max_depth': 10, 'num_leaves': 133, 'learning_rate': 0.24530702817950906, 'feature_fraction': 0.9890440935125008, 'bagging_fraction': 0.9084303038340686, 'bagging_freq': 8, 'lambda_l1': 0.18623509487629963, 'lambda_l2': 0.7040115354402448, 'min_child_samples': 22}. Best is trial 44 with value: 0.8291622356943564.\n",
      "[I 2025-06-16 14:09:10,510] Trial 76 finished with value: 0.8204419126760545 and parameters: {'max_depth': 12, 'num_leaves': 243, 'learning_rate': 0.08213105432465873, 'feature_fraction': 0.5105001450929576, 'bagging_fraction': 0.9741727086924143, 'bagging_freq': 9, 'lambda_l1': 2.602042899108384, 'lambda_l2': 1.8448327912502835, 'min_child_samples': 94}. Best is trial 44 with value: 0.8291622356943564.\n",
      "[I 2025-06-16 14:09:41,666] Trial 77 finished with value: 0.8252159497291894 and parameters: {'max_depth': 11, 'num_leaves': 182, 'learning_rate': 0.19800672187704726, 'feature_fraction': 0.9073951019845492, 'bagging_fraction': 0.932793126781949, 'bagging_freq': 8, 'lambda_l1': 0.8186502093737138, 'lambda_l2': 1.3773546915668167, 'min_child_samples': 76}. Best is trial 44 with value: 0.8291622356943564.\n",
      "[I 2025-06-16 14:10:22,521] Trial 78 finished with value: 0.8270939687681733 and parameters: {'max_depth': 11, 'num_leaves': 347, 'learning_rate': 0.12009588085926874, 'feature_fraction': 0.7986382785114483, 'bagging_fraction': 0.959479652043868, 'bagging_freq': 10, 'lambda_l1': 1.9662778805285792, 'lambda_l2': 2.6824309682439003, 'min_child_samples': 84}. Best is trial 44 with value: 0.8291622356943564.\n",
      "[I 2025-06-16 14:11:15,117] Trial 79 finished with value: 0.822847824427319 and parameters: {'max_depth': 12, 'num_leaves': 497, 'learning_rate': 0.052681039419478104, 'feature_fraction': 0.8509803817855243, 'bagging_fraction': 0.9427766202692057, 'bagging_freq': 10, 'lambda_l1': 3.556383751464492, 'lambda_l2': 2.075523815844943, 'min_child_samples': 28}. Best is trial 44 with value: 0.8291622356943564.\n",
      "[I 2025-06-16 14:11:58,883] Trial 80 finished with value: 0.8219172995802771 and parameters: {'max_depth': 10, 'num_leaves': 473, 'learning_rate': 0.25444950036088787, 'feature_fraction': 0.8806626348138147, 'bagging_fraction': 0.9011350042945104, 'bagging_freq': 5, 'lambda_l1': 1.6624065956036203, 'lambda_l2': 1.0078368408534404, 'min_child_samples': 12}. Best is trial 44 with value: 0.8291622356943564.\n",
      "[I 2025-06-16 14:12:46,389] Trial 81 finished with value: 0.826776949751735 and parameters: {'max_depth': 11, 'num_leaves': 431, 'learning_rate': 0.11092278383591149, 'feature_fraction': 0.9151200435295601, 'bagging_fraction': 0.9376548372286606, 'bagging_freq': 9, 'lambda_l1': 0.36525530187000627, 'lambda_l2': 2.8795312197596936, 'min_child_samples': 19}. Best is trial 44 with value: 0.8291622356943564.\n",
      "[I 2025-06-16 14:13:39,094] Trial 82 finished with value: 0.8271176018643815 and parameters: {'max_depth': 11, 'num_leaves': 418, 'learning_rate': 0.10277890708450604, 'feature_fraction': 0.917905047864869, 'bagging_fraction': 0.9209614902874629, 'bagging_freq': 3, 'lambda_l1': 0.03487042095344539, 'lambda_l2': 2.0932940955591977, 'min_child_samples': 24}. Best is trial 44 with value: 0.8291622356943564.\n",
      "[I 2025-06-16 14:14:13,509] Trial 83 finished with value: 0.8254427385979093 and parameters: {'max_depth': 11, 'num_leaves': 225, 'learning_rate': 0.15126254759769392, 'feature_fraction': 0.9527724996599047, 'bagging_fraction': 0.8703692801614213, 'bagging_freq': 9, 'lambda_l1': 0.27961485097502997, 'lambda_l2': 4.062953806387141, 'min_child_samples': 16}. Best is trial 44 with value: 0.8291622356943564.\n",
      "[I 2025-06-16 14:15:18,177] Trial 84 finished with value: 0.8270669831521558 and parameters: {'max_depth': 10, 'num_leaves': 457, 'learning_rate': 0.13014359473531129, 'feature_fraction': 0.9394850084837284, 'bagging_fraction': 0.8922993677852705, 'bagging_freq': 7, 'lambda_l1': 0.47653871243729656, 'lambda_l2': 2.381470335128624, 'min_child_samples': 67}. Best is trial 44 with value: 0.8291622356943564.\n",
      "[I 2025-06-16 14:17:10,700] Trial 85 finished with value: 0.8256127895686474 and parameters: {'max_depth': 11, 'num_leaves': 505, 'learning_rate': 0.20720627002286393, 'feature_fraction': 0.8680222010377516, 'bagging_fraction': 0.9874960804783424, 'bagging_freq': 8, 'lambda_l1': 1.077225944455345, 'lambda_l2': 1.9446332791376684, 'min_child_samples': 21}. Best is trial 44 with value: 0.8291622356943564.\n",
      "[I 2025-06-16 14:17:35,782] Trial 86 finished with value: 0.816541823634703 and parameters: {'max_depth': 7, 'num_leaves': 480, 'learning_rate': 0.09039557638444139, 'feature_fraction': 0.9673614962413497, 'bagging_fraction': 0.9433238639585995, 'bagging_freq': 9, 'lambda_l1': 0.7195891040339649, 'lambda_l2': 2.1996844116990437, 'min_child_samples': 32}. Best is trial 44 with value: 0.8291622356943564.\n",
      "[I 2025-06-16 14:18:19,657] Trial 87 finished with value: 0.8244900075256261 and parameters: {'max_depth': 12, 'num_leaves': 311, 'learning_rate': 0.16681009903304025, 'feature_fraction': 0.8998114363969475, 'bagging_fraction': 0.9671703192578652, 'bagging_freq': 9, 'lambda_l1': 0.626334636287764, 'lambda_l2': 1.8238383593930967, 'min_child_samples': 15}. Best is trial 44 with value: 0.8291622356943564.\n",
      "[I 2025-06-16 14:19:04,881] Trial 88 finished with value: 0.8102567825768809 and parameters: {'max_depth': 11, 'num_leaves': 378, 'learning_rate': 0.02459139549813177, 'feature_fraction': 0.8829055920671837, 'bagging_fraction': 0.856227945399881, 'bagging_freq': 10, 'lambda_l1': 4.011574028960755, 'lambda_l2': 1.6278387991145804, 'min_child_samples': 73}. Best is trial 44 with value: 0.8291622356943564.\n",
      "[I 2025-06-16 14:19:23,385] Trial 89 finished with value: 0.787921517282496 and parameters: {'max_depth': 10, 'num_leaves': 8, 'learning_rate': 0.06600091699523516, 'feature_fraction': 0.7644609514258105, 'bagging_fraction': 0.9163261364124041, 'bagging_freq': 10, 'lambda_l1': 2.998921697499178, 'lambda_l2': 1.4247606330431999, 'min_child_samples': 27}. Best is trial 44 with value: 0.8291622356943564.\n",
      "[I 2025-06-16 14:19:43,929] Trial 90 finished with value: 0.7850097895924539 and parameters: {'max_depth': 9, 'num_leaves': 347, 'learning_rate': 0.006531036275394845, 'feature_fraction': 0.9228003615387208, 'bagging_fraction': 0.7481703481750775, 'bagging_freq': 8, 'lambda_l1': 4.782472304386529, 'lambda_l2': 4.75671950313051, 'min_child_samples': 60}. Best is trial 44 with value: 0.8291622356943564.\n",
      "[I 2025-06-16 14:20:28,438] Trial 91 finished with value: 0.8279205950668319 and parameters: {'max_depth': 11, 'num_leaves': 421, 'learning_rate': 0.10717023420738896, 'feature_fraction': 0.9162057513078385, 'bagging_fraction': 0.9248254190642881, 'bagging_freq': 3, 'lambda_l1': 0.017905720382925983, 'lambda_l2': 2.064741282129475, 'min_child_samples': 24}. Best is trial 44 with value: 0.8291622356943564.\n",
      "[I 2025-06-16 14:21:12,459] Trial 92 finished with value: 0.8278898598278976 and parameters: {'max_depth': 11, 'num_leaves': 434, 'learning_rate': 0.12720130650884467, 'feature_fraction': 0.9360117178401042, 'bagging_fraction': 0.9268778709941828, 'bagging_freq': 3, 'lambda_l1': 0.3412196516826882, 'lambda_l2': 2.0667161685508724, 'min_child_samples': 18}. Best is trial 44 with value: 0.8291622356943564.\n",
      "[I 2025-06-16 14:22:06,290] Trial 93 finished with value: 0.8263123966043228 and parameters: {'max_depth': 11, 'num_leaves': 448, 'learning_rate': 0.14162826611235532, 'feature_fraction': 0.9388800408097409, 'bagging_fraction': 0.9098119525124326, 'bagging_freq': 3, 'lambda_l1': 0.08155544521859626, 'lambda_l2': 1.9586254986444172, 'min_child_samples': 17}. Best is trial 44 with value: 0.8291622356943564.\n",
      "[I 2025-06-16 14:23:02,562] Trial 94 finished with value: 0.8272346858959592 and parameters: {'max_depth': 12, 'num_leaves': 489, 'learning_rate': 0.1753733625461847, 'feature_fraction': 0.957698516796623, 'bagging_fraction': 0.9267227519000063, 'bagging_freq': 3, 'lambda_l1': 0.2309642442105131, 'lambda_l2': 2.2004596894860664, 'min_child_samples': 10}. Best is trial 44 with value: 0.8291622356943564.\n",
      "[I 2025-06-16 14:23:50,924] Trial 95 finished with value: 0.8257485855152735 and parameters: {'max_depth': 11, 'num_leaves': 399, 'learning_rate': 0.12293874269835382, 'feature_fraction': 0.821537751140457, 'bagging_fraction': 0.8843530943098658, 'bagging_freq': 4, 'lambda_l1': 0.49948682276569306, 'lambda_l2': 2.619546125088582, 'min_child_samples': 25}. Best is trial 44 with value: 0.8291622356943564.\n",
      "[I 2025-06-16 14:24:45,731] Trial 96 finished with value: 0.8250189557825298 and parameters: {'max_depth': 11, 'num_leaves': 512, 'learning_rate': 0.219233919341575, 'feature_fraction': 0.9298346887488783, 'bagging_fraction': 0.9517944725184, 'bagging_freq': 2, 'lambda_l1': 0.11468753318347413, 'lambda_l2': 1.7236737947058134, 'min_child_samples': 32}. Best is trial 44 with value: 0.8291622356943564.\n",
      "[I 2025-06-16 14:25:28,189] Trial 97 finished with value: 0.8217731511152837 and parameters: {'max_depth': 10, 'num_leaves': 468, 'learning_rate': 0.09410635081896139, 'feature_fraction': 0.9739925891891568, 'bagging_fraction': 0.5032770823093007, 'bagging_freq': 3, 'lambda_l1': 0.4199632243249498, 'lambda_l2': 2.5055647226013, 'min_child_samples': 36}. Best is trial 44 with value: 0.8291622356943564.\n",
      "[I 2025-06-16 14:26:20,447] Trial 98 finished with value: 0.8249708957403453 and parameters: {'max_depth': 12, 'num_leaves': 440, 'learning_rate': 0.0757747760097398, 'feature_fraction': 0.7172984482531646, 'bagging_fraction': 0.7898736094167225, 'bagging_freq': 4, 'lambda_l1': 1.583314464332191, 'lambda_l2': 0.575351080541754, 'min_child_samples': 52}. Best is trial 44 with value: 0.8291622356943564.\n",
      "[I 2025-06-16 14:27:07,322] Trial 99 finished with value: 0.8263688313823464 and parameters: {'max_depth': 10, 'num_leaves': 413, 'learning_rate': 0.15305031407687789, 'feature_fraction': 0.8902216842886164, 'bagging_fraction': 0.9738228087565056, 'bagging_freq': 3, 'lambda_l1': 1.338748720912512, 'lambda_l2': 0.15135215695711024, 'min_child_samples': 44}. Best is trial 44 with value: 0.8291622356943564.\n"
     ]
    }
   ],
   "source": [
    "lightgbm_study1 = optuna.create_study(study_name=\"light_gbm_step1\", direction=\"maximize\")\n",
    "lightgbm_study1.optimize(lgb_objective_step1, n_trials=100)"
   ]
  },
  {
   "cell_type": "code",
   "execution_count": null,
   "id": "9470dffd",
   "metadata": {},
   "outputs": [
    {
     "data": {
      "text/html": [
       "<div>\n",
       "<style scoped>\n",
       "    .dataframe tbody tr th:only-of-type {\n",
       "        vertical-align: middle;\n",
       "    }\n",
       "\n",
       "    .dataframe tbody tr th {\n",
       "        vertical-align: top;\n",
       "    }\n",
       "\n",
       "    .dataframe thead th {\n",
       "        text-align: right;\n",
       "    }\n",
       "</style>\n",
       "<table border=\"1\" class=\"dataframe\">\n",
       "  <thead>\n",
       "    <tr style=\"text-align: right;\">\n",
       "      <th></th>\n",
       "      <th>min</th>\n",
       "      <th>max</th>\n",
       "      <th>mean</th>\n",
       "      <th>std</th>\n",
       "    </tr>\n",
       "  </thead>\n",
       "  <tbody>\n",
       "    <tr>\n",
       "      <th>params_bagging_fraction</th>\n",
       "      <td>0.567562</td>\n",
       "      <td>0.941226</td>\n",
       "      <td>0.712818</td>\n",
       "      <td>0.144492</td>\n",
       "    </tr>\n",
       "    <tr>\n",
       "      <th>params_bagging_freq</th>\n",
       "      <td>3.000000</td>\n",
       "      <td>10.000000</td>\n",
       "      <td>6.800000</td>\n",
       "      <td>2.299758</td>\n",
       "    </tr>\n",
       "    <tr>\n",
       "      <th>params_feature_fraction</th>\n",
       "      <td>0.524444</td>\n",
       "      <td>0.997759</td>\n",
       "      <td>0.758857</td>\n",
       "      <td>0.143589</td>\n",
       "    </tr>\n",
       "    <tr>\n",
       "      <th>params_lambda_l1</th>\n",
       "      <td>0.138031</td>\n",
       "      <td>3.711878</td>\n",
       "      <td>1.599819</td>\n",
       "      <td>1.129873</td>\n",
       "    </tr>\n",
       "    <tr>\n",
       "      <th>params_lambda_l2</th>\n",
       "      <td>0.399899</td>\n",
       "      <td>4.751975</td>\n",
       "      <td>3.149998</td>\n",
       "      <td>1.560185</td>\n",
       "    </tr>\n",
       "    <tr>\n",
       "      <th>params_learning_rate</th>\n",
       "      <td>0.001100</td>\n",
       "      <td>0.263173</td>\n",
       "      <td>0.069616</td>\n",
       "      <td>0.104672</td>\n",
       "    </tr>\n",
       "    <tr>\n",
       "      <th>params_max_depth</th>\n",
       "      <td>4.000000</td>\n",
       "      <td>12.000000</td>\n",
       "      <td>8.000000</td>\n",
       "      <td>2.943920</td>\n",
       "    </tr>\n",
       "    <tr>\n",
       "      <th>params_min_child_samples</th>\n",
       "      <td>33.000000</td>\n",
       "      <td>90.000000</td>\n",
       "      <td>68.200000</td>\n",
       "      <td>16.877335</td>\n",
       "    </tr>\n",
       "    <tr>\n",
       "      <th>params_num_leaves</th>\n",
       "      <td>57.000000</td>\n",
       "      <td>488.000000</td>\n",
       "      <td>330.100000</td>\n",
       "      <td>155.014300</td>\n",
       "    </tr>\n",
       "  </tbody>\n",
       "</table>\n",
       "</div>"
      ],
      "text/plain": [
       "                                min         max        mean         std\n",
       "params_bagging_fraction    0.567562    0.941226    0.712818    0.144492\n",
       "params_bagging_freq        3.000000   10.000000    6.800000    2.299758\n",
       "params_feature_fraction    0.524444    0.997759    0.758857    0.143589\n",
       "params_lambda_l1           0.138031    3.711878    1.599819    1.129873\n",
       "params_lambda_l2           0.399899    4.751975    3.149998    1.560185\n",
       "params_learning_rate       0.001100    0.263173    0.069616    0.104672\n",
       "params_max_depth           4.000000   12.000000    8.000000    2.943920\n",
       "params_min_child_samples  33.000000   90.000000   68.200000   16.877335\n",
       "params_num_leaves         57.000000  488.000000  330.100000  155.014300"
      ]
     },
     "execution_count": 36,
     "metadata": {},
     "output_type": "execute_result"
    }
   ],
   "source": [
    "top10 = lightgbm_study1.trials_dataframe().head(10)\n",
    "top10.agg({col: [\"min\", \"max\", \"mean\", \"std\"] for col in top10.columns[5:-1]}).T"
   ]
  },
  {
   "cell_type": "code",
   "execution_count": null,
   "id": "59edfdc9",
   "metadata": {},
   "outputs": [
    {
     "data": {
      "text/plain": [
       "{'max_depth': 11,\n",
       " 'num_leaves': 506,\n",
       " 'learning_rate': 0.1615324857070666,\n",
       " 'feature_fraction': 0.8339881896395828,\n",
       " 'bagging_fraction': 0.9194648444223078,\n",
       " 'bagging_freq': 10,\n",
       " 'lambda_l1': 0.429499937432849,\n",
       " 'lambda_l2': 2.4918575652994654,\n",
       " 'min_child_samples': 17}"
      ]
     },
     "execution_count": 35,
     "metadata": {},
     "output_type": "execute_result"
    }
   ],
   "source": [
    "lightgbm_study1.best_params"
   ]
  },
  {
   "cell_type": "code",
   "execution_count": null,
   "id": "d2418c65",
   "metadata": {},
   "outputs": [],
   "source": [
    "import optuna.visualization as vis\n",
    "\n",
    "\n",
    "# Show most useful Optuna diagnostic plots\n",
    "vis.plot_param_importances(lightgbm_study1).show()\n",
    "vis.plot_optimization_history(lightgbm_study1).show()\n",
    "vis.plot_slice(lightgbm_study1).show()\n",
    "\n",
    "\n"
   ]
  },
  {
   "cell_type": "code",
   "execution_count": null,
   "id": "7d9d62e7",
   "metadata": {},
   "outputs": [],
   "source": [
    "def lgb_objective_step2(trial):\n",
    "    params = {\n",
    "        \"device\": \"gpu\",\n",
    "        \"gpu_platform_id\": 1,   # My GPU is on platform 1\n",
    "        \"gpu_device_id\": 0, \n",
    "        \"objective\": \"binary\",\n",
    "        \"metric\": \"auc\",\n",
    "        \"boosting_type\": \"gbdt\",\n",
    "        \"verbosity\": -1,\n",
    "        \"tree_learner\": \"serial\",\n",
    "        \n",
    "        # Set hyperparameters based on previous study and importance\n",
    "        \"feature_fraction\": lightgbm_study1.best_params[\"feature_fraction\"],\n",
    "        \"bagging_fraction\": lightgbm_study1.best_params[\"bagging_fraction\"],\n",
    "        \"bagging_freq\": lightgbm_study1.best_params[\"bagging_freq\"],\n",
    "        \"min_child_samples\": lightgbm_study1.best_params[\"min_child_samples\"],\n",
    "        \n",
    "        # Untouched as its related to the boosting rounds\n",
    "        \"learning_rate\": trial.suggest_float(\"learning_rate\", 1e-3, 0.3, log=True), \n",
    "        \n",
    "        # Hyperparameters to optimize further\n",
    "        \"max_depth\": trial.suggest_int(\"max_depth\", \n",
    "                                       int(lightgbm_study1.best_params[\"max_depth\"] * 0.7), \n",
    "                                       int(lightgbm_study1.best_params[\"max_depth\"] * 1.3)),\n",
    "        \"num_leaves\": trial.suggest_int(\"num_leaves\", \n",
    "                                        int(lightgbm_study1.best_params[\"num_leaves\"] * 0.7), \n",
    "                                        int(lightgbm_study1.best_params[\"num_leaves\"] * 1.3)),\n",
    "        \n",
    "        # while less \"important\", it still important to prevent overfitting\n",
    "        \"lambda_l1\": trial.suggest_float(\"lambda_l1\", \n",
    "                                         lightgbm_study1.best_params[\"lambda_l1\"] * 0.7, \n",
    "                                         lightgbm_study1.best_params[\"lambda_l1\"] * 1.3),\n",
    "        \"lambda_l2\": trial.suggest_float(\"lambda_l2\", \n",
    "                                         lightgbm_study1.best_params[\"lambda_l2\"] * 0.7, \n",
    "                                         lightgbm_study1.best_params[\"lambda_l2\"] * 1.3),\n",
    "    }\n",
    "\n",
    "    split_folder = 'train/lightgbm/step2/data'\n",
    "    nested_folder = 'train/lightgbm/step2/data/training'\n",
    "    \n",
    "    # train (70) / valid (15) / test (15) split from 20% subsample\n",
    "    subsample = file_subsample('higgs_data/train.parquet', split_folder, sample_fraction=0.2)\n",
    "    train_valid_pool, holdout_set = file_train_test_split(subsample, split_folder, test_size=0.15)\n",
    "    \n",
    "    # .15 / .85 = 0.1739\n",
    "    train_set, valid_set = file_train_test_split(train_valid_pool, nested_folder, test_size=0.1739)\n",
    "\n",
    "        \n",
    "    dtrain = lgb.Dataset(train_set, params={\"label_column\": \"name:target\", \"header\": True})\n",
    "    dvalid = lgb.Dataset(valid_set, params={\"label_column\": \"name:target\", \"header\": True}, reference=train_set)\n",
    "\n",
    "    # Absolutely no logging\n",
    "    with open(os.devnull, 'w') as fnull:\n",
    "        with redirect_stdout(fnull), redirect_stderr(fnull):\n",
    "            model = lgb.train(\n",
    "                params,\n",
    "                dtrain,\n",
    "                valid_sets=[dvalid],\n",
    "                num_boost_round=1000,\n",
    "                callbacks=[\n",
    "                    lgb.early_stopping(50),\n",
    "                    LightGBMPruningCallback(trial, metric=\"auc\", valid_name=\"valid_0\")\n",
    "                ],\n",
    "            )\n",
    "\n",
    "    # Calculate \"test\" AUC\n",
    "    dtest = pd.read_csv(holdout_set, header=0)\n",
    "    X_test = dtest.drop(columns=[\"target\"])\n",
    "    y_test = dtest[\"target\"]\n",
    "\n",
    "    preds = model.predict(X_test)\n",
    "    auc = roc_auc_score(y_test, preds)\n",
    "        \n",
    "    \n",
    "    # Free up memory\n",
    "    del model, dtrain, dvalid, X_test, y_test, preds\n",
    "    gc.collect()\n",
    "\n",
    "    return auc"
   ]
  },
  {
   "cell_type": "code",
   "execution_count": 58,
   "id": "5e899463",
   "metadata": {},
   "outputs": [
    {
     "name": "stderr",
     "output_type": "stream",
     "text": [
      "[I 2025-06-16 15:45:25,844] A new study created in memory with name: light_gbm_step2\n",
      "[I 2025-06-16 15:51:40,064] Trial 0 finished with value: 0.8381139235422921 and parameters: {'learning_rate': 0.02649374238445758, 'max_depth': 12, 'num_leaves': 375, 'lambda_l1': 0.5520777898545168, 'lambda_l2': 1.9910319999995094}. Best is trial 0 with value: 0.8381139235422921.\n",
      "[I 2025-06-16 15:57:57,915] Trial 1 finished with value: 0.83779613548961 and parameters: {'learning_rate': 0.04870546817630842, 'max_depth': 12, 'num_leaves': 448, 'lambda_l1': 0.31161250537496504, 'lambda_l2': 2.462156114396142}. Best is trial 0 with value: 0.8381139235422921.\n",
      "[I 2025-06-16 15:58:48,684] Trial 2 pruned. Trial was pruned at iteration 100.\n",
      "[I 2025-06-16 15:59:33,859] Trial 3 pruned. Trial was pruned at iteration 100.\n",
      "[I 2025-06-16 16:00:29,376] Trial 4 pruned. Trial was pruned at iteration 100.\n",
      "[I 2025-06-16 16:01:23,846] Trial 5 pruned. Trial was pruned at iteration 100.\n",
      "[I 2025-06-16 16:02:01,555] Trial 6 pruned. Trial was pruned at iteration 100.\n",
      "[I 2025-06-16 16:02:50,116] Trial 7 pruned. Trial was pruned at iteration 100.\n",
      "[I 2025-06-16 16:03:59,704] Trial 8 finished with value: 0.8289747527078697 and parameters: {'learning_rate': 0.2740747128836308, 'max_depth': 11, 'num_leaves': 490, 'lambda_l1': 0.43675993488775977, 'lambda_l2': 2.271624264214413}. Best is trial 0 with value: 0.8381139235422921.\n",
      "[I 2025-06-16 16:04:37,651] Trial 9 pruned. Trial was pruned at iteration 100.\n",
      "[I 2025-06-16 16:07:35,996] Trial 10 pruned. Trial was pruned at iteration 300.\n",
      "[I 2025-06-16 16:13:38,975] Trial 11 finished with value: 0.8379012703635484 and parameters: {'learning_rate': 0.04245023734440697, 'max_depth': 12, 'num_leaves': 402, 'lambda_l1': 0.5531159784791508, 'lambda_l2': 1.7500440356876412}. Best is trial 0 with value: 0.8381139235422921.\n",
      "[I 2025-06-16 16:19:48,639] Trial 12 finished with value: 0.8398924872355793 and parameters: {'learning_rate': 0.0705498625514075, 'max_depth': 12, 'num_leaves': 391, 'lambda_l1': 0.5492845465383672, 'lambda_l2': 1.8019515961069805}. Best is trial 12 with value: 0.8398924872355793.\n",
      "[I 2025-06-16 16:22:25,768] Trial 13 finished with value: 0.8345847340356156 and parameters: {'learning_rate': 0.1415071146506423, 'max_depth': 13, 'num_leaves': 550, 'lambda_l1': 0.5133478925277033, 'lambda_l2': 2.008010991171934}. Best is trial 12 with value: 0.8398924872355793.\n",
      "[I 2025-06-16 16:23:25,650] Trial 14 pruned. Trial was pruned at iteration 100.\n",
      "[I 2025-06-16 16:25:20,924] Trial 15 pruned. Trial was pruned at iteration 300.\n",
      "[I 2025-06-16 16:26:24,926] Trial 16 pruned. Trial was pruned at iteration 100.\n",
      "[I 2025-06-16 16:27:35,826] Trial 17 pruned. Trial was pruned at iteration 100.\n",
      "[I 2025-06-16 16:32:17,464] Trial 18 finished with value: 0.836765528118889 and parameters: {'learning_rate': 0.11432121396998257, 'max_depth': 10, 'num_leaves': 650, 'lambda_l1': 0.5278207549852605, 'lambda_l2': 2.1641922418769175}. Best is trial 12 with value: 0.8398924872355793.\n",
      "[I 2025-06-16 16:32:52,156] Trial 19 pruned. Trial was pruned at iteration 100.\n",
      "[I 2025-06-16 16:33:50,658] Trial 20 pruned. Trial was pruned at iteration 100.\n",
      "[I 2025-06-16 16:36:06,569] Trial 21 pruned. Trial was pruned at iteration 300.\n",
      "[I 2025-06-16 16:40:53,375] Trial 22 pruned. Trial was pruned at iteration 900.\n",
      "[I 2025-06-16 16:41:50,614] Trial 23 pruned. Trial was pruned at iteration 100.\n",
      "[I 2025-06-16 16:43:52,783] Trial 24 finished with value: 0.8323967405164547 and parameters: {'learning_rate': 0.19137674283575276, 'max_depth': 12, 'num_leaves': 532, 'lambda_l1': 0.5304760230064968, 'lambda_l2': 1.872046902975196}. Best is trial 12 with value: 0.8398924872355793.\n",
      "[I 2025-06-16 16:45:46,992] Trial 25 pruned. Trial was pruned at iteration 300.\n",
      "[I 2025-06-16 16:47:02,713] Trial 26 pruned. Trial was pruned at iteration 100.\n",
      "[I 2025-06-16 16:48:04,295] Trial 27 pruned. Trial was pruned at iteration 100.\n",
      "[I 2025-06-16 16:49:01,443] Trial 28 pruned. Trial was pruned at iteration 100.\n",
      "[I 2025-06-16 16:51:10,276] Trial 29 pruned. Trial was pruned at iteration 300.\n",
      "[I 2025-06-16 16:56:19,174] Trial 30 finished with value: 0.838145576582555 and parameters: {'learning_rate': 0.106406157315944, 'max_depth': 12, 'num_leaves': 518, 'lambda_l1': 0.31118584736756427, 'lambda_l2': 2.3781241165945834}. Best is trial 12 with value: 0.8398924872355793.\n",
      "[I 2025-06-16 17:01:40,863] Trial 31 finished with value: 0.836145653567473 and parameters: {'learning_rate': 0.1018857987249188, 'max_depth': 12, 'num_leaves': 519, 'lambda_l1': 0.30407772719155607, 'lambda_l2': 2.4951117817503965}. Best is trial 12 with value: 0.8398924872355793.\n",
      "[I 2025-06-16 17:04:08,691] Trial 32 finished with value: 0.8328113251259011 and parameters: {'learning_rate': 0.16718727314969067, 'max_depth': 11, 'num_leaves': 579, 'lambda_l1': 0.3444500453480467, 'lambda_l2': 2.383928368290367}. Best is trial 12 with value: 0.8398924872355793.\n",
      "[I 2025-06-16 17:05:21,918] Trial 33 pruned. Trial was pruned at iteration 100.\n",
      "[I 2025-06-16 17:06:23,131] Trial 34 pruned. Trial was pruned at iteration 100.\n",
      "[I 2025-06-16 17:07:41,161] Trial 35 finished with value: 0.8302563855903722 and parameters: {'learning_rate': 0.29446674909752246, 'max_depth': 11, 'num_leaves': 429, 'lambda_l1': 0.43874021096028093, 'lambda_l2': 2.063699986546264}. Best is trial 12 with value: 0.8398924872355793.\n",
      "[I 2025-06-16 17:13:04,663] Trial 36 pruned. Trial was pruned at iteration 900.\n",
      "[I 2025-06-16 17:14:11,685] Trial 37 pruned. Trial was pruned at iteration 100.\n",
      "[I 2025-06-16 17:15:08,992] Trial 38 pruned. Trial was pruned at iteration 100.\n",
      "[I 2025-06-16 17:16:04,436] Trial 39 pruned. Trial was pruned at iteration 100.\n",
      "[I 2025-06-16 17:17:37,101] Trial 40 finished with value: 0.8317365323001562 and parameters: {'learning_rate': 0.22161922029883868, 'max_depth': 13, 'num_leaves': 395, 'lambda_l1': 0.5450660917144292, 'lambda_l2': 2.3334922514190612}. Best is trial 12 with value: 0.8398924872355793.\n",
      "[I 2025-06-16 17:20:50,857] Trial 41 finished with value: 0.8348092186294132 and parameters: {'learning_rate': 0.13710825195840184, 'max_depth': 12, 'num_leaves': 422, 'lambda_l1': 0.3051196160554705, 'lambda_l2': 2.543143987728795}. Best is trial 12 with value: 0.8398924872355793.\n",
      "[I 2025-06-16 17:21:53,426] Trial 42 pruned. Trial was pruned at iteration 100.\n",
      "[I 2025-06-16 17:23:05,884] Trial 43 pruned. Trial was pruned at iteration 100.\n",
      "[I 2025-06-16 17:24:10,217] Trial 44 pruned. Trial was pruned at iteration 100.\n",
      "[I 2025-06-16 17:25:02,667] Trial 45 pruned. Trial was pruned at iteration 100.\n",
      "[I 2025-06-16 17:29:40,124] Trial 46 finished with value: 0.8360654542021819 and parameters: {'learning_rate': 0.11907450750457103, 'max_depth': 11, 'num_leaves': 458, 'lambda_l1': 0.42086313156808924, 'lambda_l2': 1.9318798358388247}. Best is trial 12 with value: 0.8398924872355793.\n",
      "[I 2025-06-16 17:30:45,939] Trial 47 pruned. Trial was pruned at iteration 100.\n",
      "[I 2025-06-16 17:31:56,341] Trial 48 pruned. Trial was pruned at iteration 100.\n",
      "[I 2025-06-16 17:34:04,001] Trial 49 pruned. Trial was pruned at iteration 300.\n"
     ]
    },
    {
     "data": {
      "text/plain": [
       "{'learning_rate': 0.0705498625514075,\n",
       " 'max_depth': 12,\n",
       " 'num_leaves': 391,\n",
       " 'lambda_l1': 0.5492845465383672,\n",
       " 'lambda_l2': 1.8019515961069805}"
      ]
     },
     "execution_count": 58,
     "metadata": {},
     "output_type": "execute_result"
    }
   ],
   "source": [
    "from optuna.pruners import SuccessiveHalvingPruner\n",
    "\n",
    "lightgbm_study2 = optuna.create_study(\n",
    "    study_name=\"light_gbm_step2\", \n",
    "    direction=\"maximize\",\n",
    "    pruner = SuccessiveHalvingPruner(\n",
    "        min_resource=100,\n",
    "        reduction_factor=3,\n",
    "    )\n",
    ")\n",
    "\n",
    "lightgbm_study2.optimize(lgb_objective_step2, n_trials=50)\n",
    "lightgbm_study2.best_params"
   ]
  },
  {
   "cell_type": "code",
   "execution_count": null,
   "id": "c565e3af",
   "metadata": {},
   "outputs": [
    {
     "name": "stdout",
     "output_type": "stream",
     "text": [
      "✅ Best AUC: 0.839892\n",
      "✅ Best Parameters:\n",
      "  learning_rate: 0.0705498625514075\n",
      "  max_depth: 12\n",
      "  num_leaves: 391\n",
      "  lambda_l1: 0.5492845465383672\n",
      "  lambda_l2: 1.8019515961069805\n",
      "\n",
      "📊 Trials Completed: 15\n",
      "🪓 Trials Pruned:    35\n",
      "🧮 Total Trials:     50\n"
     ]
    },
    {
     "data": {
      "application/vnd.plotly.v1+json": {
       "config": {
        "plotlyServerURL": "https://plot.ly"
       },
       "data": [
        {
         "mode": "markers",
         "name": "Objective Value",
         "type": "scatter",
         "x": [
          0,
          1,
          8,
          11,
          12,
          13,
          18,
          24,
          30,
          31,
          32,
          35,
          40,
          41,
          46
         ],
         "y": [
          0.8381139235422921,
          0.83779613548961,
          0.8289747527078697,
          0.8379012703635484,
          0.8398924872355793,
          0.8345847340356156,
          0.836765528118889,
          0.8323967405164547,
          0.838145576582555,
          0.836145653567473,
          0.8328113251259011,
          0.8302563855903722,
          0.8317365323001562,
          0.8348092186294132,
          0.8360654542021819
         ]
        },
        {
         "mode": "lines",
         "name": "Best Value",
         "type": "scatter",
         "x": [
          0,
          1,
          2,
          3,
          4,
          5,
          6,
          7,
          8,
          9,
          10,
          11,
          12,
          13,
          14,
          15,
          16,
          17,
          18,
          19,
          20,
          21,
          22,
          23,
          24,
          25,
          26,
          27,
          28,
          29,
          30,
          31,
          32,
          33,
          34,
          35,
          36,
          37,
          38,
          39,
          40,
          41,
          42,
          43,
          44,
          45,
          46,
          47,
          48,
          49
         ],
         "y": [
          0.8381139235422921,
          0.8381139235422921,
          0.8381139235422921,
          0.8381139235422921,
          0.8381139235422921,
          0.8381139235422921,
          0.8381139235422921,
          0.8381139235422921,
          0.8381139235422921,
          0.8381139235422921,
          0.8381139235422921,
          0.8381139235422921,
          0.8398924872355793,
          0.8398924872355793,
          0.8398924872355793,
          0.8398924872355793,
          0.8398924872355793,
          0.8398924872355793,
          0.8398924872355793,
          0.8398924872355793,
          0.8398924872355793,
          0.8398924872355793,
          0.8398924872355793,
          0.8398924872355793,
          0.8398924872355793,
          0.8398924872355793,
          0.8398924872355793,
          0.8398924872355793,
          0.8398924872355793,
          0.8398924872355793,
          0.8398924872355793,
          0.8398924872355793,
          0.8398924872355793,
          0.8398924872355793,
          0.8398924872355793,
          0.8398924872355793,
          0.8398924872355793,
          0.8398924872355793,
          0.8398924872355793,
          0.8398924872355793,
          0.8398924872355793,
          0.8398924872355793,
          0.8398924872355793,
          0.8398924872355793,
          0.8398924872355793,
          0.8398924872355793,
          0.8398924872355793,
          0.8398924872355793,
          0.8398924872355793,
          0.8398924872355793
         ]
        },
        {
         "marker": {
          "color": "#cccccc"
         },
         "mode": "markers",
         "name": "Infeasible Trial",
         "showlegend": false,
         "type": "scatter",
         "x": [],
         "y": []
        }
       ],
       "layout": {
        "template": {
         "data": {
          "bar": [
           {
            "error_x": {
             "color": "#2a3f5f"
            },
            "error_y": {
             "color": "#2a3f5f"
            },
            "marker": {
             "line": {
              "color": "#E5ECF6",
              "width": 0.5
             },
             "pattern": {
              "fillmode": "overlay",
              "size": 10,
              "solidity": 0.2
             }
            },
            "type": "bar"
           }
          ],
          "barpolar": [
           {
            "marker": {
             "line": {
              "color": "#E5ECF6",
              "width": 0.5
             },
             "pattern": {
              "fillmode": "overlay",
              "size": 10,
              "solidity": 0.2
             }
            },
            "type": "barpolar"
           }
          ],
          "carpet": [
           {
            "aaxis": {
             "endlinecolor": "#2a3f5f",
             "gridcolor": "white",
             "linecolor": "white",
             "minorgridcolor": "white",
             "startlinecolor": "#2a3f5f"
            },
            "baxis": {
             "endlinecolor": "#2a3f5f",
             "gridcolor": "white",
             "linecolor": "white",
             "minorgridcolor": "white",
             "startlinecolor": "#2a3f5f"
            },
            "type": "carpet"
           }
          ],
          "choropleth": [
           {
            "colorbar": {
             "outlinewidth": 0,
             "ticks": ""
            },
            "type": "choropleth"
           }
          ],
          "contour": [
           {
            "colorbar": {
             "outlinewidth": 0,
             "ticks": ""
            },
            "colorscale": [
             [
              0,
              "#0d0887"
             ],
             [
              0.1111111111111111,
              "#46039f"
             ],
             [
              0.2222222222222222,
              "#7201a8"
             ],
             [
              0.3333333333333333,
              "#9c179e"
             ],
             [
              0.4444444444444444,
              "#bd3786"
             ],
             [
              0.5555555555555556,
              "#d8576b"
             ],
             [
              0.6666666666666666,
              "#ed7953"
             ],
             [
              0.7777777777777778,
              "#fb9f3a"
             ],
             [
              0.8888888888888888,
              "#fdca26"
             ],
             [
              1,
              "#f0f921"
             ]
            ],
            "type": "contour"
           }
          ],
          "contourcarpet": [
           {
            "colorbar": {
             "outlinewidth": 0,
             "ticks": ""
            },
            "type": "contourcarpet"
           }
          ],
          "heatmap": [
           {
            "colorbar": {
             "outlinewidth": 0,
             "ticks": ""
            },
            "colorscale": [
             [
              0,
              "#0d0887"
             ],
             [
              0.1111111111111111,
              "#46039f"
             ],
             [
              0.2222222222222222,
              "#7201a8"
             ],
             [
              0.3333333333333333,
              "#9c179e"
             ],
             [
              0.4444444444444444,
              "#bd3786"
             ],
             [
              0.5555555555555556,
              "#d8576b"
             ],
             [
              0.6666666666666666,
              "#ed7953"
             ],
             [
              0.7777777777777778,
              "#fb9f3a"
             ],
             [
              0.8888888888888888,
              "#fdca26"
             ],
             [
              1,
              "#f0f921"
             ]
            ],
            "type": "heatmap"
           }
          ],
          "heatmapgl": [
           {
            "colorbar": {
             "outlinewidth": 0,
             "ticks": ""
            },
            "colorscale": [
             [
              0,
              "#0d0887"
             ],
             [
              0.1111111111111111,
              "#46039f"
             ],
             [
              0.2222222222222222,
              "#7201a8"
             ],
             [
              0.3333333333333333,
              "#9c179e"
             ],
             [
              0.4444444444444444,
              "#bd3786"
             ],
             [
              0.5555555555555556,
              "#d8576b"
             ],
             [
              0.6666666666666666,
              "#ed7953"
             ],
             [
              0.7777777777777778,
              "#fb9f3a"
             ],
             [
              0.8888888888888888,
              "#fdca26"
             ],
             [
              1,
              "#f0f921"
             ]
            ],
            "type": "heatmapgl"
           }
          ],
          "histogram": [
           {
            "marker": {
             "pattern": {
              "fillmode": "overlay",
              "size": 10,
              "solidity": 0.2
             }
            },
            "type": "histogram"
           }
          ],
          "histogram2d": [
           {
            "colorbar": {
             "outlinewidth": 0,
             "ticks": ""
            },
            "colorscale": [
             [
              0,
              "#0d0887"
             ],
             [
              0.1111111111111111,
              "#46039f"
             ],
             [
              0.2222222222222222,
              "#7201a8"
             ],
             [
              0.3333333333333333,
              "#9c179e"
             ],
             [
              0.4444444444444444,
              "#bd3786"
             ],
             [
              0.5555555555555556,
              "#d8576b"
             ],
             [
              0.6666666666666666,
              "#ed7953"
             ],
             [
              0.7777777777777778,
              "#fb9f3a"
             ],
             [
              0.8888888888888888,
              "#fdca26"
             ],
             [
              1,
              "#f0f921"
             ]
            ],
            "type": "histogram2d"
           }
          ],
          "histogram2dcontour": [
           {
            "colorbar": {
             "outlinewidth": 0,
             "ticks": ""
            },
            "colorscale": [
             [
              0,
              "#0d0887"
             ],
             [
              0.1111111111111111,
              "#46039f"
             ],
             [
              0.2222222222222222,
              "#7201a8"
             ],
             [
              0.3333333333333333,
              "#9c179e"
             ],
             [
              0.4444444444444444,
              "#bd3786"
             ],
             [
              0.5555555555555556,
              "#d8576b"
             ],
             [
              0.6666666666666666,
              "#ed7953"
             ],
             [
              0.7777777777777778,
              "#fb9f3a"
             ],
             [
              0.8888888888888888,
              "#fdca26"
             ],
             [
              1,
              "#f0f921"
             ]
            ],
            "type": "histogram2dcontour"
           }
          ],
          "mesh3d": [
           {
            "colorbar": {
             "outlinewidth": 0,
             "ticks": ""
            },
            "type": "mesh3d"
           }
          ],
          "parcoords": [
           {
            "line": {
             "colorbar": {
              "outlinewidth": 0,
              "ticks": ""
             }
            },
            "type": "parcoords"
           }
          ],
          "pie": [
           {
            "automargin": true,
            "type": "pie"
           }
          ],
          "scatter": [
           {
            "fillpattern": {
             "fillmode": "overlay",
             "size": 10,
             "solidity": 0.2
            },
            "type": "scatter"
           }
          ],
          "scatter3d": [
           {
            "line": {
             "colorbar": {
              "outlinewidth": 0,
              "ticks": ""
             }
            },
            "marker": {
             "colorbar": {
              "outlinewidth": 0,
              "ticks": ""
             }
            },
            "type": "scatter3d"
           }
          ],
          "scattercarpet": [
           {
            "marker": {
             "colorbar": {
              "outlinewidth": 0,
              "ticks": ""
             }
            },
            "type": "scattercarpet"
           }
          ],
          "scattergeo": [
           {
            "marker": {
             "colorbar": {
              "outlinewidth": 0,
              "ticks": ""
             }
            },
            "type": "scattergeo"
           }
          ],
          "scattergl": [
           {
            "marker": {
             "colorbar": {
              "outlinewidth": 0,
              "ticks": ""
             }
            },
            "type": "scattergl"
           }
          ],
          "scattermapbox": [
           {
            "marker": {
             "colorbar": {
              "outlinewidth": 0,
              "ticks": ""
             }
            },
            "type": "scattermapbox"
           }
          ],
          "scatterpolar": [
           {
            "marker": {
             "colorbar": {
              "outlinewidth": 0,
              "ticks": ""
             }
            },
            "type": "scatterpolar"
           }
          ],
          "scatterpolargl": [
           {
            "marker": {
             "colorbar": {
              "outlinewidth": 0,
              "ticks": ""
             }
            },
            "type": "scatterpolargl"
           }
          ],
          "scatterternary": [
           {
            "marker": {
             "colorbar": {
              "outlinewidth": 0,
              "ticks": ""
             }
            },
            "type": "scatterternary"
           }
          ],
          "surface": [
           {
            "colorbar": {
             "outlinewidth": 0,
             "ticks": ""
            },
            "colorscale": [
             [
              0,
              "#0d0887"
             ],
             [
              0.1111111111111111,
              "#46039f"
             ],
             [
              0.2222222222222222,
              "#7201a8"
             ],
             [
              0.3333333333333333,
              "#9c179e"
             ],
             [
              0.4444444444444444,
              "#bd3786"
             ],
             [
              0.5555555555555556,
              "#d8576b"
             ],
             [
              0.6666666666666666,
              "#ed7953"
             ],
             [
              0.7777777777777778,
              "#fb9f3a"
             ],
             [
              0.8888888888888888,
              "#fdca26"
             ],
             [
              1,
              "#f0f921"
             ]
            ],
            "type": "surface"
           }
          ],
          "table": [
           {
            "cells": {
             "fill": {
              "color": "#EBF0F8"
             },
             "line": {
              "color": "white"
             }
            },
            "header": {
             "fill": {
              "color": "#C8D4E3"
             },
             "line": {
              "color": "white"
             }
            },
            "type": "table"
           }
          ]
         },
         "layout": {
          "annotationdefaults": {
           "arrowcolor": "#2a3f5f",
           "arrowhead": 0,
           "arrowwidth": 1
          },
          "autotypenumbers": "strict",
          "coloraxis": {
           "colorbar": {
            "outlinewidth": 0,
            "ticks": ""
           }
          },
          "colorscale": {
           "diverging": [
            [
             0,
             "#8e0152"
            ],
            [
             0.1,
             "#c51b7d"
            ],
            [
             0.2,
             "#de77ae"
            ],
            [
             0.3,
             "#f1b6da"
            ],
            [
             0.4,
             "#fde0ef"
            ],
            [
             0.5,
             "#f7f7f7"
            ],
            [
             0.6,
             "#e6f5d0"
            ],
            [
             0.7,
             "#b8e186"
            ],
            [
             0.8,
             "#7fbc41"
            ],
            [
             0.9,
             "#4d9221"
            ],
            [
             1,
             "#276419"
            ]
           ],
           "sequential": [
            [
             0,
             "#0d0887"
            ],
            [
             0.1111111111111111,
             "#46039f"
            ],
            [
             0.2222222222222222,
             "#7201a8"
            ],
            [
             0.3333333333333333,
             "#9c179e"
            ],
            [
             0.4444444444444444,
             "#bd3786"
            ],
            [
             0.5555555555555556,
             "#d8576b"
            ],
            [
             0.6666666666666666,
             "#ed7953"
            ],
            [
             0.7777777777777778,
             "#fb9f3a"
            ],
            [
             0.8888888888888888,
             "#fdca26"
            ],
            [
             1,
             "#f0f921"
            ]
           ],
           "sequentialminus": [
            [
             0,
             "#0d0887"
            ],
            [
             0.1111111111111111,
             "#46039f"
            ],
            [
             0.2222222222222222,
             "#7201a8"
            ],
            [
             0.3333333333333333,
             "#9c179e"
            ],
            [
             0.4444444444444444,
             "#bd3786"
            ],
            [
             0.5555555555555556,
             "#d8576b"
            ],
            [
             0.6666666666666666,
             "#ed7953"
            ],
            [
             0.7777777777777778,
             "#fb9f3a"
            ],
            [
             0.8888888888888888,
             "#fdca26"
            ],
            [
             1,
             "#f0f921"
            ]
           ]
          },
          "colorway": [
           "#636efa",
           "#EF553B",
           "#00cc96",
           "#ab63fa",
           "#FFA15A",
           "#19d3f3",
           "#FF6692",
           "#B6E880",
           "#FF97FF",
           "#FECB52"
          ],
          "font": {
           "color": "#2a3f5f"
          },
          "geo": {
           "bgcolor": "white",
           "lakecolor": "white",
           "landcolor": "#E5ECF6",
           "showlakes": true,
           "showland": true,
           "subunitcolor": "white"
          },
          "hoverlabel": {
           "align": "left"
          },
          "hovermode": "closest",
          "mapbox": {
           "style": "light"
          },
          "paper_bgcolor": "white",
          "plot_bgcolor": "#E5ECF6",
          "polar": {
           "angularaxis": {
            "gridcolor": "white",
            "linecolor": "white",
            "ticks": ""
           },
           "bgcolor": "#E5ECF6",
           "radialaxis": {
            "gridcolor": "white",
            "linecolor": "white",
            "ticks": ""
           }
          },
          "scene": {
           "xaxis": {
            "backgroundcolor": "#E5ECF6",
            "gridcolor": "white",
            "gridwidth": 2,
            "linecolor": "white",
            "showbackground": true,
            "ticks": "",
            "zerolinecolor": "white"
           },
           "yaxis": {
            "backgroundcolor": "#E5ECF6",
            "gridcolor": "white",
            "gridwidth": 2,
            "linecolor": "white",
            "showbackground": true,
            "ticks": "",
            "zerolinecolor": "white"
           },
           "zaxis": {
            "backgroundcolor": "#E5ECF6",
            "gridcolor": "white",
            "gridwidth": 2,
            "linecolor": "white",
            "showbackground": true,
            "ticks": "",
            "zerolinecolor": "white"
           }
          },
          "shapedefaults": {
           "line": {
            "color": "#2a3f5f"
           }
          },
          "ternary": {
           "aaxis": {
            "gridcolor": "white",
            "linecolor": "white",
            "ticks": ""
           },
           "baxis": {
            "gridcolor": "white",
            "linecolor": "white",
            "ticks": ""
           },
           "bgcolor": "#E5ECF6",
           "caxis": {
            "gridcolor": "white",
            "linecolor": "white",
            "ticks": ""
           }
          },
          "title": {
           "x": 0.05
          },
          "xaxis": {
           "automargin": true,
           "gridcolor": "white",
           "linecolor": "white",
           "ticks": "",
           "title": {
            "standoff": 15
           },
           "zerolinecolor": "white",
           "zerolinewidth": 2
          },
          "yaxis": {
           "automargin": true,
           "gridcolor": "white",
           "linecolor": "white",
           "ticks": "",
           "title": {
            "standoff": 15
           },
           "zerolinecolor": "white",
           "zerolinewidth": 2
          }
         }
        },
        "title": {
         "text": "Optimization History Plot"
        },
        "xaxis": {
         "title": {
          "text": "Trial"
         }
        },
        "yaxis": {
         "title": {
          "text": "Objective Value"
         }
        }
       }
      }
     },
     "metadata": {},
     "output_type": "display_data"
    },
    {
     "data": {
      "application/vnd.plotly.v1+json": {
       "config": {
        "plotlyServerURL": "https://plot.ly"
       },
       "data": [
        {
         "cliponaxis": false,
         "hovertemplate": [
          "max_depth (IntDistribution): 0.00757871965922686<extra></extra>",
          "lambda_l1 (FloatDistribution): 0.010353122412982868<extra></extra>",
          "lambda_l2 (FloatDistribution): 0.014383539403607402<extra></extra>",
          "num_leaves (IntDistribution): 0.015831508610880916<extra></extra>",
          "learning_rate (FloatDistribution): 0.9518531099133021<extra></extra>"
         ],
         "name": "Objective Value",
         "orientation": "h",
         "text": [
          "<0.01",
          "0.01",
          "0.01",
          "0.02",
          "0.95"
         ],
         "textposition": "outside",
         "type": "bar",
         "x": [
          0.00757871965922686,
          0.010353122412982868,
          0.014383539403607402,
          0.015831508610880916,
          0.9518531099133021
         ],
         "y": [
          "max_depth",
          "lambda_l1",
          "lambda_l2",
          "num_leaves",
          "learning_rate"
         ]
        }
       ],
       "layout": {
        "template": {
         "data": {
          "bar": [
           {
            "error_x": {
             "color": "#2a3f5f"
            },
            "error_y": {
             "color": "#2a3f5f"
            },
            "marker": {
             "line": {
              "color": "#E5ECF6",
              "width": 0.5
             },
             "pattern": {
              "fillmode": "overlay",
              "size": 10,
              "solidity": 0.2
             }
            },
            "type": "bar"
           }
          ],
          "barpolar": [
           {
            "marker": {
             "line": {
              "color": "#E5ECF6",
              "width": 0.5
             },
             "pattern": {
              "fillmode": "overlay",
              "size": 10,
              "solidity": 0.2
             }
            },
            "type": "barpolar"
           }
          ],
          "carpet": [
           {
            "aaxis": {
             "endlinecolor": "#2a3f5f",
             "gridcolor": "white",
             "linecolor": "white",
             "minorgridcolor": "white",
             "startlinecolor": "#2a3f5f"
            },
            "baxis": {
             "endlinecolor": "#2a3f5f",
             "gridcolor": "white",
             "linecolor": "white",
             "minorgridcolor": "white",
             "startlinecolor": "#2a3f5f"
            },
            "type": "carpet"
           }
          ],
          "choropleth": [
           {
            "colorbar": {
             "outlinewidth": 0,
             "ticks": ""
            },
            "type": "choropleth"
           }
          ],
          "contour": [
           {
            "colorbar": {
             "outlinewidth": 0,
             "ticks": ""
            },
            "colorscale": [
             [
              0,
              "#0d0887"
             ],
             [
              0.1111111111111111,
              "#46039f"
             ],
             [
              0.2222222222222222,
              "#7201a8"
             ],
             [
              0.3333333333333333,
              "#9c179e"
             ],
             [
              0.4444444444444444,
              "#bd3786"
             ],
             [
              0.5555555555555556,
              "#d8576b"
             ],
             [
              0.6666666666666666,
              "#ed7953"
             ],
             [
              0.7777777777777778,
              "#fb9f3a"
             ],
             [
              0.8888888888888888,
              "#fdca26"
             ],
             [
              1,
              "#f0f921"
             ]
            ],
            "type": "contour"
           }
          ],
          "contourcarpet": [
           {
            "colorbar": {
             "outlinewidth": 0,
             "ticks": ""
            },
            "type": "contourcarpet"
           }
          ],
          "heatmap": [
           {
            "colorbar": {
             "outlinewidth": 0,
             "ticks": ""
            },
            "colorscale": [
             [
              0,
              "#0d0887"
             ],
             [
              0.1111111111111111,
              "#46039f"
             ],
             [
              0.2222222222222222,
              "#7201a8"
             ],
             [
              0.3333333333333333,
              "#9c179e"
             ],
             [
              0.4444444444444444,
              "#bd3786"
             ],
             [
              0.5555555555555556,
              "#d8576b"
             ],
             [
              0.6666666666666666,
              "#ed7953"
             ],
             [
              0.7777777777777778,
              "#fb9f3a"
             ],
             [
              0.8888888888888888,
              "#fdca26"
             ],
             [
              1,
              "#f0f921"
             ]
            ],
            "type": "heatmap"
           }
          ],
          "heatmapgl": [
           {
            "colorbar": {
             "outlinewidth": 0,
             "ticks": ""
            },
            "colorscale": [
             [
              0,
              "#0d0887"
             ],
             [
              0.1111111111111111,
              "#46039f"
             ],
             [
              0.2222222222222222,
              "#7201a8"
             ],
             [
              0.3333333333333333,
              "#9c179e"
             ],
             [
              0.4444444444444444,
              "#bd3786"
             ],
             [
              0.5555555555555556,
              "#d8576b"
             ],
             [
              0.6666666666666666,
              "#ed7953"
             ],
             [
              0.7777777777777778,
              "#fb9f3a"
             ],
             [
              0.8888888888888888,
              "#fdca26"
             ],
             [
              1,
              "#f0f921"
             ]
            ],
            "type": "heatmapgl"
           }
          ],
          "histogram": [
           {
            "marker": {
             "pattern": {
              "fillmode": "overlay",
              "size": 10,
              "solidity": 0.2
             }
            },
            "type": "histogram"
           }
          ],
          "histogram2d": [
           {
            "colorbar": {
             "outlinewidth": 0,
             "ticks": ""
            },
            "colorscale": [
             [
              0,
              "#0d0887"
             ],
             [
              0.1111111111111111,
              "#46039f"
             ],
             [
              0.2222222222222222,
              "#7201a8"
             ],
             [
              0.3333333333333333,
              "#9c179e"
             ],
             [
              0.4444444444444444,
              "#bd3786"
             ],
             [
              0.5555555555555556,
              "#d8576b"
             ],
             [
              0.6666666666666666,
              "#ed7953"
             ],
             [
              0.7777777777777778,
              "#fb9f3a"
             ],
             [
              0.8888888888888888,
              "#fdca26"
             ],
             [
              1,
              "#f0f921"
             ]
            ],
            "type": "histogram2d"
           }
          ],
          "histogram2dcontour": [
           {
            "colorbar": {
             "outlinewidth": 0,
             "ticks": ""
            },
            "colorscale": [
             [
              0,
              "#0d0887"
             ],
             [
              0.1111111111111111,
              "#46039f"
             ],
             [
              0.2222222222222222,
              "#7201a8"
             ],
             [
              0.3333333333333333,
              "#9c179e"
             ],
             [
              0.4444444444444444,
              "#bd3786"
             ],
             [
              0.5555555555555556,
              "#d8576b"
             ],
             [
              0.6666666666666666,
              "#ed7953"
             ],
             [
              0.7777777777777778,
              "#fb9f3a"
             ],
             [
              0.8888888888888888,
              "#fdca26"
             ],
             [
              1,
              "#f0f921"
             ]
            ],
            "type": "histogram2dcontour"
           }
          ],
          "mesh3d": [
           {
            "colorbar": {
             "outlinewidth": 0,
             "ticks": ""
            },
            "type": "mesh3d"
           }
          ],
          "parcoords": [
           {
            "line": {
             "colorbar": {
              "outlinewidth": 0,
              "ticks": ""
             }
            },
            "type": "parcoords"
           }
          ],
          "pie": [
           {
            "automargin": true,
            "type": "pie"
           }
          ],
          "scatter": [
           {
            "fillpattern": {
             "fillmode": "overlay",
             "size": 10,
             "solidity": 0.2
            },
            "type": "scatter"
           }
          ],
          "scatter3d": [
           {
            "line": {
             "colorbar": {
              "outlinewidth": 0,
              "ticks": ""
             }
            },
            "marker": {
             "colorbar": {
              "outlinewidth": 0,
              "ticks": ""
             }
            },
            "type": "scatter3d"
           }
          ],
          "scattercarpet": [
           {
            "marker": {
             "colorbar": {
              "outlinewidth": 0,
              "ticks": ""
             }
            },
            "type": "scattercarpet"
           }
          ],
          "scattergeo": [
           {
            "marker": {
             "colorbar": {
              "outlinewidth": 0,
              "ticks": ""
             }
            },
            "type": "scattergeo"
           }
          ],
          "scattergl": [
           {
            "marker": {
             "colorbar": {
              "outlinewidth": 0,
              "ticks": ""
             }
            },
            "type": "scattergl"
           }
          ],
          "scattermapbox": [
           {
            "marker": {
             "colorbar": {
              "outlinewidth": 0,
              "ticks": ""
             }
            },
            "type": "scattermapbox"
           }
          ],
          "scatterpolar": [
           {
            "marker": {
             "colorbar": {
              "outlinewidth": 0,
              "ticks": ""
             }
            },
            "type": "scatterpolar"
           }
          ],
          "scatterpolargl": [
           {
            "marker": {
             "colorbar": {
              "outlinewidth": 0,
              "ticks": ""
             }
            },
            "type": "scatterpolargl"
           }
          ],
          "scatterternary": [
           {
            "marker": {
             "colorbar": {
              "outlinewidth": 0,
              "ticks": ""
             }
            },
            "type": "scatterternary"
           }
          ],
          "surface": [
           {
            "colorbar": {
             "outlinewidth": 0,
             "ticks": ""
            },
            "colorscale": [
             [
              0,
              "#0d0887"
             ],
             [
              0.1111111111111111,
              "#46039f"
             ],
             [
              0.2222222222222222,
              "#7201a8"
             ],
             [
              0.3333333333333333,
              "#9c179e"
             ],
             [
              0.4444444444444444,
              "#bd3786"
             ],
             [
              0.5555555555555556,
              "#d8576b"
             ],
             [
              0.6666666666666666,
              "#ed7953"
             ],
             [
              0.7777777777777778,
              "#fb9f3a"
             ],
             [
              0.8888888888888888,
              "#fdca26"
             ],
             [
              1,
              "#f0f921"
             ]
            ],
            "type": "surface"
           }
          ],
          "table": [
           {
            "cells": {
             "fill": {
              "color": "#EBF0F8"
             },
             "line": {
              "color": "white"
             }
            },
            "header": {
             "fill": {
              "color": "#C8D4E3"
             },
             "line": {
              "color": "white"
             }
            },
            "type": "table"
           }
          ]
         },
         "layout": {
          "annotationdefaults": {
           "arrowcolor": "#2a3f5f",
           "arrowhead": 0,
           "arrowwidth": 1
          },
          "autotypenumbers": "strict",
          "coloraxis": {
           "colorbar": {
            "outlinewidth": 0,
            "ticks": ""
           }
          },
          "colorscale": {
           "diverging": [
            [
             0,
             "#8e0152"
            ],
            [
             0.1,
             "#c51b7d"
            ],
            [
             0.2,
             "#de77ae"
            ],
            [
             0.3,
             "#f1b6da"
            ],
            [
             0.4,
             "#fde0ef"
            ],
            [
             0.5,
             "#f7f7f7"
            ],
            [
             0.6,
             "#e6f5d0"
            ],
            [
             0.7,
             "#b8e186"
            ],
            [
             0.8,
             "#7fbc41"
            ],
            [
             0.9,
             "#4d9221"
            ],
            [
             1,
             "#276419"
            ]
           ],
           "sequential": [
            [
             0,
             "#0d0887"
            ],
            [
             0.1111111111111111,
             "#46039f"
            ],
            [
             0.2222222222222222,
             "#7201a8"
            ],
            [
             0.3333333333333333,
             "#9c179e"
            ],
            [
             0.4444444444444444,
             "#bd3786"
            ],
            [
             0.5555555555555556,
             "#d8576b"
            ],
            [
             0.6666666666666666,
             "#ed7953"
            ],
            [
             0.7777777777777778,
             "#fb9f3a"
            ],
            [
             0.8888888888888888,
             "#fdca26"
            ],
            [
             1,
             "#f0f921"
            ]
           ],
           "sequentialminus": [
            [
             0,
             "#0d0887"
            ],
            [
             0.1111111111111111,
             "#46039f"
            ],
            [
             0.2222222222222222,
             "#7201a8"
            ],
            [
             0.3333333333333333,
             "#9c179e"
            ],
            [
             0.4444444444444444,
             "#bd3786"
            ],
            [
             0.5555555555555556,
             "#d8576b"
            ],
            [
             0.6666666666666666,
             "#ed7953"
            ],
            [
             0.7777777777777778,
             "#fb9f3a"
            ],
            [
             0.8888888888888888,
             "#fdca26"
            ],
            [
             1,
             "#f0f921"
            ]
           ]
          },
          "colorway": [
           "#636efa",
           "#EF553B",
           "#00cc96",
           "#ab63fa",
           "#FFA15A",
           "#19d3f3",
           "#FF6692",
           "#B6E880",
           "#FF97FF",
           "#FECB52"
          ],
          "font": {
           "color": "#2a3f5f"
          },
          "geo": {
           "bgcolor": "white",
           "lakecolor": "white",
           "landcolor": "#E5ECF6",
           "showlakes": true,
           "showland": true,
           "subunitcolor": "white"
          },
          "hoverlabel": {
           "align": "left"
          },
          "hovermode": "closest",
          "mapbox": {
           "style": "light"
          },
          "paper_bgcolor": "white",
          "plot_bgcolor": "#E5ECF6",
          "polar": {
           "angularaxis": {
            "gridcolor": "white",
            "linecolor": "white",
            "ticks": ""
           },
           "bgcolor": "#E5ECF6",
           "radialaxis": {
            "gridcolor": "white",
            "linecolor": "white",
            "ticks": ""
           }
          },
          "scene": {
           "xaxis": {
            "backgroundcolor": "#E5ECF6",
            "gridcolor": "white",
            "gridwidth": 2,
            "linecolor": "white",
            "showbackground": true,
            "ticks": "",
            "zerolinecolor": "white"
           },
           "yaxis": {
            "backgroundcolor": "#E5ECF6",
            "gridcolor": "white",
            "gridwidth": 2,
            "linecolor": "white",
            "showbackground": true,
            "ticks": "",
            "zerolinecolor": "white"
           },
           "zaxis": {
            "backgroundcolor": "#E5ECF6",
            "gridcolor": "white",
            "gridwidth": 2,
            "linecolor": "white",
            "showbackground": true,
            "ticks": "",
            "zerolinecolor": "white"
           }
          },
          "shapedefaults": {
           "line": {
            "color": "#2a3f5f"
           }
          },
          "ternary": {
           "aaxis": {
            "gridcolor": "white",
            "linecolor": "white",
            "ticks": ""
           },
           "baxis": {
            "gridcolor": "white",
            "linecolor": "white",
            "ticks": ""
           },
           "bgcolor": "#E5ECF6",
           "caxis": {
            "gridcolor": "white",
            "linecolor": "white",
            "ticks": ""
           }
          },
          "title": {
           "x": 0.05
          },
          "xaxis": {
           "automargin": true,
           "gridcolor": "white",
           "linecolor": "white",
           "ticks": "",
           "title": {
            "standoff": 15
           },
           "zerolinecolor": "white",
           "zerolinewidth": 2
          },
          "yaxis": {
           "automargin": true,
           "gridcolor": "white",
           "linecolor": "white",
           "ticks": "",
           "title": {
            "standoff": 15
           },
           "zerolinecolor": "white",
           "zerolinewidth": 2
          }
         }
        },
        "title": {
         "text": "Hyperparameter Importances"
        },
        "xaxis": {
         "title": {
          "text": "Hyperparameter Importance"
         }
        },
        "yaxis": {
         "title": {
          "text": "Hyperparameter"
         }
        }
       }
      }
     },
     "metadata": {},
     "output_type": "display_data"
    },
    {
     "data": {
      "application/vnd.plotly.v1+json": {
       "config": {
        "plotlyServerURL": "https://plot.ly"
       },
       "data": [
        {
         "marker": {
          "color": [
           0,
           1,
           8,
           11,
           12,
           13,
           18,
           24,
           30,
           31,
           32,
           35,
           40,
           41,
           46
          ],
          "colorbar": {
           "title": {
            "text": "Trial"
           },
           "x": 1,
           "xpad": 40
          },
          "colorscale": [
           [
            0,
            "rgb(247,251,255)"
           ],
           [
            0.125,
            "rgb(222,235,247)"
           ],
           [
            0.25,
            "rgb(198,219,239)"
           ],
           [
            0.375,
            "rgb(158,202,225)"
           ],
           [
            0.5,
            "rgb(107,174,214)"
           ],
           [
            0.625,
            "rgb(66,146,198)"
           ],
           [
            0.75,
            "rgb(33,113,181)"
           ],
           [
            0.875,
            "rgb(8,81,156)"
           ],
           [
            1,
            "rgb(8,48,107)"
           ]
          ],
          "line": {
           "color": "Grey",
           "width": 0.5
          },
          "showscale": true
         },
         "mode": "markers",
         "name": "Feasible Trial",
         "showlegend": false,
         "type": "scatter",
         "x": [
          0.5520777898545168,
          0.31161250537496504,
          0.43675993488775977,
          0.5531159784791508,
          0.5492845465383672,
          0.5133478925277033,
          0.5278207549852605,
          0.5304760230064968,
          0.31118584736756427,
          0.30407772719155607,
          0.3444500453480467,
          0.43874021096028093,
          0.5450660917144292,
          0.3051196160554705,
          0.42086313156808924
         ],
         "xaxis": "x",
         "y": [
          0.8381139235422921,
          0.83779613548961,
          0.8289747527078697,
          0.8379012703635484,
          0.8398924872355793,
          0.8345847340356156,
          0.836765528118889,
          0.8323967405164547,
          0.838145576582555,
          0.836145653567473,
          0.8328113251259011,
          0.8302563855903722,
          0.8317365323001562,
          0.8348092186294132,
          0.8360654542021819
         ],
         "yaxis": "y"
        },
        {
         "marker": {
          "color": [
           0,
           1,
           8,
           11,
           12,
           13,
           18,
           24,
           30,
           31,
           32,
           35,
           40,
           41,
           46
          ],
          "colorbar": {
           "title": {
            "text": "Trial"
           },
           "x": 1,
           "xpad": 40
          },
          "colorscale": [
           [
            0,
            "rgb(247,251,255)"
           ],
           [
            0.125,
            "rgb(222,235,247)"
           ],
           [
            0.25,
            "rgb(198,219,239)"
           ],
           [
            0.375,
            "rgb(158,202,225)"
           ],
           [
            0.5,
            "rgb(107,174,214)"
           ],
           [
            0.625,
            "rgb(66,146,198)"
           ],
           [
            0.75,
            "rgb(33,113,181)"
           ],
           [
            0.875,
            "rgb(8,81,156)"
           ],
           [
            1,
            "rgb(8,48,107)"
           ]
          ],
          "line": {
           "color": "Grey",
           "width": 0.5
          },
          "showscale": false
         },
         "mode": "markers",
         "name": "Feasible Trial",
         "showlegend": false,
         "type": "scatter",
         "x": [
          1.9910319999995094,
          2.462156114396142,
          2.271624264214413,
          1.7500440356876412,
          1.8019515961069805,
          2.008010991171934,
          2.1641922418769175,
          1.872046902975196,
          2.3781241165945834,
          2.4951117817503965,
          2.383928368290367,
          2.063699986546264,
          2.3334922514190612,
          2.543143987728795,
          1.9318798358388247
         ],
         "xaxis": "x2",
         "y": [
          0.8381139235422921,
          0.83779613548961,
          0.8289747527078697,
          0.8379012703635484,
          0.8398924872355793,
          0.8345847340356156,
          0.836765528118889,
          0.8323967405164547,
          0.838145576582555,
          0.836145653567473,
          0.8328113251259011,
          0.8302563855903722,
          0.8317365323001562,
          0.8348092186294132,
          0.8360654542021819
         ],
         "yaxis": "y2"
        },
        {
         "marker": {
          "color": [
           0,
           1,
           8,
           11,
           12,
           13,
           18,
           24,
           30,
           31,
           32,
           35,
           40,
           41,
           46
          ],
          "colorbar": {
           "title": {
            "text": "Trial"
           },
           "x": 1,
           "xpad": 40
          },
          "colorscale": [
           [
            0,
            "rgb(247,251,255)"
           ],
           [
            0.125,
            "rgb(222,235,247)"
           ],
           [
            0.25,
            "rgb(198,219,239)"
           ],
           [
            0.375,
            "rgb(158,202,225)"
           ],
           [
            0.5,
            "rgb(107,174,214)"
           ],
           [
            0.625,
            "rgb(66,146,198)"
           ],
           [
            0.75,
            "rgb(33,113,181)"
           ],
           [
            0.875,
            "rgb(8,81,156)"
           ],
           [
            1,
            "rgb(8,48,107)"
           ]
          ],
          "line": {
           "color": "Grey",
           "width": 0.5
          },
          "showscale": false
         },
         "mode": "markers",
         "name": "Feasible Trial",
         "showlegend": false,
         "type": "scatter",
         "x": [
          0.02649374238445758,
          0.04870546817630842,
          0.2740747128836308,
          0.04245023734440697,
          0.0705498625514075,
          0.1415071146506423,
          0.11432121396998257,
          0.19137674283575276,
          0.106406157315944,
          0.1018857987249188,
          0.16718727314969067,
          0.29446674909752246,
          0.22161922029883868,
          0.13710825195840184,
          0.11907450750457103
         ],
         "xaxis": "x3",
         "y": [
          0.8381139235422921,
          0.83779613548961,
          0.8289747527078697,
          0.8379012703635484,
          0.8398924872355793,
          0.8345847340356156,
          0.836765528118889,
          0.8323967405164547,
          0.838145576582555,
          0.836145653567473,
          0.8328113251259011,
          0.8302563855903722,
          0.8317365323001562,
          0.8348092186294132,
          0.8360654542021819
         ],
         "yaxis": "y3"
        },
        {
         "marker": {
          "color": [
           0,
           1,
           8,
           11,
           12,
           13,
           18,
           24,
           30,
           31,
           32,
           35,
           40,
           41,
           46
          ],
          "colorbar": {
           "title": {
            "text": "Trial"
           },
           "x": 1,
           "xpad": 40
          },
          "colorscale": [
           [
            0,
            "rgb(247,251,255)"
           ],
           [
            0.125,
            "rgb(222,235,247)"
           ],
           [
            0.25,
            "rgb(198,219,239)"
           ],
           [
            0.375,
            "rgb(158,202,225)"
           ],
           [
            0.5,
            "rgb(107,174,214)"
           ],
           [
            0.625,
            "rgb(66,146,198)"
           ],
           [
            0.75,
            "rgb(33,113,181)"
           ],
           [
            0.875,
            "rgb(8,81,156)"
           ],
           [
            1,
            "rgb(8,48,107)"
           ]
          ],
          "line": {
           "color": "Grey",
           "width": 0.5
          },
          "showscale": false
         },
         "mode": "markers",
         "name": "Feasible Trial",
         "showlegend": false,
         "type": "scatter",
         "x": [
          12,
          12,
          11,
          12,
          12,
          13,
          10,
          12,
          12,
          12,
          11,
          11,
          13,
          12,
          11
         ],
         "xaxis": "x4",
         "y": [
          0.8381139235422921,
          0.83779613548961,
          0.8289747527078697,
          0.8379012703635484,
          0.8398924872355793,
          0.8345847340356156,
          0.836765528118889,
          0.8323967405164547,
          0.838145576582555,
          0.836145653567473,
          0.8328113251259011,
          0.8302563855903722,
          0.8317365323001562,
          0.8348092186294132,
          0.8360654542021819
         ],
         "yaxis": "y4"
        },
        {
         "marker": {
          "color": [
           0,
           1,
           8,
           11,
           12,
           13,
           18,
           24,
           30,
           31,
           32,
           35,
           40,
           41,
           46
          ],
          "colorbar": {
           "title": {
            "text": "Trial"
           },
           "x": 1,
           "xpad": 40
          },
          "colorscale": [
           [
            0,
            "rgb(247,251,255)"
           ],
           [
            0.125,
            "rgb(222,235,247)"
           ],
           [
            0.25,
            "rgb(198,219,239)"
           ],
           [
            0.375,
            "rgb(158,202,225)"
           ],
           [
            0.5,
            "rgb(107,174,214)"
           ],
           [
            0.625,
            "rgb(66,146,198)"
           ],
           [
            0.75,
            "rgb(33,113,181)"
           ],
           [
            0.875,
            "rgb(8,81,156)"
           ],
           [
            1,
            "rgb(8,48,107)"
           ]
          ],
          "line": {
           "color": "Grey",
           "width": 0.5
          },
          "showscale": false
         },
         "mode": "markers",
         "name": "Feasible Trial",
         "showlegend": false,
         "type": "scatter",
         "x": [
          375,
          448,
          490,
          402,
          391,
          550,
          650,
          532,
          518,
          519,
          579,
          429,
          395,
          422,
          458
         ],
         "xaxis": "x5",
         "y": [
          0.8381139235422921,
          0.83779613548961,
          0.8289747527078697,
          0.8379012703635484,
          0.8398924872355793,
          0.8345847340356156,
          0.836765528118889,
          0.8323967405164547,
          0.838145576582555,
          0.836145653567473,
          0.8328113251259011,
          0.8302563855903722,
          0.8317365323001562,
          0.8348092186294132,
          0.8360654542021819
         ],
         "yaxis": "y5"
        }
       ],
       "layout": {
        "template": {
         "data": {
          "bar": [
           {
            "error_x": {
             "color": "#2a3f5f"
            },
            "error_y": {
             "color": "#2a3f5f"
            },
            "marker": {
             "line": {
              "color": "#E5ECF6",
              "width": 0.5
             },
             "pattern": {
              "fillmode": "overlay",
              "size": 10,
              "solidity": 0.2
             }
            },
            "type": "bar"
           }
          ],
          "barpolar": [
           {
            "marker": {
             "line": {
              "color": "#E5ECF6",
              "width": 0.5
             },
             "pattern": {
              "fillmode": "overlay",
              "size": 10,
              "solidity": 0.2
             }
            },
            "type": "barpolar"
           }
          ],
          "carpet": [
           {
            "aaxis": {
             "endlinecolor": "#2a3f5f",
             "gridcolor": "white",
             "linecolor": "white",
             "minorgridcolor": "white",
             "startlinecolor": "#2a3f5f"
            },
            "baxis": {
             "endlinecolor": "#2a3f5f",
             "gridcolor": "white",
             "linecolor": "white",
             "minorgridcolor": "white",
             "startlinecolor": "#2a3f5f"
            },
            "type": "carpet"
           }
          ],
          "choropleth": [
           {
            "colorbar": {
             "outlinewidth": 0,
             "ticks": ""
            },
            "type": "choropleth"
           }
          ],
          "contour": [
           {
            "colorbar": {
             "outlinewidth": 0,
             "ticks": ""
            },
            "colorscale": [
             [
              0,
              "#0d0887"
             ],
             [
              0.1111111111111111,
              "#46039f"
             ],
             [
              0.2222222222222222,
              "#7201a8"
             ],
             [
              0.3333333333333333,
              "#9c179e"
             ],
             [
              0.4444444444444444,
              "#bd3786"
             ],
             [
              0.5555555555555556,
              "#d8576b"
             ],
             [
              0.6666666666666666,
              "#ed7953"
             ],
             [
              0.7777777777777778,
              "#fb9f3a"
             ],
             [
              0.8888888888888888,
              "#fdca26"
             ],
             [
              1,
              "#f0f921"
             ]
            ],
            "type": "contour"
           }
          ],
          "contourcarpet": [
           {
            "colorbar": {
             "outlinewidth": 0,
             "ticks": ""
            },
            "type": "contourcarpet"
           }
          ],
          "heatmap": [
           {
            "colorbar": {
             "outlinewidth": 0,
             "ticks": ""
            },
            "colorscale": [
             [
              0,
              "#0d0887"
             ],
             [
              0.1111111111111111,
              "#46039f"
             ],
             [
              0.2222222222222222,
              "#7201a8"
             ],
             [
              0.3333333333333333,
              "#9c179e"
             ],
             [
              0.4444444444444444,
              "#bd3786"
             ],
             [
              0.5555555555555556,
              "#d8576b"
             ],
             [
              0.6666666666666666,
              "#ed7953"
             ],
             [
              0.7777777777777778,
              "#fb9f3a"
             ],
             [
              0.8888888888888888,
              "#fdca26"
             ],
             [
              1,
              "#f0f921"
             ]
            ],
            "type": "heatmap"
           }
          ],
          "heatmapgl": [
           {
            "colorbar": {
             "outlinewidth": 0,
             "ticks": ""
            },
            "colorscale": [
             [
              0,
              "#0d0887"
             ],
             [
              0.1111111111111111,
              "#46039f"
             ],
             [
              0.2222222222222222,
              "#7201a8"
             ],
             [
              0.3333333333333333,
              "#9c179e"
             ],
             [
              0.4444444444444444,
              "#bd3786"
             ],
             [
              0.5555555555555556,
              "#d8576b"
             ],
             [
              0.6666666666666666,
              "#ed7953"
             ],
             [
              0.7777777777777778,
              "#fb9f3a"
             ],
             [
              0.8888888888888888,
              "#fdca26"
             ],
             [
              1,
              "#f0f921"
             ]
            ],
            "type": "heatmapgl"
           }
          ],
          "histogram": [
           {
            "marker": {
             "pattern": {
              "fillmode": "overlay",
              "size": 10,
              "solidity": 0.2
             }
            },
            "type": "histogram"
           }
          ],
          "histogram2d": [
           {
            "colorbar": {
             "outlinewidth": 0,
             "ticks": ""
            },
            "colorscale": [
             [
              0,
              "#0d0887"
             ],
             [
              0.1111111111111111,
              "#46039f"
             ],
             [
              0.2222222222222222,
              "#7201a8"
             ],
             [
              0.3333333333333333,
              "#9c179e"
             ],
             [
              0.4444444444444444,
              "#bd3786"
             ],
             [
              0.5555555555555556,
              "#d8576b"
             ],
             [
              0.6666666666666666,
              "#ed7953"
             ],
             [
              0.7777777777777778,
              "#fb9f3a"
             ],
             [
              0.8888888888888888,
              "#fdca26"
             ],
             [
              1,
              "#f0f921"
             ]
            ],
            "type": "histogram2d"
           }
          ],
          "histogram2dcontour": [
           {
            "colorbar": {
             "outlinewidth": 0,
             "ticks": ""
            },
            "colorscale": [
             [
              0,
              "#0d0887"
             ],
             [
              0.1111111111111111,
              "#46039f"
             ],
             [
              0.2222222222222222,
              "#7201a8"
             ],
             [
              0.3333333333333333,
              "#9c179e"
             ],
             [
              0.4444444444444444,
              "#bd3786"
             ],
             [
              0.5555555555555556,
              "#d8576b"
             ],
             [
              0.6666666666666666,
              "#ed7953"
             ],
             [
              0.7777777777777778,
              "#fb9f3a"
             ],
             [
              0.8888888888888888,
              "#fdca26"
             ],
             [
              1,
              "#f0f921"
             ]
            ],
            "type": "histogram2dcontour"
           }
          ],
          "mesh3d": [
           {
            "colorbar": {
             "outlinewidth": 0,
             "ticks": ""
            },
            "type": "mesh3d"
           }
          ],
          "parcoords": [
           {
            "line": {
             "colorbar": {
              "outlinewidth": 0,
              "ticks": ""
             }
            },
            "type": "parcoords"
           }
          ],
          "pie": [
           {
            "automargin": true,
            "type": "pie"
           }
          ],
          "scatter": [
           {
            "fillpattern": {
             "fillmode": "overlay",
             "size": 10,
             "solidity": 0.2
            },
            "type": "scatter"
           }
          ],
          "scatter3d": [
           {
            "line": {
             "colorbar": {
              "outlinewidth": 0,
              "ticks": ""
             }
            },
            "marker": {
             "colorbar": {
              "outlinewidth": 0,
              "ticks": ""
             }
            },
            "type": "scatter3d"
           }
          ],
          "scattercarpet": [
           {
            "marker": {
             "colorbar": {
              "outlinewidth": 0,
              "ticks": ""
             }
            },
            "type": "scattercarpet"
           }
          ],
          "scattergeo": [
           {
            "marker": {
             "colorbar": {
              "outlinewidth": 0,
              "ticks": ""
             }
            },
            "type": "scattergeo"
           }
          ],
          "scattergl": [
           {
            "marker": {
             "colorbar": {
              "outlinewidth": 0,
              "ticks": ""
             }
            },
            "type": "scattergl"
           }
          ],
          "scattermapbox": [
           {
            "marker": {
             "colorbar": {
              "outlinewidth": 0,
              "ticks": ""
             }
            },
            "type": "scattermapbox"
           }
          ],
          "scatterpolar": [
           {
            "marker": {
             "colorbar": {
              "outlinewidth": 0,
              "ticks": ""
             }
            },
            "type": "scatterpolar"
           }
          ],
          "scatterpolargl": [
           {
            "marker": {
             "colorbar": {
              "outlinewidth": 0,
              "ticks": ""
             }
            },
            "type": "scatterpolargl"
           }
          ],
          "scatterternary": [
           {
            "marker": {
             "colorbar": {
              "outlinewidth": 0,
              "ticks": ""
             }
            },
            "type": "scatterternary"
           }
          ],
          "surface": [
           {
            "colorbar": {
             "outlinewidth": 0,
             "ticks": ""
            },
            "colorscale": [
             [
              0,
              "#0d0887"
             ],
             [
              0.1111111111111111,
              "#46039f"
             ],
             [
              0.2222222222222222,
              "#7201a8"
             ],
             [
              0.3333333333333333,
              "#9c179e"
             ],
             [
              0.4444444444444444,
              "#bd3786"
             ],
             [
              0.5555555555555556,
              "#d8576b"
             ],
             [
              0.6666666666666666,
              "#ed7953"
             ],
             [
              0.7777777777777778,
              "#fb9f3a"
             ],
             [
              0.8888888888888888,
              "#fdca26"
             ],
             [
              1,
              "#f0f921"
             ]
            ],
            "type": "surface"
           }
          ],
          "table": [
           {
            "cells": {
             "fill": {
              "color": "#EBF0F8"
             },
             "line": {
              "color": "white"
             }
            },
            "header": {
             "fill": {
              "color": "#C8D4E3"
             },
             "line": {
              "color": "white"
             }
            },
            "type": "table"
           }
          ]
         },
         "layout": {
          "annotationdefaults": {
           "arrowcolor": "#2a3f5f",
           "arrowhead": 0,
           "arrowwidth": 1
          },
          "autotypenumbers": "strict",
          "coloraxis": {
           "colorbar": {
            "outlinewidth": 0,
            "ticks": ""
           }
          },
          "colorscale": {
           "diverging": [
            [
             0,
             "#8e0152"
            ],
            [
             0.1,
             "#c51b7d"
            ],
            [
             0.2,
             "#de77ae"
            ],
            [
             0.3,
             "#f1b6da"
            ],
            [
             0.4,
             "#fde0ef"
            ],
            [
             0.5,
             "#f7f7f7"
            ],
            [
             0.6,
             "#e6f5d0"
            ],
            [
             0.7,
             "#b8e186"
            ],
            [
             0.8,
             "#7fbc41"
            ],
            [
             0.9,
             "#4d9221"
            ],
            [
             1,
             "#276419"
            ]
           ],
           "sequential": [
            [
             0,
             "#0d0887"
            ],
            [
             0.1111111111111111,
             "#46039f"
            ],
            [
             0.2222222222222222,
             "#7201a8"
            ],
            [
             0.3333333333333333,
             "#9c179e"
            ],
            [
             0.4444444444444444,
             "#bd3786"
            ],
            [
             0.5555555555555556,
             "#d8576b"
            ],
            [
             0.6666666666666666,
             "#ed7953"
            ],
            [
             0.7777777777777778,
             "#fb9f3a"
            ],
            [
             0.8888888888888888,
             "#fdca26"
            ],
            [
             1,
             "#f0f921"
            ]
           ],
           "sequentialminus": [
            [
             0,
             "#0d0887"
            ],
            [
             0.1111111111111111,
             "#46039f"
            ],
            [
             0.2222222222222222,
             "#7201a8"
            ],
            [
             0.3333333333333333,
             "#9c179e"
            ],
            [
             0.4444444444444444,
             "#bd3786"
            ],
            [
             0.5555555555555556,
             "#d8576b"
            ],
            [
             0.6666666666666666,
             "#ed7953"
            ],
            [
             0.7777777777777778,
             "#fb9f3a"
            ],
            [
             0.8888888888888888,
             "#fdca26"
            ],
            [
             1,
             "#f0f921"
            ]
           ]
          },
          "colorway": [
           "#636efa",
           "#EF553B",
           "#00cc96",
           "#ab63fa",
           "#FFA15A",
           "#19d3f3",
           "#FF6692",
           "#B6E880",
           "#FF97FF",
           "#FECB52"
          ],
          "font": {
           "color": "#2a3f5f"
          },
          "geo": {
           "bgcolor": "white",
           "lakecolor": "white",
           "landcolor": "#E5ECF6",
           "showlakes": true,
           "showland": true,
           "subunitcolor": "white"
          },
          "hoverlabel": {
           "align": "left"
          },
          "hovermode": "closest",
          "mapbox": {
           "style": "light"
          },
          "paper_bgcolor": "white",
          "plot_bgcolor": "#E5ECF6",
          "polar": {
           "angularaxis": {
            "gridcolor": "white",
            "linecolor": "white",
            "ticks": ""
           },
           "bgcolor": "#E5ECF6",
           "radialaxis": {
            "gridcolor": "white",
            "linecolor": "white",
            "ticks": ""
           }
          },
          "scene": {
           "xaxis": {
            "backgroundcolor": "#E5ECF6",
            "gridcolor": "white",
            "gridwidth": 2,
            "linecolor": "white",
            "showbackground": true,
            "ticks": "",
            "zerolinecolor": "white"
           },
           "yaxis": {
            "backgroundcolor": "#E5ECF6",
            "gridcolor": "white",
            "gridwidth": 2,
            "linecolor": "white",
            "showbackground": true,
            "ticks": "",
            "zerolinecolor": "white"
           },
           "zaxis": {
            "backgroundcolor": "#E5ECF6",
            "gridcolor": "white",
            "gridwidth": 2,
            "linecolor": "white",
            "showbackground": true,
            "ticks": "",
            "zerolinecolor": "white"
           }
          },
          "shapedefaults": {
           "line": {
            "color": "#2a3f5f"
           }
          },
          "ternary": {
           "aaxis": {
            "gridcolor": "white",
            "linecolor": "white",
            "ticks": ""
           },
           "baxis": {
            "gridcolor": "white",
            "linecolor": "white",
            "ticks": ""
           },
           "bgcolor": "#E5ECF6",
           "caxis": {
            "gridcolor": "white",
            "linecolor": "white",
            "ticks": ""
           }
          },
          "title": {
           "x": 0.05
          },
          "xaxis": {
           "automargin": true,
           "gridcolor": "white",
           "linecolor": "white",
           "ticks": "",
           "title": {
            "standoff": 15
           },
           "zerolinecolor": "white",
           "zerolinewidth": 2
          },
          "yaxis": {
           "automargin": true,
           "gridcolor": "white",
           "linecolor": "white",
           "ticks": "",
           "title": {
            "standoff": 15
           },
           "zerolinecolor": "white",
           "zerolinewidth": 2
          }
         }
        },
        "title": {
         "text": "Slice Plot"
        },
        "width": 1500,
        "xaxis": {
         "anchor": "y",
         "domain": [
          0,
          0.16799999999999998
         ],
         "title": {
          "text": "lambda_l1"
         }
        },
        "xaxis2": {
         "anchor": "y2",
         "domain": [
          0.208,
          0.376
         ],
         "title": {
          "text": "lambda_l2"
         }
        },
        "xaxis3": {
         "anchor": "y3",
         "domain": [
          0.416,
          0.584
         ],
         "title": {
          "text": "learning_rate"
         },
         "type": "log"
        },
        "xaxis4": {
         "anchor": "y4",
         "domain": [
          0.624,
          0.792
         ],
         "title": {
          "text": "max_depth"
         }
        },
        "xaxis5": {
         "anchor": "y5",
         "domain": [
          0.832,
          1
         ],
         "title": {
          "text": "num_leaves"
         }
        },
        "yaxis": {
         "anchor": "x",
         "domain": [
          0,
          1
         ],
         "title": {
          "text": "Objective Value"
         }
        },
        "yaxis2": {
         "anchor": "x2",
         "domain": [
          0,
          1
         ],
         "matches": "y",
         "showticklabels": false
        },
        "yaxis3": {
         "anchor": "x3",
         "domain": [
          0,
          1
         ],
         "matches": "y",
         "showticklabels": false
        },
        "yaxis4": {
         "anchor": "x4",
         "domain": [
          0,
          1
         ],
         "matches": "y",
         "showticklabels": false
        },
        "yaxis5": {
         "anchor": "x5",
         "domain": [
          0,
          1
         ],
         "matches": "y",
         "showticklabels": false
        }
       }
      }
     },
     "metadata": {},
     "output_type": "display_data"
    }
   ],
   "source": [
    "import optuna.visualization as vis\n",
    "\n",
    "# 1. Best trial summary\n",
    "best = lightgbm_study2.best_trial\n",
    "print(f\"✅ Best AUC: {best.value:.6f}\")\n",
    "print(\"✅ Best Parameters:\")\n",
    "for k, v in best.params.items():\n",
    "    print(f\"  {k}: {v}\")\n",
    "\n",
    "# 2. Trial counts\n",
    "completed = sum(t.state == optuna.trial.TrialState.COMPLETE for t in lightgbm_study2.trials)\n",
    "pruned = sum(t.state == optuna.trial.TrialState.PRUNED for t in lightgbm_study2.trials)\n",
    "print(f\"\\nTrials Completed: {completed}\")\n",
    "print(f\"🪓 Trials Pruned:    {pruned}\")\n",
    "print(f\"🧮 Total Trials:     {len(lightgbm_study2.trials)}\")\n",
    "\n",
    "# 3. Optimization history (interactive)\n",
    "vis.plot_optimization_history(lightgbm_study2).show()\n",
    "\n",
    "# 4. Parameter importances (interactive)\n",
    "vis.plot_param_importances(lightgbm_study2).show()\n",
    "\n",
    "vis.plot_slice(lightgbm_study2).show()\n"
   ]
  },
  {
   "cell_type": "code",
   "execution_count": null,
   "id": "9a1353f3",
   "metadata": {},
   "outputs": [
    {
     "name": "stdout",
     "output_type": "stream",
     "text": [
      "Training until validation scores don't improve for 50 rounds\n",
      "Did not meet early stopping. Best iteration is:\n",
      "[1200]\tvalid_0's auc: 0.848074\n"
     ]
    }
   ],
   "source": [
    "params = {\n",
    "    \"device\": \"gpu\",\n",
    "    \"gpu_platform_id\": 1,   # My GPU is on platform 1\n",
    "    \"gpu_device_id\": 0, \n",
    "    \"objective\": \"binary\",\n",
    "    \"metric\": \"auc\",\n",
    "    \"boosting_type\": \"gbdt\",\n",
    "    \"tree_learner\": \"serial\",\n",
    "    \n",
    "    # Set hyperparameters based on previous study and importance\n",
    "    \"feature_fraction\": lightgbm_study1.best_params[\"feature_fraction\"],\n",
    "    \"bagging_fraction\": lightgbm_study1.best_params[\"bagging_fraction\"],\n",
    "    \"bagging_freq\": lightgbm_study1.best_params[\"bagging_freq\"],\n",
    "    \"min_child_samples\": lightgbm_study1.best_params[\"min_child_samples\"],\n",
    "    \n",
    "    \"learning_rate\": lightgbm_study2.best_params[\"learning_rate\"], \n",
    "    \"max_depth\": lightgbm_study2.best_params[\"max_depth\"], \n",
    "    \"num_leaves\": lightgbm_study2.best_params[\"num_leaves\"], \n",
    "    \"lambda_l1\": lightgbm_study2.best_params[\"lambda_l1\"], \n",
    "    \"lambda_l2\": lightgbm_study2.best_params[\"lambda_l2\"], \n",
    "}\n",
    "\n",
    "split_folder = 'train/lightgbm/step3/data'\n",
    "nested_folder = 'train/lightgbm/step3/data/training'\n",
    "\n",
    "# train (70) / valid (15) / test (15) split from full training set\n",
    "train_valid_pool, holdout_set = file_train_test_split('higgs_data/train.parquet', split_folder, test_size=0.15)\n",
    "\n",
    "# .15 / .85 = 0.1739\n",
    "train_set, valid_set = file_train_test_split(train_valid_pool, nested_folder, test_size=0.1739)\n",
    "\n",
    "    \n",
    "dtrain = lgb.Dataset(train_set, params={\"label_column\": \"name:target\", \"header\": True})\n",
    "dvalid = lgb.Dataset(valid_set, params={\"label_column\": \"name:target\", \"header\": True}, reference=train_set)\n",
    "\n",
    "\n",
    "model = lgb.train(\n",
    "    params,\n",
    "    dtrain,\n",
    "    valid_sets=[dvalid],\n",
    "    num_boost_round=1200,\n",
    "    callbacks=[\n",
    "        lgb.early_stopping(50),\n",
    "    ],\n",
    ")\n",
    "\n"
   ]
  },
  {
   "cell_type": "code",
   "execution_count": 93,
   "id": "8ea503a2",
   "metadata": {},
   "outputs": [
    {
     "data": {
      "text/plain": [
       "646"
      ]
     },
     "execution_count": 93,
     "metadata": {},
     "output_type": "execute_result"
    }
   ],
   "source": [
    "gc.collect()"
   ]
  },
  {
   "cell_type": "code",
   "execution_count": 99,
   "id": "cef8c695",
   "metadata": {},
   "outputs": [],
   "source": [
    "# Calculate train AUC\n",
    "dtrain = pd.read_csv(train_set, header=0)\n",
    "X_train = dtrain.drop(columns=[\"target\"])\n",
    "y_train = dtrain[\"target\"]\n",
    "y_pred = model.predict(X_train, num_iteration=model.best_iteration)"
   ]
  },
  {
   "cell_type": "code",
   "execution_count": 100,
   "id": "a56161ea",
   "metadata": {},
   "outputs": [
    {
     "data": {
      "text/plain": [
       "0.8391673247860025"
      ]
     },
     "execution_count": 100,
     "metadata": {},
     "output_type": "execute_result"
    }
   ],
   "source": [
    "train_auc = roc_auc_score(y_train, y_pred)\n",
    "train_auc\n"
   ]
  },
  {
   "cell_type": "code",
   "execution_count": 102,
   "id": "ab34ecd0",
   "metadata": {},
   "outputs": [
    {
     "data": {
      "text/plain": [
       "0.8347218507985548"
      ]
     },
     "execution_count": 102,
     "metadata": {},
     "output_type": "execute_result"
    }
   ],
   "source": [
    "test_auc"
   ]
  },
  {
   "cell_type": "code",
   "execution_count": 101,
   "id": "e5784b8c",
   "metadata": {},
   "outputs": [
    {
     "data": {
      "text/plain": [
       "0.8347218507985548"
      ]
     },
     "execution_count": 101,
     "metadata": {},
     "output_type": "execute_result"
    }
   ],
   "source": [
    "# Free up memory\n",
    "\n",
    "\n",
    "# Calculate \"test\" AUC\n",
    "dvalid = pd.read_csv(holdout_set, header=0)\n",
    "X_test = dvalid.drop(columns=[\"target\"])\n",
    "y_test = dvalid[\"target\"]\n",
    "test_auc = roc_auc_score(y_test, model.predict(X_test))\n",
    "test_auc\n"
   ]
  },
  {
   "cell_type": "code",
   "execution_count": 91,
   "id": "c8f41f92",
   "metadata": {},
   "outputs": [
    {
     "data": {
      "text/plain": [
       "2191"
      ]
     },
     "execution_count": 91,
     "metadata": {},
     "output_type": "execute_result"
    }
   ],
   "source": [
    "del dtrain, dvalid, X_train, X_test, y_train, y_test\n",
    "gc.collect()"
   ]
  },
  {
   "cell_type": "code",
   "execution_count": null,
   "id": "00b0bac9",
   "metadata": {},
   "outputs": [
    {
     "name": "stdout",
     "output_type": "stream",
     "text": [
      "Training until validation scores don't improve for 50 rounds\n",
      "Did not meet early stopping. Best iteration is:\n",
      "[1200]\tvalid_0's auc: 0.834914\n"
     ]
    }
   ],
   "source": [
    "params = {\n",
    "    \"device\": \"gpu\",\n",
    "    \"gpu_platform_id\": 1,   # My GPU is on platform 1\n",
    "    \"gpu_device_id\": 0, \n",
    "    \"objective\": \"binary\",\n",
    "    \"metric\": \"auc\",\n",
    "    \"boosting_type\": \"gbdt\",\n",
    "    \"tree_learner\": \"serial\",\n",
    "}\n",
    "\n",
    "split_folder = 'train/lightgbm/step3/data'\n",
    "nested_folder = 'train/lightgbm/step3/data/training'\n",
    "\n",
    "# train (70) / valid (15) / test (15) split from full training set\n",
    "train_valid_pool, holdout_set = file_train_test_split('higgs_data/train.parquet', split_folder, test_size=0.15)\n",
    "\n",
    "# .15 / .85 = 0.1739\n",
    "train_set, valid_set = file_train_test_split(train_valid_pool, nested_folder, test_size=0.1739)\n",
    "\n",
    "    \n",
    "dtrain = lgb.Dataset(train_set, params={\"label_column\": \"name:target\", \"header\": True})\n",
    "dvalid = lgb.Dataset(valid_set, params={\"label_column\": \"name:target\", \"header\": True}, reference=train_set)\n",
    "\n",
    "\n",
    "model = lgb.train(\n",
    "    params,\n",
    "    dtrain,\n",
    "    valid_sets=[dvalid],\n",
    "    num_boost_round=1200,\n",
    "    callbacks=[\n",
    "        lgb.early_stopping(50),\n",
    "    ],\n",
    ")"
   ]
  },
  {
   "cell_type": "code",
   "execution_count": null,
   "id": "4ee2b425",
   "metadata": {},
   "outputs": [],
   "source": [
    "from optuna.integration import XGBoostPruningCallback\n",
    "\n",
    "def xgb_objective_step1(trial):\n",
    "    params = {\n",
    "        \"tree_method\": \"hist\", \n",
    "        \"device\": \"cuda\",\n",
    "        \"objective\": \"binary:logistic\",\n",
    "        \"eval_metric\": \"auc\",\n",
    "        \"max_depth\": trial.suggest_int(\"max_depth\", 3, 12),\n",
    "        \"eta\": trial.suggest_float(\"eta\", 1e-3, 0.3, log=True),\n",
    "        \"subsample\": trial.suggest_float(\"subsample\", 0.5, 1.0),\n",
    "        \"colsample_bytree\": trial.suggest_float(\"colsample_bytree\", 0.5, 1.0),\n",
    "        \"lambda\": trial.suggest_float(\"lambda\", 0, 5.0),\n",
    "        \"alpha\": trial.suggest_float(\"alpha\", 0, 5.0),\n",
    "        \"min_child_weight\": trial.suggest_int(\"min_child_weight\", 10, 100),\n",
    "    }\n",
    "\n",
    "    split_folder = 'train/xgboost/step1/data'\n",
    "    nested_folder = 'train/xgboost/step1/data/training'\n",
    "    \n",
    "    subsample = file_subsample(f'higgs_data/train.parquet', split_folder, sample_fraction=0.1)\n",
    "    train_valid_pool, holdout_set = file_train_test_split(subsample, split_folder, test_size=0.15)\n",
    "    train_set, valid_set = file_train_test_split(train_valid_pool, nested_folder, test_size=0.1739)\n",
    "    \n",
    "    # Ensure no headers in the csv files for XGBoost\n",
    "    train_set = csv_no_headers(train_set)\n",
    "    valid_set = csv_no_headers(valid_set)\n",
    "    holdout_set = csv_no_headers(holdout_set)\n",
    "\n",
    "\n",
    "    dtrain = xgb.DMatrix(f\"{train_set}?format=csv&label_column=0\")\n",
    "    dvalid = xgb.DMatrix(f\"{valid_set}?format=csv&label_column=0\")\n",
    "\n",
    "    # Absolutely no logging\n",
    "    with open(os.devnull, 'w') as fnull:\n",
    "        with redirect_stdout(fnull), redirect_stderr(fnull):\n",
    "            model = xgb.train(\n",
    "                params,\n",
    "                dtrain,\n",
    "                num_boost_round=100,\n",
    "                evals=[(dvalid, \"validation\")],\n",
    "                early_stopping_rounds=15,\n",
    "                callbacks=[XGBoostPruningCallback(trial, \"validation-auc\")]\n",
    "            )\n",
    "\n",
    "\n",
    "    dtest = xgb.DMatrix(f\"{holdout_set}?format=csv&label_column=0\")\n",
    "    preds = model.predict(dtest)\n",
    "    auc = roc_auc_score(dtest.get_label(), preds)\n",
    "\n",
    "    # Free up memory\n",
    "    del model, dtrain, dvalid, dtest, preds\n",
    "    gc.collect()\n",
    "\n",
    "    return auc"
   ]
  },
  {
   "cell_type": "code",
   "execution_count": 152,
   "id": "53f140c6",
   "metadata": {},
   "outputs": [
    {
     "name": "stderr",
     "output_type": "stream",
     "text": [
      "[I 2025-06-17 12:24:59,020] A new study created in memory with name: xgb_step1\n",
      "[I 2025-06-17 12:25:12,793] Trial 0 finished with value: 0.7347524193855608 and parameters: {'max_depth': 4, 'eta': 0.0015851102242326867, 'subsample': 0.6863451001144154, 'colsample_bytree': 0.7879007392532195, 'lambda': 2.306627555597519, 'alpha': 0.698384967905501, 'min_child_weight': 65}. Best is trial 0 with value: 0.7347524193855608.\n",
      "[I 2025-06-17 12:25:28,776] Trial 1 finished with value: 0.7925905402887992 and parameters: {'max_depth': 6, 'eta': 0.027397785707683656, 'subsample': 0.9241978744219532, 'colsample_bytree': 0.5484209112248105, 'lambda': 3.612943868205969, 'alpha': 4.424645089118832, 'min_child_weight': 85}. Best is trial 1 with value: 0.7925905402887992.\n",
      "[I 2025-06-17 12:25:45,200] Trial 2 finished with value: 0.8228240793018193 and parameters: {'max_depth': 8, 'eta': 0.172968395306169, 'subsample': 0.9585892968601023, 'colsample_bytree': 0.6845357577733542, 'lambda': 3.1656667766752484, 'alpha': 1.7516608101904336, 'min_child_weight': 83}. Best is trial 2 with value: 0.8228240793018193.\n",
      "[I 2025-06-17 12:26:02,625] Trial 3 finished with value: 0.8246251944252339 and parameters: {'max_depth': 11, 'eta': 0.17655766862506744, 'subsample': 0.7812911131471951, 'colsample_bytree': 0.6535382971849651, 'lambda': 3.883939277317265, 'alpha': 4.687201488406951, 'min_child_weight': 86}. Best is trial 3 with value: 0.8246251944252339.\n",
      "[I 2025-06-17 12:26:19,140] Trial 4 finished with value: 0.8243456987047956 and parameters: {'max_depth': 8, 'eta': 0.19772829544302484, 'subsample': 0.7731264376522387, 'colsample_bytree': 0.8986394132500608, 'lambda': 3.509199846741522, 'alpha': 1.6689098919878242, 'min_child_weight': 20}. Best is trial 3 with value: 0.8246251944252339.\n",
      "[I 2025-06-17 12:26:33,300] Trial 5 pruned. Trial was pruned at iteration 10.\n",
      "[I 2025-06-17 12:26:47,977] Trial 6 pruned. Trial was pruned at iteration 10.\n",
      "[I 2025-06-17 12:27:01,603] Trial 7 pruned. Trial was pruned at iteration 10.\n",
      "[I 2025-06-17 12:27:16,230] Trial 8 pruned. Trial was pruned at iteration 10.\n",
      "[I 2025-06-17 12:27:30,640] Trial 9 pruned. Trial was pruned at iteration 10.\n",
      "[I 2025-06-17 12:27:45,274] Trial 10 pruned. Trial was pruned at iteration 15.\n",
      "[I 2025-06-17 12:28:04,127] Trial 11 finished with value: 0.8227671352653743 and parameters: {'max_depth': 10, 'eta': 0.278115797186226, 'subsample': 0.8583062197402334, 'colsample_bytree': 0.9895467692588793, 'lambda': 4.74728474961494, 'alpha': 2.096282495821915, 'min_child_weight': 12}. Best is trial 3 with value: 0.8246251944252339.\n",
      "[I 2025-06-17 12:28:17,790] Trial 12 pruned. Trial was pruned at iteration 10.\n",
      "[I 2025-06-17 12:28:31,439] Trial 13 pruned. Trial was pruned at iteration 20.\n",
      "[I 2025-06-17 12:28:45,100] Trial 14 pruned. Trial was pruned at iteration 10.\n",
      "[I 2025-06-17 12:28:58,526] Trial 15 pruned. Trial was pruned at iteration 10.\n",
      "[I 2025-06-17 12:29:15,829] Trial 16 finished with value: 0.8271411132465953 and parameters: {'max_depth': 10, 'eta': 0.16371970699094893, 'subsample': 0.8002595576617281, 'colsample_bytree': 0.756610997587162, 'lambda': 0.07990509570225024, 'alpha': 4.797809958231526, 'min_child_weight': 26}. Best is trial 16 with value: 0.8271411132465953.\n",
      "[I 2025-06-17 12:29:29,325] Trial 17 pruned. Trial was pruned at iteration 10.\n",
      "[I 2025-06-17 12:29:46,768] Trial 18 finished with value: 0.8267616942807451 and parameters: {'max_depth': 11, 'eta': 0.10682255319897623, 'subsample': 0.9856218325943085, 'colsample_bytree': 0.7331514993009004, 'lambda': 0.8685183618929422, 'alpha': 4.117141355996385, 'min_child_weight': 38}. Best is trial 16 with value: 0.8271411132465953.\n",
      "[I 2025-06-17 12:29:59,887] Trial 19 pruned. Trial was pruned at iteration 10.\n",
      "[I 2025-06-17 12:30:12,395] Trial 20 pruned. Trial was pruned at iteration 10.\n",
      "[I 2025-06-17 12:30:25,387] Trial 21 pruned. Trial was pruned at iteration 10.\n",
      "[I 2025-06-17 12:30:39,335] Trial 22 pruned. Trial was pruned at iteration 10.\n",
      "[I 2025-06-17 12:30:53,042] Trial 23 pruned. Trial was pruned at iteration 20.\n",
      "[I 2025-06-17 12:31:10,130] Trial 24 finished with value: 0.8272809828029397 and parameters: {'max_depth': 11, 'eta': 0.13531845603665763, 'subsample': 0.8498404609639901, 'colsample_bytree': 0.8121529078779611, 'lambda': 0.542082177716357, 'alpha': 4.935104223195495, 'min_child_weight': 74}. Best is trial 24 with value: 0.8272809828029397.\n",
      "[I 2025-06-17 12:31:23,460] Trial 25 pruned. Trial was pruned at iteration 10.\n",
      "[I 2025-06-17 12:31:38,680] Trial 26 pruned. Trial was pruned at iteration 30.\n",
      "[I 2025-06-17 12:31:54,865] Trial 27 pruned. Trial was pruned at iteration 85.\n",
      "[I 2025-06-17 12:32:08,366] Trial 28 pruned. Trial was pruned at iteration 10.\n",
      "[I 2025-06-17 12:32:21,625] Trial 29 pruned. Trial was pruned at iteration 10.\n",
      "[I 2025-06-17 12:32:34,600] Trial 30 pruned. Trial was pruned at iteration 10.\n",
      "[I 2025-06-17 12:32:51,250] Trial 31 finished with value: 0.8249582795278438 and parameters: {'max_depth': 11, 'eta': 0.1914670701924147, 'subsample': 0.8074716847991067, 'colsample_bytree': 0.648219716624416, 'lambda': 2.7087496113400666, 'alpha': 4.7443992098459535, 'min_child_weight': 85}. Best is trial 24 with value: 0.8272809828029397.\n",
      "[I 2025-06-17 12:33:04,243] Trial 32 pruned. Trial was pruned at iteration 10.\n",
      "[I 2025-06-17 12:33:22,165] Trial 33 finished with value: 0.8274333402849062 and parameters: {'max_depth': 12, 'eta': 0.2237401351196336, 'subsample': 0.9089297639769107, 'colsample_bytree': 0.683322696332422, 'lambda': 2.067653662646765, 'alpha': 4.47339298021237, 'min_child_weight': 92}. Best is trial 33 with value: 0.8274333402849062.\n",
      "[I 2025-06-17 12:33:39,431] Trial 34 finished with value: 0.8253410472898187 and parameters: {'max_depth': 12, 'eta': 0.2282842345902862, 'subsample': 0.9663353736410281, 'colsample_bytree': 0.6819634133789818, 'lambda': 0.9188916427413321, 'alpha': 4.385347703359257, 'min_child_weight': 93}. Best is trial 33 with value: 0.8274333402849062.\n",
      "[I 2025-06-17 12:33:57,093] Trial 35 finished with value: 0.8278951198724882 and parameters: {'max_depth': 12, 'eta': 0.10359948179066211, 'subsample': 0.9152992677555182, 'colsample_bytree': 0.8102648495087866, 'lambda': 2.0179796209565675, 'alpha': 4.427799536216584, 'min_child_weight': 90}. Best is trial 35 with value: 0.8278951198724882.\n",
      "[I 2025-06-17 12:34:10,606] Trial 36 pruned. Trial was pruned at iteration 10.\n",
      "[I 2025-06-17 12:34:27,853] Trial 37 finished with value: 0.8257867457724506 and parameters: {'max_depth': 12, 'eta': 0.159914425007431, 'subsample': 0.766877804562352, 'colsample_bytree': 0.8121134187055996, 'lambda': 1.7460684754086495, 'alpha': 3.6250813605177323, 'min_child_weight': 90}. Best is trial 35 with value: 0.8278951198724882.\n",
      "[I 2025-06-17 12:34:41,096] Trial 38 pruned. Trial was pruned at iteration 10.\n",
      "[I 2025-06-17 12:34:54,792] Trial 39 pruned. Trial was pruned at iteration 10.\n",
      "[I 2025-06-17 12:35:08,349] Trial 40 pruned. Trial was pruned at iteration 10.\n",
      "[I 2025-06-17 12:35:21,891] Trial 41 pruned. Trial was pruned at iteration 10.\n",
      "[I 2025-06-17 12:35:38,754] Trial 42 finished with value: 0.8272711981051257 and parameters: {'max_depth': 11, 'eta': 0.22537716876658964, 'subsample': 0.9492036731380837, 'colsample_bytree': 0.7242416582034313, 'lambda': 2.4552849727276347, 'alpha': 4.204962352222138, 'min_child_weight': 93}. Best is trial 35 with value: 0.8278951198724882.\n",
      "[I 2025-06-17 12:35:56,014] Trial 43 finished with value: 0.8257265530483853 and parameters: {'max_depth': 12, 'eta': 0.22206230746041344, 'subsample': 0.9098785404811659, 'colsample_bytree': 0.7049046120805511, 'lambda': 2.5692342670424746, 'alpha': 4.995540184544206, 'min_child_weight': 96}. Best is trial 35 with value: 0.8278951198724882.\n",
      "[I 2025-06-17 12:36:09,558] Trial 44 pruned. Trial was pruned at iteration 10.\n",
      "[I 2025-06-17 12:36:22,850] Trial 45 pruned. Trial was pruned at iteration 10.\n",
      "[I 2025-06-17 12:36:40,311] Trial 46 finished with value: 0.8259112154783945 and parameters: {'max_depth': 12, 'eta': 0.21265639704494005, 'subsample': 0.8748064870461163, 'colsample_bytree': 0.8025253276504072, 'lambda': 1.8367713889428168, 'alpha': 3.5904998540524122, 'min_child_weight': 85}. Best is trial 35 with value: 0.8278951198724882.\n",
      "[I 2025-06-17 12:36:53,571] Trial 47 pruned. Trial was pruned at iteration 10.\n",
      "[I 2025-06-17 12:37:07,347] Trial 48 pruned. Trial was pruned at iteration 10.\n",
      "[I 2025-06-17 12:37:20,425] Trial 49 pruned. Trial was pruned at iteration 10.\n",
      "[I 2025-06-17 12:37:33,240] Trial 50 pruned. Trial was pruned at iteration 10.\n",
      "[I 2025-06-17 12:37:46,740] Trial 51 pruned. Trial was pruned at iteration 10.\n",
      "[I 2025-06-17 12:38:00,522] Trial 52 pruned. Trial was pruned at iteration 10.\n",
      "[I 2025-06-17 12:38:14,757] Trial 53 pruned. Trial was pruned at iteration 10.\n",
      "[I 2025-06-17 12:38:33,209] Trial 54 finished with value: 0.8269333981802867 and parameters: {'max_depth': 12, 'eta': 0.1827807335229285, 'subsample': 0.9475556568472306, 'colsample_bytree': 0.793678278460712, 'lambda': 0.012954695076383874, 'alpha': 4.78743460130711, 'min_child_weight': 47}. Best is trial 35 with value: 0.8278951198724882.\n",
      "[I 2025-06-17 12:38:50,622] Trial 55 finished with value: 0.8274838638637214 and parameters: {'max_depth': 12, 'eta': 0.17912200678211534, 'subsample': 0.8997726474793434, 'colsample_bytree': 0.7903986066531983, 'lambda': 0.13609944141382768, 'alpha': 4.791427474398745, 'min_child_weight': 57}. Best is trial 35 with value: 0.8278951198724882.\n",
      "[I 2025-06-17 12:39:05,135] Trial 56 pruned. Trial was pruned at iteration 50.\n",
      "[I 2025-06-17 12:39:22,479] Trial 57 finished with value: 0.8295783340475043 and parameters: {'max_depth': 12, 'eta': 0.1687633593970215, 'subsample': 0.8999478954405725, 'colsample_bytree': 0.8247424176439698, 'lambda': 4.440161016643563, 'alpha': 4.842702090338768, 'min_child_weight': 64}. Best is trial 57 with value: 0.8295783340475043.\n",
      "[I 2025-06-17 12:39:40,307] Trial 58 finished with value: 0.8258152809657818 and parameters: {'max_depth': 12, 'eta': 0.23444941109278714, 'subsample': 0.9005410914564442, 'colsample_bytree': 0.8674866527684195, 'lambda': 4.5542236777863785, 'alpha': 4.991771080665865, 'min_child_weight': 57}. Best is trial 57 with value: 0.8295783340475043.\n",
      "[I 2025-06-17 12:39:53,974] Trial 59 pruned. Trial was pruned at iteration 10.\n",
      "[I 2025-06-17 12:40:07,243] Trial 60 pruned. Trial was pruned at iteration 10.\n",
      "[I 2025-06-17 12:40:20,583] Trial 61 pruned. Trial was pruned at iteration 10.\n",
      "[I 2025-06-17 12:40:34,463] Trial 62 pruned. Trial was pruned at iteration 10.\n",
      "[I 2025-06-17 12:40:48,265] Trial 63 pruned. Trial was pruned at iteration 10.\n",
      "[I 2025-06-17 12:41:01,841] Trial 64 pruned. Trial was pruned at iteration 10.\n",
      "[I 2025-06-17 12:41:15,531] Trial 65 pruned. Trial was pruned at iteration 10.\n",
      "[I 2025-06-17 12:41:29,782] Trial 66 pruned. Trial was pruned at iteration 20.\n",
      "[I 2025-06-17 12:41:43,672] Trial 67 pruned. Trial was pruned at iteration 10.\n",
      "[I 2025-06-17 12:41:57,026] Trial 68 pruned. Trial was pruned at iteration 10.\n",
      "[I 2025-06-17 12:42:12,194] Trial 69 pruned. Trial was pruned at iteration 10.\n",
      "[I 2025-06-17 12:42:27,649] Trial 70 pruned. Trial was pruned at iteration 10.\n",
      "[I 2025-06-17 12:42:48,494] Trial 71 finished with value: 0.8289559969414233 and parameters: {'max_depth': 12, 'eta': 0.19121932512519052, 'subsample': 0.9512699553484918, 'colsample_bytree': 0.7928451669194176, 'lambda': 0.11504624487682959, 'alpha': 4.809089913506029, 'min_child_weight': 46}. Best is trial 57 with value: 0.8295783340475043.\n",
      "[I 2025-06-17 12:43:03,664] Trial 72 pruned. Trial was pruned at iteration 10.\n",
      "[I 2025-06-17 12:43:18,405] Trial 73 pruned. Trial was pruned at iteration 10.\n",
      "[I 2025-06-17 12:43:32,846] Trial 74 pruned. Trial was pruned at iteration 10.\n",
      "[I 2025-06-17 12:43:48,883] Trial 75 pruned. Trial was pruned at iteration 50.\n",
      "[I 2025-06-17 12:44:07,428] Trial 76 finished with value: 0.8303708864570303 and parameters: {'max_depth': 12, 'eta': 0.19805055926739712, 'subsample': 0.9605836906907605, 'colsample_bytree': 0.9144335228917331, 'lambda': 0.48243359994948476, 'alpha': 4.912550588246622, 'min_child_weight': 61}. Best is trial 76 with value: 0.8303708864570303.\n",
      "[I 2025-06-17 12:44:21,940] Trial 77 pruned. Trial was pruned at iteration 10.\n",
      "[I 2025-06-17 12:44:41,354] Trial 78 finished with value: 0.8286969361314777 and parameters: {'max_depth': 12, 'eta': 0.20952382931889224, 'subsample': 0.9562800342910143, 'colsample_bytree': 0.971049385501596, 'lambda': 0.8060718943625982, 'alpha': 4.258158530168287, 'min_child_weight': 71}. Best is trial 76 with value: 0.8303708864570303.\n",
      "[I 2025-06-17 12:44:56,137] Trial 79 pruned. Trial was pruned at iteration 10.\n",
      "[I 2025-06-17 12:45:11,377] Trial 80 pruned. Trial was pruned at iteration 10.\n",
      "[I 2025-06-17 12:45:29,201] Trial 81 pruned. Trial was pruned at iteration 95.\n",
      "[I 2025-06-17 12:45:48,205] Trial 82 finished with value: 0.8289892347300007 and parameters: {'max_depth': 12, 'eta': 0.19336918609451156, 'subsample': 0.9788067758788865, 'colsample_bytree': 0.9692775127113888, 'lambda': 1.6509733604694867, 'alpha': 4.644288865580526, 'min_child_weight': 66}. Best is trial 76 with value: 0.8303708864570303.\n",
      "[I 2025-06-17 12:46:07,444] Trial 83 finished with value: 0.8288273226897118 and parameters: {'max_depth': 12, 'eta': 0.19234712890746952, 'subsample': 0.975857845090466, 'colsample_bytree': 0.9656508039748459, 'lambda': 0.7120913793678564, 'alpha': 4.608871094318167, 'min_child_weight': 67}. Best is trial 76 with value: 0.8303708864570303.\n",
      "[I 2025-06-17 12:46:26,556] Trial 84 finished with value: 0.8286592572203528 and parameters: {'max_depth': 12, 'eta': 0.19047315551157373, 'subsample': 0.9797961486258303, 'colsample_bytree': 0.9959354576680213, 'lambda': 1.4528068936691239, 'alpha': 4.609467788907175, 'min_child_weight': 59}. Best is trial 76 with value: 0.8303708864570303.\n",
      "[I 2025-06-17 12:46:45,777] Trial 85 finished with value: 0.8279744842587076 and parameters: {'max_depth': 12, 'eta': 0.18659871393608396, 'subsample': 0.9804984846813168, 'colsample_bytree': 0.9943205880655108, 'lambda': 1.367493233488608, 'alpha': 4.651467723356384, 'min_child_weight': 59}. Best is trial 76 with value: 0.8303708864570303.\n",
      "[I 2025-06-17 12:47:04,807] Trial 86 finished with value: 0.8283809977114583 and parameters: {'max_depth': 12, 'eta': 0.19364387092719887, 'subsample': 0.9763782016784783, 'colsample_bytree': 0.997343847865675, 'lambda': 1.3555577665860599, 'alpha': 4.619842487082832, 'min_child_weight': 66}. Best is trial 76 with value: 0.8303708864570303.\n",
      "[I 2025-06-17 12:47:23,317] Trial 87 finished with value: 0.8293593882701631 and parameters: {'max_depth': 12, 'eta': 0.20040550239566768, 'subsample': 0.9805674193183688, 'colsample_bytree': 0.9999754772002887, 'lambda': 1.4511161408167423, 'alpha': 4.592971173328112, 'min_child_weight': 67}. Best is trial 76 with value: 0.8303708864570303.\n",
      "[I 2025-06-17 12:47:40,924] Trial 88 finished with value: 0.8273935656561466 and parameters: {'max_depth': 12, 'eta': 0.15745074573741685, 'subsample': 0.9984755490202416, 'colsample_bytree': 0.9686220567304876, 'lambda': 1.568782191391964, 'alpha': 4.585396768052085, 'min_child_weight': 67}. Best is trial 76 with value: 0.8303708864570303.\n",
      "[I 2025-06-17 12:47:56,054] Trial 89 pruned. Trial was pruned at iteration 60.\n",
      "[I 2025-06-17 12:48:14,327] Trial 90 finished with value: 0.8274961085381791 and parameters: {'max_depth': 12, 'eta': 0.20310514153646547, 'subsample': 0.9613175431657565, 'colsample_bytree': 0.965142854218814, 'lambda': 1.443827524293607, 'alpha': 4.125904713839452, 'min_child_weight': 54}. Best is trial 76 with value: 0.8303708864570303.\n",
      "[I 2025-06-17 12:48:33,892] Trial 91 finished with value: 0.830369263937198 and parameters: {'max_depth': 12, 'eta': 0.19834316313450515, 'subsample': 0.9817356797530326, 'colsample_bytree': 0.995697128040988, 'lambda': 1.447877145663174, 'alpha': 4.715934754855331, 'min_child_weight': 59}. Best is trial 76 with value: 0.8303708864570303.\n",
      "[I 2025-06-17 12:48:53,001] Trial 92 finished with value: 0.8269399541557316 and parameters: {'max_depth': 12, 'eta': 0.19934812555315198, 'subsample': 0.9863128341883326, 'colsample_bytree': 0.9972341395373613, 'lambda': 0.948609304901495, 'alpha': 4.890934892480851, 'min_child_weight': 63}. Best is trial 76 with value: 0.8303708864570303.\n",
      "[I 2025-06-17 12:49:11,930] Trial 93 finished with value: 0.8281486099148774 and parameters: {'max_depth': 12, 'eta': 0.24810488451639828, 'subsample': 0.9628068153942329, 'colsample_bytree': 0.9828120873299391, 'lambda': 1.1869994003898323, 'alpha': 4.732323502739211, 'min_child_weight': 70}. Best is trial 76 with value: 0.8303708864570303.\n",
      "[I 2025-06-17 12:49:26,331] Trial 94 pruned. Trial was pruned at iteration 10.\n",
      "[I 2025-06-17 12:49:41,743] Trial 95 pruned. Trial was pruned at iteration 10.\n",
      "[I 2025-06-17 12:49:56,518] Trial 96 pruned. Trial was pruned at iteration 10.\n",
      "[I 2025-06-17 12:50:13,854] Trial 97 pruned. Trial was pruned at iteration 30.\n",
      "[I 2025-06-17 12:50:29,182] Trial 98 pruned. Trial was pruned at iteration 30.\n",
      "[I 2025-06-17 12:50:44,759] Trial 99 pruned. Trial was pruned at iteration 10.\n"
     ]
    }
   ],
   "source": [
    "from optuna.pruners import MedianPruner\n",
    "\n",
    "xgb_study1 = optuna.create_study(\n",
    "    study_name=\"xgb_step1\", \n",
    "    direction=\"maximize\",\n",
    "    pruner=MedianPruner(n_warmup_steps=10, interval_steps=5)\n",
    ")\n",
    "\n",
    "xgb_study1.optimize(xgb_objective_step1, n_trials=100)"
   ]
  },
  {
   "cell_type": "code",
   "execution_count": 153,
   "id": "4abe292b",
   "metadata": {},
   "outputs": [
    {
     "name": "stdout",
     "output_type": "stream",
     "text": [
      "✅ Best AUC: 0.830371\n",
      "✅ Best Parameters:\n",
      "  max_depth: 12\n",
      "  eta: 0.19805055926739712\n",
      "  subsample: 0.9605836906907605\n",
      "  colsample_bytree: 0.9144335228917331\n",
      "  lambda: 0.48243359994948476\n",
      "  alpha: 4.912550588246622\n",
      "  min_child_weight: 61\n",
      "\n",
      "Trials Completed: 35\n",
      "🪓 Trials Pruned:    65\n",
      "🧮 Total Trials:     100\n"
     ]
    },
    {
     "data": {
      "application/vnd.plotly.v1+json": {
       "config": {
        "plotlyServerURL": "https://plot.ly"
       },
       "data": [
        {
         "mode": "markers",
         "name": "Objective Value",
         "type": "scatter",
         "x": [
          0,
          1,
          2,
          3,
          4,
          11,
          16,
          18,
          24,
          31,
          33,
          34,
          35,
          37,
          42,
          43,
          46,
          54,
          55,
          57,
          58,
          71,
          76,
          78,
          82,
          83,
          84,
          85,
          86,
          87,
          88,
          90,
          91,
          92,
          93
         ],
         "y": [
          0.7347524193855608,
          0.7925905402887992,
          0.8228240793018193,
          0.8246251944252339,
          0.8243456987047956,
          0.8227671352653743,
          0.8271411132465953,
          0.8267616942807451,
          0.8272809828029397,
          0.8249582795278438,
          0.8274333402849062,
          0.8253410472898187,
          0.8278951198724882,
          0.8257867457724506,
          0.8272711981051257,
          0.8257265530483853,
          0.8259112154783945,
          0.8269333981802867,
          0.8274838638637214,
          0.8295783340475043,
          0.8258152809657818,
          0.8289559969414233,
          0.8303708864570303,
          0.8286969361314777,
          0.8289892347300007,
          0.8288273226897118,
          0.8286592572203528,
          0.8279744842587076,
          0.8283809977114583,
          0.8293593882701631,
          0.8273935656561466,
          0.8274961085381791,
          0.830369263937198,
          0.8269399541557316,
          0.8281486099148774
         ]
        },
        {
         "mode": "lines",
         "name": "Best Value",
         "type": "scatter",
         "x": [
          0,
          1,
          2,
          3,
          4,
          5,
          6,
          7,
          8,
          9,
          10,
          11,
          12,
          13,
          14,
          15,
          16,
          17,
          18,
          19,
          20,
          21,
          22,
          23,
          24,
          25,
          26,
          27,
          28,
          29,
          30,
          31,
          32,
          33,
          34,
          35,
          36,
          37,
          38,
          39,
          40,
          41,
          42,
          43,
          44,
          45,
          46,
          47,
          48,
          49,
          50,
          51,
          52,
          53,
          54,
          55,
          56,
          57,
          58,
          59,
          60,
          61,
          62,
          63,
          64,
          65,
          66,
          67,
          68,
          69,
          70,
          71,
          72,
          73,
          74,
          75,
          76,
          77,
          78,
          79,
          80,
          81,
          82,
          83,
          84,
          85,
          86,
          87,
          88,
          89,
          90,
          91,
          92,
          93,
          94,
          95,
          96,
          97,
          98,
          99
         ],
         "y": [
          0.7347524193855608,
          0.7925905402887992,
          0.8228240793018193,
          0.8246251944252339,
          0.8246251944252339,
          0.8246251944252339,
          0.8246251944252339,
          0.8246251944252339,
          0.8246251944252339,
          0.8246251944252339,
          0.8246251944252339,
          0.8246251944252339,
          0.8246251944252339,
          0.8246251944252339,
          0.8246251944252339,
          0.8246251944252339,
          0.8271411132465953,
          0.8271411132465953,
          0.8271411132465953,
          0.8271411132465953,
          0.8271411132465953,
          0.8271411132465953,
          0.8271411132465953,
          0.8271411132465953,
          0.8272809828029397,
          0.8272809828029397,
          0.8272809828029397,
          0.8272809828029397,
          0.8272809828029397,
          0.8272809828029397,
          0.8272809828029397,
          0.8272809828029397,
          0.8272809828029397,
          0.8274333402849062,
          0.8274333402849062,
          0.8278951198724882,
          0.8278951198724882,
          0.8278951198724882,
          0.8278951198724882,
          0.8278951198724882,
          0.8278951198724882,
          0.8278951198724882,
          0.8278951198724882,
          0.8278951198724882,
          0.8278951198724882,
          0.8278951198724882,
          0.8278951198724882,
          0.8278951198724882,
          0.8278951198724882,
          0.8278951198724882,
          0.8278951198724882,
          0.8278951198724882,
          0.8278951198724882,
          0.8278951198724882,
          0.8278951198724882,
          0.8278951198724882,
          0.8278951198724882,
          0.8295783340475043,
          0.8295783340475043,
          0.8295783340475043,
          0.8295783340475043,
          0.8295783340475043,
          0.8295783340475043,
          0.8295783340475043,
          0.8295783340475043,
          0.8295783340475043,
          0.8295783340475043,
          0.8295783340475043,
          0.8295783340475043,
          0.8295783340475043,
          0.8295783340475043,
          0.8295783340475043,
          0.8295783340475043,
          0.8295783340475043,
          0.8295783340475043,
          0.8295783340475043,
          0.8303708864570303,
          0.8303708864570303,
          0.8303708864570303,
          0.8303708864570303,
          0.8303708864570303,
          0.8303708864570303,
          0.8303708864570303,
          0.8303708864570303,
          0.8303708864570303,
          0.8303708864570303,
          0.8303708864570303,
          0.8303708864570303,
          0.8303708864570303,
          0.8303708864570303,
          0.8303708864570303,
          0.8303708864570303,
          0.8303708864570303,
          0.8303708864570303,
          0.8303708864570303,
          0.8303708864570303,
          0.8303708864570303,
          0.8303708864570303,
          0.8303708864570303,
          0.8303708864570303
         ]
        },
        {
         "marker": {
          "color": "#cccccc"
         },
         "mode": "markers",
         "name": "Infeasible Trial",
         "showlegend": false,
         "type": "scatter",
         "x": [],
         "y": []
        }
       ],
       "layout": {
        "template": {
         "data": {
          "bar": [
           {
            "error_x": {
             "color": "#2a3f5f"
            },
            "error_y": {
             "color": "#2a3f5f"
            },
            "marker": {
             "line": {
              "color": "#E5ECF6",
              "width": 0.5
             },
             "pattern": {
              "fillmode": "overlay",
              "size": 10,
              "solidity": 0.2
             }
            },
            "type": "bar"
           }
          ],
          "barpolar": [
           {
            "marker": {
             "line": {
              "color": "#E5ECF6",
              "width": 0.5
             },
             "pattern": {
              "fillmode": "overlay",
              "size": 10,
              "solidity": 0.2
             }
            },
            "type": "barpolar"
           }
          ],
          "carpet": [
           {
            "aaxis": {
             "endlinecolor": "#2a3f5f",
             "gridcolor": "white",
             "linecolor": "white",
             "minorgridcolor": "white",
             "startlinecolor": "#2a3f5f"
            },
            "baxis": {
             "endlinecolor": "#2a3f5f",
             "gridcolor": "white",
             "linecolor": "white",
             "minorgridcolor": "white",
             "startlinecolor": "#2a3f5f"
            },
            "type": "carpet"
           }
          ],
          "choropleth": [
           {
            "colorbar": {
             "outlinewidth": 0,
             "ticks": ""
            },
            "type": "choropleth"
           }
          ],
          "contour": [
           {
            "colorbar": {
             "outlinewidth": 0,
             "ticks": ""
            },
            "colorscale": [
             [
              0,
              "#0d0887"
             ],
             [
              0.1111111111111111,
              "#46039f"
             ],
             [
              0.2222222222222222,
              "#7201a8"
             ],
             [
              0.3333333333333333,
              "#9c179e"
             ],
             [
              0.4444444444444444,
              "#bd3786"
             ],
             [
              0.5555555555555556,
              "#d8576b"
             ],
             [
              0.6666666666666666,
              "#ed7953"
             ],
             [
              0.7777777777777778,
              "#fb9f3a"
             ],
             [
              0.8888888888888888,
              "#fdca26"
             ],
             [
              1,
              "#f0f921"
             ]
            ],
            "type": "contour"
           }
          ],
          "contourcarpet": [
           {
            "colorbar": {
             "outlinewidth": 0,
             "ticks": ""
            },
            "type": "contourcarpet"
           }
          ],
          "heatmap": [
           {
            "colorbar": {
             "outlinewidth": 0,
             "ticks": ""
            },
            "colorscale": [
             [
              0,
              "#0d0887"
             ],
             [
              0.1111111111111111,
              "#46039f"
             ],
             [
              0.2222222222222222,
              "#7201a8"
             ],
             [
              0.3333333333333333,
              "#9c179e"
             ],
             [
              0.4444444444444444,
              "#bd3786"
             ],
             [
              0.5555555555555556,
              "#d8576b"
             ],
             [
              0.6666666666666666,
              "#ed7953"
             ],
             [
              0.7777777777777778,
              "#fb9f3a"
             ],
             [
              0.8888888888888888,
              "#fdca26"
             ],
             [
              1,
              "#f0f921"
             ]
            ],
            "type": "heatmap"
           }
          ],
          "heatmapgl": [
           {
            "colorbar": {
             "outlinewidth": 0,
             "ticks": ""
            },
            "colorscale": [
             [
              0,
              "#0d0887"
             ],
             [
              0.1111111111111111,
              "#46039f"
             ],
             [
              0.2222222222222222,
              "#7201a8"
             ],
             [
              0.3333333333333333,
              "#9c179e"
             ],
             [
              0.4444444444444444,
              "#bd3786"
             ],
             [
              0.5555555555555556,
              "#d8576b"
             ],
             [
              0.6666666666666666,
              "#ed7953"
             ],
             [
              0.7777777777777778,
              "#fb9f3a"
             ],
             [
              0.8888888888888888,
              "#fdca26"
             ],
             [
              1,
              "#f0f921"
             ]
            ],
            "type": "heatmapgl"
           }
          ],
          "histogram": [
           {
            "marker": {
             "pattern": {
              "fillmode": "overlay",
              "size": 10,
              "solidity": 0.2
             }
            },
            "type": "histogram"
           }
          ],
          "histogram2d": [
           {
            "colorbar": {
             "outlinewidth": 0,
             "ticks": ""
            },
            "colorscale": [
             [
              0,
              "#0d0887"
             ],
             [
              0.1111111111111111,
              "#46039f"
             ],
             [
              0.2222222222222222,
              "#7201a8"
             ],
             [
              0.3333333333333333,
              "#9c179e"
             ],
             [
              0.4444444444444444,
              "#bd3786"
             ],
             [
              0.5555555555555556,
              "#d8576b"
             ],
             [
              0.6666666666666666,
              "#ed7953"
             ],
             [
              0.7777777777777778,
              "#fb9f3a"
             ],
             [
              0.8888888888888888,
              "#fdca26"
             ],
             [
              1,
              "#f0f921"
             ]
            ],
            "type": "histogram2d"
           }
          ],
          "histogram2dcontour": [
           {
            "colorbar": {
             "outlinewidth": 0,
             "ticks": ""
            },
            "colorscale": [
             [
              0,
              "#0d0887"
             ],
             [
              0.1111111111111111,
              "#46039f"
             ],
             [
              0.2222222222222222,
              "#7201a8"
             ],
             [
              0.3333333333333333,
              "#9c179e"
             ],
             [
              0.4444444444444444,
              "#bd3786"
             ],
             [
              0.5555555555555556,
              "#d8576b"
             ],
             [
              0.6666666666666666,
              "#ed7953"
             ],
             [
              0.7777777777777778,
              "#fb9f3a"
             ],
             [
              0.8888888888888888,
              "#fdca26"
             ],
             [
              1,
              "#f0f921"
             ]
            ],
            "type": "histogram2dcontour"
           }
          ],
          "mesh3d": [
           {
            "colorbar": {
             "outlinewidth": 0,
             "ticks": ""
            },
            "type": "mesh3d"
           }
          ],
          "parcoords": [
           {
            "line": {
             "colorbar": {
              "outlinewidth": 0,
              "ticks": ""
             }
            },
            "type": "parcoords"
           }
          ],
          "pie": [
           {
            "automargin": true,
            "type": "pie"
           }
          ],
          "scatter": [
           {
            "fillpattern": {
             "fillmode": "overlay",
             "size": 10,
             "solidity": 0.2
            },
            "type": "scatter"
           }
          ],
          "scatter3d": [
           {
            "line": {
             "colorbar": {
              "outlinewidth": 0,
              "ticks": ""
             }
            },
            "marker": {
             "colorbar": {
              "outlinewidth": 0,
              "ticks": ""
             }
            },
            "type": "scatter3d"
           }
          ],
          "scattercarpet": [
           {
            "marker": {
             "colorbar": {
              "outlinewidth": 0,
              "ticks": ""
             }
            },
            "type": "scattercarpet"
           }
          ],
          "scattergeo": [
           {
            "marker": {
             "colorbar": {
              "outlinewidth": 0,
              "ticks": ""
             }
            },
            "type": "scattergeo"
           }
          ],
          "scattergl": [
           {
            "marker": {
             "colorbar": {
              "outlinewidth": 0,
              "ticks": ""
             }
            },
            "type": "scattergl"
           }
          ],
          "scattermapbox": [
           {
            "marker": {
             "colorbar": {
              "outlinewidth": 0,
              "ticks": ""
             }
            },
            "type": "scattermapbox"
           }
          ],
          "scatterpolar": [
           {
            "marker": {
             "colorbar": {
              "outlinewidth": 0,
              "ticks": ""
             }
            },
            "type": "scatterpolar"
           }
          ],
          "scatterpolargl": [
           {
            "marker": {
             "colorbar": {
              "outlinewidth": 0,
              "ticks": ""
             }
            },
            "type": "scatterpolargl"
           }
          ],
          "scatterternary": [
           {
            "marker": {
             "colorbar": {
              "outlinewidth": 0,
              "ticks": ""
             }
            },
            "type": "scatterternary"
           }
          ],
          "surface": [
           {
            "colorbar": {
             "outlinewidth": 0,
             "ticks": ""
            },
            "colorscale": [
             [
              0,
              "#0d0887"
             ],
             [
              0.1111111111111111,
              "#46039f"
             ],
             [
              0.2222222222222222,
              "#7201a8"
             ],
             [
              0.3333333333333333,
              "#9c179e"
             ],
             [
              0.4444444444444444,
              "#bd3786"
             ],
             [
              0.5555555555555556,
              "#d8576b"
             ],
             [
              0.6666666666666666,
              "#ed7953"
             ],
             [
              0.7777777777777778,
              "#fb9f3a"
             ],
             [
              0.8888888888888888,
              "#fdca26"
             ],
             [
              1,
              "#f0f921"
             ]
            ],
            "type": "surface"
           }
          ],
          "table": [
           {
            "cells": {
             "fill": {
              "color": "#EBF0F8"
             },
             "line": {
              "color": "white"
             }
            },
            "header": {
             "fill": {
              "color": "#C8D4E3"
             },
             "line": {
              "color": "white"
             }
            },
            "type": "table"
           }
          ]
         },
         "layout": {
          "annotationdefaults": {
           "arrowcolor": "#2a3f5f",
           "arrowhead": 0,
           "arrowwidth": 1
          },
          "autotypenumbers": "strict",
          "coloraxis": {
           "colorbar": {
            "outlinewidth": 0,
            "ticks": ""
           }
          },
          "colorscale": {
           "diverging": [
            [
             0,
             "#8e0152"
            ],
            [
             0.1,
             "#c51b7d"
            ],
            [
             0.2,
             "#de77ae"
            ],
            [
             0.3,
             "#f1b6da"
            ],
            [
             0.4,
             "#fde0ef"
            ],
            [
             0.5,
             "#f7f7f7"
            ],
            [
             0.6,
             "#e6f5d0"
            ],
            [
             0.7,
             "#b8e186"
            ],
            [
             0.8,
             "#7fbc41"
            ],
            [
             0.9,
             "#4d9221"
            ],
            [
             1,
             "#276419"
            ]
           ],
           "sequential": [
            [
             0,
             "#0d0887"
            ],
            [
             0.1111111111111111,
             "#46039f"
            ],
            [
             0.2222222222222222,
             "#7201a8"
            ],
            [
             0.3333333333333333,
             "#9c179e"
            ],
            [
             0.4444444444444444,
             "#bd3786"
            ],
            [
             0.5555555555555556,
             "#d8576b"
            ],
            [
             0.6666666666666666,
             "#ed7953"
            ],
            [
             0.7777777777777778,
             "#fb9f3a"
            ],
            [
             0.8888888888888888,
             "#fdca26"
            ],
            [
             1,
             "#f0f921"
            ]
           ],
           "sequentialminus": [
            [
             0,
             "#0d0887"
            ],
            [
             0.1111111111111111,
             "#46039f"
            ],
            [
             0.2222222222222222,
             "#7201a8"
            ],
            [
             0.3333333333333333,
             "#9c179e"
            ],
            [
             0.4444444444444444,
             "#bd3786"
            ],
            [
             0.5555555555555556,
             "#d8576b"
            ],
            [
             0.6666666666666666,
             "#ed7953"
            ],
            [
             0.7777777777777778,
             "#fb9f3a"
            ],
            [
             0.8888888888888888,
             "#fdca26"
            ],
            [
             1,
             "#f0f921"
            ]
           ]
          },
          "colorway": [
           "#636efa",
           "#EF553B",
           "#00cc96",
           "#ab63fa",
           "#FFA15A",
           "#19d3f3",
           "#FF6692",
           "#B6E880",
           "#FF97FF",
           "#FECB52"
          ],
          "font": {
           "color": "#2a3f5f"
          },
          "geo": {
           "bgcolor": "white",
           "lakecolor": "white",
           "landcolor": "#E5ECF6",
           "showlakes": true,
           "showland": true,
           "subunitcolor": "white"
          },
          "hoverlabel": {
           "align": "left"
          },
          "hovermode": "closest",
          "mapbox": {
           "style": "light"
          },
          "paper_bgcolor": "white",
          "plot_bgcolor": "#E5ECF6",
          "polar": {
           "angularaxis": {
            "gridcolor": "white",
            "linecolor": "white",
            "ticks": ""
           },
           "bgcolor": "#E5ECF6",
           "radialaxis": {
            "gridcolor": "white",
            "linecolor": "white",
            "ticks": ""
           }
          },
          "scene": {
           "xaxis": {
            "backgroundcolor": "#E5ECF6",
            "gridcolor": "white",
            "gridwidth": 2,
            "linecolor": "white",
            "showbackground": true,
            "ticks": "",
            "zerolinecolor": "white"
           },
           "yaxis": {
            "backgroundcolor": "#E5ECF6",
            "gridcolor": "white",
            "gridwidth": 2,
            "linecolor": "white",
            "showbackground": true,
            "ticks": "",
            "zerolinecolor": "white"
           },
           "zaxis": {
            "backgroundcolor": "#E5ECF6",
            "gridcolor": "white",
            "gridwidth": 2,
            "linecolor": "white",
            "showbackground": true,
            "ticks": "",
            "zerolinecolor": "white"
           }
          },
          "shapedefaults": {
           "line": {
            "color": "#2a3f5f"
           }
          },
          "ternary": {
           "aaxis": {
            "gridcolor": "white",
            "linecolor": "white",
            "ticks": ""
           },
           "baxis": {
            "gridcolor": "white",
            "linecolor": "white",
            "ticks": ""
           },
           "bgcolor": "#E5ECF6",
           "caxis": {
            "gridcolor": "white",
            "linecolor": "white",
            "ticks": ""
           }
          },
          "title": {
           "x": 0.05
          },
          "xaxis": {
           "automargin": true,
           "gridcolor": "white",
           "linecolor": "white",
           "ticks": "",
           "title": {
            "standoff": 15
           },
           "zerolinecolor": "white",
           "zerolinewidth": 2
          },
          "yaxis": {
           "automargin": true,
           "gridcolor": "white",
           "linecolor": "white",
           "ticks": "",
           "title": {
            "standoff": 15
           },
           "zerolinecolor": "white",
           "zerolinewidth": 2
          }
         }
        },
        "title": {
         "text": "Optimization History Plot"
        },
        "xaxis": {
         "title": {
          "text": "Trial"
         }
        },
        "yaxis": {
         "title": {
          "text": "Objective Value"
         }
        }
       }
      }
     },
     "metadata": {},
     "output_type": "display_data"
    },
    {
     "data": {
      "application/vnd.plotly.v1+json": {
       "config": {
        "plotlyServerURL": "https://plot.ly"
       },
       "data": [
        {
         "cliponaxis": false,
         "hovertemplate": [
          "min_child_weight (IntDistribution): 0.0032817020961162205<extra></extra>",
          "lambda (FloatDistribution): 0.02554109322522601<extra></extra>",
          "colsample_bytree (FloatDistribution): 0.08615261072625321<extra></extra>",
          "subsample (FloatDistribution): 0.1289113241662544<extra></extra>",
          "alpha (FloatDistribution): 0.18013978788431348<extra></extra>",
          "max_depth (IntDistribution): 0.25813277688286<extra></extra>",
          "eta (FloatDistribution): 0.3178407050189767<extra></extra>"
         ],
         "name": "Objective Value",
         "orientation": "h",
         "text": [
          "<0.01",
          "0.03",
          "0.09",
          "0.13",
          "0.18",
          "0.26",
          "0.32"
         ],
         "textposition": "outside",
         "type": "bar",
         "x": [
          0.0032817020961162205,
          0.02554109322522601,
          0.08615261072625321,
          0.1289113241662544,
          0.18013978788431348,
          0.25813277688286,
          0.3178407050189767
         ],
         "y": [
          "min_child_weight",
          "lambda",
          "colsample_bytree",
          "subsample",
          "alpha",
          "max_depth",
          "eta"
         ]
        }
       ],
       "layout": {
        "template": {
         "data": {
          "bar": [
           {
            "error_x": {
             "color": "#2a3f5f"
            },
            "error_y": {
             "color": "#2a3f5f"
            },
            "marker": {
             "line": {
              "color": "#E5ECF6",
              "width": 0.5
             },
             "pattern": {
              "fillmode": "overlay",
              "size": 10,
              "solidity": 0.2
             }
            },
            "type": "bar"
           }
          ],
          "barpolar": [
           {
            "marker": {
             "line": {
              "color": "#E5ECF6",
              "width": 0.5
             },
             "pattern": {
              "fillmode": "overlay",
              "size": 10,
              "solidity": 0.2
             }
            },
            "type": "barpolar"
           }
          ],
          "carpet": [
           {
            "aaxis": {
             "endlinecolor": "#2a3f5f",
             "gridcolor": "white",
             "linecolor": "white",
             "minorgridcolor": "white",
             "startlinecolor": "#2a3f5f"
            },
            "baxis": {
             "endlinecolor": "#2a3f5f",
             "gridcolor": "white",
             "linecolor": "white",
             "minorgridcolor": "white",
             "startlinecolor": "#2a3f5f"
            },
            "type": "carpet"
           }
          ],
          "choropleth": [
           {
            "colorbar": {
             "outlinewidth": 0,
             "ticks": ""
            },
            "type": "choropleth"
           }
          ],
          "contour": [
           {
            "colorbar": {
             "outlinewidth": 0,
             "ticks": ""
            },
            "colorscale": [
             [
              0,
              "#0d0887"
             ],
             [
              0.1111111111111111,
              "#46039f"
             ],
             [
              0.2222222222222222,
              "#7201a8"
             ],
             [
              0.3333333333333333,
              "#9c179e"
             ],
             [
              0.4444444444444444,
              "#bd3786"
             ],
             [
              0.5555555555555556,
              "#d8576b"
             ],
             [
              0.6666666666666666,
              "#ed7953"
             ],
             [
              0.7777777777777778,
              "#fb9f3a"
             ],
             [
              0.8888888888888888,
              "#fdca26"
             ],
             [
              1,
              "#f0f921"
             ]
            ],
            "type": "contour"
           }
          ],
          "contourcarpet": [
           {
            "colorbar": {
             "outlinewidth": 0,
             "ticks": ""
            },
            "type": "contourcarpet"
           }
          ],
          "heatmap": [
           {
            "colorbar": {
             "outlinewidth": 0,
             "ticks": ""
            },
            "colorscale": [
             [
              0,
              "#0d0887"
             ],
             [
              0.1111111111111111,
              "#46039f"
             ],
             [
              0.2222222222222222,
              "#7201a8"
             ],
             [
              0.3333333333333333,
              "#9c179e"
             ],
             [
              0.4444444444444444,
              "#bd3786"
             ],
             [
              0.5555555555555556,
              "#d8576b"
             ],
             [
              0.6666666666666666,
              "#ed7953"
             ],
             [
              0.7777777777777778,
              "#fb9f3a"
             ],
             [
              0.8888888888888888,
              "#fdca26"
             ],
             [
              1,
              "#f0f921"
             ]
            ],
            "type": "heatmap"
           }
          ],
          "heatmapgl": [
           {
            "colorbar": {
             "outlinewidth": 0,
             "ticks": ""
            },
            "colorscale": [
             [
              0,
              "#0d0887"
             ],
             [
              0.1111111111111111,
              "#46039f"
             ],
             [
              0.2222222222222222,
              "#7201a8"
             ],
             [
              0.3333333333333333,
              "#9c179e"
             ],
             [
              0.4444444444444444,
              "#bd3786"
             ],
             [
              0.5555555555555556,
              "#d8576b"
             ],
             [
              0.6666666666666666,
              "#ed7953"
             ],
             [
              0.7777777777777778,
              "#fb9f3a"
             ],
             [
              0.8888888888888888,
              "#fdca26"
             ],
             [
              1,
              "#f0f921"
             ]
            ],
            "type": "heatmapgl"
           }
          ],
          "histogram": [
           {
            "marker": {
             "pattern": {
              "fillmode": "overlay",
              "size": 10,
              "solidity": 0.2
             }
            },
            "type": "histogram"
           }
          ],
          "histogram2d": [
           {
            "colorbar": {
             "outlinewidth": 0,
             "ticks": ""
            },
            "colorscale": [
             [
              0,
              "#0d0887"
             ],
             [
              0.1111111111111111,
              "#46039f"
             ],
             [
              0.2222222222222222,
              "#7201a8"
             ],
             [
              0.3333333333333333,
              "#9c179e"
             ],
             [
              0.4444444444444444,
              "#bd3786"
             ],
             [
              0.5555555555555556,
              "#d8576b"
             ],
             [
              0.6666666666666666,
              "#ed7953"
             ],
             [
              0.7777777777777778,
              "#fb9f3a"
             ],
             [
              0.8888888888888888,
              "#fdca26"
             ],
             [
              1,
              "#f0f921"
             ]
            ],
            "type": "histogram2d"
           }
          ],
          "histogram2dcontour": [
           {
            "colorbar": {
             "outlinewidth": 0,
             "ticks": ""
            },
            "colorscale": [
             [
              0,
              "#0d0887"
             ],
             [
              0.1111111111111111,
              "#46039f"
             ],
             [
              0.2222222222222222,
              "#7201a8"
             ],
             [
              0.3333333333333333,
              "#9c179e"
             ],
             [
              0.4444444444444444,
              "#bd3786"
             ],
             [
              0.5555555555555556,
              "#d8576b"
             ],
             [
              0.6666666666666666,
              "#ed7953"
             ],
             [
              0.7777777777777778,
              "#fb9f3a"
             ],
             [
              0.8888888888888888,
              "#fdca26"
             ],
             [
              1,
              "#f0f921"
             ]
            ],
            "type": "histogram2dcontour"
           }
          ],
          "mesh3d": [
           {
            "colorbar": {
             "outlinewidth": 0,
             "ticks": ""
            },
            "type": "mesh3d"
           }
          ],
          "parcoords": [
           {
            "line": {
             "colorbar": {
              "outlinewidth": 0,
              "ticks": ""
             }
            },
            "type": "parcoords"
           }
          ],
          "pie": [
           {
            "automargin": true,
            "type": "pie"
           }
          ],
          "scatter": [
           {
            "fillpattern": {
             "fillmode": "overlay",
             "size": 10,
             "solidity": 0.2
            },
            "type": "scatter"
           }
          ],
          "scatter3d": [
           {
            "line": {
             "colorbar": {
              "outlinewidth": 0,
              "ticks": ""
             }
            },
            "marker": {
             "colorbar": {
              "outlinewidth": 0,
              "ticks": ""
             }
            },
            "type": "scatter3d"
           }
          ],
          "scattercarpet": [
           {
            "marker": {
             "colorbar": {
              "outlinewidth": 0,
              "ticks": ""
             }
            },
            "type": "scattercarpet"
           }
          ],
          "scattergeo": [
           {
            "marker": {
             "colorbar": {
              "outlinewidth": 0,
              "ticks": ""
             }
            },
            "type": "scattergeo"
           }
          ],
          "scattergl": [
           {
            "marker": {
             "colorbar": {
              "outlinewidth": 0,
              "ticks": ""
             }
            },
            "type": "scattergl"
           }
          ],
          "scattermapbox": [
           {
            "marker": {
             "colorbar": {
              "outlinewidth": 0,
              "ticks": ""
             }
            },
            "type": "scattermapbox"
           }
          ],
          "scatterpolar": [
           {
            "marker": {
             "colorbar": {
              "outlinewidth": 0,
              "ticks": ""
             }
            },
            "type": "scatterpolar"
           }
          ],
          "scatterpolargl": [
           {
            "marker": {
             "colorbar": {
              "outlinewidth": 0,
              "ticks": ""
             }
            },
            "type": "scatterpolargl"
           }
          ],
          "scatterternary": [
           {
            "marker": {
             "colorbar": {
              "outlinewidth": 0,
              "ticks": ""
             }
            },
            "type": "scatterternary"
           }
          ],
          "surface": [
           {
            "colorbar": {
             "outlinewidth": 0,
             "ticks": ""
            },
            "colorscale": [
             [
              0,
              "#0d0887"
             ],
             [
              0.1111111111111111,
              "#46039f"
             ],
             [
              0.2222222222222222,
              "#7201a8"
             ],
             [
              0.3333333333333333,
              "#9c179e"
             ],
             [
              0.4444444444444444,
              "#bd3786"
             ],
             [
              0.5555555555555556,
              "#d8576b"
             ],
             [
              0.6666666666666666,
              "#ed7953"
             ],
             [
              0.7777777777777778,
              "#fb9f3a"
             ],
             [
              0.8888888888888888,
              "#fdca26"
             ],
             [
              1,
              "#f0f921"
             ]
            ],
            "type": "surface"
           }
          ],
          "table": [
           {
            "cells": {
             "fill": {
              "color": "#EBF0F8"
             },
             "line": {
              "color": "white"
             }
            },
            "header": {
             "fill": {
              "color": "#C8D4E3"
             },
             "line": {
              "color": "white"
             }
            },
            "type": "table"
           }
          ]
         },
         "layout": {
          "annotationdefaults": {
           "arrowcolor": "#2a3f5f",
           "arrowhead": 0,
           "arrowwidth": 1
          },
          "autotypenumbers": "strict",
          "coloraxis": {
           "colorbar": {
            "outlinewidth": 0,
            "ticks": ""
           }
          },
          "colorscale": {
           "diverging": [
            [
             0,
             "#8e0152"
            ],
            [
             0.1,
             "#c51b7d"
            ],
            [
             0.2,
             "#de77ae"
            ],
            [
             0.3,
             "#f1b6da"
            ],
            [
             0.4,
             "#fde0ef"
            ],
            [
             0.5,
             "#f7f7f7"
            ],
            [
             0.6,
             "#e6f5d0"
            ],
            [
             0.7,
             "#b8e186"
            ],
            [
             0.8,
             "#7fbc41"
            ],
            [
             0.9,
             "#4d9221"
            ],
            [
             1,
             "#276419"
            ]
           ],
           "sequential": [
            [
             0,
             "#0d0887"
            ],
            [
             0.1111111111111111,
             "#46039f"
            ],
            [
             0.2222222222222222,
             "#7201a8"
            ],
            [
             0.3333333333333333,
             "#9c179e"
            ],
            [
             0.4444444444444444,
             "#bd3786"
            ],
            [
             0.5555555555555556,
             "#d8576b"
            ],
            [
             0.6666666666666666,
             "#ed7953"
            ],
            [
             0.7777777777777778,
             "#fb9f3a"
            ],
            [
             0.8888888888888888,
             "#fdca26"
            ],
            [
             1,
             "#f0f921"
            ]
           ],
           "sequentialminus": [
            [
             0,
             "#0d0887"
            ],
            [
             0.1111111111111111,
             "#46039f"
            ],
            [
             0.2222222222222222,
             "#7201a8"
            ],
            [
             0.3333333333333333,
             "#9c179e"
            ],
            [
             0.4444444444444444,
             "#bd3786"
            ],
            [
             0.5555555555555556,
             "#d8576b"
            ],
            [
             0.6666666666666666,
             "#ed7953"
            ],
            [
             0.7777777777777778,
             "#fb9f3a"
            ],
            [
             0.8888888888888888,
             "#fdca26"
            ],
            [
             1,
             "#f0f921"
            ]
           ]
          },
          "colorway": [
           "#636efa",
           "#EF553B",
           "#00cc96",
           "#ab63fa",
           "#FFA15A",
           "#19d3f3",
           "#FF6692",
           "#B6E880",
           "#FF97FF",
           "#FECB52"
          ],
          "font": {
           "color": "#2a3f5f"
          },
          "geo": {
           "bgcolor": "white",
           "lakecolor": "white",
           "landcolor": "#E5ECF6",
           "showlakes": true,
           "showland": true,
           "subunitcolor": "white"
          },
          "hoverlabel": {
           "align": "left"
          },
          "hovermode": "closest",
          "mapbox": {
           "style": "light"
          },
          "paper_bgcolor": "white",
          "plot_bgcolor": "#E5ECF6",
          "polar": {
           "angularaxis": {
            "gridcolor": "white",
            "linecolor": "white",
            "ticks": ""
           },
           "bgcolor": "#E5ECF6",
           "radialaxis": {
            "gridcolor": "white",
            "linecolor": "white",
            "ticks": ""
           }
          },
          "scene": {
           "xaxis": {
            "backgroundcolor": "#E5ECF6",
            "gridcolor": "white",
            "gridwidth": 2,
            "linecolor": "white",
            "showbackground": true,
            "ticks": "",
            "zerolinecolor": "white"
           },
           "yaxis": {
            "backgroundcolor": "#E5ECF6",
            "gridcolor": "white",
            "gridwidth": 2,
            "linecolor": "white",
            "showbackground": true,
            "ticks": "",
            "zerolinecolor": "white"
           },
           "zaxis": {
            "backgroundcolor": "#E5ECF6",
            "gridcolor": "white",
            "gridwidth": 2,
            "linecolor": "white",
            "showbackground": true,
            "ticks": "",
            "zerolinecolor": "white"
           }
          },
          "shapedefaults": {
           "line": {
            "color": "#2a3f5f"
           }
          },
          "ternary": {
           "aaxis": {
            "gridcolor": "white",
            "linecolor": "white",
            "ticks": ""
           },
           "baxis": {
            "gridcolor": "white",
            "linecolor": "white",
            "ticks": ""
           },
           "bgcolor": "#E5ECF6",
           "caxis": {
            "gridcolor": "white",
            "linecolor": "white",
            "ticks": ""
           }
          },
          "title": {
           "x": 0.05
          },
          "xaxis": {
           "automargin": true,
           "gridcolor": "white",
           "linecolor": "white",
           "ticks": "",
           "title": {
            "standoff": 15
           },
           "zerolinecolor": "white",
           "zerolinewidth": 2
          },
          "yaxis": {
           "automargin": true,
           "gridcolor": "white",
           "linecolor": "white",
           "ticks": "",
           "title": {
            "standoff": 15
           },
           "zerolinecolor": "white",
           "zerolinewidth": 2
          }
         }
        },
        "title": {
         "text": "Hyperparameter Importances"
        },
        "xaxis": {
         "title": {
          "text": "Hyperparameter Importance"
         }
        },
        "yaxis": {
         "title": {
          "text": "Hyperparameter"
         }
        }
       }
      }
     },
     "metadata": {},
     "output_type": "display_data"
    },
    {
     "data": {
      "application/vnd.plotly.v1+json": {
       "config": {
        "plotlyServerURL": "https://plot.ly"
       },
       "data": [
        {
         "marker": {
          "color": [
           0,
           1,
           2,
           3,
           4,
           11,
           16,
           18,
           24,
           31,
           33,
           34,
           35,
           37,
           42,
           43,
           46,
           54,
           55,
           57,
           58,
           71,
           76,
           78,
           82,
           83,
           84,
           85,
           86,
           87,
           88,
           90,
           91,
           92,
           93
          ],
          "colorbar": {
           "title": {
            "text": "Trial"
           },
           "x": 1,
           "xpad": 40
          },
          "colorscale": [
           [
            0,
            "rgb(247,251,255)"
           ],
           [
            0.125,
            "rgb(222,235,247)"
           ],
           [
            0.25,
            "rgb(198,219,239)"
           ],
           [
            0.375,
            "rgb(158,202,225)"
           ],
           [
            0.5,
            "rgb(107,174,214)"
           ],
           [
            0.625,
            "rgb(66,146,198)"
           ],
           [
            0.75,
            "rgb(33,113,181)"
           ],
           [
            0.875,
            "rgb(8,81,156)"
           ],
           [
            1,
            "rgb(8,48,107)"
           ]
          ],
          "line": {
           "color": "Grey",
           "width": 0.5
          },
          "showscale": true
         },
         "mode": "markers",
         "name": "Feasible Trial",
         "showlegend": false,
         "type": "scatter",
         "x": [
          0.698384967905501,
          4.424645089118832,
          1.7516608101904336,
          4.687201488406951,
          1.6689098919878242,
          2.096282495821915,
          4.797809958231526,
          4.117141355996385,
          4.935104223195495,
          4.7443992098459535,
          4.47339298021237,
          4.385347703359257,
          4.427799536216584,
          3.6250813605177323,
          4.204962352222138,
          4.995540184544206,
          3.5904998540524122,
          4.78743460130711,
          4.791427474398745,
          4.842702090338768,
          4.991771080665865,
          4.809089913506029,
          4.912550588246622,
          4.258158530168287,
          4.644288865580526,
          4.608871094318167,
          4.609467788907175,
          4.651467723356384,
          4.619842487082832,
          4.592971173328112,
          4.585396768052085,
          4.125904713839452,
          4.715934754855331,
          4.890934892480851,
          4.732323502739211
         ],
         "xaxis": "x",
         "y": [
          0.7347524193855608,
          0.7925905402887992,
          0.8228240793018193,
          0.8246251944252339,
          0.8243456987047956,
          0.8227671352653743,
          0.8271411132465953,
          0.8267616942807451,
          0.8272809828029397,
          0.8249582795278438,
          0.8274333402849062,
          0.8253410472898187,
          0.8278951198724882,
          0.8257867457724506,
          0.8272711981051257,
          0.8257265530483853,
          0.8259112154783945,
          0.8269333981802867,
          0.8274838638637214,
          0.8295783340475043,
          0.8258152809657818,
          0.8289559969414233,
          0.8303708864570303,
          0.8286969361314777,
          0.8289892347300007,
          0.8288273226897118,
          0.8286592572203528,
          0.8279744842587076,
          0.8283809977114583,
          0.8293593882701631,
          0.8273935656561466,
          0.8274961085381791,
          0.830369263937198,
          0.8269399541557316,
          0.8281486099148774
         ],
         "yaxis": "y"
        },
        {
         "marker": {
          "color": [
           0,
           1,
           2,
           3,
           4,
           11,
           16,
           18,
           24,
           31,
           33,
           34,
           35,
           37,
           42,
           43,
           46,
           54,
           55,
           57,
           58,
           71,
           76,
           78,
           82,
           83,
           84,
           85,
           86,
           87,
           88,
           90,
           91,
           92,
           93
          ],
          "colorbar": {
           "title": {
            "text": "Trial"
           },
           "x": 1,
           "xpad": 40
          },
          "colorscale": [
           [
            0,
            "rgb(247,251,255)"
           ],
           [
            0.125,
            "rgb(222,235,247)"
           ],
           [
            0.25,
            "rgb(198,219,239)"
           ],
           [
            0.375,
            "rgb(158,202,225)"
           ],
           [
            0.5,
            "rgb(107,174,214)"
           ],
           [
            0.625,
            "rgb(66,146,198)"
           ],
           [
            0.75,
            "rgb(33,113,181)"
           ],
           [
            0.875,
            "rgb(8,81,156)"
           ],
           [
            1,
            "rgb(8,48,107)"
           ]
          ],
          "line": {
           "color": "Grey",
           "width": 0.5
          },
          "showscale": false
         },
         "mode": "markers",
         "name": "Feasible Trial",
         "showlegend": false,
         "type": "scatter",
         "x": [
          0.7879007392532195,
          0.5484209112248105,
          0.6845357577733542,
          0.6535382971849651,
          0.8986394132500608,
          0.9895467692588793,
          0.756610997587162,
          0.7331514993009004,
          0.8121529078779611,
          0.648219716624416,
          0.683322696332422,
          0.6819634133789818,
          0.8102648495087866,
          0.8121134187055996,
          0.7242416582034313,
          0.7049046120805511,
          0.8025253276504072,
          0.793678278460712,
          0.7903986066531983,
          0.8247424176439698,
          0.8674866527684195,
          0.7928451669194176,
          0.9144335228917331,
          0.971049385501596,
          0.9692775127113888,
          0.9656508039748459,
          0.9959354576680213,
          0.9943205880655108,
          0.997343847865675,
          0.9999754772002887,
          0.9686220567304876,
          0.965142854218814,
          0.995697128040988,
          0.9972341395373613,
          0.9828120873299391
         ],
         "xaxis": "x2",
         "y": [
          0.7347524193855608,
          0.7925905402887992,
          0.8228240793018193,
          0.8246251944252339,
          0.8243456987047956,
          0.8227671352653743,
          0.8271411132465953,
          0.8267616942807451,
          0.8272809828029397,
          0.8249582795278438,
          0.8274333402849062,
          0.8253410472898187,
          0.8278951198724882,
          0.8257867457724506,
          0.8272711981051257,
          0.8257265530483853,
          0.8259112154783945,
          0.8269333981802867,
          0.8274838638637214,
          0.8295783340475043,
          0.8258152809657818,
          0.8289559969414233,
          0.8303708864570303,
          0.8286969361314777,
          0.8289892347300007,
          0.8288273226897118,
          0.8286592572203528,
          0.8279744842587076,
          0.8283809977114583,
          0.8293593882701631,
          0.8273935656561466,
          0.8274961085381791,
          0.830369263937198,
          0.8269399541557316,
          0.8281486099148774
         ],
         "yaxis": "y2"
        },
        {
         "marker": {
          "color": [
           0,
           1,
           2,
           3,
           4,
           11,
           16,
           18,
           24,
           31,
           33,
           34,
           35,
           37,
           42,
           43,
           46,
           54,
           55,
           57,
           58,
           71,
           76,
           78,
           82,
           83,
           84,
           85,
           86,
           87,
           88,
           90,
           91,
           92,
           93
          ],
          "colorbar": {
           "title": {
            "text": "Trial"
           },
           "x": 1,
           "xpad": 40
          },
          "colorscale": [
           [
            0,
            "rgb(247,251,255)"
           ],
           [
            0.125,
            "rgb(222,235,247)"
           ],
           [
            0.25,
            "rgb(198,219,239)"
           ],
           [
            0.375,
            "rgb(158,202,225)"
           ],
           [
            0.5,
            "rgb(107,174,214)"
           ],
           [
            0.625,
            "rgb(66,146,198)"
           ],
           [
            0.75,
            "rgb(33,113,181)"
           ],
           [
            0.875,
            "rgb(8,81,156)"
           ],
           [
            1,
            "rgb(8,48,107)"
           ]
          ],
          "line": {
           "color": "Grey",
           "width": 0.5
          },
          "showscale": false
         },
         "mode": "markers",
         "name": "Feasible Trial",
         "showlegend": false,
         "type": "scatter",
         "x": [
          0.0015851102242326867,
          0.027397785707683656,
          0.172968395306169,
          0.17655766862506744,
          0.19772829544302484,
          0.278115797186226,
          0.16371970699094893,
          0.10682255319897623,
          0.13531845603665763,
          0.1914670701924147,
          0.2237401351196336,
          0.2282842345902862,
          0.10359948179066211,
          0.159914425007431,
          0.22537716876658964,
          0.22206230746041344,
          0.21265639704494005,
          0.1827807335229285,
          0.17912200678211534,
          0.1687633593970215,
          0.23444941109278714,
          0.19121932512519052,
          0.19805055926739712,
          0.20952382931889224,
          0.19336918609451156,
          0.19234712890746952,
          0.19047315551157373,
          0.18659871393608396,
          0.19364387092719887,
          0.20040550239566768,
          0.15745074573741685,
          0.20310514153646547,
          0.19834316313450515,
          0.19934812555315198,
          0.24810488451639828
         ],
         "xaxis": "x3",
         "y": [
          0.7347524193855608,
          0.7925905402887992,
          0.8228240793018193,
          0.8246251944252339,
          0.8243456987047956,
          0.8227671352653743,
          0.8271411132465953,
          0.8267616942807451,
          0.8272809828029397,
          0.8249582795278438,
          0.8274333402849062,
          0.8253410472898187,
          0.8278951198724882,
          0.8257867457724506,
          0.8272711981051257,
          0.8257265530483853,
          0.8259112154783945,
          0.8269333981802867,
          0.8274838638637214,
          0.8295783340475043,
          0.8258152809657818,
          0.8289559969414233,
          0.8303708864570303,
          0.8286969361314777,
          0.8289892347300007,
          0.8288273226897118,
          0.8286592572203528,
          0.8279744842587076,
          0.8283809977114583,
          0.8293593882701631,
          0.8273935656561466,
          0.8274961085381791,
          0.830369263937198,
          0.8269399541557316,
          0.8281486099148774
         ],
         "yaxis": "y3"
        },
        {
         "marker": {
          "color": [
           0,
           1,
           2,
           3,
           4,
           11,
           16,
           18,
           24,
           31,
           33,
           34,
           35,
           37,
           42,
           43,
           46,
           54,
           55,
           57,
           58,
           71,
           76,
           78,
           82,
           83,
           84,
           85,
           86,
           87,
           88,
           90,
           91,
           92,
           93
          ],
          "colorbar": {
           "title": {
            "text": "Trial"
           },
           "x": 1,
           "xpad": 40
          },
          "colorscale": [
           [
            0,
            "rgb(247,251,255)"
           ],
           [
            0.125,
            "rgb(222,235,247)"
           ],
           [
            0.25,
            "rgb(198,219,239)"
           ],
           [
            0.375,
            "rgb(158,202,225)"
           ],
           [
            0.5,
            "rgb(107,174,214)"
           ],
           [
            0.625,
            "rgb(66,146,198)"
           ],
           [
            0.75,
            "rgb(33,113,181)"
           ],
           [
            0.875,
            "rgb(8,81,156)"
           ],
           [
            1,
            "rgb(8,48,107)"
           ]
          ],
          "line": {
           "color": "Grey",
           "width": 0.5
          },
          "showscale": false
         },
         "mode": "markers",
         "name": "Feasible Trial",
         "showlegend": false,
         "type": "scatter",
         "x": [
          2.306627555597519,
          3.612943868205969,
          3.1656667766752484,
          3.883939277317265,
          3.509199846741522,
          4.74728474961494,
          0.07990509570225024,
          0.8685183618929422,
          0.542082177716357,
          2.7087496113400666,
          2.067653662646765,
          0.9188916427413321,
          2.0179796209565675,
          1.7460684754086495,
          2.4552849727276347,
          2.5692342670424746,
          1.8367713889428168,
          0.012954695076383874,
          0.13609944141382768,
          4.440161016643563,
          4.5542236777863785,
          0.11504624487682959,
          0.48243359994948476,
          0.8060718943625982,
          1.6509733604694867,
          0.7120913793678564,
          1.4528068936691239,
          1.367493233488608,
          1.3555577665860599,
          1.4511161408167423,
          1.568782191391964,
          1.443827524293607,
          1.447877145663174,
          0.948609304901495,
          1.1869994003898323
         ],
         "xaxis": "x4",
         "y": [
          0.7347524193855608,
          0.7925905402887992,
          0.8228240793018193,
          0.8246251944252339,
          0.8243456987047956,
          0.8227671352653743,
          0.8271411132465953,
          0.8267616942807451,
          0.8272809828029397,
          0.8249582795278438,
          0.8274333402849062,
          0.8253410472898187,
          0.8278951198724882,
          0.8257867457724506,
          0.8272711981051257,
          0.8257265530483853,
          0.8259112154783945,
          0.8269333981802867,
          0.8274838638637214,
          0.8295783340475043,
          0.8258152809657818,
          0.8289559969414233,
          0.8303708864570303,
          0.8286969361314777,
          0.8289892347300007,
          0.8288273226897118,
          0.8286592572203528,
          0.8279744842587076,
          0.8283809977114583,
          0.8293593882701631,
          0.8273935656561466,
          0.8274961085381791,
          0.830369263937198,
          0.8269399541557316,
          0.8281486099148774
         ],
         "yaxis": "y4"
        },
        {
         "marker": {
          "color": [
           0,
           1,
           2,
           3,
           4,
           11,
           16,
           18,
           24,
           31,
           33,
           34,
           35,
           37,
           42,
           43,
           46,
           54,
           55,
           57,
           58,
           71,
           76,
           78,
           82,
           83,
           84,
           85,
           86,
           87,
           88,
           90,
           91,
           92,
           93
          ],
          "colorbar": {
           "title": {
            "text": "Trial"
           },
           "x": 1,
           "xpad": 40
          },
          "colorscale": [
           [
            0,
            "rgb(247,251,255)"
           ],
           [
            0.125,
            "rgb(222,235,247)"
           ],
           [
            0.25,
            "rgb(198,219,239)"
           ],
           [
            0.375,
            "rgb(158,202,225)"
           ],
           [
            0.5,
            "rgb(107,174,214)"
           ],
           [
            0.625,
            "rgb(66,146,198)"
           ],
           [
            0.75,
            "rgb(33,113,181)"
           ],
           [
            0.875,
            "rgb(8,81,156)"
           ],
           [
            1,
            "rgb(8,48,107)"
           ]
          ],
          "line": {
           "color": "Grey",
           "width": 0.5
          },
          "showscale": false
         },
         "mode": "markers",
         "name": "Feasible Trial",
         "showlegend": false,
         "type": "scatter",
         "x": [
          4,
          6,
          8,
          11,
          8,
          10,
          10,
          11,
          11,
          11,
          12,
          12,
          12,
          12,
          11,
          12,
          12,
          12,
          12,
          12,
          12,
          12,
          12,
          12,
          12,
          12,
          12,
          12,
          12,
          12,
          12,
          12,
          12,
          12,
          12
         ],
         "xaxis": "x5",
         "y": [
          0.7347524193855608,
          0.7925905402887992,
          0.8228240793018193,
          0.8246251944252339,
          0.8243456987047956,
          0.8227671352653743,
          0.8271411132465953,
          0.8267616942807451,
          0.8272809828029397,
          0.8249582795278438,
          0.8274333402849062,
          0.8253410472898187,
          0.8278951198724882,
          0.8257867457724506,
          0.8272711981051257,
          0.8257265530483853,
          0.8259112154783945,
          0.8269333981802867,
          0.8274838638637214,
          0.8295783340475043,
          0.8258152809657818,
          0.8289559969414233,
          0.8303708864570303,
          0.8286969361314777,
          0.8289892347300007,
          0.8288273226897118,
          0.8286592572203528,
          0.8279744842587076,
          0.8283809977114583,
          0.8293593882701631,
          0.8273935656561466,
          0.8274961085381791,
          0.830369263937198,
          0.8269399541557316,
          0.8281486099148774
         ],
         "yaxis": "y5"
        },
        {
         "marker": {
          "color": [
           0,
           1,
           2,
           3,
           4,
           11,
           16,
           18,
           24,
           31,
           33,
           34,
           35,
           37,
           42,
           43,
           46,
           54,
           55,
           57,
           58,
           71,
           76,
           78,
           82,
           83,
           84,
           85,
           86,
           87,
           88,
           90,
           91,
           92,
           93
          ],
          "colorbar": {
           "title": {
            "text": "Trial"
           },
           "x": 1,
           "xpad": 40
          },
          "colorscale": [
           [
            0,
            "rgb(247,251,255)"
           ],
           [
            0.125,
            "rgb(222,235,247)"
           ],
           [
            0.25,
            "rgb(198,219,239)"
           ],
           [
            0.375,
            "rgb(158,202,225)"
           ],
           [
            0.5,
            "rgb(107,174,214)"
           ],
           [
            0.625,
            "rgb(66,146,198)"
           ],
           [
            0.75,
            "rgb(33,113,181)"
           ],
           [
            0.875,
            "rgb(8,81,156)"
           ],
           [
            1,
            "rgb(8,48,107)"
           ]
          ],
          "line": {
           "color": "Grey",
           "width": 0.5
          },
          "showscale": false
         },
         "mode": "markers",
         "name": "Feasible Trial",
         "showlegend": false,
         "type": "scatter",
         "x": [
          65,
          85,
          83,
          86,
          20,
          12,
          26,
          38,
          74,
          85,
          92,
          93,
          90,
          90,
          93,
          96,
          85,
          47,
          57,
          64,
          57,
          46,
          61,
          71,
          66,
          67,
          59,
          59,
          66,
          67,
          67,
          54,
          59,
          63,
          70
         ],
         "xaxis": "x6",
         "y": [
          0.7347524193855608,
          0.7925905402887992,
          0.8228240793018193,
          0.8246251944252339,
          0.8243456987047956,
          0.8227671352653743,
          0.8271411132465953,
          0.8267616942807451,
          0.8272809828029397,
          0.8249582795278438,
          0.8274333402849062,
          0.8253410472898187,
          0.8278951198724882,
          0.8257867457724506,
          0.8272711981051257,
          0.8257265530483853,
          0.8259112154783945,
          0.8269333981802867,
          0.8274838638637214,
          0.8295783340475043,
          0.8258152809657818,
          0.8289559969414233,
          0.8303708864570303,
          0.8286969361314777,
          0.8289892347300007,
          0.8288273226897118,
          0.8286592572203528,
          0.8279744842587076,
          0.8283809977114583,
          0.8293593882701631,
          0.8273935656561466,
          0.8274961085381791,
          0.830369263937198,
          0.8269399541557316,
          0.8281486099148774
         ],
         "yaxis": "y6"
        },
        {
         "marker": {
          "color": [
           0,
           1,
           2,
           3,
           4,
           11,
           16,
           18,
           24,
           31,
           33,
           34,
           35,
           37,
           42,
           43,
           46,
           54,
           55,
           57,
           58,
           71,
           76,
           78,
           82,
           83,
           84,
           85,
           86,
           87,
           88,
           90,
           91,
           92,
           93
          ],
          "colorbar": {
           "title": {
            "text": "Trial"
           },
           "x": 1,
           "xpad": 40
          },
          "colorscale": [
           [
            0,
            "rgb(247,251,255)"
           ],
           [
            0.125,
            "rgb(222,235,247)"
           ],
           [
            0.25,
            "rgb(198,219,239)"
           ],
           [
            0.375,
            "rgb(158,202,225)"
           ],
           [
            0.5,
            "rgb(107,174,214)"
           ],
           [
            0.625,
            "rgb(66,146,198)"
           ],
           [
            0.75,
            "rgb(33,113,181)"
           ],
           [
            0.875,
            "rgb(8,81,156)"
           ],
           [
            1,
            "rgb(8,48,107)"
           ]
          ],
          "line": {
           "color": "Grey",
           "width": 0.5
          },
          "showscale": false
         },
         "mode": "markers",
         "name": "Feasible Trial",
         "showlegend": false,
         "type": "scatter",
         "x": [
          0.6863451001144154,
          0.9241978744219532,
          0.9585892968601023,
          0.7812911131471951,
          0.7731264376522387,
          0.8583062197402334,
          0.8002595576617281,
          0.9856218325943085,
          0.8498404609639901,
          0.8074716847991067,
          0.9089297639769107,
          0.9663353736410281,
          0.9152992677555182,
          0.766877804562352,
          0.9492036731380837,
          0.9098785404811659,
          0.8748064870461163,
          0.9475556568472306,
          0.8997726474793434,
          0.8999478954405725,
          0.9005410914564442,
          0.9512699553484918,
          0.9605836906907605,
          0.9562800342910143,
          0.9788067758788865,
          0.975857845090466,
          0.9797961486258303,
          0.9804984846813168,
          0.9763782016784783,
          0.9805674193183688,
          0.9984755490202416,
          0.9613175431657565,
          0.9817356797530326,
          0.9863128341883326,
          0.9628068153942329
         ],
         "xaxis": "x7",
         "y": [
          0.7347524193855608,
          0.7925905402887992,
          0.8228240793018193,
          0.8246251944252339,
          0.8243456987047956,
          0.8227671352653743,
          0.8271411132465953,
          0.8267616942807451,
          0.8272809828029397,
          0.8249582795278438,
          0.8274333402849062,
          0.8253410472898187,
          0.8278951198724882,
          0.8257867457724506,
          0.8272711981051257,
          0.8257265530483853,
          0.8259112154783945,
          0.8269333981802867,
          0.8274838638637214,
          0.8295783340475043,
          0.8258152809657818,
          0.8289559969414233,
          0.8303708864570303,
          0.8286969361314777,
          0.8289892347300007,
          0.8288273226897118,
          0.8286592572203528,
          0.8279744842587076,
          0.8283809977114583,
          0.8293593882701631,
          0.8273935656561466,
          0.8274961085381791,
          0.830369263937198,
          0.8269399541557316,
          0.8281486099148774
         ],
         "yaxis": "y7"
        }
       ],
       "layout": {
        "template": {
         "data": {
          "bar": [
           {
            "error_x": {
             "color": "#2a3f5f"
            },
            "error_y": {
             "color": "#2a3f5f"
            },
            "marker": {
             "line": {
              "color": "#E5ECF6",
              "width": 0.5
             },
             "pattern": {
              "fillmode": "overlay",
              "size": 10,
              "solidity": 0.2
             }
            },
            "type": "bar"
           }
          ],
          "barpolar": [
           {
            "marker": {
             "line": {
              "color": "#E5ECF6",
              "width": 0.5
             },
             "pattern": {
              "fillmode": "overlay",
              "size": 10,
              "solidity": 0.2
             }
            },
            "type": "barpolar"
           }
          ],
          "carpet": [
           {
            "aaxis": {
             "endlinecolor": "#2a3f5f",
             "gridcolor": "white",
             "linecolor": "white",
             "minorgridcolor": "white",
             "startlinecolor": "#2a3f5f"
            },
            "baxis": {
             "endlinecolor": "#2a3f5f",
             "gridcolor": "white",
             "linecolor": "white",
             "minorgridcolor": "white",
             "startlinecolor": "#2a3f5f"
            },
            "type": "carpet"
           }
          ],
          "choropleth": [
           {
            "colorbar": {
             "outlinewidth": 0,
             "ticks": ""
            },
            "type": "choropleth"
           }
          ],
          "contour": [
           {
            "colorbar": {
             "outlinewidth": 0,
             "ticks": ""
            },
            "colorscale": [
             [
              0,
              "#0d0887"
             ],
             [
              0.1111111111111111,
              "#46039f"
             ],
             [
              0.2222222222222222,
              "#7201a8"
             ],
             [
              0.3333333333333333,
              "#9c179e"
             ],
             [
              0.4444444444444444,
              "#bd3786"
             ],
             [
              0.5555555555555556,
              "#d8576b"
             ],
             [
              0.6666666666666666,
              "#ed7953"
             ],
             [
              0.7777777777777778,
              "#fb9f3a"
             ],
             [
              0.8888888888888888,
              "#fdca26"
             ],
             [
              1,
              "#f0f921"
             ]
            ],
            "type": "contour"
           }
          ],
          "contourcarpet": [
           {
            "colorbar": {
             "outlinewidth": 0,
             "ticks": ""
            },
            "type": "contourcarpet"
           }
          ],
          "heatmap": [
           {
            "colorbar": {
             "outlinewidth": 0,
             "ticks": ""
            },
            "colorscale": [
             [
              0,
              "#0d0887"
             ],
             [
              0.1111111111111111,
              "#46039f"
             ],
             [
              0.2222222222222222,
              "#7201a8"
             ],
             [
              0.3333333333333333,
              "#9c179e"
             ],
             [
              0.4444444444444444,
              "#bd3786"
             ],
             [
              0.5555555555555556,
              "#d8576b"
             ],
             [
              0.6666666666666666,
              "#ed7953"
             ],
             [
              0.7777777777777778,
              "#fb9f3a"
             ],
             [
              0.8888888888888888,
              "#fdca26"
             ],
             [
              1,
              "#f0f921"
             ]
            ],
            "type": "heatmap"
           }
          ],
          "heatmapgl": [
           {
            "colorbar": {
             "outlinewidth": 0,
             "ticks": ""
            },
            "colorscale": [
             [
              0,
              "#0d0887"
             ],
             [
              0.1111111111111111,
              "#46039f"
             ],
             [
              0.2222222222222222,
              "#7201a8"
             ],
             [
              0.3333333333333333,
              "#9c179e"
             ],
             [
              0.4444444444444444,
              "#bd3786"
             ],
             [
              0.5555555555555556,
              "#d8576b"
             ],
             [
              0.6666666666666666,
              "#ed7953"
             ],
             [
              0.7777777777777778,
              "#fb9f3a"
             ],
             [
              0.8888888888888888,
              "#fdca26"
             ],
             [
              1,
              "#f0f921"
             ]
            ],
            "type": "heatmapgl"
           }
          ],
          "histogram": [
           {
            "marker": {
             "pattern": {
              "fillmode": "overlay",
              "size": 10,
              "solidity": 0.2
             }
            },
            "type": "histogram"
           }
          ],
          "histogram2d": [
           {
            "colorbar": {
             "outlinewidth": 0,
             "ticks": ""
            },
            "colorscale": [
             [
              0,
              "#0d0887"
             ],
             [
              0.1111111111111111,
              "#46039f"
             ],
             [
              0.2222222222222222,
              "#7201a8"
             ],
             [
              0.3333333333333333,
              "#9c179e"
             ],
             [
              0.4444444444444444,
              "#bd3786"
             ],
             [
              0.5555555555555556,
              "#d8576b"
             ],
             [
              0.6666666666666666,
              "#ed7953"
             ],
             [
              0.7777777777777778,
              "#fb9f3a"
             ],
             [
              0.8888888888888888,
              "#fdca26"
             ],
             [
              1,
              "#f0f921"
             ]
            ],
            "type": "histogram2d"
           }
          ],
          "histogram2dcontour": [
           {
            "colorbar": {
             "outlinewidth": 0,
             "ticks": ""
            },
            "colorscale": [
             [
              0,
              "#0d0887"
             ],
             [
              0.1111111111111111,
              "#46039f"
             ],
             [
              0.2222222222222222,
              "#7201a8"
             ],
             [
              0.3333333333333333,
              "#9c179e"
             ],
             [
              0.4444444444444444,
              "#bd3786"
             ],
             [
              0.5555555555555556,
              "#d8576b"
             ],
             [
              0.6666666666666666,
              "#ed7953"
             ],
             [
              0.7777777777777778,
              "#fb9f3a"
             ],
             [
              0.8888888888888888,
              "#fdca26"
             ],
             [
              1,
              "#f0f921"
             ]
            ],
            "type": "histogram2dcontour"
           }
          ],
          "mesh3d": [
           {
            "colorbar": {
             "outlinewidth": 0,
             "ticks": ""
            },
            "type": "mesh3d"
           }
          ],
          "parcoords": [
           {
            "line": {
             "colorbar": {
              "outlinewidth": 0,
              "ticks": ""
             }
            },
            "type": "parcoords"
           }
          ],
          "pie": [
           {
            "automargin": true,
            "type": "pie"
           }
          ],
          "scatter": [
           {
            "fillpattern": {
             "fillmode": "overlay",
             "size": 10,
             "solidity": 0.2
            },
            "type": "scatter"
           }
          ],
          "scatter3d": [
           {
            "line": {
             "colorbar": {
              "outlinewidth": 0,
              "ticks": ""
             }
            },
            "marker": {
             "colorbar": {
              "outlinewidth": 0,
              "ticks": ""
             }
            },
            "type": "scatter3d"
           }
          ],
          "scattercarpet": [
           {
            "marker": {
             "colorbar": {
              "outlinewidth": 0,
              "ticks": ""
             }
            },
            "type": "scattercarpet"
           }
          ],
          "scattergeo": [
           {
            "marker": {
             "colorbar": {
              "outlinewidth": 0,
              "ticks": ""
             }
            },
            "type": "scattergeo"
           }
          ],
          "scattergl": [
           {
            "marker": {
             "colorbar": {
              "outlinewidth": 0,
              "ticks": ""
             }
            },
            "type": "scattergl"
           }
          ],
          "scattermapbox": [
           {
            "marker": {
             "colorbar": {
              "outlinewidth": 0,
              "ticks": ""
             }
            },
            "type": "scattermapbox"
           }
          ],
          "scatterpolar": [
           {
            "marker": {
             "colorbar": {
              "outlinewidth": 0,
              "ticks": ""
             }
            },
            "type": "scatterpolar"
           }
          ],
          "scatterpolargl": [
           {
            "marker": {
             "colorbar": {
              "outlinewidth": 0,
              "ticks": ""
             }
            },
            "type": "scatterpolargl"
           }
          ],
          "scatterternary": [
           {
            "marker": {
             "colorbar": {
              "outlinewidth": 0,
              "ticks": ""
             }
            },
            "type": "scatterternary"
           }
          ],
          "surface": [
           {
            "colorbar": {
             "outlinewidth": 0,
             "ticks": ""
            },
            "colorscale": [
             [
              0,
              "#0d0887"
             ],
             [
              0.1111111111111111,
              "#46039f"
             ],
             [
              0.2222222222222222,
              "#7201a8"
             ],
             [
              0.3333333333333333,
              "#9c179e"
             ],
             [
              0.4444444444444444,
              "#bd3786"
             ],
             [
              0.5555555555555556,
              "#d8576b"
             ],
             [
              0.6666666666666666,
              "#ed7953"
             ],
             [
              0.7777777777777778,
              "#fb9f3a"
             ],
             [
              0.8888888888888888,
              "#fdca26"
             ],
             [
              1,
              "#f0f921"
             ]
            ],
            "type": "surface"
           }
          ],
          "table": [
           {
            "cells": {
             "fill": {
              "color": "#EBF0F8"
             },
             "line": {
              "color": "white"
             }
            },
            "header": {
             "fill": {
              "color": "#C8D4E3"
             },
             "line": {
              "color": "white"
             }
            },
            "type": "table"
           }
          ]
         },
         "layout": {
          "annotationdefaults": {
           "arrowcolor": "#2a3f5f",
           "arrowhead": 0,
           "arrowwidth": 1
          },
          "autotypenumbers": "strict",
          "coloraxis": {
           "colorbar": {
            "outlinewidth": 0,
            "ticks": ""
           }
          },
          "colorscale": {
           "diverging": [
            [
             0,
             "#8e0152"
            ],
            [
             0.1,
             "#c51b7d"
            ],
            [
             0.2,
             "#de77ae"
            ],
            [
             0.3,
             "#f1b6da"
            ],
            [
             0.4,
             "#fde0ef"
            ],
            [
             0.5,
             "#f7f7f7"
            ],
            [
             0.6,
             "#e6f5d0"
            ],
            [
             0.7,
             "#b8e186"
            ],
            [
             0.8,
             "#7fbc41"
            ],
            [
             0.9,
             "#4d9221"
            ],
            [
             1,
             "#276419"
            ]
           ],
           "sequential": [
            [
             0,
             "#0d0887"
            ],
            [
             0.1111111111111111,
             "#46039f"
            ],
            [
             0.2222222222222222,
             "#7201a8"
            ],
            [
             0.3333333333333333,
             "#9c179e"
            ],
            [
             0.4444444444444444,
             "#bd3786"
            ],
            [
             0.5555555555555556,
             "#d8576b"
            ],
            [
             0.6666666666666666,
             "#ed7953"
            ],
            [
             0.7777777777777778,
             "#fb9f3a"
            ],
            [
             0.8888888888888888,
             "#fdca26"
            ],
            [
             1,
             "#f0f921"
            ]
           ],
           "sequentialminus": [
            [
             0,
             "#0d0887"
            ],
            [
             0.1111111111111111,
             "#46039f"
            ],
            [
             0.2222222222222222,
             "#7201a8"
            ],
            [
             0.3333333333333333,
             "#9c179e"
            ],
            [
             0.4444444444444444,
             "#bd3786"
            ],
            [
             0.5555555555555556,
             "#d8576b"
            ],
            [
             0.6666666666666666,
             "#ed7953"
            ],
            [
             0.7777777777777778,
             "#fb9f3a"
            ],
            [
             0.8888888888888888,
             "#fdca26"
            ],
            [
             1,
             "#f0f921"
            ]
           ]
          },
          "colorway": [
           "#636efa",
           "#EF553B",
           "#00cc96",
           "#ab63fa",
           "#FFA15A",
           "#19d3f3",
           "#FF6692",
           "#B6E880",
           "#FF97FF",
           "#FECB52"
          ],
          "font": {
           "color": "#2a3f5f"
          },
          "geo": {
           "bgcolor": "white",
           "lakecolor": "white",
           "landcolor": "#E5ECF6",
           "showlakes": true,
           "showland": true,
           "subunitcolor": "white"
          },
          "hoverlabel": {
           "align": "left"
          },
          "hovermode": "closest",
          "mapbox": {
           "style": "light"
          },
          "paper_bgcolor": "white",
          "plot_bgcolor": "#E5ECF6",
          "polar": {
           "angularaxis": {
            "gridcolor": "white",
            "linecolor": "white",
            "ticks": ""
           },
           "bgcolor": "#E5ECF6",
           "radialaxis": {
            "gridcolor": "white",
            "linecolor": "white",
            "ticks": ""
           }
          },
          "scene": {
           "xaxis": {
            "backgroundcolor": "#E5ECF6",
            "gridcolor": "white",
            "gridwidth": 2,
            "linecolor": "white",
            "showbackground": true,
            "ticks": "",
            "zerolinecolor": "white"
           },
           "yaxis": {
            "backgroundcolor": "#E5ECF6",
            "gridcolor": "white",
            "gridwidth": 2,
            "linecolor": "white",
            "showbackground": true,
            "ticks": "",
            "zerolinecolor": "white"
           },
           "zaxis": {
            "backgroundcolor": "#E5ECF6",
            "gridcolor": "white",
            "gridwidth": 2,
            "linecolor": "white",
            "showbackground": true,
            "ticks": "",
            "zerolinecolor": "white"
           }
          },
          "shapedefaults": {
           "line": {
            "color": "#2a3f5f"
           }
          },
          "ternary": {
           "aaxis": {
            "gridcolor": "white",
            "linecolor": "white",
            "ticks": ""
           },
           "baxis": {
            "gridcolor": "white",
            "linecolor": "white",
            "ticks": ""
           },
           "bgcolor": "#E5ECF6",
           "caxis": {
            "gridcolor": "white",
            "linecolor": "white",
            "ticks": ""
           }
          },
          "title": {
           "x": 0.05
          },
          "xaxis": {
           "automargin": true,
           "gridcolor": "white",
           "linecolor": "white",
           "ticks": "",
           "title": {
            "standoff": 15
           },
           "zerolinecolor": "white",
           "zerolinewidth": 2
          },
          "yaxis": {
           "automargin": true,
           "gridcolor": "white",
           "linecolor": "white",
           "ticks": "",
           "title": {
            "standoff": 15
           },
           "zerolinecolor": "white",
           "zerolinewidth": 2
          }
         }
        },
        "title": {
         "text": "Slice Plot"
        },
        "width": 2100,
        "xaxis": {
         "anchor": "y",
         "domain": [
          0,
          0.1183673469387755
         ],
         "title": {
          "text": "alpha"
         }
        },
        "xaxis2": {
         "anchor": "y2",
         "domain": [
          0.14693877551020407,
          0.26530612244897955
         ],
         "title": {
          "text": "colsample_bytree"
         }
        },
        "xaxis3": {
         "anchor": "y3",
         "domain": [
          0.29387755102040813,
          0.4122448979591836
         ],
         "title": {
          "text": "eta"
         },
         "type": "log"
        },
        "xaxis4": {
         "anchor": "y4",
         "domain": [
          0.4408163265306122,
          0.5591836734693877
         ],
         "title": {
          "text": "lambda"
         }
        },
        "xaxis5": {
         "anchor": "y5",
         "domain": [
          0.5877551020408163,
          0.7061224489795918
         ],
         "title": {
          "text": "max_depth"
         }
        },
        "xaxis6": {
         "anchor": "y6",
         "domain": [
          0.7346938775510204,
          0.8530612244897959
         ],
         "title": {
          "text": "min_child_weight"
         }
        },
        "xaxis7": {
         "anchor": "y7",
         "domain": [
          0.8816326530612244,
          0.9999999999999999
         ],
         "title": {
          "text": "subsample"
         }
        },
        "yaxis": {
         "anchor": "x",
         "domain": [
          0,
          1
         ],
         "title": {
          "text": "Objective Value"
         }
        },
        "yaxis2": {
         "anchor": "x2",
         "domain": [
          0,
          1
         ],
         "matches": "y",
         "showticklabels": false
        },
        "yaxis3": {
         "anchor": "x3",
         "domain": [
          0,
          1
         ],
         "matches": "y",
         "showticklabels": false
        },
        "yaxis4": {
         "anchor": "x4",
         "domain": [
          0,
          1
         ],
         "matches": "y",
         "showticklabels": false
        },
        "yaxis5": {
         "anchor": "x5",
         "domain": [
          0,
          1
         ],
         "matches": "y",
         "showticklabels": false
        },
        "yaxis6": {
         "anchor": "x6",
         "domain": [
          0,
          1
         ],
         "matches": "y",
         "showticklabels": false
        },
        "yaxis7": {
         "anchor": "x7",
         "domain": [
          0,
          1
         ],
         "matches": "y",
         "showticklabels": false
        }
       }
      }
     },
     "metadata": {},
     "output_type": "display_data"
    }
   ],
   "source": [
    "# 1. Best trial summary\n",
    "best = xgb_study1.best_trial\n",
    "print(f\"✅ Best AUC: {best.value:.6f}\")\n",
    "print(\"✅ Best Parameters:\")\n",
    "for k, v in best.params.items():\n",
    "    print(f\"  {k}: {v}\")\n",
    "\n",
    "# 2. Trial counts\n",
    "completed = sum(t.state == optuna.trial.TrialState.COMPLETE for t in xgb_study1.trials)\n",
    "pruned = sum(t.state == optuna.trial.TrialState.PRUNED for t in xgb_study1.trials)\n",
    "print(f\"\\nTrials Completed: {completed}\")\n",
    "print(f\"🪓 Trials Pruned:    {pruned}\")\n",
    "print(f\"🧮 Total Trials:     {len(xgb_study1.trials)}\")\n",
    "\n",
    "# 3. Optimization history (interactive)\n",
    "vis.plot_optimization_history(xgb_study1).show()\n",
    "\n",
    "# 4. Parameter importances (interactive)\n",
    "vis.plot_param_importances(xgb_study1).show()\n",
    "\n",
    "vis.plot_slice(xgb_study1).show()"
   ]
  },
  {
   "cell_type": "code",
   "execution_count": null,
   "id": "b3cdcc45",
   "metadata": {},
   "outputs": [],
   "source": [
    "def xgb_objective_step2(trial):\n",
    "    params = {\n",
    "        \"tree_method\": \"hist\", \n",
    "        \"device\": \"cuda\",\n",
    "        \"objective\": \"binary:logistic\",\n",
    "        \"eval_metric\": \"auc\",\n",
    "        \n",
    "        \"eta\": trial.suggest_float(\"eta\", 1e-3, 0.3, log=True),\n",
    "        \"max_depth\": trial.suggest_int(\"max_depth\", \n",
    "                                       int(xgb_study1.best_trial.params[\"max_depth\"] * 0.7),\n",
    "                                       int(xgb_study1.best_trial.params[\"max_depth\"] * 1.3)),\n",
    "        \"alpha\": trial.suggest_float(\"alpha\", \n",
    "                                     xgb_study1.best_trial.params[\"alpha\"] * 0.7, \n",
    "                                     xgb_study1.best_trial.params[\"alpha\"] * 1.3),\n",
    "        \n",
    "        \"subsample\": trial.suggest_float(\"subsample\", \n",
    "                                         xgb_study1.best_trial.params[\"subsample\"] * 0.7, \n",
    "                                         min(xgb_study1.best_trial.params[\"subsample\"] * 1.3, 1.0)),\n",
    "        \"colsample_bytree\": trial.suggest_float(\"colsample_bytree\", \n",
    "                                                xgb_study1.best_trial.params[\"colsample_bytree\"] * 0.7, \n",
    "                                                min(xgb_study1.best_trial.params[\"colsample_bytree\"] * 1.3, 1.0)),\n",
    "        \n",
    "        # Fix low importance hyperparameters\n",
    "        \"lambda\": xgb_study1.best_trial.params[\"lambda\"],\n",
    "        \"min_child_weight\": xgb_study1.best_trial.params[\"min_child_weight\"],\n",
    "    }\n",
    "\n",
    "    split_folder = 'train/xgboost/step2/data'\n",
    "    nested_folder = 'train/xgboost/step2/data/training'\n",
    "    \n",
    "    subsample = file_subsample(f'higgs_data/train.parquet', split_folder, sample_fraction=0.2)\n",
    "    train_valid_pool, holdout_set = file_train_test_split(subsample, split_folder, test_size=0.15)\n",
    "    train_set, valid_set = file_train_test_split(train_valid_pool, nested_folder, test_size=0.1739)\n",
    "    \n",
    "    # Ensure no headers in the csv files for XGBoost\n",
    "    train_set = csv_no_headers(train_set)\n",
    "    valid_set = csv_no_headers(valid_set)\n",
    "    holdout_set = csv_no_headers(holdout_set)\n",
    "\n",
    "\n",
    "    dtrain = xgb.DMatrix(f\"{train_set}?format=csv&label_column=0\")\n",
    "    dvalid = xgb.DMatrix(f\"{valid_set}?format=csv&label_column=0\")\n",
    "\n",
    "    # Absolutely no logging\n",
    "    with open(os.devnull, 'w') as fnull:\n",
    "        with redirect_stdout(fnull), redirect_stderr(fnull):\n",
    "            model = xgb.train(\n",
    "                params,\n",
    "                dtrain,\n",
    "                num_boost_round=1000,\n",
    "                evals=[(dvalid, \"validation\")],\n",
    "                early_stopping_rounds=50,\n",
    "                callbacks=[XGBoostPruningCallback(trial, \"validation-auc\")]\n",
    "            )\n",
    "\n",
    "\n",
    "    dtest = xgb.DMatrix(f\"{holdout_set}?format=csv&label_column=0\")\n",
    "    preds = model.predict(dtest)\n",
    "    auc = roc_auc_score(dtest.get_label(), preds)\n",
    "\n",
    "    # Free up memory\n",
    "    del model, dtrain, dvalid, dtest, preds\n",
    "    gc.collect()\n",
    "\n",
    "    return auc"
   ]
  },
  {
   "cell_type": "code",
   "execution_count": 156,
   "id": "92da48c1",
   "metadata": {},
   "outputs": [
    {
     "name": "stderr",
     "output_type": "stream",
     "text": [
      "[I 2025-06-17 13:08:06,345] A new study created in memory with name: xgb_step2\n",
      "[I 2025-06-17 13:09:39,781] Trial 0 finished with value: 0.8131822469617052 and parameters: {'eta': 0.002014275037363308, 'max_depth': 11, 'alpha': 6.093370510065583, 'subsample': 0.942480314066839, 'colsample_bytree': 0.8784256213468215}. Best is trial 0 with value: 0.8131822469617052.\n",
      "[I 2025-06-17 13:10:32,556] Trial 1 finished with value: 0.8367540392128676 and parameters: {'eta': 0.06288501407667266, 'max_depth': 9, 'alpha': 4.187083387997569, 'subsample': 0.6887483939886239, 'colsample_bytree': 0.6719756522879268}. Best is trial 1 with value: 0.8367540392128676.\n",
      "[I 2025-06-17 13:10:56,366] Trial 2 pruned. Trial was pruned at iteration 100.\n",
      "[I 2025-06-17 13:12:14,081] Trial 3 finished with value: 0.8381918049316429 and parameters: {'eta': 0.07693472183343705, 'max_depth': 15, 'alpha': 5.197717170740028, 'subsample': 0.7897349603850201, 'colsample_bytree': 0.691269726012563}. Best is trial 3 with value: 0.8381918049316429.\n",
      "[I 2025-06-17 13:12:39,589] Trial 4 pruned. Trial was pruned at iteration 100.\n",
      "[I 2025-06-17 13:13:14,810] Trial 5 pruned. Trial was pruned at iteration 300.\n",
      "[I 2025-06-17 13:13:44,417] Trial 6 pruned. Trial was pruned at iteration 100.\n",
      "[I 2025-06-17 13:14:18,591] Trial 7 pruned. Trial was pruned at iteration 300.\n",
      "[I 2025-06-17 13:15:25,099] Trial 8 finished with value: 0.8407618470158926 and parameters: {'eta': 0.0654373025980467, 'max_depth': 11, 'alpha': 5.649740885983125, 'subsample': 0.9034744469147151, 'colsample_bytree': 0.9486380973938209}. Best is trial 8 with value: 0.8407618470158926.\n",
      "[I 2025-06-17 13:15:49,213] Trial 9 pruned. Trial was pruned at iteration 100.\n",
      "[I 2025-06-17 13:16:20,197] Trial 10 pruned. Trial was pruned at iteration 100.\n",
      "[I 2025-06-17 13:16:51,365] Trial 11 finished with value: 0.8290604050529997 and parameters: {'eta': 0.29814094881813863, 'max_depth': 15, 'alpha': 5.231269541023337, 'subsample': 0.875746897004477, 'colsample_bytree': 0.7918866399491845}. Best is trial 8 with value: 0.8407618470158926.\n",
      "[I 2025-06-17 13:17:26,532] Trial 12 finished with value: 0.8315714219250026 and parameters: {'eta': 0.25285992959760223, 'max_depth': 15, 'alpha': 5.787428483969095, 'subsample': 0.8908338432131774, 'colsample_bytree': 0.8788958021793277}. Best is trial 8 with value: 0.8407618470158926.\n",
      "[I 2025-06-17 13:17:58,133] Trial 13 pruned. Trial was pruned at iteration 100.\n",
      "[I 2025-06-17 13:18:29,730] Trial 14 pruned. Trial was pruned at iteration 100.\n",
      "[I 2025-06-17 13:19:34,690] Trial 15 finished with value: 0.839730554387009 and parameters: {'eta': 0.11961903154563039, 'max_depth': 14, 'alpha': 5.922491327000392, 'subsample': 0.999550057999042, 'colsample_bytree': 0.9274727769818037}. Best is trial 8 with value: 0.8407618470158926.\n",
      "[I 2025-06-17 13:20:24,093] Trial 16 finished with value: 0.8383603393185217 and parameters: {'eta': 0.150952976900703, 'max_depth': 14, 'alpha': 5.936520882240088, 'subsample': 0.9921559451150825, 'colsample_bytree': 0.9297936366763442}. Best is trial 8 with value: 0.8407618470158926.\n",
      "[I 2025-06-17 13:20:53,830] Trial 17 pruned. Trial was pruned at iteration 100.\n",
      "[I 2025-06-17 13:21:24,282] Trial 18 pruned. Trial was pruned at iteration 300.\n",
      "[I 2025-06-17 13:21:57,850] Trial 19 pruned. Trial was pruned at iteration 100.\n",
      "[I 2025-06-17 13:22:29,587] Trial 20 pruned. Trial was pruned at iteration 300.\n",
      "[I 2025-06-17 13:23:17,526] Trial 21 finished with value: 0.8377545259572563 and parameters: {'eta': 0.15007202742469097, 'max_depth': 14, 'alpha': 5.923463093677819, 'subsample': 0.9993300588518361, 'colsample_bytree': 0.9344012773714956}. Best is trial 8 with value: 0.8407618470158926.\n",
      "[I 2025-06-17 13:24:00,696] Trial 22 pruned. Trial was pruned at iteration 300.\n",
      "[I 2025-06-17 13:24:38,003] Trial 23 pruned. Trial was pruned at iteration 300.\n",
      "[I 2025-06-17 13:25:10,112] Trial 24 pruned. Trial was pruned at iteration 100.\n",
      "[I 2025-06-17 13:25:42,276] Trial 25 pruned. Trial was pruned at iteration 100.\n",
      "[I 2025-06-17 13:26:37,084] Trial 26 finished with value: 0.8400719531372898 and parameters: {'eta': 0.11288896428253602, 'max_depth': 12, 'alpha': 6.209646336996585, 'subsample': 0.9654091648517275, 'colsample_bytree': 0.9577875950123117}. Best is trial 8 with value: 0.8407618470158926.\n",
      "[I 2025-06-17 13:27:01,157] Trial 27 pruned. Trial was pruned at iteration 100.\n",
      "[I 2025-06-17 13:28:01,661] Trial 28 finished with value: 0.8401332440780029 and parameters: {'eta': 0.11037544425341059, 'max_depth': 12, 'alpha': 6.36224426732275, 'subsample': 0.9598436040832028, 'colsample_bytree': 0.8338250866538252}. Best is trial 8 with value: 0.8407618470158926.\n",
      "[I 2025-06-17 13:28:29,725] Trial 29 pruned. Trial was pruned at iteration 100.\n",
      "[I 2025-06-17 13:28:59,094] Trial 30 pruned. Trial was pruned at iteration 100.\n",
      "[I 2025-06-17 13:29:58,073] Trial 31 finished with value: 0.8396085536344415 and parameters: {'eta': 0.10542072505796499, 'max_depth': 12, 'alpha': 6.132212956642914, 'subsample': 0.9375645020337299, 'colsample_bytree': 0.9012272474970026}. Best is trial 8 with value: 0.8407618470158926.\n",
      "[I 2025-06-17 13:30:23,372] Trial 32 pruned. Trial was pruned at iteration 100.\n",
      "[I 2025-06-17 13:30:57,059] Trial 33 pruned. Trial was pruned at iteration 300.\n",
      "[I 2025-06-17 13:31:37,662] Trial 34 pruned. Trial was pruned at iteration 300.\n",
      "[I 2025-06-17 13:32:00,879] Trial 35 pruned. Trial was pruned at iteration 100.\n",
      "[I 2025-06-17 13:32:26,241] Trial 36 pruned. Trial was pruned at iteration 100.\n",
      "[I 2025-06-17 13:32:58,335] Trial 37 pruned. Trial was pruned at iteration 100.\n",
      "[I 2025-06-17 13:33:22,709] Trial 38 pruned. Trial was pruned at iteration 100.\n",
      "[I 2025-06-17 13:33:58,090] Trial 39 finished with value: 0.8337331574387159 and parameters: {'eta': 0.23285400806708845, 'max_depth': 11, 'alpha': 5.518320448925012, 'subsample': 0.9759122504836935, 'colsample_bytree': 0.7972012919296692}. Best is trial 8 with value: 0.8407618470158926.\n",
      "[I 2025-06-17 13:34:29,130] Trial 40 pruned. Trial was pruned at iteration 100.\n",
      "[I 2025-06-17 13:35:06,332] Trial 41 pruned. Trial was pruned at iteration 300.\n",
      "[I 2025-06-17 13:35:36,141] Trial 42 pruned. Trial was pruned at iteration 100.\n",
      "[I 2025-06-17 13:36:02,206] Trial 43 pruned. Trial was pruned at iteration 100.\n",
      "[I 2025-06-17 13:36:32,021] Trial 44 pruned. Trial was pruned at iteration 100.\n",
      "[I 2025-06-17 13:37:08,743] Trial 45 finished with value: 0.8301408199108283 and parameters: {'eta': 0.29779026756110977, 'max_depth': 15, 'alpha': 6.021171087640404, 'subsample': 0.978144073185518, 'colsample_bytree': 0.9194312192106034}. Best is trial 8 with value: 0.8407618470158926.\n",
      "[I 2025-06-17 13:37:38,681] Trial 46 pruned. Trial was pruned at iteration 100.\n",
      "[I 2025-06-17 13:38:14,605] Trial 47 pruned. Trial was pruned at iteration 300.\n",
      "[I 2025-06-17 13:38:38,356] Trial 48 pruned. Trial was pruned at iteration 100.\n",
      "[I 2025-06-17 13:39:15,032] Trial 49 pruned. Trial was pruned at iteration 300.\n"
     ]
    }
   ],
   "source": [
    "xgb_study2 = optuna.create_study(\n",
    "    study_name=\"xgb_step2\", \n",
    "    direction=\"maximize\",\n",
    "    pruner=SuccessiveHalvingPruner(\n",
    "        min_resource=100,\n",
    "        reduction_factor=3,\n",
    "    )\n",
    ")\n",
    "\n",
    "xgb_study2.optimize(xgb_objective_step2, n_trials=50)"
   ]
  },
  {
   "cell_type": "code",
   "execution_count": 157,
   "id": "b1347192",
   "metadata": {},
   "outputs": [
    {
     "name": "stdout",
     "output_type": "stream",
     "text": [
      "✅ Best AUC: 0.840762\n",
      "✅ Best Parameters:\n",
      "  eta: 0.0654373025980467\n",
      "  max_depth: 11\n",
      "  alpha: 5.649740885983125\n",
      "  subsample: 0.9034744469147151\n",
      "  colsample_bytree: 0.9486380973938209\n",
      "\n",
      "Trials Completed: 14\n",
      "🪓 Trials Pruned:    36\n",
      "🧮 Total Trials:     50\n"
     ]
    },
    {
     "data": {
      "application/vnd.plotly.v1+json": {
       "config": {
        "plotlyServerURL": "https://plot.ly"
       },
       "data": [
        {
         "mode": "markers",
         "name": "Objective Value",
         "type": "scatter",
         "x": [
          0,
          1,
          3,
          8,
          11,
          12,
          15,
          16,
          21,
          26,
          28,
          31,
          39,
          45
         ],
         "y": [
          0.8131822469617052,
          0.8367540392128676,
          0.8381918049316429,
          0.8407618470158926,
          0.8290604050529997,
          0.8315714219250026,
          0.839730554387009,
          0.8383603393185217,
          0.8377545259572563,
          0.8400719531372898,
          0.8401332440780029,
          0.8396085536344415,
          0.8337331574387159,
          0.8301408199108283
         ]
        },
        {
         "mode": "lines",
         "name": "Best Value",
         "type": "scatter",
         "x": [
          0,
          1,
          2,
          3,
          4,
          5,
          6,
          7,
          8,
          9,
          10,
          11,
          12,
          13,
          14,
          15,
          16,
          17,
          18,
          19,
          20,
          21,
          22,
          23,
          24,
          25,
          26,
          27,
          28,
          29,
          30,
          31,
          32,
          33,
          34,
          35,
          36,
          37,
          38,
          39,
          40,
          41,
          42,
          43,
          44,
          45,
          46,
          47,
          48,
          49
         ],
         "y": [
          0.8131822469617052,
          0.8367540392128676,
          0.8367540392128676,
          0.8381918049316429,
          0.8381918049316429,
          0.8381918049316429,
          0.8381918049316429,
          0.8381918049316429,
          0.8407618470158926,
          0.8407618470158926,
          0.8407618470158926,
          0.8407618470158926,
          0.8407618470158926,
          0.8407618470158926,
          0.8407618470158926,
          0.8407618470158926,
          0.8407618470158926,
          0.8407618470158926,
          0.8407618470158926,
          0.8407618470158926,
          0.8407618470158926,
          0.8407618470158926,
          0.8407618470158926,
          0.8407618470158926,
          0.8407618470158926,
          0.8407618470158926,
          0.8407618470158926,
          0.8407618470158926,
          0.8407618470158926,
          0.8407618470158926,
          0.8407618470158926,
          0.8407618470158926,
          0.8407618470158926,
          0.8407618470158926,
          0.8407618470158926,
          0.8407618470158926,
          0.8407618470158926,
          0.8407618470158926,
          0.8407618470158926,
          0.8407618470158926,
          0.8407618470158926,
          0.8407618470158926,
          0.8407618470158926,
          0.8407618470158926,
          0.8407618470158926,
          0.8407618470158926,
          0.8407618470158926,
          0.8407618470158926,
          0.8407618470158926,
          0.8407618470158926
         ]
        },
        {
         "marker": {
          "color": "#cccccc"
         },
         "mode": "markers",
         "name": "Infeasible Trial",
         "showlegend": false,
         "type": "scatter",
         "x": [],
         "y": []
        }
       ],
       "layout": {
        "template": {
         "data": {
          "bar": [
           {
            "error_x": {
             "color": "#2a3f5f"
            },
            "error_y": {
             "color": "#2a3f5f"
            },
            "marker": {
             "line": {
              "color": "#E5ECF6",
              "width": 0.5
             },
             "pattern": {
              "fillmode": "overlay",
              "size": 10,
              "solidity": 0.2
             }
            },
            "type": "bar"
           }
          ],
          "barpolar": [
           {
            "marker": {
             "line": {
              "color": "#E5ECF6",
              "width": 0.5
             },
             "pattern": {
              "fillmode": "overlay",
              "size": 10,
              "solidity": 0.2
             }
            },
            "type": "barpolar"
           }
          ],
          "carpet": [
           {
            "aaxis": {
             "endlinecolor": "#2a3f5f",
             "gridcolor": "white",
             "linecolor": "white",
             "minorgridcolor": "white",
             "startlinecolor": "#2a3f5f"
            },
            "baxis": {
             "endlinecolor": "#2a3f5f",
             "gridcolor": "white",
             "linecolor": "white",
             "minorgridcolor": "white",
             "startlinecolor": "#2a3f5f"
            },
            "type": "carpet"
           }
          ],
          "choropleth": [
           {
            "colorbar": {
             "outlinewidth": 0,
             "ticks": ""
            },
            "type": "choropleth"
           }
          ],
          "contour": [
           {
            "colorbar": {
             "outlinewidth": 0,
             "ticks": ""
            },
            "colorscale": [
             [
              0,
              "#0d0887"
             ],
             [
              0.1111111111111111,
              "#46039f"
             ],
             [
              0.2222222222222222,
              "#7201a8"
             ],
             [
              0.3333333333333333,
              "#9c179e"
             ],
             [
              0.4444444444444444,
              "#bd3786"
             ],
             [
              0.5555555555555556,
              "#d8576b"
             ],
             [
              0.6666666666666666,
              "#ed7953"
             ],
             [
              0.7777777777777778,
              "#fb9f3a"
             ],
             [
              0.8888888888888888,
              "#fdca26"
             ],
             [
              1,
              "#f0f921"
             ]
            ],
            "type": "contour"
           }
          ],
          "contourcarpet": [
           {
            "colorbar": {
             "outlinewidth": 0,
             "ticks": ""
            },
            "type": "contourcarpet"
           }
          ],
          "heatmap": [
           {
            "colorbar": {
             "outlinewidth": 0,
             "ticks": ""
            },
            "colorscale": [
             [
              0,
              "#0d0887"
             ],
             [
              0.1111111111111111,
              "#46039f"
             ],
             [
              0.2222222222222222,
              "#7201a8"
             ],
             [
              0.3333333333333333,
              "#9c179e"
             ],
             [
              0.4444444444444444,
              "#bd3786"
             ],
             [
              0.5555555555555556,
              "#d8576b"
             ],
             [
              0.6666666666666666,
              "#ed7953"
             ],
             [
              0.7777777777777778,
              "#fb9f3a"
             ],
             [
              0.8888888888888888,
              "#fdca26"
             ],
             [
              1,
              "#f0f921"
             ]
            ],
            "type": "heatmap"
           }
          ],
          "heatmapgl": [
           {
            "colorbar": {
             "outlinewidth": 0,
             "ticks": ""
            },
            "colorscale": [
             [
              0,
              "#0d0887"
             ],
             [
              0.1111111111111111,
              "#46039f"
             ],
             [
              0.2222222222222222,
              "#7201a8"
             ],
             [
              0.3333333333333333,
              "#9c179e"
             ],
             [
              0.4444444444444444,
              "#bd3786"
             ],
             [
              0.5555555555555556,
              "#d8576b"
             ],
             [
              0.6666666666666666,
              "#ed7953"
             ],
             [
              0.7777777777777778,
              "#fb9f3a"
             ],
             [
              0.8888888888888888,
              "#fdca26"
             ],
             [
              1,
              "#f0f921"
             ]
            ],
            "type": "heatmapgl"
           }
          ],
          "histogram": [
           {
            "marker": {
             "pattern": {
              "fillmode": "overlay",
              "size": 10,
              "solidity": 0.2
             }
            },
            "type": "histogram"
           }
          ],
          "histogram2d": [
           {
            "colorbar": {
             "outlinewidth": 0,
             "ticks": ""
            },
            "colorscale": [
             [
              0,
              "#0d0887"
             ],
             [
              0.1111111111111111,
              "#46039f"
             ],
             [
              0.2222222222222222,
              "#7201a8"
             ],
             [
              0.3333333333333333,
              "#9c179e"
             ],
             [
              0.4444444444444444,
              "#bd3786"
             ],
             [
              0.5555555555555556,
              "#d8576b"
             ],
             [
              0.6666666666666666,
              "#ed7953"
             ],
             [
              0.7777777777777778,
              "#fb9f3a"
             ],
             [
              0.8888888888888888,
              "#fdca26"
             ],
             [
              1,
              "#f0f921"
             ]
            ],
            "type": "histogram2d"
           }
          ],
          "histogram2dcontour": [
           {
            "colorbar": {
             "outlinewidth": 0,
             "ticks": ""
            },
            "colorscale": [
             [
              0,
              "#0d0887"
             ],
             [
              0.1111111111111111,
              "#46039f"
             ],
             [
              0.2222222222222222,
              "#7201a8"
             ],
             [
              0.3333333333333333,
              "#9c179e"
             ],
             [
              0.4444444444444444,
              "#bd3786"
             ],
             [
              0.5555555555555556,
              "#d8576b"
             ],
             [
              0.6666666666666666,
              "#ed7953"
             ],
             [
              0.7777777777777778,
              "#fb9f3a"
             ],
             [
              0.8888888888888888,
              "#fdca26"
             ],
             [
              1,
              "#f0f921"
             ]
            ],
            "type": "histogram2dcontour"
           }
          ],
          "mesh3d": [
           {
            "colorbar": {
             "outlinewidth": 0,
             "ticks": ""
            },
            "type": "mesh3d"
           }
          ],
          "parcoords": [
           {
            "line": {
             "colorbar": {
              "outlinewidth": 0,
              "ticks": ""
             }
            },
            "type": "parcoords"
           }
          ],
          "pie": [
           {
            "automargin": true,
            "type": "pie"
           }
          ],
          "scatter": [
           {
            "fillpattern": {
             "fillmode": "overlay",
             "size": 10,
             "solidity": 0.2
            },
            "type": "scatter"
           }
          ],
          "scatter3d": [
           {
            "line": {
             "colorbar": {
              "outlinewidth": 0,
              "ticks": ""
             }
            },
            "marker": {
             "colorbar": {
              "outlinewidth": 0,
              "ticks": ""
             }
            },
            "type": "scatter3d"
           }
          ],
          "scattercarpet": [
           {
            "marker": {
             "colorbar": {
              "outlinewidth": 0,
              "ticks": ""
             }
            },
            "type": "scattercarpet"
           }
          ],
          "scattergeo": [
           {
            "marker": {
             "colorbar": {
              "outlinewidth": 0,
              "ticks": ""
             }
            },
            "type": "scattergeo"
           }
          ],
          "scattergl": [
           {
            "marker": {
             "colorbar": {
              "outlinewidth": 0,
              "ticks": ""
             }
            },
            "type": "scattergl"
           }
          ],
          "scattermapbox": [
           {
            "marker": {
             "colorbar": {
              "outlinewidth": 0,
              "ticks": ""
             }
            },
            "type": "scattermapbox"
           }
          ],
          "scatterpolar": [
           {
            "marker": {
             "colorbar": {
              "outlinewidth": 0,
              "ticks": ""
             }
            },
            "type": "scatterpolar"
           }
          ],
          "scatterpolargl": [
           {
            "marker": {
             "colorbar": {
              "outlinewidth": 0,
              "ticks": ""
             }
            },
            "type": "scatterpolargl"
           }
          ],
          "scatterternary": [
           {
            "marker": {
             "colorbar": {
              "outlinewidth": 0,
              "ticks": ""
             }
            },
            "type": "scatterternary"
           }
          ],
          "surface": [
           {
            "colorbar": {
             "outlinewidth": 0,
             "ticks": ""
            },
            "colorscale": [
             [
              0,
              "#0d0887"
             ],
             [
              0.1111111111111111,
              "#46039f"
             ],
             [
              0.2222222222222222,
              "#7201a8"
             ],
             [
              0.3333333333333333,
              "#9c179e"
             ],
             [
              0.4444444444444444,
              "#bd3786"
             ],
             [
              0.5555555555555556,
              "#d8576b"
             ],
             [
              0.6666666666666666,
              "#ed7953"
             ],
             [
              0.7777777777777778,
              "#fb9f3a"
             ],
             [
              0.8888888888888888,
              "#fdca26"
             ],
             [
              1,
              "#f0f921"
             ]
            ],
            "type": "surface"
           }
          ],
          "table": [
           {
            "cells": {
             "fill": {
              "color": "#EBF0F8"
             },
             "line": {
              "color": "white"
             }
            },
            "header": {
             "fill": {
              "color": "#C8D4E3"
             },
             "line": {
              "color": "white"
             }
            },
            "type": "table"
           }
          ]
         },
         "layout": {
          "annotationdefaults": {
           "arrowcolor": "#2a3f5f",
           "arrowhead": 0,
           "arrowwidth": 1
          },
          "autotypenumbers": "strict",
          "coloraxis": {
           "colorbar": {
            "outlinewidth": 0,
            "ticks": ""
           }
          },
          "colorscale": {
           "diverging": [
            [
             0,
             "#8e0152"
            ],
            [
             0.1,
             "#c51b7d"
            ],
            [
             0.2,
             "#de77ae"
            ],
            [
             0.3,
             "#f1b6da"
            ],
            [
             0.4,
             "#fde0ef"
            ],
            [
             0.5,
             "#f7f7f7"
            ],
            [
             0.6,
             "#e6f5d0"
            ],
            [
             0.7,
             "#b8e186"
            ],
            [
             0.8,
             "#7fbc41"
            ],
            [
             0.9,
             "#4d9221"
            ],
            [
             1,
             "#276419"
            ]
           ],
           "sequential": [
            [
             0,
             "#0d0887"
            ],
            [
             0.1111111111111111,
             "#46039f"
            ],
            [
             0.2222222222222222,
             "#7201a8"
            ],
            [
             0.3333333333333333,
             "#9c179e"
            ],
            [
             0.4444444444444444,
             "#bd3786"
            ],
            [
             0.5555555555555556,
             "#d8576b"
            ],
            [
             0.6666666666666666,
             "#ed7953"
            ],
            [
             0.7777777777777778,
             "#fb9f3a"
            ],
            [
             0.8888888888888888,
             "#fdca26"
            ],
            [
             1,
             "#f0f921"
            ]
           ],
           "sequentialminus": [
            [
             0,
             "#0d0887"
            ],
            [
             0.1111111111111111,
             "#46039f"
            ],
            [
             0.2222222222222222,
             "#7201a8"
            ],
            [
             0.3333333333333333,
             "#9c179e"
            ],
            [
             0.4444444444444444,
             "#bd3786"
            ],
            [
             0.5555555555555556,
             "#d8576b"
            ],
            [
             0.6666666666666666,
             "#ed7953"
            ],
            [
             0.7777777777777778,
             "#fb9f3a"
            ],
            [
             0.8888888888888888,
             "#fdca26"
            ],
            [
             1,
             "#f0f921"
            ]
           ]
          },
          "colorway": [
           "#636efa",
           "#EF553B",
           "#00cc96",
           "#ab63fa",
           "#FFA15A",
           "#19d3f3",
           "#FF6692",
           "#B6E880",
           "#FF97FF",
           "#FECB52"
          ],
          "font": {
           "color": "#2a3f5f"
          },
          "geo": {
           "bgcolor": "white",
           "lakecolor": "white",
           "landcolor": "#E5ECF6",
           "showlakes": true,
           "showland": true,
           "subunitcolor": "white"
          },
          "hoverlabel": {
           "align": "left"
          },
          "hovermode": "closest",
          "mapbox": {
           "style": "light"
          },
          "paper_bgcolor": "white",
          "plot_bgcolor": "#E5ECF6",
          "polar": {
           "angularaxis": {
            "gridcolor": "white",
            "linecolor": "white",
            "ticks": ""
           },
           "bgcolor": "#E5ECF6",
           "radialaxis": {
            "gridcolor": "white",
            "linecolor": "white",
            "ticks": ""
           }
          },
          "scene": {
           "xaxis": {
            "backgroundcolor": "#E5ECF6",
            "gridcolor": "white",
            "gridwidth": 2,
            "linecolor": "white",
            "showbackground": true,
            "ticks": "",
            "zerolinecolor": "white"
           },
           "yaxis": {
            "backgroundcolor": "#E5ECF6",
            "gridcolor": "white",
            "gridwidth": 2,
            "linecolor": "white",
            "showbackground": true,
            "ticks": "",
            "zerolinecolor": "white"
           },
           "zaxis": {
            "backgroundcolor": "#E5ECF6",
            "gridcolor": "white",
            "gridwidth": 2,
            "linecolor": "white",
            "showbackground": true,
            "ticks": "",
            "zerolinecolor": "white"
           }
          },
          "shapedefaults": {
           "line": {
            "color": "#2a3f5f"
           }
          },
          "ternary": {
           "aaxis": {
            "gridcolor": "white",
            "linecolor": "white",
            "ticks": ""
           },
           "baxis": {
            "gridcolor": "white",
            "linecolor": "white",
            "ticks": ""
           },
           "bgcolor": "#E5ECF6",
           "caxis": {
            "gridcolor": "white",
            "linecolor": "white",
            "ticks": ""
           }
          },
          "title": {
           "x": 0.05
          },
          "xaxis": {
           "automargin": true,
           "gridcolor": "white",
           "linecolor": "white",
           "ticks": "",
           "title": {
            "standoff": 15
           },
           "zerolinecolor": "white",
           "zerolinewidth": 2
          },
          "yaxis": {
           "automargin": true,
           "gridcolor": "white",
           "linecolor": "white",
           "ticks": "",
           "title": {
            "standoff": 15
           },
           "zerolinecolor": "white",
           "zerolinewidth": 2
          }
         }
        },
        "title": {
         "text": "Optimization History Plot"
        },
        "xaxis": {
         "title": {
          "text": "Trial"
         }
        },
        "yaxis": {
         "title": {
          "text": "Objective Value"
         }
        }
       }
      }
     },
     "metadata": {},
     "output_type": "display_data"
    },
    {
     "data": {
      "application/vnd.plotly.v1+json": {
       "config": {
        "plotlyServerURL": "https://plot.ly"
       },
       "data": [
        {
         "cliponaxis": false,
         "hovertemplate": [
          "max_depth (IntDistribution): 0.011729622857722728<extra></extra>",
          "subsample (FloatDistribution): 0.011981342272558178<extra></extra>",
          "alpha (FloatDistribution): 0.03820176994508193<extra></extra>",
          "colsample_bytree (FloatDistribution): 0.043111844505098716<extra></extra>",
          "eta (FloatDistribution): 0.8949754204195385<extra></extra>"
         ],
         "name": "Objective Value",
         "orientation": "h",
         "text": [
          "0.01",
          "0.01",
          "0.04",
          "0.04",
          "0.89"
         ],
         "textposition": "outside",
         "type": "bar",
         "x": [
          0.011729622857722728,
          0.011981342272558178,
          0.03820176994508193,
          0.043111844505098716,
          0.8949754204195385
         ],
         "y": [
          "max_depth",
          "subsample",
          "alpha",
          "colsample_bytree",
          "eta"
         ]
        }
       ],
       "layout": {
        "template": {
         "data": {
          "bar": [
           {
            "error_x": {
             "color": "#2a3f5f"
            },
            "error_y": {
             "color": "#2a3f5f"
            },
            "marker": {
             "line": {
              "color": "#E5ECF6",
              "width": 0.5
             },
             "pattern": {
              "fillmode": "overlay",
              "size": 10,
              "solidity": 0.2
             }
            },
            "type": "bar"
           }
          ],
          "barpolar": [
           {
            "marker": {
             "line": {
              "color": "#E5ECF6",
              "width": 0.5
             },
             "pattern": {
              "fillmode": "overlay",
              "size": 10,
              "solidity": 0.2
             }
            },
            "type": "barpolar"
           }
          ],
          "carpet": [
           {
            "aaxis": {
             "endlinecolor": "#2a3f5f",
             "gridcolor": "white",
             "linecolor": "white",
             "minorgridcolor": "white",
             "startlinecolor": "#2a3f5f"
            },
            "baxis": {
             "endlinecolor": "#2a3f5f",
             "gridcolor": "white",
             "linecolor": "white",
             "minorgridcolor": "white",
             "startlinecolor": "#2a3f5f"
            },
            "type": "carpet"
           }
          ],
          "choropleth": [
           {
            "colorbar": {
             "outlinewidth": 0,
             "ticks": ""
            },
            "type": "choropleth"
           }
          ],
          "contour": [
           {
            "colorbar": {
             "outlinewidth": 0,
             "ticks": ""
            },
            "colorscale": [
             [
              0,
              "#0d0887"
             ],
             [
              0.1111111111111111,
              "#46039f"
             ],
             [
              0.2222222222222222,
              "#7201a8"
             ],
             [
              0.3333333333333333,
              "#9c179e"
             ],
             [
              0.4444444444444444,
              "#bd3786"
             ],
             [
              0.5555555555555556,
              "#d8576b"
             ],
             [
              0.6666666666666666,
              "#ed7953"
             ],
             [
              0.7777777777777778,
              "#fb9f3a"
             ],
             [
              0.8888888888888888,
              "#fdca26"
             ],
             [
              1,
              "#f0f921"
             ]
            ],
            "type": "contour"
           }
          ],
          "contourcarpet": [
           {
            "colorbar": {
             "outlinewidth": 0,
             "ticks": ""
            },
            "type": "contourcarpet"
           }
          ],
          "heatmap": [
           {
            "colorbar": {
             "outlinewidth": 0,
             "ticks": ""
            },
            "colorscale": [
             [
              0,
              "#0d0887"
             ],
             [
              0.1111111111111111,
              "#46039f"
             ],
             [
              0.2222222222222222,
              "#7201a8"
             ],
             [
              0.3333333333333333,
              "#9c179e"
             ],
             [
              0.4444444444444444,
              "#bd3786"
             ],
             [
              0.5555555555555556,
              "#d8576b"
             ],
             [
              0.6666666666666666,
              "#ed7953"
             ],
             [
              0.7777777777777778,
              "#fb9f3a"
             ],
             [
              0.8888888888888888,
              "#fdca26"
             ],
             [
              1,
              "#f0f921"
             ]
            ],
            "type": "heatmap"
           }
          ],
          "heatmapgl": [
           {
            "colorbar": {
             "outlinewidth": 0,
             "ticks": ""
            },
            "colorscale": [
             [
              0,
              "#0d0887"
             ],
             [
              0.1111111111111111,
              "#46039f"
             ],
             [
              0.2222222222222222,
              "#7201a8"
             ],
             [
              0.3333333333333333,
              "#9c179e"
             ],
             [
              0.4444444444444444,
              "#bd3786"
             ],
             [
              0.5555555555555556,
              "#d8576b"
             ],
             [
              0.6666666666666666,
              "#ed7953"
             ],
             [
              0.7777777777777778,
              "#fb9f3a"
             ],
             [
              0.8888888888888888,
              "#fdca26"
             ],
             [
              1,
              "#f0f921"
             ]
            ],
            "type": "heatmapgl"
           }
          ],
          "histogram": [
           {
            "marker": {
             "pattern": {
              "fillmode": "overlay",
              "size": 10,
              "solidity": 0.2
             }
            },
            "type": "histogram"
           }
          ],
          "histogram2d": [
           {
            "colorbar": {
             "outlinewidth": 0,
             "ticks": ""
            },
            "colorscale": [
             [
              0,
              "#0d0887"
             ],
             [
              0.1111111111111111,
              "#46039f"
             ],
             [
              0.2222222222222222,
              "#7201a8"
             ],
             [
              0.3333333333333333,
              "#9c179e"
             ],
             [
              0.4444444444444444,
              "#bd3786"
             ],
             [
              0.5555555555555556,
              "#d8576b"
             ],
             [
              0.6666666666666666,
              "#ed7953"
             ],
             [
              0.7777777777777778,
              "#fb9f3a"
             ],
             [
              0.8888888888888888,
              "#fdca26"
             ],
             [
              1,
              "#f0f921"
             ]
            ],
            "type": "histogram2d"
           }
          ],
          "histogram2dcontour": [
           {
            "colorbar": {
             "outlinewidth": 0,
             "ticks": ""
            },
            "colorscale": [
             [
              0,
              "#0d0887"
             ],
             [
              0.1111111111111111,
              "#46039f"
             ],
             [
              0.2222222222222222,
              "#7201a8"
             ],
             [
              0.3333333333333333,
              "#9c179e"
             ],
             [
              0.4444444444444444,
              "#bd3786"
             ],
             [
              0.5555555555555556,
              "#d8576b"
             ],
             [
              0.6666666666666666,
              "#ed7953"
             ],
             [
              0.7777777777777778,
              "#fb9f3a"
             ],
             [
              0.8888888888888888,
              "#fdca26"
             ],
             [
              1,
              "#f0f921"
             ]
            ],
            "type": "histogram2dcontour"
           }
          ],
          "mesh3d": [
           {
            "colorbar": {
             "outlinewidth": 0,
             "ticks": ""
            },
            "type": "mesh3d"
           }
          ],
          "parcoords": [
           {
            "line": {
             "colorbar": {
              "outlinewidth": 0,
              "ticks": ""
             }
            },
            "type": "parcoords"
           }
          ],
          "pie": [
           {
            "automargin": true,
            "type": "pie"
           }
          ],
          "scatter": [
           {
            "fillpattern": {
             "fillmode": "overlay",
             "size": 10,
             "solidity": 0.2
            },
            "type": "scatter"
           }
          ],
          "scatter3d": [
           {
            "line": {
             "colorbar": {
              "outlinewidth": 0,
              "ticks": ""
             }
            },
            "marker": {
             "colorbar": {
              "outlinewidth": 0,
              "ticks": ""
             }
            },
            "type": "scatter3d"
           }
          ],
          "scattercarpet": [
           {
            "marker": {
             "colorbar": {
              "outlinewidth": 0,
              "ticks": ""
             }
            },
            "type": "scattercarpet"
           }
          ],
          "scattergeo": [
           {
            "marker": {
             "colorbar": {
              "outlinewidth": 0,
              "ticks": ""
             }
            },
            "type": "scattergeo"
           }
          ],
          "scattergl": [
           {
            "marker": {
             "colorbar": {
              "outlinewidth": 0,
              "ticks": ""
             }
            },
            "type": "scattergl"
           }
          ],
          "scattermapbox": [
           {
            "marker": {
             "colorbar": {
              "outlinewidth": 0,
              "ticks": ""
             }
            },
            "type": "scattermapbox"
           }
          ],
          "scatterpolar": [
           {
            "marker": {
             "colorbar": {
              "outlinewidth": 0,
              "ticks": ""
             }
            },
            "type": "scatterpolar"
           }
          ],
          "scatterpolargl": [
           {
            "marker": {
             "colorbar": {
              "outlinewidth": 0,
              "ticks": ""
             }
            },
            "type": "scatterpolargl"
           }
          ],
          "scatterternary": [
           {
            "marker": {
             "colorbar": {
              "outlinewidth": 0,
              "ticks": ""
             }
            },
            "type": "scatterternary"
           }
          ],
          "surface": [
           {
            "colorbar": {
             "outlinewidth": 0,
             "ticks": ""
            },
            "colorscale": [
             [
              0,
              "#0d0887"
             ],
             [
              0.1111111111111111,
              "#46039f"
             ],
             [
              0.2222222222222222,
              "#7201a8"
             ],
             [
              0.3333333333333333,
              "#9c179e"
             ],
             [
              0.4444444444444444,
              "#bd3786"
             ],
             [
              0.5555555555555556,
              "#d8576b"
             ],
             [
              0.6666666666666666,
              "#ed7953"
             ],
             [
              0.7777777777777778,
              "#fb9f3a"
             ],
             [
              0.8888888888888888,
              "#fdca26"
             ],
             [
              1,
              "#f0f921"
             ]
            ],
            "type": "surface"
           }
          ],
          "table": [
           {
            "cells": {
             "fill": {
              "color": "#EBF0F8"
             },
             "line": {
              "color": "white"
             }
            },
            "header": {
             "fill": {
              "color": "#C8D4E3"
             },
             "line": {
              "color": "white"
             }
            },
            "type": "table"
           }
          ]
         },
         "layout": {
          "annotationdefaults": {
           "arrowcolor": "#2a3f5f",
           "arrowhead": 0,
           "arrowwidth": 1
          },
          "autotypenumbers": "strict",
          "coloraxis": {
           "colorbar": {
            "outlinewidth": 0,
            "ticks": ""
           }
          },
          "colorscale": {
           "diverging": [
            [
             0,
             "#8e0152"
            ],
            [
             0.1,
             "#c51b7d"
            ],
            [
             0.2,
             "#de77ae"
            ],
            [
             0.3,
             "#f1b6da"
            ],
            [
             0.4,
             "#fde0ef"
            ],
            [
             0.5,
             "#f7f7f7"
            ],
            [
             0.6,
             "#e6f5d0"
            ],
            [
             0.7,
             "#b8e186"
            ],
            [
             0.8,
             "#7fbc41"
            ],
            [
             0.9,
             "#4d9221"
            ],
            [
             1,
             "#276419"
            ]
           ],
           "sequential": [
            [
             0,
             "#0d0887"
            ],
            [
             0.1111111111111111,
             "#46039f"
            ],
            [
             0.2222222222222222,
             "#7201a8"
            ],
            [
             0.3333333333333333,
             "#9c179e"
            ],
            [
             0.4444444444444444,
             "#bd3786"
            ],
            [
             0.5555555555555556,
             "#d8576b"
            ],
            [
             0.6666666666666666,
             "#ed7953"
            ],
            [
             0.7777777777777778,
             "#fb9f3a"
            ],
            [
             0.8888888888888888,
             "#fdca26"
            ],
            [
             1,
             "#f0f921"
            ]
           ],
           "sequentialminus": [
            [
             0,
             "#0d0887"
            ],
            [
             0.1111111111111111,
             "#46039f"
            ],
            [
             0.2222222222222222,
             "#7201a8"
            ],
            [
             0.3333333333333333,
             "#9c179e"
            ],
            [
             0.4444444444444444,
             "#bd3786"
            ],
            [
             0.5555555555555556,
             "#d8576b"
            ],
            [
             0.6666666666666666,
             "#ed7953"
            ],
            [
             0.7777777777777778,
             "#fb9f3a"
            ],
            [
             0.8888888888888888,
             "#fdca26"
            ],
            [
             1,
             "#f0f921"
            ]
           ]
          },
          "colorway": [
           "#636efa",
           "#EF553B",
           "#00cc96",
           "#ab63fa",
           "#FFA15A",
           "#19d3f3",
           "#FF6692",
           "#B6E880",
           "#FF97FF",
           "#FECB52"
          ],
          "font": {
           "color": "#2a3f5f"
          },
          "geo": {
           "bgcolor": "white",
           "lakecolor": "white",
           "landcolor": "#E5ECF6",
           "showlakes": true,
           "showland": true,
           "subunitcolor": "white"
          },
          "hoverlabel": {
           "align": "left"
          },
          "hovermode": "closest",
          "mapbox": {
           "style": "light"
          },
          "paper_bgcolor": "white",
          "plot_bgcolor": "#E5ECF6",
          "polar": {
           "angularaxis": {
            "gridcolor": "white",
            "linecolor": "white",
            "ticks": ""
           },
           "bgcolor": "#E5ECF6",
           "radialaxis": {
            "gridcolor": "white",
            "linecolor": "white",
            "ticks": ""
           }
          },
          "scene": {
           "xaxis": {
            "backgroundcolor": "#E5ECF6",
            "gridcolor": "white",
            "gridwidth": 2,
            "linecolor": "white",
            "showbackground": true,
            "ticks": "",
            "zerolinecolor": "white"
           },
           "yaxis": {
            "backgroundcolor": "#E5ECF6",
            "gridcolor": "white",
            "gridwidth": 2,
            "linecolor": "white",
            "showbackground": true,
            "ticks": "",
            "zerolinecolor": "white"
           },
           "zaxis": {
            "backgroundcolor": "#E5ECF6",
            "gridcolor": "white",
            "gridwidth": 2,
            "linecolor": "white",
            "showbackground": true,
            "ticks": "",
            "zerolinecolor": "white"
           }
          },
          "shapedefaults": {
           "line": {
            "color": "#2a3f5f"
           }
          },
          "ternary": {
           "aaxis": {
            "gridcolor": "white",
            "linecolor": "white",
            "ticks": ""
           },
           "baxis": {
            "gridcolor": "white",
            "linecolor": "white",
            "ticks": ""
           },
           "bgcolor": "#E5ECF6",
           "caxis": {
            "gridcolor": "white",
            "linecolor": "white",
            "ticks": ""
           }
          },
          "title": {
           "x": 0.05
          },
          "xaxis": {
           "automargin": true,
           "gridcolor": "white",
           "linecolor": "white",
           "ticks": "",
           "title": {
            "standoff": 15
           },
           "zerolinecolor": "white",
           "zerolinewidth": 2
          },
          "yaxis": {
           "automargin": true,
           "gridcolor": "white",
           "linecolor": "white",
           "ticks": "",
           "title": {
            "standoff": 15
           },
           "zerolinecolor": "white",
           "zerolinewidth": 2
          }
         }
        },
        "title": {
         "text": "Hyperparameter Importances"
        },
        "xaxis": {
         "title": {
          "text": "Hyperparameter Importance"
         }
        },
        "yaxis": {
         "title": {
          "text": "Hyperparameter"
         }
        }
       }
      }
     },
     "metadata": {},
     "output_type": "display_data"
    },
    {
     "data": {
      "application/vnd.plotly.v1+json": {
       "config": {
        "plotlyServerURL": "https://plot.ly"
       },
       "data": [
        {
         "marker": {
          "color": [
           0,
           1,
           3,
           8,
           11,
           12,
           15,
           16,
           21,
           26,
           28,
           31,
           39,
           45
          ],
          "colorbar": {
           "title": {
            "text": "Trial"
           },
           "x": 1,
           "xpad": 40
          },
          "colorscale": [
           [
            0,
            "rgb(247,251,255)"
           ],
           [
            0.125,
            "rgb(222,235,247)"
           ],
           [
            0.25,
            "rgb(198,219,239)"
           ],
           [
            0.375,
            "rgb(158,202,225)"
           ],
           [
            0.5,
            "rgb(107,174,214)"
           ],
           [
            0.625,
            "rgb(66,146,198)"
           ],
           [
            0.75,
            "rgb(33,113,181)"
           ],
           [
            0.875,
            "rgb(8,81,156)"
           ],
           [
            1,
            "rgb(8,48,107)"
           ]
          ],
          "line": {
           "color": "Grey",
           "width": 0.5
          },
          "showscale": true
         },
         "mode": "markers",
         "name": "Feasible Trial",
         "showlegend": false,
         "type": "scatter",
         "x": [
          6.093370510065583,
          4.187083387997569,
          5.197717170740028,
          5.649740885983125,
          5.231269541023337,
          5.787428483969095,
          5.922491327000392,
          5.936520882240088,
          5.923463093677819,
          6.209646336996585,
          6.36224426732275,
          6.132212956642914,
          5.518320448925012,
          6.021171087640404
         ],
         "xaxis": "x",
         "y": [
          0.8131822469617052,
          0.8367540392128676,
          0.8381918049316429,
          0.8407618470158926,
          0.8290604050529997,
          0.8315714219250026,
          0.839730554387009,
          0.8383603393185217,
          0.8377545259572563,
          0.8400719531372898,
          0.8401332440780029,
          0.8396085536344415,
          0.8337331574387159,
          0.8301408199108283
         ],
         "yaxis": "y"
        },
        {
         "marker": {
          "color": [
           0,
           1,
           3,
           8,
           11,
           12,
           15,
           16,
           21,
           26,
           28,
           31,
           39,
           45
          ],
          "colorbar": {
           "title": {
            "text": "Trial"
           },
           "x": 1,
           "xpad": 40
          },
          "colorscale": [
           [
            0,
            "rgb(247,251,255)"
           ],
           [
            0.125,
            "rgb(222,235,247)"
           ],
           [
            0.25,
            "rgb(198,219,239)"
           ],
           [
            0.375,
            "rgb(158,202,225)"
           ],
           [
            0.5,
            "rgb(107,174,214)"
           ],
           [
            0.625,
            "rgb(66,146,198)"
           ],
           [
            0.75,
            "rgb(33,113,181)"
           ],
           [
            0.875,
            "rgb(8,81,156)"
           ],
           [
            1,
            "rgb(8,48,107)"
           ]
          ],
          "line": {
           "color": "Grey",
           "width": 0.5
          },
          "showscale": false
         },
         "mode": "markers",
         "name": "Feasible Trial",
         "showlegend": false,
         "type": "scatter",
         "x": [
          0.8784256213468215,
          0.6719756522879268,
          0.691269726012563,
          0.9486380973938209,
          0.7918866399491845,
          0.8788958021793277,
          0.9274727769818037,
          0.9297936366763442,
          0.9344012773714956,
          0.9577875950123117,
          0.8338250866538252,
          0.9012272474970026,
          0.7972012919296692,
          0.9194312192106034
         ],
         "xaxis": "x2",
         "y": [
          0.8131822469617052,
          0.8367540392128676,
          0.8381918049316429,
          0.8407618470158926,
          0.8290604050529997,
          0.8315714219250026,
          0.839730554387009,
          0.8383603393185217,
          0.8377545259572563,
          0.8400719531372898,
          0.8401332440780029,
          0.8396085536344415,
          0.8337331574387159,
          0.8301408199108283
         ],
         "yaxis": "y2"
        },
        {
         "marker": {
          "color": [
           0,
           1,
           3,
           8,
           11,
           12,
           15,
           16,
           21,
           26,
           28,
           31,
           39,
           45
          ],
          "colorbar": {
           "title": {
            "text": "Trial"
           },
           "x": 1,
           "xpad": 40
          },
          "colorscale": [
           [
            0,
            "rgb(247,251,255)"
           ],
           [
            0.125,
            "rgb(222,235,247)"
           ],
           [
            0.25,
            "rgb(198,219,239)"
           ],
           [
            0.375,
            "rgb(158,202,225)"
           ],
           [
            0.5,
            "rgb(107,174,214)"
           ],
           [
            0.625,
            "rgb(66,146,198)"
           ],
           [
            0.75,
            "rgb(33,113,181)"
           ],
           [
            0.875,
            "rgb(8,81,156)"
           ],
           [
            1,
            "rgb(8,48,107)"
           ]
          ],
          "line": {
           "color": "Grey",
           "width": 0.5
          },
          "showscale": false
         },
         "mode": "markers",
         "name": "Feasible Trial",
         "showlegend": false,
         "type": "scatter",
         "x": [
          0.002014275037363308,
          0.06288501407667266,
          0.07693472183343705,
          0.0654373025980467,
          0.29814094881813863,
          0.25285992959760223,
          0.11961903154563039,
          0.150952976900703,
          0.15007202742469097,
          0.11288896428253602,
          0.11037544425341059,
          0.10542072505796499,
          0.23285400806708845,
          0.29779026756110977
         ],
         "xaxis": "x3",
         "y": [
          0.8131822469617052,
          0.8367540392128676,
          0.8381918049316429,
          0.8407618470158926,
          0.8290604050529997,
          0.8315714219250026,
          0.839730554387009,
          0.8383603393185217,
          0.8377545259572563,
          0.8400719531372898,
          0.8401332440780029,
          0.8396085536344415,
          0.8337331574387159,
          0.8301408199108283
         ],
         "yaxis": "y3"
        },
        {
         "marker": {
          "color": [
           0,
           1,
           3,
           8,
           11,
           12,
           15,
           16,
           21,
           26,
           28,
           31,
           39,
           45
          ],
          "colorbar": {
           "title": {
            "text": "Trial"
           },
           "x": 1,
           "xpad": 40
          },
          "colorscale": [
           [
            0,
            "rgb(247,251,255)"
           ],
           [
            0.125,
            "rgb(222,235,247)"
           ],
           [
            0.25,
            "rgb(198,219,239)"
           ],
           [
            0.375,
            "rgb(158,202,225)"
           ],
           [
            0.5,
            "rgb(107,174,214)"
           ],
           [
            0.625,
            "rgb(66,146,198)"
           ],
           [
            0.75,
            "rgb(33,113,181)"
           ],
           [
            0.875,
            "rgb(8,81,156)"
           ],
           [
            1,
            "rgb(8,48,107)"
           ]
          ],
          "line": {
           "color": "Grey",
           "width": 0.5
          },
          "showscale": false
         },
         "mode": "markers",
         "name": "Feasible Trial",
         "showlegend": false,
         "type": "scatter",
         "x": [
          11,
          9,
          15,
          11,
          15,
          15,
          14,
          14,
          14,
          12,
          12,
          12,
          11,
          15
         ],
         "xaxis": "x4",
         "y": [
          0.8131822469617052,
          0.8367540392128676,
          0.8381918049316429,
          0.8407618470158926,
          0.8290604050529997,
          0.8315714219250026,
          0.839730554387009,
          0.8383603393185217,
          0.8377545259572563,
          0.8400719531372898,
          0.8401332440780029,
          0.8396085536344415,
          0.8337331574387159,
          0.8301408199108283
         ],
         "yaxis": "y4"
        },
        {
         "marker": {
          "color": [
           0,
           1,
           3,
           8,
           11,
           12,
           15,
           16,
           21,
           26,
           28,
           31,
           39,
           45
          ],
          "colorbar": {
           "title": {
            "text": "Trial"
           },
           "x": 1,
           "xpad": 40
          },
          "colorscale": [
           [
            0,
            "rgb(247,251,255)"
           ],
           [
            0.125,
            "rgb(222,235,247)"
           ],
           [
            0.25,
            "rgb(198,219,239)"
           ],
           [
            0.375,
            "rgb(158,202,225)"
           ],
           [
            0.5,
            "rgb(107,174,214)"
           ],
           [
            0.625,
            "rgb(66,146,198)"
           ],
           [
            0.75,
            "rgb(33,113,181)"
           ],
           [
            0.875,
            "rgb(8,81,156)"
           ],
           [
            1,
            "rgb(8,48,107)"
           ]
          ],
          "line": {
           "color": "Grey",
           "width": 0.5
          },
          "showscale": false
         },
         "mode": "markers",
         "name": "Feasible Trial",
         "showlegend": false,
         "type": "scatter",
         "x": [
          0.942480314066839,
          0.6887483939886239,
          0.7897349603850201,
          0.9034744469147151,
          0.875746897004477,
          0.8908338432131774,
          0.999550057999042,
          0.9921559451150825,
          0.9993300588518361,
          0.9654091648517275,
          0.9598436040832028,
          0.9375645020337299,
          0.9759122504836935,
          0.978144073185518
         ],
         "xaxis": "x5",
         "y": [
          0.8131822469617052,
          0.8367540392128676,
          0.8381918049316429,
          0.8407618470158926,
          0.8290604050529997,
          0.8315714219250026,
          0.839730554387009,
          0.8383603393185217,
          0.8377545259572563,
          0.8400719531372898,
          0.8401332440780029,
          0.8396085536344415,
          0.8337331574387159,
          0.8301408199108283
         ],
         "yaxis": "y5"
        }
       ],
       "layout": {
        "template": {
         "data": {
          "bar": [
           {
            "error_x": {
             "color": "#2a3f5f"
            },
            "error_y": {
             "color": "#2a3f5f"
            },
            "marker": {
             "line": {
              "color": "#E5ECF6",
              "width": 0.5
             },
             "pattern": {
              "fillmode": "overlay",
              "size": 10,
              "solidity": 0.2
             }
            },
            "type": "bar"
           }
          ],
          "barpolar": [
           {
            "marker": {
             "line": {
              "color": "#E5ECF6",
              "width": 0.5
             },
             "pattern": {
              "fillmode": "overlay",
              "size": 10,
              "solidity": 0.2
             }
            },
            "type": "barpolar"
           }
          ],
          "carpet": [
           {
            "aaxis": {
             "endlinecolor": "#2a3f5f",
             "gridcolor": "white",
             "linecolor": "white",
             "minorgridcolor": "white",
             "startlinecolor": "#2a3f5f"
            },
            "baxis": {
             "endlinecolor": "#2a3f5f",
             "gridcolor": "white",
             "linecolor": "white",
             "minorgridcolor": "white",
             "startlinecolor": "#2a3f5f"
            },
            "type": "carpet"
           }
          ],
          "choropleth": [
           {
            "colorbar": {
             "outlinewidth": 0,
             "ticks": ""
            },
            "type": "choropleth"
           }
          ],
          "contour": [
           {
            "colorbar": {
             "outlinewidth": 0,
             "ticks": ""
            },
            "colorscale": [
             [
              0,
              "#0d0887"
             ],
             [
              0.1111111111111111,
              "#46039f"
             ],
             [
              0.2222222222222222,
              "#7201a8"
             ],
             [
              0.3333333333333333,
              "#9c179e"
             ],
             [
              0.4444444444444444,
              "#bd3786"
             ],
             [
              0.5555555555555556,
              "#d8576b"
             ],
             [
              0.6666666666666666,
              "#ed7953"
             ],
             [
              0.7777777777777778,
              "#fb9f3a"
             ],
             [
              0.8888888888888888,
              "#fdca26"
             ],
             [
              1,
              "#f0f921"
             ]
            ],
            "type": "contour"
           }
          ],
          "contourcarpet": [
           {
            "colorbar": {
             "outlinewidth": 0,
             "ticks": ""
            },
            "type": "contourcarpet"
           }
          ],
          "heatmap": [
           {
            "colorbar": {
             "outlinewidth": 0,
             "ticks": ""
            },
            "colorscale": [
             [
              0,
              "#0d0887"
             ],
             [
              0.1111111111111111,
              "#46039f"
             ],
             [
              0.2222222222222222,
              "#7201a8"
             ],
             [
              0.3333333333333333,
              "#9c179e"
             ],
             [
              0.4444444444444444,
              "#bd3786"
             ],
             [
              0.5555555555555556,
              "#d8576b"
             ],
             [
              0.6666666666666666,
              "#ed7953"
             ],
             [
              0.7777777777777778,
              "#fb9f3a"
             ],
             [
              0.8888888888888888,
              "#fdca26"
             ],
             [
              1,
              "#f0f921"
             ]
            ],
            "type": "heatmap"
           }
          ],
          "heatmapgl": [
           {
            "colorbar": {
             "outlinewidth": 0,
             "ticks": ""
            },
            "colorscale": [
             [
              0,
              "#0d0887"
             ],
             [
              0.1111111111111111,
              "#46039f"
             ],
             [
              0.2222222222222222,
              "#7201a8"
             ],
             [
              0.3333333333333333,
              "#9c179e"
             ],
             [
              0.4444444444444444,
              "#bd3786"
             ],
             [
              0.5555555555555556,
              "#d8576b"
             ],
             [
              0.6666666666666666,
              "#ed7953"
             ],
             [
              0.7777777777777778,
              "#fb9f3a"
             ],
             [
              0.8888888888888888,
              "#fdca26"
             ],
             [
              1,
              "#f0f921"
             ]
            ],
            "type": "heatmapgl"
           }
          ],
          "histogram": [
           {
            "marker": {
             "pattern": {
              "fillmode": "overlay",
              "size": 10,
              "solidity": 0.2
             }
            },
            "type": "histogram"
           }
          ],
          "histogram2d": [
           {
            "colorbar": {
             "outlinewidth": 0,
             "ticks": ""
            },
            "colorscale": [
             [
              0,
              "#0d0887"
             ],
             [
              0.1111111111111111,
              "#46039f"
             ],
             [
              0.2222222222222222,
              "#7201a8"
             ],
             [
              0.3333333333333333,
              "#9c179e"
             ],
             [
              0.4444444444444444,
              "#bd3786"
             ],
             [
              0.5555555555555556,
              "#d8576b"
             ],
             [
              0.6666666666666666,
              "#ed7953"
             ],
             [
              0.7777777777777778,
              "#fb9f3a"
             ],
             [
              0.8888888888888888,
              "#fdca26"
             ],
             [
              1,
              "#f0f921"
             ]
            ],
            "type": "histogram2d"
           }
          ],
          "histogram2dcontour": [
           {
            "colorbar": {
             "outlinewidth": 0,
             "ticks": ""
            },
            "colorscale": [
             [
              0,
              "#0d0887"
             ],
             [
              0.1111111111111111,
              "#46039f"
             ],
             [
              0.2222222222222222,
              "#7201a8"
             ],
             [
              0.3333333333333333,
              "#9c179e"
             ],
             [
              0.4444444444444444,
              "#bd3786"
             ],
             [
              0.5555555555555556,
              "#d8576b"
             ],
             [
              0.6666666666666666,
              "#ed7953"
             ],
             [
              0.7777777777777778,
              "#fb9f3a"
             ],
             [
              0.8888888888888888,
              "#fdca26"
             ],
             [
              1,
              "#f0f921"
             ]
            ],
            "type": "histogram2dcontour"
           }
          ],
          "mesh3d": [
           {
            "colorbar": {
             "outlinewidth": 0,
             "ticks": ""
            },
            "type": "mesh3d"
           }
          ],
          "parcoords": [
           {
            "line": {
             "colorbar": {
              "outlinewidth": 0,
              "ticks": ""
             }
            },
            "type": "parcoords"
           }
          ],
          "pie": [
           {
            "automargin": true,
            "type": "pie"
           }
          ],
          "scatter": [
           {
            "fillpattern": {
             "fillmode": "overlay",
             "size": 10,
             "solidity": 0.2
            },
            "type": "scatter"
           }
          ],
          "scatter3d": [
           {
            "line": {
             "colorbar": {
              "outlinewidth": 0,
              "ticks": ""
             }
            },
            "marker": {
             "colorbar": {
              "outlinewidth": 0,
              "ticks": ""
             }
            },
            "type": "scatter3d"
           }
          ],
          "scattercarpet": [
           {
            "marker": {
             "colorbar": {
              "outlinewidth": 0,
              "ticks": ""
             }
            },
            "type": "scattercarpet"
           }
          ],
          "scattergeo": [
           {
            "marker": {
             "colorbar": {
              "outlinewidth": 0,
              "ticks": ""
             }
            },
            "type": "scattergeo"
           }
          ],
          "scattergl": [
           {
            "marker": {
             "colorbar": {
              "outlinewidth": 0,
              "ticks": ""
             }
            },
            "type": "scattergl"
           }
          ],
          "scattermapbox": [
           {
            "marker": {
             "colorbar": {
              "outlinewidth": 0,
              "ticks": ""
             }
            },
            "type": "scattermapbox"
           }
          ],
          "scatterpolar": [
           {
            "marker": {
             "colorbar": {
              "outlinewidth": 0,
              "ticks": ""
             }
            },
            "type": "scatterpolar"
           }
          ],
          "scatterpolargl": [
           {
            "marker": {
             "colorbar": {
              "outlinewidth": 0,
              "ticks": ""
             }
            },
            "type": "scatterpolargl"
           }
          ],
          "scatterternary": [
           {
            "marker": {
             "colorbar": {
              "outlinewidth": 0,
              "ticks": ""
             }
            },
            "type": "scatterternary"
           }
          ],
          "surface": [
           {
            "colorbar": {
             "outlinewidth": 0,
             "ticks": ""
            },
            "colorscale": [
             [
              0,
              "#0d0887"
             ],
             [
              0.1111111111111111,
              "#46039f"
             ],
             [
              0.2222222222222222,
              "#7201a8"
             ],
             [
              0.3333333333333333,
              "#9c179e"
             ],
             [
              0.4444444444444444,
              "#bd3786"
             ],
             [
              0.5555555555555556,
              "#d8576b"
             ],
             [
              0.6666666666666666,
              "#ed7953"
             ],
             [
              0.7777777777777778,
              "#fb9f3a"
             ],
             [
              0.8888888888888888,
              "#fdca26"
             ],
             [
              1,
              "#f0f921"
             ]
            ],
            "type": "surface"
           }
          ],
          "table": [
           {
            "cells": {
             "fill": {
              "color": "#EBF0F8"
             },
             "line": {
              "color": "white"
             }
            },
            "header": {
             "fill": {
              "color": "#C8D4E3"
             },
             "line": {
              "color": "white"
             }
            },
            "type": "table"
           }
          ]
         },
         "layout": {
          "annotationdefaults": {
           "arrowcolor": "#2a3f5f",
           "arrowhead": 0,
           "arrowwidth": 1
          },
          "autotypenumbers": "strict",
          "coloraxis": {
           "colorbar": {
            "outlinewidth": 0,
            "ticks": ""
           }
          },
          "colorscale": {
           "diverging": [
            [
             0,
             "#8e0152"
            ],
            [
             0.1,
             "#c51b7d"
            ],
            [
             0.2,
             "#de77ae"
            ],
            [
             0.3,
             "#f1b6da"
            ],
            [
             0.4,
             "#fde0ef"
            ],
            [
             0.5,
             "#f7f7f7"
            ],
            [
             0.6,
             "#e6f5d0"
            ],
            [
             0.7,
             "#b8e186"
            ],
            [
             0.8,
             "#7fbc41"
            ],
            [
             0.9,
             "#4d9221"
            ],
            [
             1,
             "#276419"
            ]
           ],
           "sequential": [
            [
             0,
             "#0d0887"
            ],
            [
             0.1111111111111111,
             "#46039f"
            ],
            [
             0.2222222222222222,
             "#7201a8"
            ],
            [
             0.3333333333333333,
             "#9c179e"
            ],
            [
             0.4444444444444444,
             "#bd3786"
            ],
            [
             0.5555555555555556,
             "#d8576b"
            ],
            [
             0.6666666666666666,
             "#ed7953"
            ],
            [
             0.7777777777777778,
             "#fb9f3a"
            ],
            [
             0.8888888888888888,
             "#fdca26"
            ],
            [
             1,
             "#f0f921"
            ]
           ],
           "sequentialminus": [
            [
             0,
             "#0d0887"
            ],
            [
             0.1111111111111111,
             "#46039f"
            ],
            [
             0.2222222222222222,
             "#7201a8"
            ],
            [
             0.3333333333333333,
             "#9c179e"
            ],
            [
             0.4444444444444444,
             "#bd3786"
            ],
            [
             0.5555555555555556,
             "#d8576b"
            ],
            [
             0.6666666666666666,
             "#ed7953"
            ],
            [
             0.7777777777777778,
             "#fb9f3a"
            ],
            [
             0.8888888888888888,
             "#fdca26"
            ],
            [
             1,
             "#f0f921"
            ]
           ]
          },
          "colorway": [
           "#636efa",
           "#EF553B",
           "#00cc96",
           "#ab63fa",
           "#FFA15A",
           "#19d3f3",
           "#FF6692",
           "#B6E880",
           "#FF97FF",
           "#FECB52"
          ],
          "font": {
           "color": "#2a3f5f"
          },
          "geo": {
           "bgcolor": "white",
           "lakecolor": "white",
           "landcolor": "#E5ECF6",
           "showlakes": true,
           "showland": true,
           "subunitcolor": "white"
          },
          "hoverlabel": {
           "align": "left"
          },
          "hovermode": "closest",
          "mapbox": {
           "style": "light"
          },
          "paper_bgcolor": "white",
          "plot_bgcolor": "#E5ECF6",
          "polar": {
           "angularaxis": {
            "gridcolor": "white",
            "linecolor": "white",
            "ticks": ""
           },
           "bgcolor": "#E5ECF6",
           "radialaxis": {
            "gridcolor": "white",
            "linecolor": "white",
            "ticks": ""
           }
          },
          "scene": {
           "xaxis": {
            "backgroundcolor": "#E5ECF6",
            "gridcolor": "white",
            "gridwidth": 2,
            "linecolor": "white",
            "showbackground": true,
            "ticks": "",
            "zerolinecolor": "white"
           },
           "yaxis": {
            "backgroundcolor": "#E5ECF6",
            "gridcolor": "white",
            "gridwidth": 2,
            "linecolor": "white",
            "showbackground": true,
            "ticks": "",
            "zerolinecolor": "white"
           },
           "zaxis": {
            "backgroundcolor": "#E5ECF6",
            "gridcolor": "white",
            "gridwidth": 2,
            "linecolor": "white",
            "showbackground": true,
            "ticks": "",
            "zerolinecolor": "white"
           }
          },
          "shapedefaults": {
           "line": {
            "color": "#2a3f5f"
           }
          },
          "ternary": {
           "aaxis": {
            "gridcolor": "white",
            "linecolor": "white",
            "ticks": ""
           },
           "baxis": {
            "gridcolor": "white",
            "linecolor": "white",
            "ticks": ""
           },
           "bgcolor": "#E5ECF6",
           "caxis": {
            "gridcolor": "white",
            "linecolor": "white",
            "ticks": ""
           }
          },
          "title": {
           "x": 0.05
          },
          "xaxis": {
           "automargin": true,
           "gridcolor": "white",
           "linecolor": "white",
           "ticks": "",
           "title": {
            "standoff": 15
           },
           "zerolinecolor": "white",
           "zerolinewidth": 2
          },
          "yaxis": {
           "automargin": true,
           "gridcolor": "white",
           "linecolor": "white",
           "ticks": "",
           "title": {
            "standoff": 15
           },
           "zerolinecolor": "white",
           "zerolinewidth": 2
          }
         }
        },
        "title": {
         "text": "Slice Plot"
        },
        "width": 1500,
        "xaxis": {
         "anchor": "y",
         "domain": [
          0,
          0.16799999999999998
         ],
         "title": {
          "text": "alpha"
         }
        },
        "xaxis2": {
         "anchor": "y2",
         "domain": [
          0.208,
          0.376
         ],
         "title": {
          "text": "colsample_bytree"
         }
        },
        "xaxis3": {
         "anchor": "y3",
         "domain": [
          0.416,
          0.584
         ],
         "title": {
          "text": "eta"
         },
         "type": "log"
        },
        "xaxis4": {
         "anchor": "y4",
         "domain": [
          0.624,
          0.792
         ],
         "title": {
          "text": "max_depth"
         }
        },
        "xaxis5": {
         "anchor": "y5",
         "domain": [
          0.832,
          1
         ],
         "title": {
          "text": "subsample"
         }
        },
        "yaxis": {
         "anchor": "x",
         "domain": [
          0,
          1
         ],
         "title": {
          "text": "Objective Value"
         }
        },
        "yaxis2": {
         "anchor": "x2",
         "domain": [
          0,
          1
         ],
         "matches": "y",
         "showticklabels": false
        },
        "yaxis3": {
         "anchor": "x3",
         "domain": [
          0,
          1
         ],
         "matches": "y",
         "showticklabels": false
        },
        "yaxis4": {
         "anchor": "x4",
         "domain": [
          0,
          1
         ],
         "matches": "y",
         "showticklabels": false
        },
        "yaxis5": {
         "anchor": "x5",
         "domain": [
          0,
          1
         ],
         "matches": "y",
         "showticklabels": false
        }
       }
      }
     },
     "metadata": {},
     "output_type": "display_data"
    }
   ],
   "source": [
    "# 1. Best trial summary\n",
    "best = xgb_study2.best_trial\n",
    "print(f\"✅ Best AUC: {best.value:.6f}\")\n",
    "print(\"✅ Best Parameters:\")\n",
    "for k, v in best.params.items():\n",
    "    print(f\"  {k}: {v}\")\n",
    "\n",
    "# 2. Trial counts\n",
    "completed = sum(t.state == optuna.trial.TrialState.COMPLETE for t in xgb_study2.trials)\n",
    "pruned = sum(t.state == optuna.trial.TrialState.PRUNED for t in xgb_study2.trials)\n",
    "print(f\"\\nTrials Completed: {completed}\")\n",
    "print(f\"🪓 Trials Pruned:    {pruned}\")\n",
    "print(f\"🧮 Total Trials:     {len(xgb_study2.trials)}\")\n",
    "\n",
    "# 3. Optimization history (interactive)\n",
    "vis.plot_optimization_history(xgb_study2).show()\n",
    "\n",
    "# 4. Parameter importances (interactive)\n",
    "vis.plot_param_importances(xgb_study2).show()\n",
    "\n",
    "vis.plot_slice(xgb_study2).show()"
   ]
  },
  {
   "cell_type": "code",
   "execution_count": null,
   "id": "d53c1d1d",
   "metadata": {},
   "outputs": [
    {
     "name": "stdout",
     "output_type": "stream",
     "text": [
      "[0]\tvalidation-auc:0.77194\n",
      "[1]\tvalidation-auc:0.78408\n",
      "[2]\tvalidation-auc:0.79008\n",
      "[3]\tvalidation-auc:0.79425\n",
      "[4]\tvalidation-auc:0.79512\n",
      "[5]\tvalidation-auc:0.79769\n",
      "[6]\tvalidation-auc:0.79894\n",
      "[7]\tvalidation-auc:0.80013\n",
      "[8]\tvalidation-auc:0.80126\n",
      "[9]\tvalidation-auc:0.80145\n",
      "[10]\tvalidation-auc:0.80242\n",
      "[11]\tvalidation-auc:0.80313\n",
      "[12]\tvalidation-auc:0.80390\n",
      "[13]\tvalidation-auc:0.80450\n",
      "[14]\tvalidation-auc:0.80544\n",
      "[15]\tvalidation-auc:0.80610\n",
      "[16]\tvalidation-auc:0.80673\n",
      "[17]\tvalidation-auc:0.80734\n",
      "[18]\tvalidation-auc:0.80787\n",
      "[19]\tvalidation-auc:0.80846\n",
      "[20]\tvalidation-auc:0.80931\n",
      "[21]\tvalidation-auc:0.80985\n",
      "[22]\tvalidation-auc:0.81029\n",
      "[23]\tvalidation-auc:0.81105\n",
      "[24]\tvalidation-auc:0.81162\n",
      "[25]\tvalidation-auc:0.81202\n",
      "[26]\tvalidation-auc:0.81250\n",
      "[27]\tvalidation-auc:0.81293\n",
      "[28]\tvalidation-auc:0.81335\n",
      "[29]\tvalidation-auc:0.81383\n",
      "[30]\tvalidation-auc:0.81423\n",
      "[31]\tvalidation-auc:0.81462\n",
      "[32]\tvalidation-auc:0.81502\n",
      "[33]\tvalidation-auc:0.81547\n",
      "[34]\tvalidation-auc:0.81583\n",
      "[35]\tvalidation-auc:0.81626\n",
      "[36]\tvalidation-auc:0.81664\n",
      "[37]\tvalidation-auc:0.81696\n",
      "[38]\tvalidation-auc:0.81738\n",
      "[39]\tvalidation-auc:0.81772\n",
      "[40]\tvalidation-auc:0.81806\n",
      "[41]\tvalidation-auc:0.81835\n",
      "[42]\tvalidation-auc:0.81869\n",
      "[43]\tvalidation-auc:0.81906\n",
      "[44]\tvalidation-auc:0.81938\n",
      "[45]\tvalidation-auc:0.81972\n",
      "[46]\tvalidation-auc:0.82001\n",
      "[47]\tvalidation-auc:0.82028\n",
      "[48]\tvalidation-auc:0.82054\n",
      "[49]\tvalidation-auc:0.82079\n",
      "[50]\tvalidation-auc:0.82104\n",
      "[51]\tvalidation-auc:0.82135\n",
      "[52]\tvalidation-auc:0.82162\n",
      "[53]\tvalidation-auc:0.82185\n",
      "[54]\tvalidation-auc:0.82211\n",
      "[55]\tvalidation-auc:0.82234\n",
      "[56]\tvalidation-auc:0.82253\n",
      "[57]\tvalidation-auc:0.82266\n",
      "[58]\tvalidation-auc:0.82288\n",
      "[59]\tvalidation-auc:0.82312\n",
      "[60]\tvalidation-auc:0.82341\n",
      "[61]\tvalidation-auc:0.82366\n",
      "[62]\tvalidation-auc:0.82383\n",
      "[63]\tvalidation-auc:0.82397\n",
      "[64]\tvalidation-auc:0.82419\n",
      "[65]\tvalidation-auc:0.82436\n",
      "[66]\tvalidation-auc:0.82452\n",
      "[67]\tvalidation-auc:0.82463\n",
      "[68]\tvalidation-auc:0.82475\n",
      "[69]\tvalidation-auc:0.82495\n",
      "[70]\tvalidation-auc:0.82517\n",
      "[71]\tvalidation-auc:0.82535\n",
      "[72]\tvalidation-auc:0.82553\n",
      "[73]\tvalidation-auc:0.82566\n",
      "[74]\tvalidation-auc:0.82580\n",
      "[75]\tvalidation-auc:0.82592\n",
      "[76]\tvalidation-auc:0.82609\n",
      "[77]\tvalidation-auc:0.82628\n",
      "[78]\tvalidation-auc:0.82639\n",
      "[79]\tvalidation-auc:0.82644\n",
      "[80]\tvalidation-auc:0.82657\n",
      "[81]\tvalidation-auc:0.82675\n",
      "[82]\tvalidation-auc:0.82685\n",
      "[83]\tvalidation-auc:0.82694\n",
      "[84]\tvalidation-auc:0.82704\n",
      "[85]\tvalidation-auc:0.82721\n",
      "[86]\tvalidation-auc:0.82735\n",
      "[87]\tvalidation-auc:0.82747\n",
      "[88]\tvalidation-auc:0.82764\n",
      "[89]\tvalidation-auc:0.82780\n",
      "[90]\tvalidation-auc:0.82793\n",
      "[91]\tvalidation-auc:0.82800\n",
      "[92]\tvalidation-auc:0.82813\n",
      "[93]\tvalidation-auc:0.82815\n",
      "[94]\tvalidation-auc:0.82828\n",
      "[95]\tvalidation-auc:0.82837\n",
      "[96]\tvalidation-auc:0.82848\n",
      "[97]\tvalidation-auc:0.82859\n",
      "[98]\tvalidation-auc:0.82870\n",
      "[99]\tvalidation-auc:0.82880\n",
      "[100]\tvalidation-auc:0.82888\n",
      "[101]\tvalidation-auc:0.82898\n",
      "[102]\tvalidation-auc:0.82909\n",
      "[103]\tvalidation-auc:0.82917\n",
      "[104]\tvalidation-auc:0.82931\n",
      "[105]\tvalidation-auc:0.82937\n",
      "[106]\tvalidation-auc:0.82952\n",
      "[107]\tvalidation-auc:0.82965\n",
      "[108]\tvalidation-auc:0.82983\n",
      "[109]\tvalidation-auc:0.82990\n",
      "[110]\tvalidation-auc:0.83003\n",
      "[111]\tvalidation-auc:0.83009\n",
      "[112]\tvalidation-auc:0.83026\n",
      "[113]\tvalidation-auc:0.83034\n",
      "[114]\tvalidation-auc:0.83044\n",
      "[115]\tvalidation-auc:0.83057\n",
      "[116]\tvalidation-auc:0.83060\n",
      "[117]\tvalidation-auc:0.83068\n",
      "[118]\tvalidation-auc:0.83082\n",
      "[119]\tvalidation-auc:0.83095\n",
      "[120]\tvalidation-auc:0.83110\n",
      "[121]\tvalidation-auc:0.83122\n",
      "[122]\tvalidation-auc:0.83124\n",
      "[123]\tvalidation-auc:0.83129\n",
      "[124]\tvalidation-auc:0.83138\n",
      "[125]\tvalidation-auc:0.83151\n",
      "[126]\tvalidation-auc:0.83161\n",
      "[127]\tvalidation-auc:0.83166\n",
      "[128]\tvalidation-auc:0.83178\n",
      "[129]\tvalidation-auc:0.83179\n",
      "[130]\tvalidation-auc:0.83193\n",
      "[131]\tvalidation-auc:0.83201\n",
      "[132]\tvalidation-auc:0.83210\n",
      "[133]\tvalidation-auc:0.83222\n",
      "[134]\tvalidation-auc:0.83232\n",
      "[135]\tvalidation-auc:0.83234\n",
      "[136]\tvalidation-auc:0.83244\n",
      "[137]\tvalidation-auc:0.83253\n",
      "[138]\tvalidation-auc:0.83265\n",
      "[139]\tvalidation-auc:0.83276\n",
      "[140]\tvalidation-auc:0.83279\n",
      "[141]\tvalidation-auc:0.83286\n",
      "[142]\tvalidation-auc:0.83294\n",
      "[143]\tvalidation-auc:0.83304\n",
      "[144]\tvalidation-auc:0.83314\n",
      "[145]\tvalidation-auc:0.83325\n",
      "[146]\tvalidation-auc:0.83328\n",
      "[147]\tvalidation-auc:0.83338\n",
      "[148]\tvalidation-auc:0.83345\n",
      "[149]\tvalidation-auc:0.83351\n",
      "[150]\tvalidation-auc:0.83363\n",
      "[151]\tvalidation-auc:0.83370\n",
      "[152]\tvalidation-auc:0.83375\n",
      "[153]\tvalidation-auc:0.83380\n",
      "[154]\tvalidation-auc:0.83388\n",
      "[155]\tvalidation-auc:0.83393\n",
      "[156]\tvalidation-auc:0.83395\n",
      "[157]\tvalidation-auc:0.83408\n",
      "[158]\tvalidation-auc:0.83418\n",
      "[159]\tvalidation-auc:0.83426\n",
      "[160]\tvalidation-auc:0.83437\n",
      "[161]\tvalidation-auc:0.83440\n",
      "[162]\tvalidation-auc:0.83445\n",
      "[163]\tvalidation-auc:0.83450\n",
      "[164]\tvalidation-auc:0.83453\n",
      "[165]\tvalidation-auc:0.83461\n",
      "[166]\tvalidation-auc:0.83463\n",
      "[167]\tvalidation-auc:0.83473\n",
      "[168]\tvalidation-auc:0.83478\n",
      "[169]\tvalidation-auc:0.83482\n",
      "[170]\tvalidation-auc:0.83486\n",
      "[171]\tvalidation-auc:0.83490\n",
      "[172]\tvalidation-auc:0.83501\n",
      "[173]\tvalidation-auc:0.83503\n",
      "[174]\tvalidation-auc:0.83507\n",
      "[175]\tvalidation-auc:0.83513\n",
      "[176]\tvalidation-auc:0.83518\n",
      "[177]\tvalidation-auc:0.83524\n",
      "[178]\tvalidation-auc:0.83533\n",
      "[179]\tvalidation-auc:0.83537\n",
      "[180]\tvalidation-auc:0.83545\n",
      "[181]\tvalidation-auc:0.83547\n",
      "[182]\tvalidation-auc:0.83554\n",
      "[183]\tvalidation-auc:0.83561\n",
      "[184]\tvalidation-auc:0.83568\n",
      "[185]\tvalidation-auc:0.83572\n",
      "[186]\tvalidation-auc:0.83580\n",
      "[187]\tvalidation-auc:0.83584\n",
      "[188]\tvalidation-auc:0.83587\n",
      "[189]\tvalidation-auc:0.83594\n",
      "[190]\tvalidation-auc:0.83603\n",
      "[191]\tvalidation-auc:0.83612\n",
      "[192]\tvalidation-auc:0.83614\n",
      "[193]\tvalidation-auc:0.83619\n",
      "[194]\tvalidation-auc:0.83621\n",
      "[195]\tvalidation-auc:0.83627\n",
      "[196]\tvalidation-auc:0.83629\n",
      "[197]\tvalidation-auc:0.83637\n",
      "[198]\tvalidation-auc:0.83648\n",
      "[199]\tvalidation-auc:0.83651\n",
      "[200]\tvalidation-auc:0.83652\n",
      "[201]\tvalidation-auc:0.83656\n",
      "[202]\tvalidation-auc:0.83660\n",
      "[203]\tvalidation-auc:0.83671\n",
      "[204]\tvalidation-auc:0.83676\n",
      "[205]\tvalidation-auc:0.83679\n",
      "[206]\tvalidation-auc:0.83680\n",
      "[207]\tvalidation-auc:0.83687\n",
      "[208]\tvalidation-auc:0.83694\n",
      "[209]\tvalidation-auc:0.83696\n",
      "[210]\tvalidation-auc:0.83703\n",
      "[211]\tvalidation-auc:0.83706\n",
      "[212]\tvalidation-auc:0.83709\n",
      "[213]\tvalidation-auc:0.83712\n",
      "[214]\tvalidation-auc:0.83715\n",
      "[215]\tvalidation-auc:0.83718\n",
      "[216]\tvalidation-auc:0.83721\n",
      "[217]\tvalidation-auc:0.83726\n",
      "[218]\tvalidation-auc:0.83731\n",
      "[219]\tvalidation-auc:0.83739\n",
      "[220]\tvalidation-auc:0.83743\n",
      "[221]\tvalidation-auc:0.83749\n",
      "[222]\tvalidation-auc:0.83751\n",
      "[223]\tvalidation-auc:0.83756\n",
      "[224]\tvalidation-auc:0.83763\n",
      "[225]\tvalidation-auc:0.83766\n",
      "[226]\tvalidation-auc:0.83771\n",
      "[227]\tvalidation-auc:0.83774\n",
      "[228]\tvalidation-auc:0.83777\n",
      "[229]\tvalidation-auc:0.83780\n",
      "[230]\tvalidation-auc:0.83782\n",
      "[231]\tvalidation-auc:0.83783\n",
      "[232]\tvalidation-auc:0.83785\n",
      "[233]\tvalidation-auc:0.83787\n",
      "[234]\tvalidation-auc:0.83796\n",
      "[235]\tvalidation-auc:0.83800\n",
      "[236]\tvalidation-auc:0.83802\n",
      "[237]\tvalidation-auc:0.83809\n",
      "[238]\tvalidation-auc:0.83812\n",
      "[239]\tvalidation-auc:0.83819\n",
      "[240]\tvalidation-auc:0.83825\n",
      "[241]\tvalidation-auc:0.83828\n",
      "[242]\tvalidation-auc:0.83831\n",
      "[243]\tvalidation-auc:0.83836\n",
      "[244]\tvalidation-auc:0.83842\n",
      "[245]\tvalidation-auc:0.83845\n",
      "[246]\tvalidation-auc:0.83851\n",
      "[247]\tvalidation-auc:0.83855\n",
      "[248]\tvalidation-auc:0.83857\n",
      "[249]\tvalidation-auc:0.83862\n",
      "[250]\tvalidation-auc:0.83864\n",
      "[251]\tvalidation-auc:0.83869\n",
      "[252]\tvalidation-auc:0.83872\n",
      "[253]\tvalidation-auc:0.83880\n",
      "[254]\tvalidation-auc:0.83887\n",
      "[255]\tvalidation-auc:0.83889\n",
      "[256]\tvalidation-auc:0.83895\n",
      "[257]\tvalidation-auc:0.83895\n",
      "[258]\tvalidation-auc:0.83896\n",
      "[259]\tvalidation-auc:0.83900\n",
      "[260]\tvalidation-auc:0.83903\n",
      "[261]\tvalidation-auc:0.83905\n",
      "[262]\tvalidation-auc:0.83908\n",
      "[263]\tvalidation-auc:0.83914\n",
      "[264]\tvalidation-auc:0.83917\n",
      "[265]\tvalidation-auc:0.83919\n",
      "[266]\tvalidation-auc:0.83922\n",
      "[267]\tvalidation-auc:0.83927\n",
      "[268]\tvalidation-auc:0.83928\n",
      "[269]\tvalidation-auc:0.83931\n",
      "[270]\tvalidation-auc:0.83944\n",
      "[271]\tvalidation-auc:0.83945\n",
      "[272]\tvalidation-auc:0.83951\n",
      "[273]\tvalidation-auc:0.83955\n",
      "[274]\tvalidation-auc:0.83958\n",
      "[275]\tvalidation-auc:0.83962\n",
      "[276]\tvalidation-auc:0.83963\n",
      "[277]\tvalidation-auc:0.83968\n",
      "[278]\tvalidation-auc:0.83971\n",
      "[279]\tvalidation-auc:0.83977\n",
      "[280]\tvalidation-auc:0.83978\n",
      "[281]\tvalidation-auc:0.83981\n",
      "[282]\tvalidation-auc:0.83986\n",
      "[283]\tvalidation-auc:0.83989\n",
      "[284]\tvalidation-auc:0.83992\n",
      "[285]\tvalidation-auc:0.83995\n",
      "[286]\tvalidation-auc:0.83996\n",
      "[287]\tvalidation-auc:0.83999\n",
      "[288]\tvalidation-auc:0.84003\n",
      "[289]\tvalidation-auc:0.84008\n",
      "[290]\tvalidation-auc:0.84010\n",
      "[291]\tvalidation-auc:0.84014\n",
      "[292]\tvalidation-auc:0.84017\n",
      "[293]\tvalidation-auc:0.84020\n",
      "[294]\tvalidation-auc:0.84022\n",
      "[295]\tvalidation-auc:0.84026\n",
      "[296]\tvalidation-auc:0.84030\n",
      "[297]\tvalidation-auc:0.84036\n",
      "[298]\tvalidation-auc:0.84039\n",
      "[299]\tvalidation-auc:0.84046\n",
      "[300]\tvalidation-auc:0.84048\n",
      "[301]\tvalidation-auc:0.84050\n",
      "[302]\tvalidation-auc:0.84054\n",
      "[303]\tvalidation-auc:0.84056\n",
      "[304]\tvalidation-auc:0.84059\n",
      "[305]\tvalidation-auc:0.84064\n",
      "[306]\tvalidation-auc:0.84065\n",
      "[307]\tvalidation-auc:0.84068\n",
      "[308]\tvalidation-auc:0.84072\n",
      "[309]\tvalidation-auc:0.84076\n",
      "[310]\tvalidation-auc:0.84080\n",
      "[311]\tvalidation-auc:0.84088\n",
      "[312]\tvalidation-auc:0.84091\n",
      "[313]\tvalidation-auc:0.84094\n",
      "[314]\tvalidation-auc:0.84098\n",
      "[315]\tvalidation-auc:0.84102\n",
      "[316]\tvalidation-auc:0.84113\n",
      "[317]\tvalidation-auc:0.84118\n",
      "[318]\tvalidation-auc:0.84123\n",
      "[319]\tvalidation-auc:0.84124\n",
      "[320]\tvalidation-auc:0.84128\n",
      "[321]\tvalidation-auc:0.84129\n",
      "[322]\tvalidation-auc:0.84131\n",
      "[323]\tvalidation-auc:0.84132\n",
      "[324]\tvalidation-auc:0.84135\n",
      "[325]\tvalidation-auc:0.84136\n",
      "[326]\tvalidation-auc:0.84138\n",
      "[327]\tvalidation-auc:0.84141\n",
      "[328]\tvalidation-auc:0.84143\n",
      "[329]\tvalidation-auc:0.84144\n",
      "[330]\tvalidation-auc:0.84145\n",
      "[331]\tvalidation-auc:0.84147\n",
      "[332]\tvalidation-auc:0.84150\n",
      "[333]\tvalidation-auc:0.84151\n",
      "[334]\tvalidation-auc:0.84154\n",
      "[335]\tvalidation-auc:0.84156\n",
      "[336]\tvalidation-auc:0.84158\n",
      "[337]\tvalidation-auc:0.84161\n",
      "[338]\tvalidation-auc:0.84162\n",
      "[339]\tvalidation-auc:0.84163\n",
      "[340]\tvalidation-auc:0.84164\n",
      "[341]\tvalidation-auc:0.84166\n",
      "[342]\tvalidation-auc:0.84167\n",
      "[343]\tvalidation-auc:0.84170\n",
      "[344]\tvalidation-auc:0.84174\n",
      "[345]\tvalidation-auc:0.84178\n",
      "[346]\tvalidation-auc:0.84183\n",
      "[347]\tvalidation-auc:0.84184\n",
      "[348]\tvalidation-auc:0.84186\n",
      "[349]\tvalidation-auc:0.84186\n",
      "[350]\tvalidation-auc:0.84189\n",
      "[351]\tvalidation-auc:0.84190\n",
      "[352]\tvalidation-auc:0.84192\n",
      "[353]\tvalidation-auc:0.84196\n",
      "[354]\tvalidation-auc:0.84197\n",
      "[355]\tvalidation-auc:0.84203\n",
      "[356]\tvalidation-auc:0.84206\n",
      "[357]\tvalidation-auc:0.84208\n",
      "[358]\tvalidation-auc:0.84209\n",
      "[359]\tvalidation-auc:0.84212\n",
      "[360]\tvalidation-auc:0.84213\n",
      "[361]\tvalidation-auc:0.84214\n",
      "[362]\tvalidation-auc:0.84217\n",
      "[363]\tvalidation-auc:0.84217\n",
      "[364]\tvalidation-auc:0.84218\n",
      "[365]\tvalidation-auc:0.84222\n",
      "[366]\tvalidation-auc:0.84225\n",
      "[367]\tvalidation-auc:0.84227\n",
      "[368]\tvalidation-auc:0.84233\n",
      "[369]\tvalidation-auc:0.84233\n",
      "[370]\tvalidation-auc:0.84235\n",
      "[371]\tvalidation-auc:0.84243\n",
      "[372]\tvalidation-auc:0.84245\n",
      "[373]\tvalidation-auc:0.84250\n",
      "[374]\tvalidation-auc:0.84260\n",
      "[375]\tvalidation-auc:0.84262\n",
      "[376]\tvalidation-auc:0.84264\n",
      "[377]\tvalidation-auc:0.84265\n",
      "[378]\tvalidation-auc:0.84266\n",
      "[379]\tvalidation-auc:0.84269\n",
      "[380]\tvalidation-auc:0.84272\n",
      "[381]\tvalidation-auc:0.84274\n",
      "[382]\tvalidation-auc:0.84278\n",
      "[383]\tvalidation-auc:0.84279\n",
      "[384]\tvalidation-auc:0.84281\n",
      "[385]\tvalidation-auc:0.84282\n",
      "[386]\tvalidation-auc:0.84287\n",
      "[387]\tvalidation-auc:0.84291\n",
      "[388]\tvalidation-auc:0.84293\n",
      "[389]\tvalidation-auc:0.84295\n",
      "[390]\tvalidation-auc:0.84297\n",
      "[391]\tvalidation-auc:0.84298\n",
      "[392]\tvalidation-auc:0.84304\n",
      "[393]\tvalidation-auc:0.84308\n",
      "[394]\tvalidation-auc:0.84310\n",
      "[395]\tvalidation-auc:0.84311\n",
      "[396]\tvalidation-auc:0.84312\n",
      "[397]\tvalidation-auc:0.84316\n",
      "[398]\tvalidation-auc:0.84317\n",
      "[399]\tvalidation-auc:0.84320\n",
      "[400]\tvalidation-auc:0.84322\n",
      "[401]\tvalidation-auc:0.84323\n",
      "[402]\tvalidation-auc:0.84329\n",
      "[403]\tvalidation-auc:0.84337\n",
      "[404]\tvalidation-auc:0.84340\n",
      "[405]\tvalidation-auc:0.84341\n",
      "[406]\tvalidation-auc:0.84344\n",
      "[407]\tvalidation-auc:0.84346\n",
      "[408]\tvalidation-auc:0.84347\n",
      "[409]\tvalidation-auc:0.84349\n",
      "[410]\tvalidation-auc:0.84351\n",
      "[411]\tvalidation-auc:0.84351\n",
      "[412]\tvalidation-auc:0.84352\n",
      "[413]\tvalidation-auc:0.84354\n",
      "[414]\tvalidation-auc:0.84356\n",
      "[415]\tvalidation-auc:0.84358\n",
      "[416]\tvalidation-auc:0.84360\n",
      "[417]\tvalidation-auc:0.84363\n",
      "[418]\tvalidation-auc:0.84365\n",
      "[419]\tvalidation-auc:0.84368\n",
      "[420]\tvalidation-auc:0.84368\n",
      "[421]\tvalidation-auc:0.84372\n",
      "[422]\tvalidation-auc:0.84374\n",
      "[423]\tvalidation-auc:0.84375\n",
      "[424]\tvalidation-auc:0.84381\n",
      "[425]\tvalidation-auc:0.84383\n",
      "[426]\tvalidation-auc:0.84384\n",
      "[427]\tvalidation-auc:0.84386\n",
      "[428]\tvalidation-auc:0.84390\n",
      "[429]\tvalidation-auc:0.84394\n",
      "[430]\tvalidation-auc:0.84397\n",
      "[431]\tvalidation-auc:0.84400\n",
      "[432]\tvalidation-auc:0.84405\n",
      "[433]\tvalidation-auc:0.84405\n",
      "[434]\tvalidation-auc:0.84406\n",
      "[435]\tvalidation-auc:0.84409\n",
      "[436]\tvalidation-auc:0.84412\n",
      "[437]\tvalidation-auc:0.84415\n",
      "[438]\tvalidation-auc:0.84421\n",
      "[439]\tvalidation-auc:0.84424\n",
      "[440]\tvalidation-auc:0.84428\n",
      "[441]\tvalidation-auc:0.84429\n",
      "[442]\tvalidation-auc:0.84432\n",
      "[443]\tvalidation-auc:0.84434\n",
      "[444]\tvalidation-auc:0.84438\n",
      "[445]\tvalidation-auc:0.84441\n",
      "[446]\tvalidation-auc:0.84444\n",
      "[447]\tvalidation-auc:0.84446\n",
      "[448]\tvalidation-auc:0.84447\n",
      "[449]\tvalidation-auc:0.84449\n",
      "[450]\tvalidation-auc:0.84451\n",
      "[451]\tvalidation-auc:0.84452\n",
      "[452]\tvalidation-auc:0.84453\n",
      "[453]\tvalidation-auc:0.84455\n",
      "[454]\tvalidation-auc:0.84456\n",
      "[455]\tvalidation-auc:0.84459\n",
      "[456]\tvalidation-auc:0.84462\n",
      "[457]\tvalidation-auc:0.84466\n",
      "[458]\tvalidation-auc:0.84467\n",
      "[459]\tvalidation-auc:0.84468\n",
      "[460]\tvalidation-auc:0.84471\n",
      "[461]\tvalidation-auc:0.84476\n",
      "[462]\tvalidation-auc:0.84478\n",
      "[463]\tvalidation-auc:0.84478\n",
      "[464]\tvalidation-auc:0.84482\n",
      "[465]\tvalidation-auc:0.84483\n",
      "[466]\tvalidation-auc:0.84485\n",
      "[467]\tvalidation-auc:0.84486\n",
      "[468]\tvalidation-auc:0.84486\n",
      "[469]\tvalidation-auc:0.84491\n",
      "[470]\tvalidation-auc:0.84494\n",
      "[471]\tvalidation-auc:0.84498\n",
      "[472]\tvalidation-auc:0.84499\n",
      "[473]\tvalidation-auc:0.84500\n",
      "[474]\tvalidation-auc:0.84500\n",
      "[475]\tvalidation-auc:0.84502\n",
      "[476]\tvalidation-auc:0.84503\n",
      "[477]\tvalidation-auc:0.84504\n",
      "[478]\tvalidation-auc:0.84508\n",
      "[479]\tvalidation-auc:0.84510\n",
      "[480]\tvalidation-auc:0.84510\n",
      "[481]\tvalidation-auc:0.84512\n",
      "[482]\tvalidation-auc:0.84516\n",
      "[483]\tvalidation-auc:0.84517\n",
      "[484]\tvalidation-auc:0.84518\n",
      "[485]\tvalidation-auc:0.84523\n",
      "[486]\tvalidation-auc:0.84526\n",
      "[487]\tvalidation-auc:0.84527\n",
      "[488]\tvalidation-auc:0.84527\n",
      "[489]\tvalidation-auc:0.84531\n",
      "[490]\tvalidation-auc:0.84534\n",
      "[491]\tvalidation-auc:0.84536\n",
      "[492]\tvalidation-auc:0.84538\n",
      "[493]\tvalidation-auc:0.84540\n",
      "[494]\tvalidation-auc:0.84541\n",
      "[495]\tvalidation-auc:0.84544\n",
      "[496]\tvalidation-auc:0.84546\n",
      "[497]\tvalidation-auc:0.84547\n",
      "[498]\tvalidation-auc:0.84548\n",
      "[499]\tvalidation-auc:0.84550\n",
      "[500]\tvalidation-auc:0.84551\n",
      "[501]\tvalidation-auc:0.84552\n",
      "[502]\tvalidation-auc:0.84553\n",
      "[503]\tvalidation-auc:0.84556\n",
      "[504]\tvalidation-auc:0.84556\n",
      "[505]\tvalidation-auc:0.84559\n",
      "[506]\tvalidation-auc:0.84562\n",
      "[507]\tvalidation-auc:0.84562\n",
      "[508]\tvalidation-auc:0.84563\n",
      "[509]\tvalidation-auc:0.84565\n",
      "[510]\tvalidation-auc:0.84568\n",
      "[511]\tvalidation-auc:0.84569\n",
      "[512]\tvalidation-auc:0.84570\n",
      "[513]\tvalidation-auc:0.84572\n",
      "[514]\tvalidation-auc:0.84573\n",
      "[515]\tvalidation-auc:0.84575\n",
      "[516]\tvalidation-auc:0.84578\n",
      "[517]\tvalidation-auc:0.84580\n",
      "[518]\tvalidation-auc:0.84582\n",
      "[519]\tvalidation-auc:0.84587\n",
      "[520]\tvalidation-auc:0.84590\n",
      "[521]\tvalidation-auc:0.84592\n",
      "[522]\tvalidation-auc:0.84595\n",
      "[523]\tvalidation-auc:0.84595\n",
      "[524]\tvalidation-auc:0.84596\n",
      "[525]\tvalidation-auc:0.84597\n",
      "[526]\tvalidation-auc:0.84599\n",
      "[527]\tvalidation-auc:0.84600\n",
      "[528]\tvalidation-auc:0.84601\n",
      "[529]\tvalidation-auc:0.84602\n",
      "[530]\tvalidation-auc:0.84603\n",
      "[531]\tvalidation-auc:0.84604\n",
      "[532]\tvalidation-auc:0.84606\n",
      "[533]\tvalidation-auc:0.84607\n",
      "[534]\tvalidation-auc:0.84609\n",
      "[535]\tvalidation-auc:0.84609\n",
      "[536]\tvalidation-auc:0.84610\n",
      "[537]\tvalidation-auc:0.84611\n",
      "[538]\tvalidation-auc:0.84611\n",
      "[539]\tvalidation-auc:0.84612\n",
      "[540]\tvalidation-auc:0.84614\n",
      "[541]\tvalidation-auc:0.84615\n",
      "[542]\tvalidation-auc:0.84616\n",
      "[543]\tvalidation-auc:0.84618\n",
      "[544]\tvalidation-auc:0.84619\n",
      "[545]\tvalidation-auc:0.84622\n",
      "[546]\tvalidation-auc:0.84625\n",
      "[547]\tvalidation-auc:0.84626\n",
      "[548]\tvalidation-auc:0.84627\n",
      "[549]\tvalidation-auc:0.84628\n",
      "[550]\tvalidation-auc:0.84631\n",
      "[551]\tvalidation-auc:0.84632\n",
      "[552]\tvalidation-auc:0.84634\n",
      "[553]\tvalidation-auc:0.84635\n",
      "[554]\tvalidation-auc:0.84637\n",
      "[555]\tvalidation-auc:0.84637\n",
      "[556]\tvalidation-auc:0.84638\n",
      "[557]\tvalidation-auc:0.84638\n",
      "[558]\tvalidation-auc:0.84639\n",
      "[559]\tvalidation-auc:0.84645\n",
      "[560]\tvalidation-auc:0.84646\n",
      "[561]\tvalidation-auc:0.84647\n",
      "[562]\tvalidation-auc:0.84648\n",
      "[563]\tvalidation-auc:0.84650\n",
      "[564]\tvalidation-auc:0.84652\n",
      "[565]\tvalidation-auc:0.84656\n",
      "[566]\tvalidation-auc:0.84658\n",
      "[567]\tvalidation-auc:0.84658\n",
      "[568]\tvalidation-auc:0.84658\n",
      "[569]\tvalidation-auc:0.84660\n",
      "[570]\tvalidation-auc:0.84663\n",
      "[571]\tvalidation-auc:0.84664\n",
      "[572]\tvalidation-auc:0.84665\n",
      "[573]\tvalidation-auc:0.84667\n",
      "[574]\tvalidation-auc:0.84669\n",
      "[575]\tvalidation-auc:0.84671\n",
      "[576]\tvalidation-auc:0.84675\n",
      "[577]\tvalidation-auc:0.84677\n",
      "[578]\tvalidation-auc:0.84678\n",
      "[579]\tvalidation-auc:0.84682\n",
      "[580]\tvalidation-auc:0.84682\n",
      "[581]\tvalidation-auc:0.84684\n",
      "[582]\tvalidation-auc:0.84685\n",
      "[583]\tvalidation-auc:0.84686\n",
      "[584]\tvalidation-auc:0.84686\n",
      "[585]\tvalidation-auc:0.84688\n",
      "[586]\tvalidation-auc:0.84688\n",
      "[587]\tvalidation-auc:0.84689\n",
      "[588]\tvalidation-auc:0.84690\n",
      "[589]\tvalidation-auc:0.84690\n",
      "[590]\tvalidation-auc:0.84691\n",
      "[591]\tvalidation-auc:0.84695\n",
      "[592]\tvalidation-auc:0.84696\n",
      "[593]\tvalidation-auc:0.84697\n",
      "[594]\tvalidation-auc:0.84699\n",
      "[595]\tvalidation-auc:0.84700\n",
      "[596]\tvalidation-auc:0.84702\n",
      "[597]\tvalidation-auc:0.84703\n",
      "[598]\tvalidation-auc:0.84704\n",
      "[599]\tvalidation-auc:0.84705\n",
      "[600]\tvalidation-auc:0.84707\n",
      "[601]\tvalidation-auc:0.84707\n",
      "[602]\tvalidation-auc:0.84709\n",
      "[603]\tvalidation-auc:0.84710\n",
      "[604]\tvalidation-auc:0.84710\n",
      "[605]\tvalidation-auc:0.84711\n",
      "[606]\tvalidation-auc:0.84712\n",
      "[607]\tvalidation-auc:0.84713\n",
      "[608]\tvalidation-auc:0.84714\n",
      "[609]\tvalidation-auc:0.84715\n",
      "[610]\tvalidation-auc:0.84717\n",
      "[611]\tvalidation-auc:0.84718\n",
      "[612]\tvalidation-auc:0.84719\n",
      "[613]\tvalidation-auc:0.84721\n",
      "[614]\tvalidation-auc:0.84722\n",
      "[615]\tvalidation-auc:0.84723\n",
      "[616]\tvalidation-auc:0.84723\n",
      "[617]\tvalidation-auc:0.84723\n",
      "[618]\tvalidation-auc:0.84724\n",
      "[619]\tvalidation-auc:0.84726\n",
      "[620]\tvalidation-auc:0.84731\n",
      "[621]\tvalidation-auc:0.84732\n",
      "[622]\tvalidation-auc:0.84733\n",
      "[623]\tvalidation-auc:0.84736\n",
      "[624]\tvalidation-auc:0.84737\n",
      "[625]\tvalidation-auc:0.84738\n",
      "[626]\tvalidation-auc:0.84740\n",
      "[627]\tvalidation-auc:0.84743\n",
      "[628]\tvalidation-auc:0.84745\n",
      "[629]\tvalidation-auc:0.84746\n",
      "[630]\tvalidation-auc:0.84750\n",
      "[631]\tvalidation-auc:0.84751\n",
      "[632]\tvalidation-auc:0.84754\n",
      "[633]\tvalidation-auc:0.84756\n",
      "[634]\tvalidation-auc:0.84757\n",
      "[635]\tvalidation-auc:0.84759\n",
      "[636]\tvalidation-auc:0.84759\n",
      "[637]\tvalidation-auc:0.84760\n",
      "[638]\tvalidation-auc:0.84762\n",
      "[639]\tvalidation-auc:0.84765\n",
      "[640]\tvalidation-auc:0.84766\n",
      "[641]\tvalidation-auc:0.84767\n",
      "[642]\tvalidation-auc:0.84768\n",
      "[643]\tvalidation-auc:0.84769\n",
      "[644]\tvalidation-auc:0.84772\n",
      "[645]\tvalidation-auc:0.84773\n",
      "[646]\tvalidation-auc:0.84774\n",
      "[647]\tvalidation-auc:0.84774\n",
      "[648]\tvalidation-auc:0.84775\n",
      "[649]\tvalidation-auc:0.84777\n",
      "[650]\tvalidation-auc:0.84779\n",
      "[651]\tvalidation-auc:0.84780\n",
      "[652]\tvalidation-auc:0.84781\n",
      "[653]\tvalidation-auc:0.84782\n",
      "[654]\tvalidation-auc:0.84782\n",
      "[655]\tvalidation-auc:0.84783\n",
      "[656]\tvalidation-auc:0.84785\n",
      "[657]\tvalidation-auc:0.84787\n",
      "[658]\tvalidation-auc:0.84788\n",
      "[659]\tvalidation-auc:0.84788\n",
      "[660]\tvalidation-auc:0.84789\n",
      "[661]\tvalidation-auc:0.84790\n",
      "[662]\tvalidation-auc:0.84792\n",
      "[663]\tvalidation-auc:0.84792\n",
      "[664]\tvalidation-auc:0.84794\n",
      "[665]\tvalidation-auc:0.84794\n",
      "[666]\tvalidation-auc:0.84795\n",
      "[667]\tvalidation-auc:0.84796\n",
      "[668]\tvalidation-auc:0.84796\n",
      "[669]\tvalidation-auc:0.84798\n",
      "[670]\tvalidation-auc:0.84799\n",
      "[671]\tvalidation-auc:0.84799\n",
      "[672]\tvalidation-auc:0.84800\n",
      "[673]\tvalidation-auc:0.84800\n",
      "[674]\tvalidation-auc:0.84801\n",
      "[675]\tvalidation-auc:0.84803\n",
      "[676]\tvalidation-auc:0.84804\n",
      "[677]\tvalidation-auc:0.84806\n",
      "[678]\tvalidation-auc:0.84807\n",
      "[679]\tvalidation-auc:0.84807\n",
      "[680]\tvalidation-auc:0.84808\n",
      "[681]\tvalidation-auc:0.84809\n",
      "[682]\tvalidation-auc:0.84810\n",
      "[683]\tvalidation-auc:0.84811\n",
      "[684]\tvalidation-auc:0.84812\n",
      "[685]\tvalidation-auc:0.84812\n",
      "[686]\tvalidation-auc:0.84814\n",
      "[687]\tvalidation-auc:0.84815\n",
      "[688]\tvalidation-auc:0.84816\n",
      "[689]\tvalidation-auc:0.84818\n",
      "[690]\tvalidation-auc:0.84818\n",
      "[691]\tvalidation-auc:0.84819\n",
      "[692]\tvalidation-auc:0.84819\n",
      "[693]\tvalidation-auc:0.84821\n",
      "[694]\tvalidation-auc:0.84822\n",
      "[695]\tvalidation-auc:0.84823\n",
      "[696]\tvalidation-auc:0.84826\n",
      "[697]\tvalidation-auc:0.84826\n",
      "[698]\tvalidation-auc:0.84827\n",
      "[699]\tvalidation-auc:0.84828\n",
      "[700]\tvalidation-auc:0.84828\n",
      "[701]\tvalidation-auc:0.84830\n",
      "[702]\tvalidation-auc:0.84832\n",
      "[703]\tvalidation-auc:0.84833\n",
      "[704]\tvalidation-auc:0.84836\n",
      "[705]\tvalidation-auc:0.84836\n",
      "[706]\tvalidation-auc:0.84837\n",
      "[707]\tvalidation-auc:0.84837\n",
      "[708]\tvalidation-auc:0.84839\n",
      "[709]\tvalidation-auc:0.84841\n",
      "[710]\tvalidation-auc:0.84843\n",
      "[711]\tvalidation-auc:0.84844\n",
      "[712]\tvalidation-auc:0.84845\n",
      "[713]\tvalidation-auc:0.84845\n",
      "[714]\tvalidation-auc:0.84846\n",
      "[715]\tvalidation-auc:0.84848\n",
      "[716]\tvalidation-auc:0.84849\n",
      "[717]\tvalidation-auc:0.84849\n",
      "[718]\tvalidation-auc:0.84850\n",
      "[719]\tvalidation-auc:0.84851\n",
      "[720]\tvalidation-auc:0.84851\n",
      "[721]\tvalidation-auc:0.84852\n",
      "[722]\tvalidation-auc:0.84853\n",
      "[723]\tvalidation-auc:0.84854\n",
      "[724]\tvalidation-auc:0.84856\n",
      "[725]\tvalidation-auc:0.84856\n",
      "[726]\tvalidation-auc:0.84859\n",
      "[727]\tvalidation-auc:0.84859\n",
      "[728]\tvalidation-auc:0.84860\n",
      "[729]\tvalidation-auc:0.84860\n",
      "[730]\tvalidation-auc:0.84862\n",
      "[731]\tvalidation-auc:0.84863\n",
      "[732]\tvalidation-auc:0.84863\n",
      "[733]\tvalidation-auc:0.84864\n",
      "[734]\tvalidation-auc:0.84868\n",
      "[735]\tvalidation-auc:0.84868\n",
      "[736]\tvalidation-auc:0.84869\n",
      "[737]\tvalidation-auc:0.84871\n",
      "[738]\tvalidation-auc:0.84871\n",
      "[739]\tvalidation-auc:0.84872\n",
      "[740]\tvalidation-auc:0.84872\n",
      "[741]\tvalidation-auc:0.84873\n",
      "[742]\tvalidation-auc:0.84874\n",
      "[743]\tvalidation-auc:0.84876\n",
      "[744]\tvalidation-auc:0.84877\n",
      "[745]\tvalidation-auc:0.84877\n",
      "[746]\tvalidation-auc:0.84878\n",
      "[747]\tvalidation-auc:0.84878\n",
      "[748]\tvalidation-auc:0.84878\n",
      "[749]\tvalidation-auc:0.84879\n",
      "[750]\tvalidation-auc:0.84880\n",
      "[751]\tvalidation-auc:0.84880\n",
      "[752]\tvalidation-auc:0.84881\n",
      "[753]\tvalidation-auc:0.84882\n",
      "[754]\tvalidation-auc:0.84884\n",
      "[755]\tvalidation-auc:0.84886\n",
      "[756]\tvalidation-auc:0.84887\n",
      "[757]\tvalidation-auc:0.84889\n",
      "[758]\tvalidation-auc:0.84889\n",
      "[759]\tvalidation-auc:0.84890\n",
      "[760]\tvalidation-auc:0.84890\n",
      "[761]\tvalidation-auc:0.84891\n",
      "[762]\tvalidation-auc:0.84892\n",
      "[763]\tvalidation-auc:0.84893\n",
      "[764]\tvalidation-auc:0.84894\n",
      "[765]\tvalidation-auc:0.84895\n",
      "[766]\tvalidation-auc:0.84896\n",
      "[767]\tvalidation-auc:0.84897\n",
      "[768]\tvalidation-auc:0.84898\n",
      "[769]\tvalidation-auc:0.84898\n",
      "[770]\tvalidation-auc:0.84900\n",
      "[771]\tvalidation-auc:0.84901\n",
      "[772]\tvalidation-auc:0.84902\n",
      "[773]\tvalidation-auc:0.84903\n",
      "[774]\tvalidation-auc:0.84904\n",
      "[775]\tvalidation-auc:0.84905\n",
      "[776]\tvalidation-auc:0.84905\n",
      "[777]\tvalidation-auc:0.84906\n",
      "[778]\tvalidation-auc:0.84906\n",
      "[779]\tvalidation-auc:0.84907\n",
      "[780]\tvalidation-auc:0.84907\n",
      "[781]\tvalidation-auc:0.84908\n",
      "[782]\tvalidation-auc:0.84909\n",
      "[783]\tvalidation-auc:0.84910\n",
      "[784]\tvalidation-auc:0.84911\n",
      "[785]\tvalidation-auc:0.84911\n",
      "[786]\tvalidation-auc:0.84912\n",
      "[787]\tvalidation-auc:0.84914\n",
      "[788]\tvalidation-auc:0.84914\n",
      "[789]\tvalidation-auc:0.84916\n",
      "[790]\tvalidation-auc:0.84917\n",
      "[791]\tvalidation-auc:0.84917\n",
      "[792]\tvalidation-auc:0.84918\n",
      "[793]\tvalidation-auc:0.84918\n",
      "[794]\tvalidation-auc:0.84919\n",
      "[795]\tvalidation-auc:0.84920\n",
      "[796]\tvalidation-auc:0.84921\n",
      "[797]\tvalidation-auc:0.84922\n",
      "[798]\tvalidation-auc:0.84923\n",
      "[799]\tvalidation-auc:0.84924\n",
      "[800]\tvalidation-auc:0.84925\n",
      "[801]\tvalidation-auc:0.84926\n",
      "[802]\tvalidation-auc:0.84927\n",
      "[803]\tvalidation-auc:0.84927\n",
      "[804]\tvalidation-auc:0.84928\n",
      "[805]\tvalidation-auc:0.84930\n",
      "[806]\tvalidation-auc:0.84930\n",
      "[807]\tvalidation-auc:0.84931\n",
      "[808]\tvalidation-auc:0.84932\n",
      "[809]\tvalidation-auc:0.84933\n",
      "[810]\tvalidation-auc:0.84933\n",
      "[811]\tvalidation-auc:0.84935\n",
      "[812]\tvalidation-auc:0.84936\n",
      "[813]\tvalidation-auc:0.84937\n",
      "[814]\tvalidation-auc:0.84937\n",
      "[815]\tvalidation-auc:0.84938\n",
      "[816]\tvalidation-auc:0.84941\n",
      "[817]\tvalidation-auc:0.84941\n",
      "[818]\tvalidation-auc:0.84942\n",
      "[819]\tvalidation-auc:0.84942\n",
      "[820]\tvalidation-auc:0.84944\n",
      "[821]\tvalidation-auc:0.84944\n",
      "[822]\tvalidation-auc:0.84944\n",
      "[823]\tvalidation-auc:0.84945\n",
      "[824]\tvalidation-auc:0.84947\n",
      "[825]\tvalidation-auc:0.84948\n",
      "[826]\tvalidation-auc:0.84948\n",
      "[827]\tvalidation-auc:0.84949\n",
      "[828]\tvalidation-auc:0.84950\n",
      "[829]\tvalidation-auc:0.84951\n",
      "[830]\tvalidation-auc:0.84951\n",
      "[831]\tvalidation-auc:0.84951\n",
      "[832]\tvalidation-auc:0.84951\n",
      "[833]\tvalidation-auc:0.84952\n",
      "[834]\tvalidation-auc:0.84953\n",
      "[835]\tvalidation-auc:0.84954\n",
      "[836]\tvalidation-auc:0.84955\n",
      "[837]\tvalidation-auc:0.84956\n",
      "[838]\tvalidation-auc:0.84957\n",
      "[839]\tvalidation-auc:0.84959\n",
      "[840]\tvalidation-auc:0.84960\n",
      "[841]\tvalidation-auc:0.84960\n",
      "[842]\tvalidation-auc:0.84961\n",
      "[843]\tvalidation-auc:0.84961\n",
      "[844]\tvalidation-auc:0.84962\n",
      "[845]\tvalidation-auc:0.84963\n",
      "[846]\tvalidation-auc:0.84963\n",
      "[847]\tvalidation-auc:0.84964\n",
      "[848]\tvalidation-auc:0.84965\n",
      "[849]\tvalidation-auc:0.84965\n",
      "[850]\tvalidation-auc:0.84966\n",
      "[851]\tvalidation-auc:0.84966\n",
      "[852]\tvalidation-auc:0.84967\n",
      "[853]\tvalidation-auc:0.84968\n",
      "[854]\tvalidation-auc:0.84969\n",
      "[855]\tvalidation-auc:0.84969\n",
      "[856]\tvalidation-auc:0.84970\n",
      "[857]\tvalidation-auc:0.84971\n",
      "[858]\tvalidation-auc:0.84972\n",
      "[859]\tvalidation-auc:0.84972\n",
      "[860]\tvalidation-auc:0.84972\n",
      "[861]\tvalidation-auc:0.84972\n",
      "[862]\tvalidation-auc:0.84973\n",
      "[863]\tvalidation-auc:0.84974\n",
      "[864]\tvalidation-auc:0.84975\n",
      "[865]\tvalidation-auc:0.84975\n",
      "[866]\tvalidation-auc:0.84976\n",
      "[867]\tvalidation-auc:0.84977\n",
      "[868]\tvalidation-auc:0.84978\n",
      "[869]\tvalidation-auc:0.84979\n",
      "[870]\tvalidation-auc:0.84979\n",
      "[871]\tvalidation-auc:0.84980\n",
      "[872]\tvalidation-auc:0.84980\n",
      "[873]\tvalidation-auc:0.84982\n",
      "[874]\tvalidation-auc:0.84983\n",
      "[875]\tvalidation-auc:0.84983\n",
      "[876]\tvalidation-auc:0.84983\n",
      "[877]\tvalidation-auc:0.84983\n",
      "[878]\tvalidation-auc:0.84984\n",
      "[879]\tvalidation-auc:0.84985\n",
      "[880]\tvalidation-auc:0.84985\n",
      "[881]\tvalidation-auc:0.84986\n",
      "[882]\tvalidation-auc:0.84986\n",
      "[883]\tvalidation-auc:0.84987\n",
      "[884]\tvalidation-auc:0.84988\n",
      "[885]\tvalidation-auc:0.84988\n",
      "[886]\tvalidation-auc:0.84988\n",
      "[887]\tvalidation-auc:0.84989\n",
      "[888]\tvalidation-auc:0.84990\n",
      "[889]\tvalidation-auc:0.84990\n",
      "[890]\tvalidation-auc:0.84991\n",
      "[891]\tvalidation-auc:0.84991\n",
      "[892]\tvalidation-auc:0.84993\n",
      "[893]\tvalidation-auc:0.84994\n",
      "[894]\tvalidation-auc:0.84994\n",
      "[895]\tvalidation-auc:0.84995\n",
      "[896]\tvalidation-auc:0.84995\n",
      "[897]\tvalidation-auc:0.84996\n",
      "[898]\tvalidation-auc:0.84997\n",
      "[899]\tvalidation-auc:0.84998\n",
      "[900]\tvalidation-auc:0.84998\n",
      "[901]\tvalidation-auc:0.85000\n",
      "[902]\tvalidation-auc:0.85001\n",
      "[903]\tvalidation-auc:0.85001\n",
      "[904]\tvalidation-auc:0.85003\n",
      "[905]\tvalidation-auc:0.85003\n",
      "[906]\tvalidation-auc:0.85004\n",
      "[907]\tvalidation-auc:0.85005\n",
      "[908]\tvalidation-auc:0.85005\n",
      "[909]\tvalidation-auc:0.85006\n",
      "[910]\tvalidation-auc:0.85008\n",
      "[911]\tvalidation-auc:0.85009\n",
      "[912]\tvalidation-auc:0.85010\n",
      "[913]\tvalidation-auc:0.85011\n",
      "[914]\tvalidation-auc:0.85011\n",
      "[915]\tvalidation-auc:0.85011\n",
      "[916]\tvalidation-auc:0.85011\n",
      "[917]\tvalidation-auc:0.85012\n",
      "[918]\tvalidation-auc:0.85013\n",
      "[919]\tvalidation-auc:0.85013\n",
      "[920]\tvalidation-auc:0.85014\n",
      "[921]\tvalidation-auc:0.85014\n",
      "[922]\tvalidation-auc:0.85014\n",
      "[923]\tvalidation-auc:0.85016\n",
      "[924]\tvalidation-auc:0.85017\n",
      "[925]\tvalidation-auc:0.85017\n",
      "[926]\tvalidation-auc:0.85017\n",
      "[927]\tvalidation-auc:0.85018\n",
      "[928]\tvalidation-auc:0.85019\n",
      "[929]\tvalidation-auc:0.85020\n",
      "[930]\tvalidation-auc:0.85020\n",
      "[931]\tvalidation-auc:0.85022\n",
      "[932]\tvalidation-auc:0.85022\n",
      "[933]\tvalidation-auc:0.85023\n",
      "[934]\tvalidation-auc:0.85025\n",
      "[935]\tvalidation-auc:0.85025\n",
      "[936]\tvalidation-auc:0.85027\n",
      "[937]\tvalidation-auc:0.85027\n",
      "[938]\tvalidation-auc:0.85029\n",
      "[939]\tvalidation-auc:0.85030\n",
      "[940]\tvalidation-auc:0.85031\n",
      "[941]\tvalidation-auc:0.85031\n",
      "[942]\tvalidation-auc:0.85033\n",
      "[943]\tvalidation-auc:0.85034\n",
      "[944]\tvalidation-auc:0.85035\n",
      "[945]\tvalidation-auc:0.85036\n",
      "[946]\tvalidation-auc:0.85036\n",
      "[947]\tvalidation-auc:0.85037\n",
      "[948]\tvalidation-auc:0.85039\n",
      "[949]\tvalidation-auc:0.85040\n",
      "[950]\tvalidation-auc:0.85041\n",
      "[951]\tvalidation-auc:0.85041\n",
      "[952]\tvalidation-auc:0.85041\n",
      "[953]\tvalidation-auc:0.85042\n",
      "[954]\tvalidation-auc:0.85042\n",
      "[955]\tvalidation-auc:0.85043\n",
      "[956]\tvalidation-auc:0.85043\n",
      "[957]\tvalidation-auc:0.85044\n",
      "[958]\tvalidation-auc:0.85044\n",
      "[959]\tvalidation-auc:0.85045\n",
      "[960]\tvalidation-auc:0.85045\n",
      "[961]\tvalidation-auc:0.85046\n",
      "[962]\tvalidation-auc:0.85046\n",
      "[963]\tvalidation-auc:0.85047\n",
      "[964]\tvalidation-auc:0.85047\n",
      "[965]\tvalidation-auc:0.85048\n",
      "[966]\tvalidation-auc:0.85050\n",
      "[967]\tvalidation-auc:0.85050\n",
      "[968]\tvalidation-auc:0.85051\n",
      "[969]\tvalidation-auc:0.85052\n",
      "[970]\tvalidation-auc:0.85053\n",
      "[971]\tvalidation-auc:0.85054\n",
      "[972]\tvalidation-auc:0.85055\n",
      "[973]\tvalidation-auc:0.85056\n",
      "[974]\tvalidation-auc:0.85057\n",
      "[975]\tvalidation-auc:0.85057\n",
      "[976]\tvalidation-auc:0.85058\n",
      "[977]\tvalidation-auc:0.85058\n",
      "[978]\tvalidation-auc:0.85058\n",
      "[979]\tvalidation-auc:0.85059\n",
      "[980]\tvalidation-auc:0.85060\n",
      "[981]\tvalidation-auc:0.85061\n",
      "[982]\tvalidation-auc:0.85061\n",
      "[983]\tvalidation-auc:0.85061\n",
      "[984]\tvalidation-auc:0.85062\n",
      "[985]\tvalidation-auc:0.85062\n",
      "[986]\tvalidation-auc:0.85062\n",
      "[987]\tvalidation-auc:0.85063\n",
      "[988]\tvalidation-auc:0.85063\n",
      "[989]\tvalidation-auc:0.85063\n",
      "[990]\tvalidation-auc:0.85063\n",
      "[991]\tvalidation-auc:0.85066\n",
      "[992]\tvalidation-auc:0.85066\n",
      "[993]\tvalidation-auc:0.85066\n",
      "[994]\tvalidation-auc:0.85066\n",
      "[995]\tvalidation-auc:0.85067\n",
      "[996]\tvalidation-auc:0.85067\n",
      "[997]\tvalidation-auc:0.85067\n",
      "[998]\tvalidation-auc:0.85068\n",
      "[999]\tvalidation-auc:0.85069\n",
      "Train AUC: 0.8856287102067678\n",
      "Test AUC: 0.850664579170529\n"
     ]
    }
   ],
   "source": [
    "params = {\n",
    "    \"tree_method\": \"hist\", \n",
    "    \"device\": \"cuda\",\n",
    "    \"objective\": \"binary:logistic\",\n",
    "    \"eval_metric\": \"auc\",\n",
    "    \n",
    "    \"eta\": xgb_study2.best_trial.params[\"eta\"],\n",
    "    \"max_depth\": xgb_study2.best_trial.params[\"max_depth\"],\n",
    "    \"alpha\": xgb_study2.best_trial.params[\"alpha\"],\n",
    "    \"subsample\": xgb_study2.best_trial.params[\"subsample\"],\n",
    "    \"colsample_bytree\": xgb_study2.best_trial.params[\"colsample_bytree\"],\n",
    "    \"lambda\": xgb_study1.best_trial.params[\"lambda\"],\n",
    "    \"min_child_weight\": xgb_study1.best_trial.params[\"min_child_weight\"],\n",
    "}\n",
    "\n",
    "split_folder = 'train/xgboost/step3/data'\n",
    "nested_folder = 'train/xgboost/step3/data/training'\n",
    "\n",
    "train_valid_pool, holdout_set = file_train_test_split(f'higgs_data/train.parquet', split_folder, test_size=0.15)\n",
    "train_set, valid_set = file_train_test_split(train_valid_pool, nested_folder, test_size=0.1739)\n",
    "\n",
    "# Ensure no headers in the csv files for XGBoost\n",
    "train_set = csv_no_headers(train_set)\n",
    "valid_set = csv_no_headers(valid_set)\n",
    "holdout_set = csv_no_headers(holdout_set)\n",
    "\n",
    "\n",
    "dtrain = xgb.DMatrix(f\"{train_set}?format=csv&label_column=0\")\n",
    "dvalid = xgb.DMatrix(f\"{valid_set}?format=csv&label_column=0\")\n",
    "\n",
    "model = xgb.train(\n",
    "    params,\n",
    "    dtrain,\n",
    "    num_boost_round=1000,\n",
    "    evals=[(dvalid, \"validation\")],\n",
    "    early_stopping_rounds=50,\n",
    ")\n",
    "\n",
    "\n",
    "dtest = xgb.DMatrix(f\"{holdout_set}?format=csv&label_column=0\")\n",
    "print(f'Train AUC: {roc_auc_score(dtrain.get_label(), model.predict(dtrain))}')\n",
    "print(f'Test AUC: {roc_auc_score(dtest.get_label(), model.predict(dtest))}')"
   ]
  },
  {
   "cell_type": "code",
   "execution_count": 162,
   "id": "d1bc87e0",
   "metadata": {},
   "outputs": [
    {
     "data": {
      "text/plain": [
       "848"
      ]
     },
     "execution_count": 162,
     "metadata": {},
     "output_type": "execute_result"
    }
   ],
   "source": [
    "gc.collect()"
   ]
  },
  {
   "cell_type": "code",
   "execution_count": 163,
   "id": "6ead1566",
   "metadata": {},
   "outputs": [
    {
     "data": {
      "text/plain": [
       "7"
      ]
     },
     "execution_count": 163,
     "metadata": {},
     "output_type": "execute_result"
    }
   ],
   "source": [
    "del dtrain, dvalid, dtest\n",
    "gc.collect()"
   ]
  },
  {
   "cell_type": "code",
   "execution_count": 8,
   "id": "3269d68c",
   "metadata": {},
   "outputs": [],
   "source": [
    "from catboost import CatBoostClassifier\n",
    "from catboost import Pool\n",
    "\n",
    "def cat_objective_step1(trial):\n",
    "    params = {\n",
    "        \"task_type\": \"GPU\",\n",
    "        \"metric_period\": 5,\n",
    "        \"loss_function\": \"Logloss\",\n",
    "        \"eval_metric\": \"AUC\",\n",
    "        \"early_stopping_rounds\": 15,\n",
    "        \"iterations\": 100,\n",
    "        \"verbose\": 0,\n",
    "        \"depth\": trial.suggest_int(\"depth\", 3, 12),\n",
    "        \"learning_rate\": trial.suggest_float(\"learning_rate\", 1e-3, 0.3, log=True),\n",
    "        \"l2_leaf_reg\": trial.suggest_float(\"l2_leaf_reg\", 0, 5.0),\n",
    "        \"bagging_temperature\": trial.suggest_float(\"bagging_temperature\", 0.0, 1.0),\n",
    "        \"random_strength\": trial.suggest_float(\"random_strength\", 0.0, 1.0),\n",
    "        \"border_count\": trial.suggest_int(\"border_count\", 32, 255),\n",
    "    }\n",
    "\n",
    "    split_folder = 'training/catboost/step1/data'\n",
    "    nested_folder = 'training/catboost/step1/data/training'\n",
    "    cd_file = './higgs_data/train.cd'\n",
    "\n",
    "    subsample = file_subsample('higgs_data/train.parquet', split_folder, sample_fraction=0.1)\n",
    "    train_valid_pool, holdout_set = file_train_test_split(subsample, split_folder, test_size=0.15)\n",
    "    train_set, valid_set = file_train_test_split(train_valid_pool, nested_folder, test_size=0.1739)\n",
    "    \n",
    "    dtrain = Pool(train_set, column_description=cd_file, has_header=True, delimiter=',')\n",
    "    dvalid = Pool(valid_set, column_description=cd_file, has_header=True, delimiter=',')\n",
    "    dtest = Pool(holdout_set, column_description=cd_file, has_header=True, delimiter=',')\n",
    "\n",
    "    with open(os.devnull, 'w') as fnull:\n",
    "        with redirect_stdout(fnull), redirect_stderr(fnull):\n",
    "            model = CatBoostClassifier(**params)\n",
    "            model.fit(\n",
    "                dtrain,\n",
    "                eval_set=dvalid,\n",
    "                column_description=cd_file,\n",
    "            )\n",
    "\n",
    "    # Evaluate on holdout set\n",
    "    preds = model.predict_proba(dtest)[:, 1]\n",
    "    y_test = pd.read_csv(holdout_set, usecols=[\"target\"])\n",
    "    auc = roc_auc_score(y_test, preds)\n",
    "\n",
    "    del model, dtrain, dvalid, dtest, y_test, preds\n",
    "    gc.collect()\n",
    "\n",
    "    return auc"
   ]
  },
  {
   "cell_type": "code",
   "execution_count": 9,
   "id": "da460f46",
   "metadata": {},
   "outputs": [
    {
     "name": "stderr",
     "output_type": "stream",
     "text": [
      "[I 2025-06-17 18:52:58,996] A new study created in memory with name: cat_step1\n",
      "[I 2025-06-17 18:53:09,798] Trial 0 finished with value: 0.8086303674576709 and parameters: {'depth': 9, 'learning_rate': 0.087320383483656, 'l2_leaf_reg': 3.0720283599902842, 'bagging_temperature': 0.32022810060335316, 'random_strength': 0.620490696448184, 'border_count': 204}. Best is trial 0 with value: 0.8086303674576709.\n",
      "[I 2025-06-17 18:53:23,443] Trial 1 finished with value: 0.7862862393953364 and parameters: {'depth': 11, 'learning_rate': 0.015514933104612142, 'l2_leaf_reg': 4.175222499418748, 'bagging_temperature': 0.5731046384616281, 'random_strength': 0.16371551710391385, 'border_count': 197}. Best is trial 0 with value: 0.8086303674576709.\n",
      "[I 2025-06-17 18:53:37,913] Trial 2 finished with value: 0.7945622015755879 and parameters: {'depth': 11, 'learning_rate': 0.024682398291119696, 'l2_leaf_reg': 1.3344348519380174, 'bagging_temperature': 0.6718627974293924, 'random_strength': 0.19122175556306298, 'border_count': 248}. Best is trial 0 with value: 0.8086303674576709.\n",
      "[I 2025-06-17 18:53:47,901] Trial 3 finished with value: 0.7886005632135146 and parameters: {'depth': 4, 'learning_rate': 0.10347541060693832, 'l2_leaf_reg': 3.4696821133870213, 'bagging_temperature': 0.784797642740895, 'random_strength': 0.07240093437980755, 'border_count': 163}. Best is trial 0 with value: 0.8086303674576709.\n",
      "[I 2025-06-17 18:53:57,711] Trial 4 finished with value: 0.7021481224138652 and parameters: {'depth': 3, 'learning_rate': 0.004658676519928301, 'l2_leaf_reg': 2.294296360784385, 'bagging_temperature': 0.3172823323397218, 'random_strength': 0.23952914552702997, 'border_count': 170}. Best is trial 0 with value: 0.8086303674576709.\n",
      "[I 2025-06-17 18:54:10,089] Trial 5 finished with value: 0.7806280305304488 and parameters: {'depth': 11, 'learning_rate': 0.011618321287579218, 'l2_leaf_reg': 0.5908038624366757, 'bagging_temperature': 0.5681125998592883, 'random_strength': 0.10605739287192772, 'border_count': 100}. Best is trial 0 with value: 0.8086303674576709.\n",
      "[I 2025-06-17 18:54:19,769] Trial 6 finished with value: 0.7642489618848021 and parameters: {'depth': 7, 'learning_rate': 0.012713897326322556, 'l2_leaf_reg': 2.198877941428619, 'bagging_temperature': 0.8578859189181804, 'random_strength': 0.9667646633667303, 'border_count': 126}. Best is trial 0 with value: 0.8086303674576709.\n",
      "[I 2025-06-17 18:54:28,826] Trial 7 finished with value: 0.7790938136409078 and parameters: {'depth': 3, 'learning_rate': 0.09869476287310788, 'l2_leaf_reg': 0.04255970714869772, 'bagging_temperature': 0.173361149370308, 'random_strength': 0.5609940163687835, 'border_count': 240}. Best is trial 0 with value: 0.8086303674576709.\n",
      "[I 2025-06-17 18:54:38,071] Trial 8 finished with value: 0.7147547014183547 and parameters: {'depth': 4, 'learning_rate': 0.0023597753234857414, 'l2_leaf_reg': 1.297759734258821, 'bagging_temperature': 0.5297447428981977, 'random_strength': 0.34239247524835803, 'border_count': 199}. Best is trial 0 with value: 0.8086303674576709.\n",
      "[I 2025-06-17 18:54:49,624] Trial 9 finished with value: 0.7758832298649352 and parameters: {'depth': 10, 'learning_rate': 0.011135895464152905, 'l2_leaf_reg': 0.3245682134849426, 'bagging_temperature': 0.6125797183383932, 'random_strength': 0.1498451094361617, 'border_count': 60}. Best is trial 0 with value: 0.8086303674576709.\n",
      "[I 2025-06-17 18:55:01,252] Trial 10 finished with value: 0.8190359018542295 and parameters: {'depth': 8, 'learning_rate': 0.25661816490622574, 'l2_leaf_reg': 4.919954922811506, 'bagging_temperature': 0.022708098174517022, 'random_strength': 0.6917314569441935, 'border_count': 44}. Best is trial 10 with value: 0.8190359018542295.\n",
      "[I 2025-06-17 18:55:12,670] Trial 11 finished with value: 0.8179170820368535 and parameters: {'depth': 8, 'learning_rate': 0.21996059042110766, 'l2_leaf_reg': 4.746558143569748, 'bagging_temperature': 0.04646349342124334, 'random_strength': 0.7126836308772697, 'border_count': 39}. Best is trial 10 with value: 0.8190359018542295.\n",
      "[I 2025-06-17 18:55:23,954] Trial 12 finished with value: 0.8165505336140377 and parameters: {'depth': 7, 'learning_rate': 0.2939005982917014, 'l2_leaf_reg': 4.939787913227149, 'bagging_temperature': 0.0064726322410708775, 'random_strength': 0.7619317568079095, 'border_count': 33}. Best is trial 10 with value: 0.8190359018542295.\n",
      "[I 2025-06-17 18:55:35,101] Trial 13 finished with value: 0.8184893881174968 and parameters: {'depth': 8, 'learning_rate': 0.27530436714904355, 'l2_leaf_reg': 4.986223226381532, 'bagging_temperature': 0.0018208866131423432, 'random_strength': 0.8028138634278942, 'border_count': 77}. Best is trial 10 with value: 0.8190359018542295.\n",
      "[I 2025-06-17 18:55:45,654] Trial 14 finished with value: 0.7857330583278476 and parameters: {'depth': 6, 'learning_rate': 0.04428882790640438, 'l2_leaf_reg': 4.032893601699294, 'bagging_temperature': 0.20776599906864734, 'random_strength': 0.9133317530797653, 'border_count': 84}. Best is trial 10 with value: 0.8190359018542295.\n",
      "[I 2025-06-17 18:55:57,266] Trial 15 finished with value: 0.8182813803977789 and parameters: {'depth': 9, 'learning_rate': 0.15856093949677583, 'l2_leaf_reg': 4.186758462446387, 'bagging_temperature': 0.3956688317556816, 'random_strength': 0.4270672734768528, 'border_count': 90}. Best is trial 10 with value: 0.8190359018542295.\n",
      "[I 2025-06-17 18:56:07,699] Trial 16 finished with value: 0.7826972084570527 and parameters: {'depth': 5, 'learning_rate': 0.047279472232057675, 'l2_leaf_reg': 3.368807793938256, 'bagging_temperature': 0.13459644429741258, 'random_strength': 0.8243012922923236, 'border_count': 65}. Best is trial 10 with value: 0.8190359018542295.\n",
      "[I 2025-06-17 18:56:18,765] Trial 17 finished with value: 0.736426452447573 and parameters: {'depth': 8, 'learning_rate': 0.0010092708640215635, 'l2_leaf_reg': 4.551578623447664, 'bagging_temperature': 0.09945735891394208, 'random_strength': 0.6588295483144699, 'border_count': 121}. Best is trial 10 with value: 0.8190359018542295.\n",
      "[I 2025-06-17 18:56:29,367] Trial 18 finished with value: 0.7870587283779007 and parameters: {'depth': 6, 'learning_rate': 0.04585805048007952, 'l2_leaf_reg': 2.869866065213824, 'bagging_temperature': 0.23966224315336926, 'random_strength': 0.8434702254310485, 'border_count': 60}. Best is trial 10 with value: 0.8190359018542295.\n",
      "[I 2025-06-17 18:56:40,964] Trial 19 finished with value: 0.8160037458937464 and parameters: {'depth': 9, 'learning_rate': 0.1455680638349204, 'l2_leaf_reg': 3.76810972940073, 'bagging_temperature': 0.9967511336579151, 'random_strength': 0.4164718946289233, 'border_count': 113}. Best is trial 10 with value: 0.8190359018542295.\n",
      "[I 2025-06-17 18:56:51,418] Trial 20 finished with value: 0.8132960533335427 and parameters: {'depth': 6, 'learning_rate': 0.29332102598527676, 'l2_leaf_reg': 4.9492491181668505, 'bagging_temperature': 0.4479405466843687, 'random_strength': 0.5247575923528511, 'border_count': 144}. Best is trial 10 with value: 0.8190359018542295.\n",
      "[I 2025-06-17 18:57:02,806] Trial 21 finished with value: 0.8180573416503252 and parameters: {'depth': 9, 'learning_rate': 0.14613832089476786, 'l2_leaf_reg': 4.3272422189529705, 'bagging_temperature': 0.3997094155609326, 'random_strength': 0.4342613582928119, 'border_count': 83}. Best is trial 10 with value: 0.8190359018542295.\n",
      "[I 2025-06-17 18:57:18,920] Trial 22 finished with value: 0.8243909821092035 and parameters: {'depth': 12, 'learning_rate': 0.18778987197621783, 'l2_leaf_reg': 4.446276406467396, 'bagging_temperature': 0.06996262410863807, 'random_strength': 0.30382708192894725, 'border_count': 85}. Best is trial 22 with value: 0.8243909821092035.\n",
      "[I 2025-06-17 18:57:34,928] Trial 23 finished with value: 0.8129782723289586 and parameters: {'depth': 12, 'learning_rate': 0.07396217944774537, 'l2_leaf_reg': 4.5210355155530415, 'bagging_temperature': 0.0760431547994638, 'random_strength': 0.2693655329704988, 'border_count': 55}. Best is trial 22 with value: 0.8243909821092035.\n",
      "[I 2025-06-17 18:57:51,160] Trial 24 finished with value: 0.8249450505412419 and parameters: {'depth': 12, 'learning_rate': 0.204224272840733, 'l2_leaf_reg': 3.690289744768712, 'bagging_temperature': 0.0013253468462696844, 'random_strength': 0.7547099584530005, 'border_count': 74}. Best is trial 24 with value: 0.8249450505412419.\n",
      "[I 2025-06-17 18:58:07,343] Trial 25 finished with value: 0.8245167154925084 and parameters: {'depth': 12, 'learning_rate': 0.16651643168695057, 'l2_leaf_reg': 3.7658899242857315, 'bagging_temperature': 0.2736610242716285, 'random_strength': 0.6725459452603326, 'border_count': 46}. Best is trial 24 with value: 0.8249450505412419.\n",
      "[I 2025-06-17 18:58:23,527] Trial 26 finished with value: 0.7990921448023682 and parameters: {'depth': 12, 'learning_rate': 0.026678342079679382, 'l2_leaf_reg': 3.774788304958287, 'bagging_temperature': 0.26948881763590576, 'random_strength': 0.6108410746672825, 'border_count': 106}. Best is trial 24 with value: 0.8249450505412419.\n",
      "[I 2025-06-17 18:58:39,978] Trial 27 finished with value: 0.8133061910224594 and parameters: {'depth': 12, 'learning_rate': 0.06631433430743765, 'l2_leaf_reg': 2.7711165112725737, 'bagging_temperature': 0.12476839919621058, 'random_strength': 0.3104524892042848, 'border_count': 136}. Best is trial 24 with value: 0.8249450505412419.\n",
      "[I 2025-06-17 18:58:52,268] Trial 28 finished with value: 0.8218450266833321 and parameters: {'depth': 10, 'learning_rate': 0.1747646076638021, 'l2_leaf_reg': 3.2856260361285785, 'bagging_temperature': 0.15708231700562403, 'random_strength': 0.9140214987677748, 'border_count': 70}. Best is trial 24 with value: 0.8249450505412419.\n",
      "[I 2025-06-17 18:59:04,761] Trial 29 finished with value: 0.8170255938785176 and parameters: {'depth': 10, 'learning_rate': 0.10543576148304355, 'l2_leaf_reg': 3.8291849205802384, 'bagging_temperature': 0.28485225830897626, 'random_strength': 0.01927153469410814, 'border_count': 97}. Best is trial 24 with value: 0.8249450505412419.\n",
      "[I 2025-06-17 18:59:18,128] Trial 30 finished with value: 0.7729939586063455 and parameters: {'depth': 11, 'learning_rate': 0.007142204374145236, 'l2_leaf_reg': 3.0868206049162747, 'bagging_temperature': 0.3673081064854534, 'random_strength': 0.5943899731191908, 'border_count': 49}. Best is trial 24 with value: 0.8249450505412419.\n",
      "[I 2025-06-17 18:59:30,391] Trial 31 finished with value: 0.8219092053728783 and parameters: {'depth': 10, 'learning_rate': 0.1487233510859463, 'l2_leaf_reg': 3.338543525968957, 'bagging_temperature': 0.17777516201438073, 'random_strength': 0.9170607617654996, 'border_count': 72}. Best is trial 24 with value: 0.8249450505412419.\n",
      "[I 2025-06-17 18:59:46,669] Trial 32 finished with value: 0.8223123327085309 and parameters: {'depth': 12, 'learning_rate': 0.13400603377939896, 'l2_leaf_reg': 2.6106115201744253, 'bagging_temperature': 0.21083887686808028, 'random_strength': 0.9955147017062311, 'border_count': 74}. Best is trial 24 with value: 0.8249450505412419.\n",
      "[I 2025-06-17 19:00:03,218] Trial 33 finished with value: 0.8222903247778699 and parameters: {'depth': 12, 'learning_rate': 0.18725677371342211, 'l2_leaf_reg': 1.9215346145509944, 'bagging_temperature': 0.22189584949969632, 'random_strength': 0.9882473372502135, 'border_count': 34}. Best is trial 24 with value: 0.8249450505412419.\n",
      "[I 2025-06-17 19:00:17,236] Trial 34 finished with value: 0.8108369192324393 and parameters: {'depth': 11, 'learning_rate': 0.060645945519625585, 'l2_leaf_reg': 2.671760554865717, 'bagging_temperature': 0.082053303483389, 'random_strength': 0.7243813146875899, 'border_count': 85}. Best is trial 24 with value: 0.8249450505412419.\n",
      "[I 2025-06-17 19:00:30,740] Trial 35 finished with value: 0.8174090667997749 and parameters: {'depth': 11, 'learning_rate': 0.1048478504266691, 'l2_leaf_reg': 1.5224684609494818, 'bagging_temperature': 0.3136693881681249, 'random_strength': 0.46911483360545114, 'border_count': 50}. Best is trial 24 with value: 0.8249450505412419.\n",
      "[I 2025-06-17 19:00:47,226] Trial 36 finished with value: 0.8048049283363272 and parameters: {'depth': 12, 'learning_rate': 0.0336196302823142, 'l2_leaf_reg': 3.616776699127066, 'bagging_temperature': 0.09022692021081602, 'random_strength': 0.6498790346105328, 'border_count': 156}. Best is trial 24 with value: 0.8249450505412419.\n",
      "[I 2025-06-17 19:01:03,449] Trial 37 finished with value: 0.8207948261389804 and parameters: {'depth': 12, 'learning_rate': 0.11842748014694818, 'l2_leaf_reg': 2.396199640131939, 'bagging_temperature': 0.45011957037125083, 'random_strength': 0.3678432796484151, 'border_count': 98}. Best is trial 24 with value: 0.8249450505412419.\n",
      "[I 2025-06-17 19:01:17,404] Trial 38 finished with value: 0.8147396715623363 and parameters: {'depth': 11, 'learning_rate': 0.08368953548091361, 'l2_leaf_reg': 3.007139265410789, 'bagging_temperature': 0.7120668537269866, 'random_strength': 0.5175197952473156, 'border_count': 178}. Best is trial 24 with value: 0.8249450505412419.\n",
      "[I 2025-06-17 19:01:31,076] Trial 39 finished with value: 0.8235775661920246 and parameters: {'depth': 11, 'learning_rate': 0.19764973823243973, 'l2_leaf_reg': 4.078850730657987, 'bagging_temperature': 0.34816423953042924, 'random_strength': 0.8670426759557319, 'border_count': 71}. Best is trial 24 with value: 0.8249450505412419.\n",
      "[I 2025-06-17 19:01:45,315] Trial 40 finished with value: 0.8224973004886146 and parameters: {'depth': 11, 'learning_rate': 0.2170240833915006, 'l2_leaf_reg': 4.04608782505702, 'bagging_temperature': 0.5151543720164016, 'random_strength': 0.7820709868407656, 'border_count': 219}. Best is trial 24 with value: 0.8249450505412419.\n",
      "[I 2025-06-17 19:01:59,558] Trial 41 finished with value: 0.8247484552978375 and parameters: {'depth': 11, 'learning_rate': 0.20466580866722564, 'l2_leaf_reg': 4.051247283434076, 'bagging_temperature': 0.5054493727963814, 'random_strength': 0.7728047230538675, 'border_count': 222}. Best is trial 24 with value: 0.8249450505412419.\n",
      "[I 2025-06-17 19:02:12,484] Trial 42 finished with value: 0.8244866832116301 and parameters: {'depth': 10, 'learning_rate': 0.23031138163786058, 'l2_leaf_reg': 4.4303863551461635, 'bagging_temperature': 0.6198518156014027, 'random_strength': 0.7503124251489095, 'border_count': 177}. Best is trial 24 with value: 0.8249450505412419.\n",
      "[I 2025-06-17 19:02:25,100] Trial 43 finished with value: 0.8201810208098685 and parameters: {'depth': 10, 'learning_rate': 0.20498295363294877, 'l2_leaf_reg': 4.662170185819049, 'bagging_temperature': 0.5868955627353981, 'random_strength': 0.7415632428192749, 'border_count': 222}. Best is trial 24 with value: 0.8249450505412419.\n",
      "[I 2025-06-17 19:02:39,593] Trial 44 finished with value: 0.8222612050367354 and parameters: {'depth': 11, 'learning_rate': 0.22658425763226367, 'l2_leaf_reg': 4.387271989051159, 'bagging_temperature': 0.6590873210450704, 'random_strength': 0.6838160647711183, 'border_count': 182}. Best is trial 24 with value: 0.8249450505412419.\n",
      "[I 2025-06-17 19:02:56,726] Trial 45 finished with value: 0.8193164841716691 and parameters: {'depth': 12, 'learning_rate': 0.09524405748264717, 'l2_leaf_reg': 4.279443216852289, 'bagging_temperature': 0.4761560248090525, 'random_strength': 0.5777401898979279, 'border_count': 240}. Best is trial 24 with value: 0.8249450505412419.\n",
      "[I 2025-06-17 19:03:09,446] Trial 46 finished with value: 0.7869849038917938 and parameters: {'depth': 10, 'learning_rate': 0.019327709433566993, 'l2_leaf_reg': 3.623454151783341, 'bagging_temperature': 0.7741115209553089, 'random_strength': 0.7690622788186315, 'border_count': 217}. Best is trial 24 with value: 0.8249450505412419.\n",
      "[I 2025-06-17 19:03:23,655] Trial 47 finished with value: 0.8189984156322216 and parameters: {'depth': 11, 'learning_rate': 0.12810716911154563, 'l2_leaf_reg': 4.68338295053121, 'bagging_temperature': 0.5506099066540255, 'random_strength': 0.8681142887021486, 'border_count': 249}. Best is trial 24 with value: 0.8249450505412419.\n",
      "[I 2025-06-17 19:03:41,078] Trial 48 finished with value: 0.8213792756294546 and parameters: {'depth': 12, 'learning_rate': 0.2872982217003988, 'l2_leaf_reg': 3.9643269665283967, 'bagging_temperature': 0.6329096323381344, 'random_strength': 0.7156127834241766, 'border_count': 188}. Best is trial 24 with value: 0.8249450505412419.\n",
      "[I 2025-06-17 19:03:52,789] Trial 49 finished with value: 0.8047827670705068 and parameters: {'depth': 9, 'learning_rate': 0.05977813927299716, 'l2_leaf_reg': 4.395172705156819, 'bagging_temperature': 0.7164926480772167, 'random_strength': 0.6665067299784857, 'border_count': 158}. Best is trial 24 with value: 0.8249450505412419.\n",
      "[I 2025-06-17 19:04:07,151] Trial 50 finished with value: 0.7624797631347084 and parameters: {'depth': 11, 'learning_rate': 0.003204791367034231, 'l2_leaf_reg': 3.6386941357034983, 'bagging_temperature': 0.03856389950993942, 'random_strength': 0.18910773241252643, 'border_count': 206}. Best is trial 24 with value: 0.8249450505412419.\n",
      "[I 2025-06-17 19:04:23,200] Trial 51 finished with value: 0.8235420032876941 and parameters: {'depth': 12, 'learning_rate': 0.1892645408754585, 'l2_leaf_reg': 4.0649331824541015, 'bagging_temperature': 0.3685480573292373, 'random_strength': 0.8789409894501591, 'border_count': 41}. Best is trial 24 with value: 0.8249450505412419.\n",
      "[I 2025-06-17 19:04:37,532] Trial 52 finished with value: 0.8258434189445683 and parameters: {'depth': 11, 'learning_rate': 0.22244913600403501, 'l2_leaf_reg': 4.142163226127716, 'bagging_temperature': 0.4859533516555504, 'random_strength': 0.8123878361369659, 'border_count': 234}. Best is trial 52 with value: 0.8258434189445683.\n",
      "[I 2025-06-17 19:04:51,881] Trial 53 finished with value: 0.8247040692466197 and parameters: {'depth': 11, 'learning_rate': 0.2401502317008182, 'l2_leaf_reg': 3.902821185355164, 'bagging_temperature': 0.5987800074542292, 'random_strength': 0.8001177917997573, 'border_count': 232}. Best is trial 52 with value: 0.8258434189445683.\n",
      "[I 2025-06-17 19:05:04,661] Trial 54 finished with value: 0.82423622154297 and parameters: {'depth': 10, 'learning_rate': 0.2982218504955593, 'l2_leaf_reg': 3.5050834121320027, 'bagging_temperature': 0.5952962719638532, 'random_strength': 0.8085606568620167, 'border_count': 202}. Best is trial 52 with value: 0.8258434189445683.\n",
      "[I 2025-06-17 19:05:19,209] Trial 55 finished with value: 0.8218174886568128 and parameters: {'depth': 11, 'learning_rate': 0.2230706006234154, 'l2_leaf_reg': 3.864949351221035, 'bagging_temperature': 0.4911523568403072, 'random_strength': 0.7639003043712462, 'border_count': 229}. Best is trial 52 with value: 0.8258434189445683.\n",
      "[I 2025-06-17 19:05:31,917] Trial 56 finished with value: 0.8244305076305737 and parameters: {'depth': 10, 'learning_rate': 0.2510526427186721, 'l2_leaf_reg': 3.1910683966168616, 'bagging_temperature': 0.5489833762894912, 'random_strength': 0.8300983725116253, 'border_count': 255}. Best is trial 52 with value: 0.8258434189445683.\n",
      "[I 2025-06-17 19:05:46,775] Trial 57 finished with value: 0.818498652873412 and parameters: {'depth': 11, 'learning_rate': 0.11969292036405098, 'l2_leaf_reg': 4.214477110500431, 'bagging_temperature': 0.7125168147709162, 'random_strength': 0.6442494650534024, 'border_count': 239}. Best is trial 52 with value: 0.8258434189445683.\n",
      "[I 2025-06-17 19:05:58,578] Trial 58 finished with value: 0.8170792658631318 and parameters: {'depth': 9, 'learning_rate': 0.1623181289077383, 'l2_leaf_reg': 0.8398598270938491, 'bagging_temperature': 0.8408116353579651, 'random_strength': 0.7964420500362118, 'border_count': 212}. Best is trial 52 with value: 0.8258434189445683.\n",
      "[I 2025-06-17 19:06:12,822] Trial 59 finished with value: 0.816376215594635 and parameters: {'depth': 11, 'learning_rate': 0.08128927589149265, 'l2_leaf_reg': 4.794305923652907, 'bagging_temperature': 0.42906060999473344, 'random_strength': 0.7020939494203854, 'border_count': 229}. Best is trial 52 with value: 0.8258434189445683.\n",
      "[I 2025-06-17 19:06:30,151] Trial 60 finished with value: 0.8218825745607539 and parameters: {'depth': 12, 'learning_rate': 0.24113956422587207, 'l2_leaf_reg': 3.5189624482311643, 'bagging_temperature': 0.6256425870062259, 'random_strength': 0.9500445094975752, 'border_count': 191}. Best is trial 52 with value: 0.8258434189445683.\n",
      "[I 2025-06-17 19:06:42,930] Trial 61 finished with value: 0.8229786136919108 and parameters: {'depth': 10, 'learning_rate': 0.2491868641272702, 'l2_leaf_reg': 3.9254404470523596, 'bagging_temperature': 0.5594780457876576, 'random_strength': 0.7469253291849586, 'border_count': 254}. Best is trial 52 with value: 0.8258434189445683.\n",
      "[I 2025-06-17 19:06:55,653] Trial 62 finished with value: 0.8183803772259284 and parameters: {'depth': 10, 'learning_rate': 0.15731312568733244, 'l2_leaf_reg': 3.1438525118139635, 'bagging_temperature': 0.5464093967952706, 'random_strength': 0.8322534312227687, 'border_count': 227}. Best is trial 52 with value: 0.8258434189445683.\n",
      "[I 2025-06-17 19:07:08,473] Trial 63 finished with value: 0.8225268346385501 and parameters: {'depth': 10, 'learning_rate': 0.2386841836172147, 'l2_leaf_reg': 3.7564299395209195, 'bagging_temperature': 0.6591443437580313, 'random_strength': 0.8268913588903593, 'border_count': 244}. Best is trial 52 with value: 0.8258434189445683.\n",
      "[I 2025-06-17 19:07:20,375] Trial 64 finished with value: 0.816847674105075 and parameters: {'depth': 9, 'learning_rate': 0.17578070575718638, 'l2_leaf_reg': 3.308445038610669, 'bagging_temperature': 0.49391105551904374, 'random_strength': 0.8834461342043991, 'border_count': 236}. Best is trial 52 with value: 0.8258434189445683.\n",
      "[I 2025-06-17 19:07:31,224] Trial 65 finished with value: 0.8089929563200686 and parameters: {'depth': 7, 'learning_rate': 0.1387338145110368, 'l2_leaf_reg': 4.206500720811604, 'bagging_temperature': 0.41523305798935073, 'random_strength': 0.9459871673328146, 'border_count': 251}. Best is trial 52 with value: 0.8258434189445683.\n",
      "[I 2025-06-17 19:07:41,522] Trial 66 finished with value: 0.8027995544820977 and parameters: {'depth': 4, 'learning_rate': 0.26055736333029644, 'l2_leaf_reg': 4.546317085551831, 'bagging_temperature': 0.5271131177591661, 'random_strength': 0.851254788619985, 'border_count': 235}. Best is trial 52 with value: 0.8258434189445683.\n",
      "[I 2025-06-17 19:07:55,708] Trial 67 finished with value: 0.8246304020872914 and parameters: {'depth': 11, 'learning_rate': 0.29580266995689836, 'l2_leaf_reg': 2.9310467686484802, 'bagging_temperature': 0.5997916271096836, 'random_strength': 0.7916468646084446, 'border_count': 209}. Best is trial 52 with value: 0.8258434189445683.\n",
      "[I 2025-06-17 19:08:13,137] Trial 68 finished with value: 0.8254618971785825 and parameters: {'depth': 12, 'learning_rate': 0.16974852353697348, 'l2_leaf_reg': 2.9437990296727437, 'bagging_temperature': 0.7601337973668472, 'random_strength': 0.7896950392704046, 'border_count': 210}. Best is trial 52 with value: 0.8258434189445683.\n",
      "[I 2025-06-17 19:08:30,638] Trial 69 finished with value: 0.8190612063892484 and parameters: {'depth': 12, 'learning_rate': 0.1093719426369054, 'l2_leaf_reg': 2.1870599818726646, 'bagging_temperature': 0.8779739421345872, 'random_strength': 0.624270323400824, 'border_count': 212}. Best is trial 52 with value: 0.8258434189445683.\n",
      "[I 2025-06-17 19:08:48,137] Trial 70 finished with value: 0.822434111401862 and parameters: {'depth': 12, 'learning_rate': 0.16783382119655776, 'l2_leaf_reg': 2.9461320376856373, 'bagging_temperature': 0.9378497490626683, 'random_strength': 0.7884160888013078, 'border_count': 198}. Best is trial 52 with value: 0.8258434189445683.\n",
      "[I 2025-06-17 19:09:02,301] Trial 71 finished with value: 0.7762622450237446 and parameters: {'depth': 11, 'learning_rate': 0.008597131443869139, 'l2_leaf_reg': 3.7447695246548407, 'bagging_temperature': 0.786663713596684, 'random_strength': 0.7182737270042446, 'border_count': 213}. Best is trial 52 with value: 0.8258434189445683.\n",
      "[I 2025-06-17 19:09:19,308] Trial 72 finished with value: 0.8227375089787285 and parameters: {'depth': 12, 'learning_rate': 0.29832698627289556, 'l2_leaf_reg': 2.829858484911334, 'bagging_temperature': 0.6789039142606291, 'random_strength': 0.7487406474151493, 'border_count': 169}. Best is trial 52 with value: 0.8258434189445683.\n",
      "[I 2025-06-17 19:09:36,693] Trial 73 finished with value: 0.8236488603845339 and parameters: {'depth': 12, 'learning_rate': 0.2004676037585691, 'l2_leaf_reg': 2.064509482804928, 'bagging_temperature': 0.6018072989064203, 'random_strength': 0.6821853888744618, 'border_count': 207}. Best is trial 52 with value: 0.8258434189445683.\n",
      "[I 2025-06-17 19:09:50,665] Trial 74 finished with value: 0.8204190285400017 and parameters: {'depth': 11, 'learning_rate': 0.1380210923355791, 'l2_leaf_reg': 3.4295262683227263, 'bagging_temperature': 0.46760474499652477, 'random_strength': 0.5477368573329789, 'border_count': 144}. Best is trial 52 with value: 0.8258434189445683.\n",
      "[I 2025-06-17 19:10:04,884] Trial 75 finished with value: 0.8204812182592618 and parameters: {'depth': 11, 'learning_rate': 0.17253209263611968, 'l2_leaf_reg': 2.5043806583761388, 'bagging_temperature': 0.7860870888166822, 'random_strength': 0.8954880336432977, 'border_count': 190}. Best is trial 52 with value: 0.8258434189445683.\n",
      "[I 2025-06-17 19:10:21,968] Trial 76 finished with value: 0.8174808759868859 and parameters: {'depth': 12, 'learning_rate': 0.09321514521603419, 'l2_leaf_reg': 4.112480328866372, 'bagging_temperature': 0.6807639891149192, 'random_strength': 0.8028053600698102, 'border_count': 225}. Best is trial 52 with value: 0.8258434189445683.\n",
      "[I 2025-06-17 19:10:34,633] Trial 77 finished with value: 0.8233476567540731 and parameters: {'depth': 11, 'learning_rate': 0.20225498822972227, 'l2_leaf_reg': 3.9091729025664237, 'bagging_temperature': 0.5819262160663187, 'random_strength': 0.7280512601458817, 'border_count': 62}. Best is trial 52 with value: 0.8258434189445683.\n",
      "[I 2025-06-17 19:10:51,524] Trial 78 finished with value: 0.7662625726447609 and parameters: {'depth': 12, 'learning_rate': 0.0017188714379447526, 'l2_leaf_reg': 4.3155333264422655, 'bagging_temperature': 0.7589728955661845, 'random_strength': 0.7849103812809325, 'border_count': 234}. Best is trial 52 with value: 0.8258434189445683.\n",
      "[I 2025-06-17 19:11:06,274] Trial 79 finished with value: 0.8215680683227227 and parameters: {'depth': 11, 'learning_rate': 0.12056204450894253, 'l2_leaf_reg': 3.6402910078652404, 'bagging_temperature': 0.6303349506749528, 'random_strength': 0.8519452454195171, 'border_count': 133}. Best is trial 52 with value: 0.8258434189445683.\n",
      "[I 2025-06-17 19:11:23,842] Trial 80 finished with value: 0.8246561275261051 and parameters: {'depth': 12, 'learning_rate': 0.2553003539741904, 'l2_leaf_reg': 4.570602369823669, 'bagging_temperature': 0.7366819796573316, 'random_strength': 0.7569367849121832, 'border_count': 175}. Best is trial 52 with value: 0.8258434189445683.\n",
      "[I 2025-06-17 19:11:40,863] Trial 81 finished with value: 0.82370093296665 and parameters: {'depth': 12, 'learning_rate': 0.24927688755375468, 'l2_leaf_reg': 4.865259049860928, 'bagging_temperature': 0.7333785250987015, 'random_strength': 0.7660601550915418, 'border_count': 175}. Best is trial 52 with value: 0.8258434189445683.\n",
      "[I 2025-06-17 19:11:57,136] Trial 82 finished with value: 0.823555359307999 and parameters: {'depth': 12, 'learning_rate': 0.21603903273159233, 'l2_leaf_reg': 4.589933684689111, 'bagging_temperature': 0.8395530500707401, 'random_strength': 0.8136355203133856, 'border_count': 195}. Best is trial 52 with value: 0.8258434189445683.\n",
      "[I 2025-06-17 19:12:09,930] Trial 83 finished with value: 0.8220025231196291 and parameters: {'depth': 11, 'learning_rate': 0.1483398363037304, 'l2_leaf_reg': 4.4900853739077, 'bagging_temperature': 0.6471080291624904, 'random_strength': 0.6932851070213797, 'border_count': 151}. Best is trial 52 with value: 0.8258434189445683.\n",
      "[I 2025-06-17 19:12:26,273] Trial 84 finished with value: 0.8249297412697183 and parameters: {'depth': 12, 'learning_rate': 0.2686536856582067, 'l2_leaf_reg': 4.214968230356753, 'bagging_temperature': 0.2679998834153609, 'random_strength': 0.7465981512075974, 'border_count': 218}. Best is trial 52 with value: 0.8258434189445683.\n",
      "[I 2025-06-17 19:12:42,553] Trial 85 finished with value: 0.8224278555691977 and parameters: {'depth': 12, 'learning_rate': 0.29688567433412666, 'l2_leaf_reg': 4.200191770686746, 'bagging_temperature': 0.26849103960719634, 'random_strength': 0.9053705603804619, 'border_count': 219}. Best is trial 52 with value: 0.8258434189445683.\n",
      "[I 2025-06-17 19:12:58,654] Trial 86 finished with value: 0.8229992136418005 and parameters: {'depth': 12, 'learning_rate': 0.18594012890591144, 'l2_leaf_reg': 4.082307053275028, 'bagging_temperature': 0.18499930942078824, 'random_strength': 0.6158975939410047, 'border_count': 203}. Best is trial 52 with value: 0.8258434189445683.\n",
      "[I 2025-06-17 19:13:14,932] Trial 87 finished with value: 0.82218948140014 and parameters: {'depth': 12, 'learning_rate': 0.27067429040756336, 'l2_leaf_reg': 3.9672397316217247, 'bagging_temperature': 0.3816440440575534, 'random_strength': 0.6700599724497502, 'border_count': 232}. Best is trial 52 with value: 0.8258434189445683.\n",
      "[I 2025-06-17 19:13:31,291] Trial 88 finished with value: 0.8265948181208052 and parameters: {'depth': 12, 'learning_rate': 0.20740110505696546, 'l2_leaf_reg': 2.707531767284932, 'bagging_temperature': 0.33507884850214986, 'random_strength': 0.7347517223720925, 'border_count': 223}. Best is trial 88 with value: 0.8265948181208052.\n",
      "[I 2025-06-17 19:13:44,293] Trial 89 finished with value: 0.8218949849001742 and parameters: {'depth': 11, 'learning_rate': 0.20999146252605402, 'l2_leaf_reg': 2.6051107790750043, 'bagging_temperature': 0.8130872291547452, 'random_strength': 0.7321200981072725, 'border_count': 246}. Best is trial 88 with value: 0.8265948181208052.\n",
      "[I 2025-06-17 19:14:00,464] Trial 90 finished with value: 0.8238554999582767 and parameters: {'depth': 12, 'learning_rate': 0.2571652233287083, 'l2_leaf_reg': 2.7305834703259815, 'bagging_temperature': 0.30052268055584597, 'random_strength': 0.8479984502641864, 'border_count': 224}. Best is trial 88 with value: 0.8265948181208052.\n",
      "[I 2025-06-17 19:14:16,834] Trial 91 finished with value: 0.8247338606637794 and parameters: {'depth': 12, 'learning_rate': 0.15969731798527662, 'l2_leaf_reg': 3.242937923473413, 'bagging_temperature': 0.3437749701279776, 'random_strength': 0.7715420395105306, 'border_count': 242}. Best is trial 88 with value: 0.8265948181208052.\n",
      "[I 2025-06-17 19:14:32,815] Trial 92 finished with value: 0.8232579739871737 and parameters: {'depth': 12, 'learning_rate': 0.1512902344182211, 'l2_leaf_reg': 2.980971759170786, 'bagging_temperature': 0.3244936561962586, 'random_strength': 0.7785308738047143, 'border_count': 209}. Best is trial 88 with value: 0.8265948181208052.\n",
      "[I 2025-06-17 19:14:45,957] Trial 93 finished with value: 0.8242113337997843 and parameters: {'depth': 11, 'learning_rate': 0.18250646942039128, 'l2_leaf_reg': 3.1236051770973536, 'bagging_temperature': 0.4433372608075258, 'random_strength': 0.8142900077964219, 'border_count': 217}. Best is trial 88 with value: 0.8265948181208052.\n",
      "[I 2025-06-17 19:15:02,317] Trial 94 finished with value: 0.8244546913466331 and parameters: {'depth': 12, 'learning_rate': 0.22057802742634178, 'l2_leaf_reg': 3.215216422282556, 'bagging_temperature': 0.33577965703874046, 'random_strength': 0.7597263895574355, 'border_count': 222}. Best is trial 88 with value: 0.8265948181208052.\n",
      "[I 2025-06-17 19:15:15,743] Trial 95 finished with value: 0.8223796762326904 and parameters: {'depth': 11, 'learning_rate': 0.27033309482919227, 'l2_leaf_reg': 2.8862921416488136, 'bagging_temperature': 0.2292511607065726, 'random_strength': 0.7043317701920445, 'border_count': 240}. Best is trial 88 with value: 0.8265948181208052.\n",
      "[I 2025-06-17 19:15:32,747] Trial 96 finished with value: 0.8200463840596137 and parameters: {'depth': 12, 'learning_rate': 0.11214644035866612, 'l2_leaf_reg': 2.4608864120600593, 'bagging_temperature': 0.11384688383443553, 'random_strength': 0.7940478934801387, 'border_count': 245}. Best is trial 88 with value: 0.8265948181208052.\n",
      "[I 2025-06-17 19:15:48,967] Trial 97 finished with value: 0.8211019115090691 and parameters: {'depth': 12, 'learning_rate': 0.13055545933379717, 'l2_leaf_reg': 3.408418027769785, 'bagging_temperature': 0.5136344416352508, 'random_strength': 0.8569109142961434, 'border_count': 216}. Best is trial 88 with value: 0.8265948181208052.\n",
      "[I 2025-06-17 19:16:03,261] Trial 98 finished with value: 0.8233784720208488 and parameters: {'depth': 11, 'learning_rate': 0.1642585042364267, 'l2_leaf_reg': 3.532270049647145, 'bagging_temperature': 0.24660859681667477, 'random_strength': 0.7337475253918573, 'border_count': 229}. Best is trial 88 with value: 0.8265948181208052.\n",
      "[I 2025-06-17 19:16:17,531] Trial 99 finished with value: 0.8240981389615378 and parameters: {'depth': 11, 'learning_rate': 0.23174620503564325, 'l2_leaf_reg': 3.003170645982961, 'bagging_temperature': 0.47377074891587184, 'random_strength': 0.6377352559035406, 'border_count': 118}. Best is trial 88 with value: 0.8265948181208052.\n"
     ]
    }
   ],
   "source": [
    "cat_study1 = optuna.create_study(\n",
    "    study_name=\"cat_step1\", \n",
    "    direction=\"maximize\",\n",
    ")\n",
    "\n",
    "cat_study1.optimize(cat_objective_step1, n_trials=100)"
   ]
  }
 ],
 "metadata": {
  "kernelspec": {
   "display_name": "Python 3",
   "language": "python",
   "name": "python3"
  },
  "language_info": {
   "codemirror_mode": {
    "name": "ipython",
    "version": 3
   },
   "file_extension": ".py",
   "mimetype": "text/x-python",
   "name": "python",
   "nbconvert_exporter": "python",
   "pygments_lexer": "ipython3",
   "version": "3.12.0"
  }
 },
 "nbformat": 4,
 "nbformat_minor": 5
}
