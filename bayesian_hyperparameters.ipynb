{
 "cells": [
  {
   "cell_type": "code",
   "execution_count": null,
   "id": "d92e933d",
   "metadata": {},
   "outputs": [],
   "source": [
    "import os\n",
    "import polars as pl"
   ]
  },
  {
   "cell_type": "code",
   "execution_count": 4,
   "id": "6a8469b6",
   "metadata": {},
   "outputs": [
    {
     "data": {
      "text/html": [
       "<div><style>\n",
       ".dataframe > thead > tr,\n",
       ".dataframe > tbody > tr {\n",
       "  text-align: right;\n",
       "  white-space: pre-wrap;\n",
       "}\n",
       "</style>\n",
       "<small>shape: (5, 29)</small><table border=\"1\" class=\"dataframe\"><thead><tr><th>target</th><th>lepton pT</th><th>lepton eta</th><th>lepton phi</th><th>missing energy magnitude</th><th>missing energy phi</th><th>jet 1 pt</th><th>jet 1 eta</th><th>jet 1 phi</th><th>jet 1 b-tag</th><th>jet 2 pt</th><th>jet 2 eta</th><th>jet 2 phi</th><th>jet 2 b-tag</th><th>jet 3 pt</th><th>jet 3 eta</th><th>jet 3 phi</th><th>jet 3 b-tag</th><th>jet 4 pt</th><th>jet 4 eta</th><th>jet 4 phi</th><th>jet 4 b-tag</th><th>m_jj</th><th>m_jjj</th><th>m_lv</th><th>m_jlv</th><th>m_bb</th><th>m_wbb</th><th>m_wwbb</th></tr><tr><td>f64</td><td>f64</td><td>f64</td><td>f64</td><td>f64</td><td>f64</td><td>f64</td><td>f64</td><td>f64</td><td>f64</td><td>f64</td><td>f64</td><td>f64</td><td>f64</td><td>f64</td><td>f64</td><td>f64</td><td>f64</td><td>f64</td><td>f64</td><td>f64</td><td>f64</td><td>f64</td><td>f64</td><td>f64</td><td>f64</td><td>f64</td><td>f64</td><td>f64</td></tr></thead><tbody><tr><td>1.0</td><td>0.869293</td><td>-0.635082</td><td>0.22569</td><td>0.32747</td><td>-0.689993</td><td>0.754202</td><td>-0.248573</td><td>-1.092064</td><td>0.0</td><td>1.374992</td><td>-0.653674</td><td>0.930349</td><td>1.107436</td><td>1.138904</td><td>-1.578198</td><td>-1.046985</td><td>0.0</td><td>0.65793</td><td>-0.010455</td><td>-0.045767</td><td>3.101961</td><td>1.35376</td><td>0.979563</td><td>0.978076</td><td>0.920005</td><td>0.721657</td><td>0.988751</td><td>0.876678</td></tr><tr><td>1.0</td><td>0.907542</td><td>0.329147</td><td>0.359412</td><td>1.49797</td><td>-0.31301</td><td>1.095531</td><td>-0.557525</td><td>-1.58823</td><td>2.173076</td><td>0.812581</td><td>-0.213642</td><td>1.271015</td><td>2.214872</td><td>0.499994</td><td>-1.261432</td><td>0.732156</td><td>0.0</td><td>0.398701</td><td>-1.13893</td><td>-0.000819</td><td>0.0</td><td>0.30222</td><td>0.833048</td><td>0.9857</td><td>0.978098</td><td>0.779732</td><td>0.992356</td><td>0.798343</td></tr><tr><td>1.0</td><td>0.798835</td><td>1.470639</td><td>-1.635975</td><td>0.453773</td><td>0.425629</td><td>1.104875</td><td>1.282322</td><td>1.381664</td><td>0.0</td><td>0.851737</td><td>1.540659</td><td>-0.81969</td><td>2.214872</td><td>0.99349</td><td>0.35608</td><td>-0.208778</td><td>2.548224</td><td>1.256955</td><td>1.128848</td><td>0.900461</td><td>0.0</td><td>0.909753</td><td>1.10833</td><td>0.985692</td><td>0.951331</td><td>0.803252</td><td>0.865924</td><td>0.780118</td></tr><tr><td>0.0</td><td>1.344385</td><td>-0.876626</td><td>0.935913</td><td>1.99205</td><td>0.882454</td><td>1.786066</td><td>-1.646778</td><td>-0.942383</td><td>0.0</td><td>2.423265</td><td>-0.676016</td><td>0.736159</td><td>2.214872</td><td>1.29872</td><td>-1.430738</td><td>-0.364658</td><td>0.0</td><td>0.745313</td><td>-0.678379</td><td>-1.360356</td><td>0.0</td><td>0.946652</td><td>1.028704</td><td>0.998656</td><td>0.728281</td><td>0.8692</td><td>1.026736</td><td>0.957904</td></tr><tr><td>1.0</td><td>1.105009</td><td>0.321356</td><td>1.522401</td><td>0.882808</td><td>-1.205349</td><td>0.681466</td><td>-1.070464</td><td>-0.921871</td><td>0.0</td><td>0.800872</td><td>1.020974</td><td>0.971407</td><td>2.214872</td><td>0.596761</td><td>-0.350273</td><td>0.631194</td><td>0.0</td><td>0.479999</td><td>-0.373566</td><td>0.113041</td><td>0.0</td><td>0.755856</td><td>1.361057</td><td>0.98661</td><td>0.838085</td><td>1.133295</td><td>0.872245</td><td>0.808487</td></tr></tbody></table></div>"
      ],
      "text/plain": [
       "shape: (5, 29)\n",
       "┌────────┬───────────┬────────────┬────────────┬───┬──────────┬──────────┬──────────┬──────────┐\n",
       "│ target ┆ lepton pT ┆ lepton eta ┆ lepton phi ┆ … ┆ m_jlv    ┆ m_bb     ┆ m_wbb    ┆ m_wwbb   │\n",
       "│ ---    ┆ ---       ┆ ---        ┆ ---        ┆   ┆ ---      ┆ ---      ┆ ---      ┆ ---      │\n",
       "│ f64    ┆ f64       ┆ f64        ┆ f64        ┆   ┆ f64      ┆ f64      ┆ f64      ┆ f64      │\n",
       "╞════════╪═══════════╪════════════╪════════════╪═══╪══════════╪══════════╪══════════╪══════════╡\n",
       "│ 1.0    ┆ 0.869293  ┆ -0.635082  ┆ 0.22569    ┆ … ┆ 0.920005 ┆ 0.721657 ┆ 0.988751 ┆ 0.876678 │\n",
       "│ 1.0    ┆ 0.907542  ┆ 0.329147   ┆ 0.359412   ┆ … ┆ 0.978098 ┆ 0.779732 ┆ 0.992356 ┆ 0.798343 │\n",
       "│ 1.0    ┆ 0.798835  ┆ 1.470639   ┆ -1.635975  ┆ … ┆ 0.951331 ┆ 0.803252 ┆ 0.865924 ┆ 0.780118 │\n",
       "│ 0.0    ┆ 1.344385  ┆ -0.876626  ┆ 0.935913   ┆ … ┆ 0.728281 ┆ 0.8692   ┆ 1.026736 ┆ 0.957904 │\n",
       "│ 1.0    ┆ 1.105009  ┆ 0.321356   ┆ 1.522401   ┆ … ┆ 0.838085 ┆ 1.133295 ┆ 0.872245 ┆ 0.808487 │\n",
       "└────────┴───────────┴────────────┴────────────┴───┴──────────┴──────────┴──────────┴──────────┘"
      ]
     },
     "execution_count": 4,
     "metadata": {},
     "output_type": "execute_result"
    }
   ],
   "source": [
    "if not os.path.exists('./higgs_data/HIGGS.feather'):\n",
    "    from download_data import main as download_data\n",
    "    download_data()\n",
    "    \n",
    "    \n",
    "pl.read_ipc('./higgs_data/HIGGS.feather').head()"
   ]
  },
  {
   "cell_type": "code",
   "execution_count": null,
   "id": "3aa6250d",
   "metadata": {},
   "outputs": [],
   "source": [
    "import lightgbm as lgb\n",
    "import xgboost as xgb\n",
    "import catboost as cat"
   ]
  },
  {
   "cell_type": "code",
   "execution_count": null,
   "id": "6ee8aa9a",
   "metadata": {},
   "outputs": [
    {
     "data": {
      "text/plain": [
       "'3.0.2'"
      ]
     },
     "execution_count": 9,
     "metadata": {},
     "output_type": "execute_result"
    }
   ],
   "source": []
  }
 ],
 "metadata": {
  "kernelspec": {
   "display_name": "Python 3",
   "language": "python",
   "name": "python3"
  },
  "language_info": {
   "codemirror_mode": {
    "name": "ipython",
    "version": 3
   },
   "file_extension": ".py",
   "mimetype": "text/x-python",
   "name": "python",
   "nbconvert_exporter": "python",
   "pygments_lexer": "ipython3",
   "version": "3.12.0"
  }
 },
 "nbformat": 4,
 "nbformat_minor": 5
}
